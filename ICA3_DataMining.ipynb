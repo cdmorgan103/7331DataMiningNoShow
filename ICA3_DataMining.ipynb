{
 "cells": [
  {
   "cell_type": "code",
   "execution_count": 10,
   "metadata": {},
   "outputs": [
    {
     "data": {
      "text/html": [
       "<link href='https://fonts.googleapis.com/css?family=Passion+One' rel='stylesheet' type='text/css'><style>div.attn { font-family: 'Helvetica Neue'; font-size: 30px; line-height: 40px; color: #FFFFFF; text-align: center; margin: 30px 0; border-width: 10px 0; border-style: solid; border-color: #5AAAAA; padding: 30px 0; background-color: #DDDDFF; }hr { border: 0; background-color: #ffffff; border-top: 1px solid black; }hr.major { border-top: 10px solid #5AAA5A; }hr.minor { border: none; background-color: #ffffff; border-top: 5px dotted #CC3333; }div.bubble { width: 65%; padding: 20px; background: #DDDDDD; border-radius: 15px; margin: 0 auto; font-style: italic; color: #f00; }em { color: #AAA; }div.c1{visibility:hidden;margin:0;height:0;}div.note{color:red;}</style>"
      ],
      "text/plain": [
       "<IPython.core.display.HTML object>"
      ]
     },
     "execution_count": 10,
     "metadata": {},
     "output_type": "execute_result"
    }
   ],
   "source": [
    "#  Ebnable HTML/CSS \n",
    "from IPython.core.display import HTML\n",
    "HTML(\"<link href='https://fonts.googleapis.com/css?family=Passion+One' rel='stylesheet' type='text/css'><style>div.attn { font-family: 'Helvetica Neue'; font-size: 30px; line-height: 40px; color: #FFFFFF; text-align: center; margin: 30px 0; border-width: 10px 0; border-style: solid; border-color: #5AAAAA; padding: 30px 0; background-color: #DDDDFF; }hr { border: 0; background-color: #ffffff; border-top: 1px solid black; }hr.major { border-top: 10px solid #5AAA5A; }hr.minor { border: none; background-color: #ffffff; border-top: 5px dotted #CC3333; }div.bubble { width: 65%; padding: 20px; background: #DDDDDD; border-radius: 15px; margin: 0 auto; font-style: italic; color: #f00; }em { color: #AAA; }div.c1{visibility:hidden;margin:0;height:0;}div.note{color:red;}</style>\")"
   ]
  },
  {
   "cell_type": "markdown",
   "metadata": {},
   "source": [
    "Enter Team Member Names here (double click to edit):\n",
    "\n",
    "- Name 1: Dana Geislinger\n",
    "- Name 2: Christopher Morgan\n",
    "- Name 3: Caroll Rodriguez\n",
    "- Name 4: Luay Dajani\n",
    "________\n",
    "\n",
    "# In Class Assignment Three\n",
    "In the following assignment you will be asked to fill in python code and derivations for a number of different problems. Please read all instructions carefully and turn in the rendered notebook (or HTML of the rendered notebook)  before the end of class.\n",
    "\n",
    "<a id=\"top\"></a>\n",
    "## Contents\n",
    "* <a href=\"#Loading\">Loading the Data</a>\n",
    "* <a href=\"#distance\">Measuring Distances</a>\n",
    "* <a href=\"#KNN\">K-Nearest Neighbors</a>\n",
    "* <a href=\"#naive\">Naive Bayes</a>\n",
    "\n",
    "________________________________________________________________________________________________________\n",
    "<a id=\"Loading\"></a>\n",
    "<a href=\"#top\">Back to Top</a>\n",
    "## Downloading the Document Data\n",
    "Please run the following code to read in the \"20 newsgroups\" dataset from sklearn's data loading module."
   ]
  },
  {
   "cell_type": "code",
   "execution_count": 1,
   "metadata": {},
   "outputs": [
    {
     "name": "stdout",
     "output_type": "stream",
     "text": [
      "features shape: (11314, 130107)\n",
      "target shape: (11314,)\n",
      "range of target: 0 19\n",
      "Data type is <class 'scipy.sparse.csr.csr_matrix'> 0.1214353154362896 % of the data is non-zero\n"
     ]
    }
   ],
   "source": [
    "from sklearn.datasets import fetch_20newsgroups_vectorized\n",
    "import numpy as np\n",
    "from __future__ import print_function\n",
    "\n",
    "# this takes about 30 seconds to compute, read the next section while this downloads\n",
    "ds = fetch_20newsgroups_vectorized(subset='train')\n",
    "\n",
    "# this holds the continuous feature data (which is tfidf)\n",
    "print('features shape:', ds.data.shape) # there are ~11000 instances and ~130k features per instance\n",
    "print('target shape:', ds.target.shape) \n",
    "print('range of target:', np.min(ds.target),np.max(ds.target))\n",
    "print('Data type is', type(ds.data), float(ds.data.nnz)/(ds.data.shape[0]*ds.data.shape[1])*100, '% of the data is non-zero')"
   ]
  },
  {
   "cell_type": "markdown",
   "metadata": {},
   "source": [
    "## Understanding the Dataset\n",
    "Look at the description for the 20 newsgroups dataset at http://qwone.com/~jason/20Newsgroups/. You have just downloaded the \"vectorized\" version of the dataset, which means all the words inside the articles have gone through a transformation that binned them into 130 thousand features related to the words in them.  \n",
    "\n",
    "**Question Set 1**:\n",
    "- How many instances are in the dataset? \n",
    "- What does each instance represent? \n",
    "- How many classes are in the dataset and what does each class represent?\n",
    "- Would you expect a classifier trained on this data would generalize to documents written in the past week? Why or why not?\n",
    "- Is the data represented as a sparse or dense matrix?"
   ]
  },
  {
   "cell_type": "markdown",
   "metadata": {},
   "source": [
    "___\n",
    "Enter your answer here:\n",
    "\n",
    "1) 11,000 rows \n",
    "\n",
    "2) Our vocubulary is 130,000 unique words and every time we see one in an article, we increment the word count by 1.  \n",
    "  However, this is oversensitive to common words.  So we look at the frequency for each term and normalize this by the number of documents each word occurs in.   \n",
    "  \n",
    "3) There are 20 classes in this dataset.\n",
    "  Each classes represents 20 subject types / genres from various news articles. \n",
    "  Each instance is a seperate fully written article from the news.\n",
    "  \n",
    "4) This data was collected over 20 years ago. Words like iPhone, Obama, and Google may not be present of represented correctly in this data.\n",
    "   So the classifier will work, but certain words will cause subject / genre classification challenges."
   ]
  },
  {
   "cell_type": "markdown",
   "metadata": {},
   "source": [
    "___\n",
    "<a id=\"distance\"></a>\n",
    "<a href=\"#top\">Back to Top</a>\n",
    "## Measures of Distance\n",
    "In the following block of code, we isolate three instances from the dataset. The instance \"`a`\" is from the group *computer graphics*, \"`b`\" is from from the group *recreation autos*, and \"`c`\" is from group *recreation motorcycle*. **Exercise for part 2**: Calculate the: \n",
    "- (1) Euclidean distance\n",
    "- (2) Cosine distance \n",
    "- (3) Jaccard similarity \n",
    "\n",
    "between each pair of instances using the imported functions below. Remember that the Jaccard similarity is only for binary valued vectors, so convert vectors to binary using a threshold. \n",
    "\n",
    "**Question for part 2**: Which distance seems more appropriate to use for this data? **Why**?"
   ]
  },
  {
   "cell_type": "code",
   "execution_count": 13,
   "metadata": {},
   "outputs": [
    {
     "name": "stdout",
     "output_type": "stream",
     "text": [
      "Instance A is from class comp.graphics\n",
      "Instance B is from class rec.autos\n",
      "Instance C is from class rec.motorcycles\n",
      "Euclidean Distance\n",
      " ab: 1.0985184671870858 ac: 1.1891405425398236 bc: 0.917779422666162\n",
      "Cosine Distance\n",
      " ab: 0.6033714113755322 ac: 0.7070276149559529 bc: 0.4211595343347173\n",
      "Jaccard Dissimilarity (vectors should be boolean values)\n",
      " ab: 0.8821138211382114 ac: 0.8754716981132076 bc: 0.9087947882736156\n",
      "\n",
      "\n",
      "The most appropraite distance is...\n",
      "Cosine. It clearly delineates between topics effectively. B and C are closest (by far),\n",
      "and A is about the same distance from B and C. Euclidean also works well, but not quite as good as \"cosine\"\n"
     ]
    }
   ],
   "source": [
    "from scipy.spatial.distance import cosine\n",
    "from scipy.spatial.distance import euclidean\n",
    "from scipy.spatial.distance import jaccard\n",
    "import numpy as np\n",
    "\n",
    "# get first instance (comp)\n",
    "idx = 550\n",
    "a = ds.data[idx].todense()\n",
    "a_class = ds.target_names[ds.target[idx]]\n",
    "print('Instance A is from class', a_class)\n",
    "\n",
    "# get second instance (autos)\n",
    "idx = 4000\n",
    "b = ds.data[idx].todense()\n",
    "b_class = ds.target_names[ds.target[idx]]\n",
    "print('Instance B is from class', b_class)\n",
    "\n",
    "# get third instance (motorcycle)\n",
    "idx = 7000\n",
    "c = ds.data[idx].todense()\n",
    "c_class = ds.target_names[ds.target[idx]]\n",
    "print('Instance C is from class', c_class)\n",
    "\n",
    "# Enter distance comparison below for each pair of vectors:\n",
    "print('Euclidean Distance\\n ab:', euclidean(a,b), 'ac:', euclidean(a,c), 'bc:', euclidean(b,c))\n",
    "print('Cosine Distance\\n ab:', cosine(a,b), 'ac:', cosine(a,c), 'bc:', cosine(b,c))\n",
    "print('Jaccard Dissimilarity (vectors should be boolean values)\\n ab:', jaccard(a>0,b>0), 'ac:', jaccard(a>0,c>0), 'bc:', jaccard(b>0,c>0))\n",
    "\n",
    "print('\\n\\nThe most appropraite distance is...')\n",
    "print('Cosine. It clearly delineates between topics effectively. B and C are closest (by far),',)\n",
    "print('and A is about the same distance from B and C. Euclidean also works well, but not quite as good as \"cosine\"')"
   ]
  },
  {
   "cell_type": "markdown",
   "metadata": {},
   "source": [
    "___\n",
    "# Start of Live Session Assignment\n",
    "___\n",
    "<a id=\"KNN\"></a>\n",
    "<a href=\"#top\">Back to Top</a>\n",
    "## Using scikit-learn with KNN\n",
    "Now let's use stratified cross validation with a holdout set to train a KNN model in `scikit-learn`. Use the example below to train a KNN classifier. The documentation for `KNeighborsClassifier` is here: http://scikit-learn.org/stable/modules/generated/sklearn.neighbors.KNeighborsClassifier.html  \n",
    "\n",
    "**Exercise for part 3**: Use the code below to test what value of `n_neighbors` works best for the given data. *Note: do NOT change the metric to be anything other than `'euclidean'`. Other distance functions are not optimized for the amount of data we are working with.* \n",
    "\n",
    "**Question for part 3**: What is the accuracy of the best classifier you can create for this data (by changing only the `n_neighbors` parameter)? "
   ]
  },
  {
   "cell_type": "code",
   "execution_count": 5,
   "metadata": {},
   "outputs": [
    {
     "name": "stdout",
     "output_type": "stream",
     "text": [
      "1 0.5905957221141948\n",
      "2 0.5437511048258794\n",
      "3 0.5370337634788758\n",
      "4 0.520947498674209\n",
      "5 0.5046844617288315\n",
      "6 0.49566908255258973\n",
      "7 0.48612338695421603\n",
      "8 0.47622414707442107\n",
      "9 0.4638500972246774\n",
      "Accuracy of classifier with 1 neighbors is: 0.59\n"
     ]
    }
   ],
   "source": [
    "from sklearn.cross_validation import StratifiedShuffleSplit\n",
    "from sklearn.neighbors import KNeighborsClassifier\n",
    "from sklearn.metrics import accuracy_score\n",
    "from IPython.html import widgets \n",
    "\n",
    "cv = StratifiedShuffleSplit(ds.target, n_iter = 1, test_size = 0.5, train_size=0.5, random_state=12345)\n",
    "\n",
    "# fill in the training and testing data and save as separate variables\n",
    "for trainidx, testidx in cv:\n",
    "    # note that these are sparse matrices\n",
    "    X_train = ds.data[trainidx] \n",
    "    X_test = ds.data[testidx] \n",
    "    y_train = ds.target[trainidx]\n",
    "    y_test = ds.target[testidx]\n",
    "\n",
    "# fill in your code  here to train and test\n",
    "# calculate the accuracy and print it for various values of K\n",
    "for K in range(1, 10): \n",
    "    clf = KNeighborsClassifier(n_neighbors=K, weights='uniform', metric='euclidean')\n",
    "    clf.fit(X_train, y_train)\n",
    "    yhat = clf.predict(X_test)\n",
    "    print(K, accuracy_score(y_test, yhat))\n",
    "\n",
    "acc = 0.5905957221141948 # overwrite this with the actual accuracy\n",
    "\n",
    "#=====================================\n",
    "\n",
    "print('Accuracy of classifier with %d neighbors is: %.2f'%(1,acc))\n"
   ]
  },
  {
   "cell_type": "markdown",
   "metadata": {},
   "source": [
    "The best accuracy is 0.59 with 1 neighbors."
   ]
  },
  {
   "cell_type": "markdown",
   "metadata": {},
   "source": [
    "**Question for part 3**: With sparse data, does the use of a KDTree representation make sense? Why or Why not?"
   ]
  },
  {
   "cell_type": "markdown",
   "metadata": {},
   "source": [
    "Enter your answer below:\n",
    "\n",
    "It likely wouldn’t be a good idea because if the data is very sparse there may not be enough attributes to effectively build a useful KDtree. In this case as well, if the data is uncomplex then the computational demands may be comparable to conducting the full analysis\n",
    "KDTree’s do have there uses however, as they are often used in mapping applications.\n",
    "___"
   ]
  },
  {
   "cell_type": "markdown",
   "metadata": {
    "collapsed": true
   },
   "source": [
    "_____\n",
    "## KNN extensions - Centroids\n",
    "Now lets look at a very closely related classifier to KNN, called nearest centroid. In this classifier (which is more appropriate for big data scenarios and sparse data), the training step is used to calculate the centroids for each class. These centroids are saved. Unknown attributes, at prediction time, only need to have distances calculated for each saved centroid, drastically decreasing the time required for a prediction. \n",
    "\n",
    "**Exercise for part 4**: Use the template code below to create a nearest centroid classifier. Test which metric has the best cross validated performance: Euclidean, Cosine, or Manhattan. In `scikit-learn` you can see the documentation for NearestCentroid here: \n",
    "- http://scikit-learn.org/stable/modules/generated/sklearn.neighbors.NearestCentroid.html#sklearn.neighbors.NearestCentroid\n",
    "\n",
    "and for supported distance metrics here:\n",
    "- http://scikit-learn.org/stable/modules/generated/sklearn.metrics.pairwise.distance_metrics.html#sklearn.metrics.pairwise.distance_metrics"
   ]
  },
  {
   "cell_type": "code",
   "execution_count": 14,
   "metadata": {},
   "outputs": [
    {
     "name": "stdout",
     "output_type": "stream",
     "text": [
      "euclidean 0.39897472158387837\n",
      "cosine 0.4799363620293442\n",
      "manhattan 0.18172176065052148\n",
      "The best distance metric is: cosine\n"
     ]
    }
   ],
   "source": [
    "from sklearn.neighbors.nearest_centroid import NearestCentroid\n",
    "import warnings\n",
    "warnings.filterwarnings('ignore')\n",
    "\n",
    "# the parameters for the nearest centroid metric to test are:\n",
    "#    l1, l2, and cosine (all are optimized)\n",
    "for d in ['euclidean', 'cosine', 'manhattan']:\n",
    "    clf = NearestCentroid(metric=d)\n",
    "    clf.fit(X_train, y_train)\n",
    "    yhat = clf.predict(X_test)\n",
    "    acc = accuracy_score(y_test, yhat)\n",
    "    print(d, acc)\n",
    "\n",
    "print('The best distance metric is: cosine')"
   ]
  },
  {
   "cell_type": "markdown",
   "metadata": {},
   "source": [
    "___\n",
    "<a id=\"naive\"></a>\n",
    "<a href=\"#top\">Back to Top</a>\n",
    "## Naive Bayes Classification\n",
    "Now let's look at the use of the Naive Bayes classifier. The 20 newsgroups dataset has 20 classes and about 130,000 features per instance. Recall that the Naive Bayes classifer calculates a posterior distribution for each possible class. Each posterior distribution is a multiplication of many conditional distributions: \n",
    "\n",
    "$${\\arg \\max}_{j} \\left(p(class=j)\\prod_{i} p(attribute=i|class=j) \\right)$$\n",
    "\n",
    "where $p(class=j)$ is the prior and $p(attribute=i|class=j)$ is the conditional probability.\n",
    "\n",
    "**Question for part 5**: With this many classes and features, how many different conditional probabilities need to be parameterized? How many priors need to be parameterized?"
   ]
  },
  {
   "cell_type": "markdown",
   "metadata": {},
   "source": [
    "Enter you answer here:\n",
    "\n",
    "Since we have 130,000 features and 20 classes, we need to calculate 20 * 130,000 or 2.6 million conditional probabilities. There is 1 prior for each class that must be parametized."
   ]
  },
  {
   "cell_type": "code",
   "execution_count": 15,
   "metadata": {},
   "outputs": [],
   "source": [
    "# Use this space for any calculations you might want to do\n",
    "conditionals = 2.6million\n",
    "130,000 * 20 = 2,600,000"
   ]
  },
  {
   "cell_type": "markdown",
   "metadata": {},
   "source": [
    "___\n",
    "## Naive Bayes in Scikit-learn\n",
    "Scikit has several implementations of the Naive Bayes classifier: `GaussianNB`, `MultinomialNB`, and `BernoulliNB`. Look at the documentation here: http://scikit-learn.org/stable/modules/naive_bayes.html Take a look at each implementation and then answer this question: \n",
    "\n",
    "**Questions for part 6**: \n",
    "- If the instances contain mostly continuous attributes, would it be better to use Gaussian Naive Bayes, Multinomial Naive Bayes, or Bernoulli? And Why? \n",
    "- What if the data is sparse, does this change your answer? Why or Why not?"
   ]
  },
  {
   "cell_type": "markdown",
   "metadata": {},
   "source": [
    "Enter you answer here:\n",
    "\n",
    "* Gaussian works effectively for continuous datasets as it considers the data through a normalization process to fit a naive Bayes format, although it requires the assumption that the underlying data is normally distributed. According to the documentation, MultinomialNB is typically used for text classification, BernoulliNB is typically used for binary classifications. Therefore, you would want to use Gaussian for continuous attributes.\n",
    "* In a sparse situation, however, we run the risk of having a mean value near zero and having an alpha factor to help correct for the effects of zero helps construct a more effective model"
   ]
  },
  {
   "cell_type": "markdown",
   "metadata": {},
   "source": [
    "## Naive Bayes Comparison\n",
    "For the final section of this notebook let's compare the performance of Naive Bayes for document classification. Look at the parameters for `MultinomialNB`, and `BernoulliNB` (especially `alpha` and `binarize`). \n",
    "\n",
    "**Exercise for part 7**: Using the example code below, change the parameters for each classifier and see how accurate you can make the classifiers on the test set. \n",
    "\n",
    "**Question for part 7**: Why are these implementations so fast to train? What does the `'alpha'` value control in these models (*i.e.*, how does it change the parameterizations)? "
   ]
  },
  {
   "cell_type": "code",
   "execution_count": 18,
   "metadata": {},
   "outputs": [
    {
     "name": "stdout",
     "output_type": "stream",
     "text": [
      "MultinomialNB (alpha=0.000000): 0.854517\n",
      "BernoulliNB (alpha=0.000000, binarize=0.000000): 0.840905\n",
      "BernoulliNB (alpha=0.000000, binarize=0.002000): 0.845148\n",
      "BernoulliNB (alpha=0.000000, binarize=0.020000): 0.855047\n",
      "BernoulliNB (alpha=0.000000, binarize=0.040000): 0.834718\n",
      "BernoulliNB (alpha=0.000000, binarize=0.060000): 0.791586\n",
      "BernoulliNB (alpha=0.000000, binarize=0.080000): 0.730599\n",
      "BernoulliNB (alpha=0.000000, binarize=0.200000): 0.342938\n",
      "MultinomialNB (alpha=0.001000): 0.884568\n",
      "BernoulliNB (alpha=0.001000, binarize=0.000000): 0.821460\n",
      "BernoulliNB (alpha=0.001000, binarize=0.002000): 0.830652\n",
      "BernoulliNB (alpha=0.001000, binarize=0.020000): 0.866537\n",
      "BernoulliNB (alpha=0.001000, binarize=0.040000): 0.853456\n",
      "BernoulliNB (alpha=0.001000, binarize=0.060000): 0.806788\n",
      "BernoulliNB (alpha=0.001000, binarize=0.080000): 0.748630\n",
      "BernoulliNB (alpha=0.001000, binarize=0.200000): 0.343115\n",
      "MultinomialNB (alpha=0.010000): 0.876436\n",
      "BernoulliNB (alpha=0.010000, binarize=0.000000): 0.805551\n",
      "BernoulliNB (alpha=0.010000, binarize=0.002000): 0.815627\n",
      "BernoulliNB (alpha=0.010000, binarize=0.020000): 0.865123\n",
      "BernoulliNB (alpha=0.010000, binarize=0.040000): 0.855577\n",
      "BernoulliNB (alpha=0.010000, binarize=0.060000): 0.811207\n",
      "BernoulliNB (alpha=0.010000, binarize=0.080000): 0.746509\n",
      "BernoulliNB (alpha=0.010000, binarize=0.200000): 0.343468\n",
      "MultinomialNB (alpha=0.100000): 0.827470\n",
      "BernoulliNB (alpha=0.100000, binarize=0.000000): 0.767898\n",
      "BernoulliNB (alpha=0.100000, binarize=0.002000): 0.778681\n",
      "BernoulliNB (alpha=0.100000, binarize=0.020000): 0.842142\n",
      "BernoulliNB (alpha=0.100000, binarize=0.040000): 0.837370\n",
      "BernoulliNB (alpha=0.100000, binarize=0.060000): 0.779212\n",
      "BernoulliNB (alpha=0.100000, binarize=0.080000): 0.702846\n",
      "BernoulliNB (alpha=0.100000, binarize=0.200000): 0.293795\n",
      "MultinomialNB (alpha=1.000000): 0.694361\n",
      "BernoulliNB (alpha=1.000000, binarize=0.000000): 0.601025\n",
      "BernoulliNB (alpha=1.000000, binarize=0.002000): 0.609864\n",
      "BernoulliNB (alpha=1.000000, binarize=0.020000): 0.706205\n",
      "BernoulliNB (alpha=1.000000, binarize=0.040000): 0.657062\n",
      "BernoulliNB (alpha=1.000000, binarize=0.060000): 0.514760\n",
      "BernoulliNB (alpha=1.000000, binarize=0.080000): 0.403217\n",
      "BernoulliNB (alpha=1.000000, binarize=0.200000): 0.115432\n",
      "\n",
      "These classifiers are so fast because they allow the decoupling of the class conditional feature. This allows comparisons to be made independently which can significantly speed up comparisons in datasets with high dimensionality.\n",
      "The alpha values control the smoothing performed on the model, which affects the weight of features that might not have much impact on the classification.\n"
     ]
    }
   ],
   "source": [
    "from sklearn.naive_bayes import MultinomialNB\n",
    "from sklearn.naive_bayes import BernoulliNB\n",
    "\n",
    "for a in [0.0, 0.001, 0.01, 0.1, 1]:\n",
    "    clf_mnb = MultinomialNB(alpha=a)\n",
    "    clf_mnb.fit(X_train, y_train)\n",
    "    yhat = clf_mnb.predict(X_test)\n",
    "    acc = accuracy_score(y_test, yhat)\n",
    "    print(\"MultinomialNB (alpha=%f): %f\" % (a, acc))\n",
    "    for b in [0.0, 0.002, 0.02, 0.04, 0.06, 0.08, 0.2]:\n",
    "        clf_bnb = BernoulliNB(alpha=a, binarize=b)\n",
    "        clf_bnb.fit(X_train, y_train)\n",
    "        yhat = clf_bnb.predict(X_test)\n",
    "        acc = accuracy_score(y_test, yhat)\n",
    "        print(\"BernoulliNB (alpha=%f, binarize=%f): %f\" % (a, b, acc))\n",
    "\n",
    "# fill in your code here\n",
    "\n",
    "            \n",
    "print('\\nThese classifiers are so fast because they allow the decoupling of the class conditional feature. This allows comparisons to be made independently which can significantly speed up comparisons in datasets with high dimensionality.')\n",
    "print('The alpha values control the smoothing performed on the model, which affects the weight of features that might not have much impact on the classification.')\n"
   ]
  },
  {
   "cell_type": "markdown",
   "metadata": {
    "collapsed": true
   },
   "source": [
    "________________________________________________________________________________________________________\n",
    "\n",
    "That's all! Please **upload your rendered notebook to blackboard** and please include **team member names** in the notebook submission."
   ]
  }
 ],
 "metadata": {
  "kernelspec": {
   "display_name": "Python 3",
   "language": "python",
   "name": "python3"
  },
  "language_info": {
   "codemirror_mode": {
    "name": "ipython",
    "version": 3
   },
   "file_extension": ".py",
   "mimetype": "text/x-python",
   "name": "python",
   "nbconvert_exporter": "python",
   "pygments_lexer": "ipython3",
   "version": "3.7.0"
  }
 },
 "nbformat": 4,
 "nbformat_minor": 1
}
