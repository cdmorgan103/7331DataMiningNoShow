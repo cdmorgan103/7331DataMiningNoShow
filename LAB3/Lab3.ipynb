{
 "cells": [
  {
   "cell_type": "markdown",
   "metadata": {},
   "source": [
    "# Lab 3\n",
    "## Motion Capture Clustering\n",
    "\n",
    "### Team members: Luay Dajani, Dana Geislinger, Chris Morgan, Caroll Rodriguez\n",
    "##### Github - https://github.com/cdmorgan103/7331DataMiningNoShow\n",
    "\n",
    "MSDS 7331, 12/02/2018"
   ]
  },
  {
   "cell_type": "code",
   "execution_count": null,
   "metadata": {},
   "outputs": [],
   "source": []
  },
  {
   "cell_type": "code",
   "execution_count": null,
   "metadata": {},
   "outputs": [],
   "source": []
  },
  {
   "cell_type": "markdown",
   "metadata": {},
   "source": [
    "### Business Understanding 1\n",
    "#### 10pts\n",
    "Describe the purpose of the data set you selected (i.e., why was this data collected in the first place?). How will you measure the effectiveness of a good algorithm? Why does your chosen validation method make sense for this specific\n",
    "dataset and the stakeholders needs?\n"
   ]
  },
  {
   "cell_type": "markdown",
   "metadata": {},
   "source": [
    "https://archive.ics.uci.edu/ml/datasets/Motion+Capture+Hand+Postures#"
   ]
  },
  {
   "cell_type": "markdown",
   "metadata": {
    "collapsed": true
   },
   "source": [
    "A Vicon motion capture camera system was used to record 12 users performing 5 hand postures with markers attached to a left-handed glove. \n",
    "\n",
    "A rigid pattern of markers on the back of the glove was used to establish a local coordinate system for the hand, and 11 other markers were attached to the thumb and fingers of the glove. 3 markers were attached to the thumb with one above the thumbnail and the other two on the knuckles. 2 markers were attached to each finger with one above the fingernail and the other on the joint between the proximal and middle phalanx. \n",
    "\n",
    "The 11 markers not part of the rigid pattern were unlabeled; their positions were not explicitly tracked. Consequently, there is no a priori correspondence between the markers of two given records. In addition, due to the resolution of the capture volume and self-occlusion due to the orientation and configuration of the hand and fingers, many records have missing markers. Extraneous markers were also possible due to artifacts in the Vicon software's marker reconstruction/recording process and other objects in the capture volume. As a result, the number of visible markers in a record varied considerably. \n",
    "\n",
    "The data presented here is already partially preprocessed. First, all markers were transformed to the local coordinate system of the record containing them. Second, each transformed marker with a norm greater than 200 millimeters was pruned. Finally, any record that contained fewer than 3 markers was removed. The processed data has at most 12 markers per record and at least 3. For more information, see 'Attribute Information'. \n",
    "\n",
    "Due to the manner in which data was captured, it is likely that for a given record and user there exists a near duplicate record originating from the same user. We recommend therefore to evaluate classification algorithms on a leave-one-user-out basis wherein each user is iteratively left out from training and used as a test set. One then tests the generalization of the algorithm to new users. A 'User' attribute is provided to accomodate this strategy. \n",
    "\n",
    "This dataset may be used for a variety of tasks, the most obvious of which is posture recognition via classification. One may also attempt user identification. Alternatively, one may perform clustering (constrained or unconstrained) to discover marker distributions either as an attempt to predict marker identities or obtain statistical descriptions/visualizations of the postures. "
   ]
  },
  {
   "cell_type": "markdown",
   "metadata": {},
   "source": [
    "##### Attribute Information:\n",
    "\n",
    "Data is provided as a CSV file. A header provides the name of each attribute. An initial dummy record composed entirely of 0s should be ignored. A question mark '?' is used to indicate a missing value. A record corresponds to a single instant or frame as recorded by the camera system. \n",
    "\n",
    "'Class' - Integer. The class ID of the given record. Ranges from 1 to 5 with 1=Fist(with thumb out), 2=Stop(hand flat), 3=Point1(point with pointer finger), 4=Point2(point with pointer and middle fingers), 5=Grab(fingers curled as if to grab). \n",
    "'User' - Integer. The ID of the user that contributed the record. No meaning other than as an identifier. \n",
    "'Xi' - Real. The x-coordinate of the i-th unlabeled marker position. 'i' ranges from 0 to 11. \n",
    "'Yi' - Real. The y-coordinate of the i-th unlabeled marker position. 'i' ranges from 0 to 11. \n",
    "'Zi' - Real. The z-coordinate of the i-th unlabeled marker position. 'i' ranges from 0 to 11. \n",
    "\n",
    "Each record is a set. The i-th marker of a given record does not necessarily correspond to the i-th marker of a different record. One may randomly permute the visible (i.e. not missing) markers of a given record without changing the set that the record represents. For the sake of convenience, all visible markers of a given record are given a lower index than any missing marker. A class is not guaranteed to have even a single record with all markers visible. \n"
   ]
  },
  {
   "cell_type": "markdown",
   "metadata": {},
   "source": [
    "### Data Understanding 1\n",
    "#### 10pts\n",
    "Describe the meaning and type of data (scale, values, etc.) for each attribute in the data file. Verify data quality: Are there missing values? Duplicate data? Outliers? Are those mistakes? How do you deal with these problems?"
   ]
  },
  {
   "cell_type": "code",
   "execution_count": 1,
   "metadata": {},
   "outputs": [
    {
     "name": "stdout",
     "output_type": "stream",
     "text": [
      "<class 'pandas.core.frame.DataFrame'>\n",
      "RangeIndex: 78096 entries, 0 to 78095\n",
      "Data columns (total 38 columns):\n",
      "Class    78096 non-null int64\n",
      "User     78096 non-null int64\n",
      "X0       78096 non-null float64\n",
      "Y0       78096 non-null float64\n",
      "Z0       78096 non-null float64\n",
      "X1       78096 non-null float64\n",
      "Y1       78096 non-null float64\n",
      "Z1       78096 non-null float64\n",
      "X2       78096 non-null float64\n",
      "Y2       78096 non-null float64\n",
      "Z2       78096 non-null float64\n",
      "X3       78096 non-null object\n",
      "Y3       78096 non-null object\n",
      "Z3       78096 non-null object\n",
      "X4       78096 non-null object\n",
      "Y4       78096 non-null object\n",
      "Z4       78096 non-null object\n",
      "X5       78096 non-null object\n",
      "Y5       78096 non-null object\n",
      "Z5       78096 non-null object\n",
      "X6       78096 non-null object\n",
      "Y6       78096 non-null object\n",
      "Z6       78096 non-null object\n",
      "X7       78096 non-null object\n",
      "Y7       78096 non-null object\n",
      "Z7       78096 non-null object\n",
      "X8       78096 non-null object\n",
      "Y8       78096 non-null object\n",
      "Z8       78096 non-null object\n",
      "X9       78096 non-null object\n",
      "Y9       78096 non-null object\n",
      "Z9       78096 non-null object\n",
      "X10      78096 non-null object\n",
      "Y10      78096 non-null object\n",
      "Z10      78096 non-null object\n",
      "X11      78096 non-null object\n",
      "Y11      78096 non-null object\n",
      "Z11      78096 non-null object\n",
      "dtypes: float64(9), int64(2), object(27)\n",
      "memory usage: 22.6+ MB\n"
     ]
    }
   ],
   "source": [
    "# Import required modules\n",
    "import numpy as np\n",
    "import pandas as pd\n",
    "import math as math\n",
    "import matplotlib.pyplot as plt\n",
    "from matplotlib import style\n",
    "from pprint import pprint\n",
    "from IPython.display import display\n",
    "\n",
    "# Load the data into variable 'df'\n",
    "df = pd.read_csv('https://raw.githubusercontent.com/cdmorgan103/7331DataMiningNoShow/master/LAB3/Postures.csv')\n",
    "\n",
    "# Get an overview of the raw data\n",
    "df.info(null_counts=True)"
   ]
  },
  {
   "cell_type": "code",
   "execution_count": 2,
   "metadata": {},
   "outputs": [],
   "source": [
    "# we will remove class 0 \n",
    "df = df[df.Class !=0 ]\n",
    "\n",
    "#change ? to none to improve data format\n",
    "df=df.replace({'?': 'NaN'})\n",
    "\n",
    "#coerces into numeric\n",
    "df = df.apply(pd.to_numeric, errors='coerce')"
   ]
  },
  {
   "cell_type": "code",
   "execution_count": 3,
   "metadata": {
    "scrolled": true
   },
   "outputs": [
    {
     "data": {
      "text/html": [
       "<div>\n",
       "<style scoped>\n",
       "    .dataframe tbody tr th:only-of-type {\n",
       "        vertical-align: middle;\n",
       "    }\n",
       "\n",
       "    .dataframe tbody tr th {\n",
       "        vertical-align: top;\n",
       "    }\n",
       "\n",
       "    .dataframe thead th {\n",
       "        text-align: right;\n",
       "    }\n",
       "</style>\n",
       "<table border=\"1\" class=\"dataframe\">\n",
       "  <thead>\n",
       "    <tr style=\"text-align: right;\">\n",
       "      <th></th>\n",
       "      <th>Class</th>\n",
       "      <th>User</th>\n",
       "      <th>X0</th>\n",
       "      <th>Y0</th>\n",
       "      <th>Z0</th>\n",
       "      <th>X1</th>\n",
       "      <th>Y1</th>\n",
       "      <th>Z1</th>\n",
       "      <th>X2</th>\n",
       "      <th>Y2</th>\n",
       "      <th>...</th>\n",
       "      <th>Z8</th>\n",
       "      <th>X9</th>\n",
       "      <th>Y9</th>\n",
       "      <th>Z9</th>\n",
       "      <th>X10</th>\n",
       "      <th>Y10</th>\n",
       "      <th>Z10</th>\n",
       "      <th>X11</th>\n",
       "      <th>Y11</th>\n",
       "      <th>Z11</th>\n",
       "    </tr>\n",
       "  </thead>\n",
       "  <tbody>\n",
       "    <tr>\n",
       "      <th>1</th>\n",
       "      <td>1</td>\n",
       "      <td>0</td>\n",
       "      <td>54.263880</td>\n",
       "      <td>71.466776</td>\n",
       "      <td>-64.807709</td>\n",
       "      <td>76.895635</td>\n",
       "      <td>42.462500</td>\n",
       "      <td>-72.780545</td>\n",
       "      <td>36.621229</td>\n",
       "      <td>81.680557</td>\n",
       "      <td>...</td>\n",
       "      <td>NaN</td>\n",
       "      <td>NaN</td>\n",
       "      <td>NaN</td>\n",
       "      <td>NaN</td>\n",
       "      <td>NaN</td>\n",
       "      <td>NaN</td>\n",
       "      <td>NaN</td>\n",
       "      <td>NaN</td>\n",
       "      <td>NaN</td>\n",
       "      <td>NaN</td>\n",
       "    </tr>\n",
       "    <tr>\n",
       "      <th>2</th>\n",
       "      <td>1</td>\n",
       "      <td>0</td>\n",
       "      <td>56.527558</td>\n",
       "      <td>72.266609</td>\n",
       "      <td>-61.935252</td>\n",
       "      <td>39.135978</td>\n",
       "      <td>82.538530</td>\n",
       "      <td>-49.596509</td>\n",
       "      <td>79.223743</td>\n",
       "      <td>43.254091</td>\n",
       "      <td>...</td>\n",
       "      <td>NaN</td>\n",
       "      <td>NaN</td>\n",
       "      <td>NaN</td>\n",
       "      <td>NaN</td>\n",
       "      <td>NaN</td>\n",
       "      <td>NaN</td>\n",
       "      <td>NaN</td>\n",
       "      <td>NaN</td>\n",
       "      <td>NaN</td>\n",
       "      <td>NaN</td>\n",
       "    </tr>\n",
       "    <tr>\n",
       "      <th>3</th>\n",
       "      <td>1</td>\n",
       "      <td>0</td>\n",
       "      <td>55.849928</td>\n",
       "      <td>72.469064</td>\n",
       "      <td>-62.562788</td>\n",
       "      <td>37.988804</td>\n",
       "      <td>82.631347</td>\n",
       "      <td>-50.606259</td>\n",
       "      <td>78.451526</td>\n",
       "      <td>43.567403</td>\n",
       "      <td>...</td>\n",
       "      <td>NaN</td>\n",
       "      <td>NaN</td>\n",
       "      <td>NaN</td>\n",
       "      <td>NaN</td>\n",
       "      <td>NaN</td>\n",
       "      <td>NaN</td>\n",
       "      <td>NaN</td>\n",
       "      <td>NaN</td>\n",
       "      <td>NaN</td>\n",
       "      <td>NaN</td>\n",
       "    </tr>\n",
       "    <tr>\n",
       "      <th>4</th>\n",
       "      <td>1</td>\n",
       "      <td>0</td>\n",
       "      <td>55.329647</td>\n",
       "      <td>71.707275</td>\n",
       "      <td>-63.688956</td>\n",
       "      <td>36.561863</td>\n",
       "      <td>81.868749</td>\n",
       "      <td>-52.752784</td>\n",
       "      <td>86.320630</td>\n",
       "      <td>68.214645</td>\n",
       "      <td>...</td>\n",
       "      <td>NaN</td>\n",
       "      <td>NaN</td>\n",
       "      <td>NaN</td>\n",
       "      <td>NaN</td>\n",
       "      <td>NaN</td>\n",
       "      <td>NaN</td>\n",
       "      <td>NaN</td>\n",
       "      <td>NaN</td>\n",
       "      <td>NaN</td>\n",
       "      <td>NaN</td>\n",
       "    </tr>\n",
       "    <tr>\n",
       "      <th>5</th>\n",
       "      <td>1</td>\n",
       "      <td>0</td>\n",
       "      <td>55.142401</td>\n",
       "      <td>71.435607</td>\n",
       "      <td>-64.177303</td>\n",
       "      <td>36.175818</td>\n",
       "      <td>81.556874</td>\n",
       "      <td>-53.475747</td>\n",
       "      <td>76.986143</td>\n",
       "      <td>42.426849</td>\n",
       "      <td>...</td>\n",
       "      <td>NaN</td>\n",
       "      <td>NaN</td>\n",
       "      <td>NaN</td>\n",
       "      <td>NaN</td>\n",
       "      <td>NaN</td>\n",
       "      <td>NaN</td>\n",
       "      <td>NaN</td>\n",
       "      <td>NaN</td>\n",
       "      <td>NaN</td>\n",
       "      <td>NaN</td>\n",
       "    </tr>\n",
       "  </tbody>\n",
       "</table>\n",
       "<p>5 rows × 38 columns</p>\n",
       "</div>"
      ],
      "text/plain": [
       "   Class  User         X0         Y0         Z0         X1         Y1  \\\n",
       "1      1     0  54.263880  71.466776 -64.807709  76.895635  42.462500   \n",
       "2      1     0  56.527558  72.266609 -61.935252  39.135978  82.538530   \n",
       "3      1     0  55.849928  72.469064 -62.562788  37.988804  82.631347   \n",
       "4      1     0  55.329647  71.707275 -63.688956  36.561863  81.868749   \n",
       "5      1     0  55.142401  71.435607 -64.177303  36.175818  81.556874   \n",
       "\n",
       "          Z1         X2         Y2 ...   Z8  X9  Y9  Z9  X10  Y10  Z10  X11  \\\n",
       "1 -72.780545  36.621229  81.680557 ...  NaN NaN NaN NaN  NaN  NaN  NaN  NaN   \n",
       "2 -49.596509  79.223743  43.254091 ...  NaN NaN NaN NaN  NaN  NaN  NaN  NaN   \n",
       "3 -50.606259  78.451526  43.567403 ...  NaN NaN NaN NaN  NaN  NaN  NaN  NaN   \n",
       "4 -52.752784  86.320630  68.214645 ...  NaN NaN NaN NaN  NaN  NaN  NaN  NaN   \n",
       "5 -53.475747  76.986143  42.426849 ...  NaN NaN NaN NaN  NaN  NaN  NaN  NaN   \n",
       "\n",
       "   Y11  Z11  \n",
       "1  NaN  NaN  \n",
       "2  NaN  NaN  \n",
       "3  NaN  NaN  \n",
       "4  NaN  NaN  \n",
       "5  NaN  NaN  \n",
       "\n",
       "[5 rows x 38 columns]"
      ]
     },
     "execution_count": 3,
     "metadata": {},
     "output_type": "execute_result"
    }
   ],
   "source": [
    "df.head()"
   ]
  },
  {
   "cell_type": "code",
   "execution_count": 4,
   "metadata": {
    "scrolled": false
   },
   "outputs": [
    {
     "name": "stdout",
     "output_type": "stream",
     "text": [
      "<class 'pandas.core.frame.DataFrame'>\n",
      "Int64Index: 78095 entries, 1 to 78095\n",
      "Data columns (total 38 columns):\n",
      "Class    78095 non-null int64\n",
      "User     78095 non-null int64\n",
      "X0       78095 non-null float64\n",
      "Y0       78095 non-null float64\n",
      "Z0       78095 non-null float64\n",
      "X1       78095 non-null float64\n",
      "Y1       78095 non-null float64\n",
      "Z1       78095 non-null float64\n",
      "X2       78095 non-null float64\n",
      "Y2       78095 non-null float64\n",
      "Z2       78095 non-null float64\n",
      "X3       77405 non-null float64\n",
      "Y3       77405 non-null float64\n",
      "Z3       77405 non-null float64\n",
      "X4       74975 non-null float64\n",
      "Y4       74975 non-null float64\n",
      "Z4       74975 non-null float64\n",
      "X5       65072 non-null float64\n",
      "Y5       65072 non-null float64\n",
      "Z5       65072 non-null float64\n",
      "X6       52247 non-null float64\n",
      "Y6       52247 non-null float64\n",
      "Z6       52247 non-null float64\n",
      "X7       38943 non-null float64\n",
      "Y7       38943 non-null float64\n",
      "Z7       38943 non-null float64\n",
      "X8       30563 non-null float64\n",
      "Y8       30563 non-null float64\n",
      "Z8       30563 non-null float64\n",
      "X9       23967 non-null float64\n",
      "Y9       23967 non-null float64\n",
      "Z9       23967 non-null float64\n",
      "X10      14752 non-null float64\n",
      "Y10      14752 non-null float64\n",
      "Z10      14752 non-null float64\n",
      "X11      31 non-null float64\n",
      "Y11      31 non-null float64\n",
      "Z11      31 non-null float64\n",
      "dtypes: float64(36), int64(2)\n",
      "memory usage: 23.2 MB\n"
     ]
    }
   ],
   "source": [
    "# Get an overview of the raw data\n",
    "df.info(null_counts=True)"
   ]
  },
  {
   "cell_type": "markdown",
   "metadata": {},
   "source": [
    "Only 31 data points appear for the 11th sensor, and are for one user. We will delete this as a feature as it does not provide any value."
   ]
  },
  {
   "cell_type": "code",
   "execution_count": 5,
   "metadata": {},
   "outputs": [],
   "source": [
    "del df['X11']\n",
    "del df['Y11']\n",
    "del df['Z11']"
   ]
  },
  {
   "cell_type": "markdown",
   "metadata": {},
   "source": [
    "#### Reformatting the Data for Sensor Clustering"
   ]
  },
  {
   "cell_type": "markdown",
   "metadata": {},
   "source": [
    "The raw data for this dataset is formatted with each capture being treated as a separate observation. This makes sense if you are classifying the gesture or user, but we are trying to cluster in order to identify which sensor on the glove corresponds to a specific set of coordinates. Therefore, we must stack the data in order to get a new dataset where each observation has only a single X, Y, and Z coordinate, and corresponds to the specific position of an individual sensor module in any given capture. \n",
    "\n",
    "The original dataset consists of 78,095 captures with coordinates on up to 11 sensors in any given capture, as well as metadata pertaining to the capture about the user and class the capture was representative of. We will retain this metadata, and also create a new variable that corresponds to the sensor number (0 through 10). However, each coordinate will now be labelled as the raw coordinate number on each cartesian axis (X, Y, Z) regardless of sensor number (as opposed to X0, Y10, Z5, etc. as was the case originally).\n",
    "\n",
    "At this point, we will now also drop missing datapoints; NaN values in this dataset represent sensors that were obscured or not recorded for some other reason during a capture, and since we are interested in clustering by sensor, it does not further the analysis to include sensor coordinates for which no data was recorded."
   ]
  },
  {
   "cell_type": "code",
   "execution_count": 51,
   "metadata": {},
   "outputs": [],
   "source": [
    "# Create a list of dataframes with X, Y, Z coordinates selected for each individual sensor (0-10)\n",
    "df_coords = [df.loc[:, ['Class', 'User', 'X%d' % i, 'Y%d' %i, 'Z%d' % i]] for i in range(11)]\n",
    "\n",
    "for i in range(len(df_coords)):\n",
    "    # NaN values are dropped at this time\n",
    "    df_coords[i] = df_coords[i].dropna()\n",
    "    \n",
    "    # Coordinate variable labels will now be standardized\n",
    "    df_coords[i].columns = ['Class', 'User', 'X', 'Y', 'Z']\n",
    "    \n",
    "    # Sensor number will now be added as a variable 'sensor' to each dataset\n",
    "    df_coords[i]['Sensor'] = i\n",
    "    \n",
    "# Combine datasets into new dataframe: df2\n",
    "df2 = pd.concat(df_coords, ignore_index=True)\n",
    "\n",
    "# Reorder columns with metadata columns first\n",
    "df2 = df2[['Class', 'User', 'Sensor', 'X', 'Y', 'Z']]"
   ]
  },
  {
   "cell_type": "markdown",
   "metadata": {},
   "source": [
    "With the newly formatted dataset, we now have 612,209 distinct cartesian coordinates with corresponding Sensor, Class, and User metadata."
   ]
  },
  {
   "cell_type": "code",
   "execution_count": 54,
   "metadata": {},
   "outputs": [
    {
     "name": "stdout",
     "output_type": "stream",
     "text": [
      "<class 'pandas.core.frame.DataFrame'>\n",
      "RangeIndex: 612209 entries, 0 to 612208\n",
      "Data columns (total 6 columns):\n",
      "Class     612209 non-null int64\n",
      "User      612209 non-null int64\n",
      "Sensor    612209 non-null int64\n",
      "X         612209 non-null float64\n",
      "Y         612209 non-null float64\n",
      "Z         612209 non-null float64\n",
      "dtypes: float64(3), int64(3)\n",
      "memory usage: 28.0 MB\n"
     ]
    }
   ],
   "source": [
    "df2.info()"
   ]
  },
  {
   "cell_type": "markdown",
   "metadata": {},
   "source": [
    "### Data Understanding 2\n",
    "#### 10pts\n",
    "Visualize the any important attributes appropriately. Important: Provide an interpretation for any charts or graphs."
   ]
  },
  {
   "cell_type": "markdown",
   "metadata": {},
   "source": []
  },
  {
   "cell_type": "code",
   "execution_count": null,
   "metadata": {},
   "outputs": [],
   "source": [
    "import pandas as pd\n",
    "# Print descriptive info for the unique values for each predictor\n",
    "\n",
    "#1=Fist(with thumb out), \n",
    "#2=Stop(hand flat), \n",
    "#3=Point1(point with pointer finger), \n",
    "#4=Point2(point with pointer and middle fingers), \n",
    "#5=Grab(fingers curled as if to grab). \n",
    "\n",
    "print('Class:', list(df.Class.unique()))\n",
    "print('User:', list(df.User.unique()))\n",
    "#df_User = df.groupby(['User','Class'])['Class'].count() \n",
    "df_Class = df.groupby(['Class', 'User'])['User'].count()\n",
    "\n",
    "df_Class['total'] = sum(df_Class) #df_User \n",
    "\n",
    "df_Class"
   ]
  },
  {
   "cell_type": "code",
   "execution_count": null,
   "metadata": {},
   "outputs": [],
   "source": [
    "#plot and format bar chart\n",
    "plt.figure(figsize=(16,5), dpi=80)\n",
    "_ = df_Class.plot(kind='bar')\n",
    "#plt.barh(df_neighborhood, width=0.4, height=0.4, align='center', alpha=0.4)"
   ]
  },
  {
   "cell_type": "markdown",
   "metadata": {},
   "source": [
    "### Interactive Plotting of User/Class Combinations"
   ]
  },
  {
   "cell_type": "code",
   "execution_count": null,
   "metadata": {},
   "outputs": [],
   "source": [
    "import plotly\n",
    "import plotly.plotly as py\n",
    "import plotly.graph_objs as go\n",
    "from plotly.offline import init_notebook_mode\n",
    "import pandas as pd\n",
    "import numpy as np\n",
    "\n",
    "# Set up plotly API key\n",
    "plotly.tools.set_credentials_file(username='danageis', api_key='0NAcrzM8YksRAT3uyEZ7')\n",
    "\n",
    "# Enable offline plots (embed into ipynb)\n",
    "init_notebook_mode(connected=True)\n",
    "\n",
    "# Define list of possible users\n",
    "possible_users = set(df.User.unique())\n",
    "\n",
    "# Define dictionary of all possible user/class combinations (which ones took pictures of which)\n",
    "possible_classes = {usr: set(df.where(df.User == usr).Class.dropna().unique()) for usr in possible_users}\n",
    "\n",
    "# Define functions to create 3D-interactive plots of each user/position combo\n",
    "def parse_coords(cls=1, usr=1):\n",
    "    \"\"\" Helper function: return all coords for specified User and Class\n",
    "    \n",
    "    cls (int): Class (defaults to 1)\n",
    "    usr (int): User (defaults to 1)\n",
    "    \n",
    "    Ret (dict): {dimension (str): coordinates (pd.Series)}\n",
    "    \"\"\"\n",
    "    dims = ['X', 'Y', 'Z']\n",
    "    fill = lambda suffix: [suffix + str(i) for i in range(1,11)]\n",
    "    cols = {col: fill(col) for col in dims}\n",
    "    coords = {dim: df[cols[dim]].where(df.User == usr).where(df.Class == cls).stack() for dim in dims}\n",
    "    return coords\n",
    "\n",
    "def plot_3d(cls=1, usr=1, title=None):\n",
    "    \"\"\" Return 3D interactive plot for given coordinates set (single user/sign combos)\n",
    "    \n",
    "    cls (int): Class (defaults to 1)\n",
    "    usr (int): User (defaults to 1)\n",
    "    title (str): Title of the plot (defaults to \"User {usr} Position {cls}\")\n",
    "    \n",
    "    Ret (plotly.graph_objs.Scatter3d figure object)\n",
    "    \"\"\"\n",
    "    \n",
    "    # Make sure user/class designation is valid\n",
    "    if not usr in possible_users:\n",
    "        return \"ERROR: User %d does not have any data. Try again with a different user specified.\" % usr\n",
    "    elif not cls in possible_classes[usr]:\n",
    "        return \"ERROR: User %d does not have any data for Class %d. Try again with a different class specified.\" % (usr, cls)\n",
    "    \n",
    "    coords = parse_coords(cls, usr)\n",
    "    if not title: title = \"User %d Position %d\" % (usr, cls)\n",
    "\n",
    "    data = [go.Scatter3d(x=coords['X'],\n",
    "                         y=coords['Y'],\n",
    "                         z=coords['Z'],\n",
    "                         mode='markers',\n",
    "                         marker=dict(size=5)\n",
    "                         )\n",
    "            ]\n",
    "\n",
    "    layout = dict(width=800,\n",
    "                  height=700,\n",
    "                  autosize=True,\n",
    "                  title=title,\n",
    "                  scene=dict(xaxis=dict(gridcolor='rgb(255, 255, 255)',\n",
    "                                        zerolinecolor='rgb(255, 255, 255)',\n",
    "                                        showbackground=True,\n",
    "                                        backgroundcolor='rgb(230, 230,230)'\n",
    "                                        ),\n",
    "                             yaxis=dict(gridcolor='rgb(255, 255, 255)',\n",
    "                                        zerolinecolor='rgb(255, 255, 255)',\n",
    "                                        showbackground=True,\n",
    "                                        backgroundcolor='rgb(230, 230,230)'\n",
    "                                        ),\n",
    "                             zaxis=dict(gridcolor='rgb(255, 255, 255)',\n",
    "                                        zerolinecolor='rgb(255, 255, 255)',\n",
    "                                        showbackground=True,\n",
    "                                        backgroundcolor='rgb(230, 230,230)'\n",
    "                                        ),\n",
    "                             camera=dict(up=dict(x=0,\n",
    "                                                 y=0,\n",
    "                                                 z=1\n",
    "                                                 ),\n",
    "                                         eye=dict(x=-1.7428,\n",
    "                                                  y=1.0707,\n",
    "                                                  z=0.7100,\n",
    "                                                  )\n",
    "                                         ),\n",
    "                             aspectratio = dict(x=1,\n",
    "                                                y=1,\n",
    "                                                z=0.7\n",
    "                                                ),\n",
    "                             aspectmode = 'manual'\n",
    "                             ),\n",
    "                )\n",
    "\n",
    "    fig = dict(data=data, layout=layout)\n",
    "\n",
    "    return py.iplot(fig, filename=\"Hands-%s\" % title)"
   ]
  },
  {
   "cell_type": "code",
   "execution_count": null,
   "metadata": {},
   "outputs": [],
   "source": [
    "from warnings import filterwarnings\n",
    "filterwarnings('ignore')"
   ]
  },
  {
   "cell_type": "code",
   "execution_count": null,
   "metadata": {},
   "outputs": [],
   "source": [
    "plot_3d(cls=1, usr=1)"
   ]
  },
  {
   "cell_type": "markdown",
   "metadata": {},
   "source": [
    "### need help with total for user count to get percentage below"
   ]
  },
  {
   "cell_type": "code",
   "execution_count": null,
   "metadata": {},
   "outputs": [],
   "source": [
    "User_byClass = df.groupby(['Class','User']).agg({'User':'nunique','User':'count'})\n",
    "print(\"Total Users per Class \")\n",
    "#agerange_by_gender.columns\n",
    "\n",
    "total = sum(User_byClass.count())\n",
    "\n",
    "User_byClass['Percentage'] = User_byClass / total \n",
    "User_byClass"
   ]
  },
  {
   "cell_type": "markdown",
   "metadata": {},
   "source": [
    "### Modeling and Evaluation 1\n",
    "#### 10 pts\n",
    "Train and adjust parameters"
   ]
  },
  {
   "cell_type": "markdown",
   "metadata": {},
   "source": [
    "### GMM Clustering"
   ]
  },
  {
   "cell_type": "code",
   "execution_count": null,
   "metadata": {},
   "outputs": [],
   "source": []
  },
  {
   "cell_type": "code",
   "execution_count": null,
   "metadata": {},
   "outputs": [],
   "source": []
  },
  {
   "cell_type": "markdown",
   "metadata": {},
   "source": [
    "### Modeling and Evaluation 2\n",
    "#### 10pts\n",
    "Evaluate and Compare"
   ]
  },
  {
   "cell_type": "code",
   "execution_count": null,
   "metadata": {},
   "outputs": [],
   "source": []
  },
  {
   "cell_type": "code",
   "execution_count": null,
   "metadata": {},
   "outputs": [],
   "source": []
  },
  {
   "cell_type": "markdown",
   "metadata": {},
   "source": [
    "### Modeling and Evaluation 3\n",
    "#### 10 pts\n",
    "Visualize Results"
   ]
  },
  {
   "cell_type": "code",
   "execution_count": null,
   "metadata": {},
   "outputs": [],
   "source": []
  },
  {
   "cell_type": "code",
   "execution_count": null,
   "metadata": {},
   "outputs": [],
   "source": []
  },
  {
   "cell_type": "markdown",
   "metadata": {},
   "source": [
    "### Modeling and Evaluation 4\n",
    "#### 20 pts\n",
    "Summarize the Ramifications"
   ]
  },
  {
   "cell_type": "code",
   "execution_count": null,
   "metadata": {},
   "outputs": [],
   "source": []
  },
  {
   "cell_type": "code",
   "execution_count": null,
   "metadata": {},
   "outputs": [],
   "source": []
  },
  {
   "cell_type": "markdown",
   "metadata": {},
   "source": [
    "### Deployment \n",
    "#### 10 pts\n",
    "Be critical of your performance and tell the reader how you current model might be usable by other parties. Did you achieve your goals? If not, can you reign in the utility of your modeling? How useful is your model for interested parties (i.e., the companies or organizations that might want to use it)? How would your deploy your model for interested parties? What other data should be collected? How often would the model need to be updated, etc.?"
   ]
  },
  {
   "cell_type": "code",
   "execution_count": null,
   "metadata": {},
   "outputs": [],
   "source": []
  },
  {
   "cell_type": "code",
   "execution_count": null,
   "metadata": {},
   "outputs": [],
   "source": []
  },
  {
   "cell_type": "markdown",
   "metadata": {},
   "source": [
    "### Exceptional Work\n",
    "#### 10 pts\n",
    "You have free reign to provide additional analyses or combine analyses."
   ]
  },
  {
   "cell_type": "code",
   "execution_count": null,
   "metadata": {},
   "outputs": [],
   "source": [
    "from mpl_toolkits import mplot3d"
   ]
  },
  {
   "cell_type": "code",
   "execution_count": null,
   "metadata": {},
   "outputs": [],
   "source": [
    "%matplotlib inline\n",
    "import numpy as np\n",
    "import matplotlib.pyplot as plt"
   ]
  },
  {
   "cell_type": "code",
   "execution_count": null,
   "metadata": {},
   "outputs": [],
   "source": [
    "#1=Fist(with thumb out), \n",
    "#2=Stop(hand flat), \n",
    "#3=Point1(point with pointer finger), \n",
    "#4=Point2(point with pointer and middle fingers), \n",
    "#5=Grab(fingers curled as if to grab). \n",
    "\n",
    "#filter certain users for plotting below\n",
    "df_user6 = df[df.User == 6][df.Class == 2]\n",
    "df_user14 = df[df.User == 14][df.Class == 1]\n",
    "df_user5 = df[df.User == 5][df.Class == 4]\n",
    "df_user8 = df[df.User == 8][df.Class == 3]\n",
    "\n",
    "#One row in data table - represnts on set of data points\n",
    "df_row48977 = df[48976:48977][df.Class == 5]\n",
    "\n",
    "# feature categories\n",
    "X_features = ['X0','X1','X2','X3','X4','X5','X6','X7','X8','X9','X10']\n",
    "Y_features = ['Y0','Y1','Y2','Y3','Y4','Y5','Y6','Y7','Y8','Y9','Y10']\n",
    "Z_features = ['Z0','Z1','Z2','Z3','Z4','Z5','Z6','Z7','Z8','Z9','Z10']"
   ]
  },
  {
   "cell_type": "markdown",
   "metadata": {},
   "source": [
    "##### One record plotted in 3D show Class 5 (Grab Gestures)"
   ]
  },
  {
   "cell_type": "code",
   "execution_count": null,
   "metadata": {},
   "outputs": [],
   "source": [
    "#one set of markers\n",
    "ax = plt.axes(projection='3d')\n",
    "\n",
    "# Data for a three-dimensional line\n",
    "zline = np.linspace(0, 15, 1000)\n",
    "xline = np.sin(zline)\n",
    "yline = np.cos(zline)\n",
    "ax.plot3D(xline, yline, zline, 'gray')\n",
    "\n",
    "# Data for three-dimensional scattered points\n",
    "zdata = df_row48977[Z_features].astype(float)\n",
    "xdata = df_row48977[X_features].astype(float)\n",
    "ydata = df_row48977[Y_features].astype(float)\n",
    "ax.scatter3D(xdata, ydata, zdata);"
   ]
  },
  {
   "cell_type": "markdown",
   "metadata": {},
   "source": [
    "##### All User 6's records plotted in 3D with Posture 3 (Stop sign)"
   ]
  },
  {
   "cell_type": "code",
   "execution_count": null,
   "metadata": {},
   "outputs": [],
   "source": [
    "ax = plt.axes(projection='3d')\n",
    "\n",
    "# Data for a three-dimensional line\n",
    "zline = np.linspace(0, 15, 1000)\n",
    "xline = np.sin(zline)\n",
    "yline = np.cos(zline)\n",
    "ax.plot3D(xline, yline, zline, 'gray')\n",
    "\n",
    "# Data for three-dimensional scattered points\n",
    "zdata = df_user6[Z_features].astype(float)\n",
    "xdata = df_user6[X_features].astype(float)\n",
    "ydata = df_user6[Y_features].astype(float)\n",
    "ax.scatter3D(xdata, ydata, zdata);"
   ]
  },
  {
   "cell_type": "markdown",
   "metadata": {},
   "source": [
    "##### All User 14's records plotted in 3D with Class 1 (Fist Gesture)"
   ]
  },
  {
   "cell_type": "code",
   "execution_count": null,
   "metadata": {},
   "outputs": [],
   "source": [
    "ax = plt.axes(projection='3d')\n",
    "\n",
    "# Data for a three-dimensional line\n",
    "zline = np.linspace(0, 15, 1000)\n",
    "xline = np.sin(zline)\n",
    "yline = np.cos(zline)\n",
    "ax.plot3D(xline, yline, zline, 'gray')\n",
    "\n",
    "# Data for three-dimensional scattered points\n",
    "zdata = df_user14[Z_features].astype(float)\n",
    "xdata = df_user14[X_features].astype(float)\n",
    "ydata = df_user14[Y_features].astype(float)\n",
    "ax.scatter3D(xdata, ydata, zdata);"
   ]
  },
  {
   "cell_type": "markdown",
   "metadata": {},
   "source": [
    "##### All User 8's records plotted in 3D with Class 3 (point with pointer finger Gesture)"
   ]
  },
  {
   "cell_type": "code",
   "execution_count": null,
   "metadata": {},
   "outputs": [],
   "source": [
    "ax = plt.axes(projection='3d')\n",
    "\n",
    "# Data for a three-dimensional line\n",
    "zline = np.linspace(0, 15, 1000)\n",
    "xline = np.sin(zline)\n",
    "yline = np.cos(zline)\n",
    "ax.plot3D(xline, yline, zline, 'gray')\n",
    "\n",
    "# Data for three-dimensional scattered points\n",
    "zdata = df_user8[Z_features].astype(float)\n",
    "xdata = df_user8[X_features].astype(float)\n",
    "ydata = df_user8[Y_features].astype(float)\n",
    "ax.scatter3D(xdata, ydata, zdata);"
   ]
  },
  {
   "cell_type": "markdown",
   "metadata": {},
   "source": [
    "##### All User 5's records plotted in 3D with Class 5 (Grab Gesture)"
   ]
  },
  {
   "cell_type": "code",
   "execution_count": null,
   "metadata": {},
   "outputs": [],
   "source": [
    "ax = plt.axes(projection='3d')\n",
    "\n",
    "# Data for a three-dimensional line\n",
    "zline = np.linspace(0, 15, 1000)\n",
    "xline = np.sin(zline)\n",
    "yline = np.cos(zline)\n",
    "ax.plot3D(xline, yline, zline, 'gray')\n",
    "\n",
    "# Data for three-dimensional scattered points\n",
    "zdata = df_user5[Z_features].astype(float)\n",
    "xdata = df_user5[X_features].astype(float)\n",
    "ydata = df_user5[Y_features].astype(float)\n",
    "ax.scatter3D(xdata, ydata, zdata);"
   ]
  },
  {
   "cell_type": "markdown",
   "metadata": {},
   "source": [
    "##### All User 5's records plotted in 3D in a Wireframe show Class 2 (Stop Gesture)"
   ]
  },
  {
   "cell_type": "code",
   "execution_count": null,
   "metadata": {},
   "outputs": [],
   "source": [
    "fig = plt.figure()\n",
    "ax = plt.axes(projection='3d')\n",
    "ax.plot_wireframe(df_user6[X_features], df_user6[Y_features], df_user6[Z_features], color='black')\n",
    "ax.set_title('wireframe');\n"
   ]
  }
 ],
 "metadata": {
  "kernelspec": {
   "display_name": "Python 3",
   "language": "python",
   "name": "python3"
  },
  "language_info": {
   "codemirror_mode": {
    "name": "ipython",
    "version": 3
   },
   "file_extension": ".py",
   "mimetype": "text/x-python",
   "name": "python",
   "nbconvert_exporter": "python",
   "pygments_lexer": "ipython3",
   "version": "3.7.1"
  }
 },
 "nbformat": 4,
 "nbformat_minor": 2
}
