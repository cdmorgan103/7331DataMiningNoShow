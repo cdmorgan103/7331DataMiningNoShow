{
 "cells": [
  {
   "cell_type": "markdown",
   "metadata": {},
   "source": [
    "# Lab 3\n",
    "## Motion Capture Clustering\n",
    "\n",
    "### Team members: Luay Dajani, Dana Geislinger, Chris Morgan, Caroll Rodriguez\n",
    "##### Github - https://github.com/cdmorgan103/7331DataMiningNoShow\n",
    "\n",
    "MSDS 7331, 12/02/2018"
   ]
  },
  {
   "cell_type": "code",
   "execution_count": null,
   "metadata": {},
   "outputs": [],
   "source": []
  },
  {
   "cell_type": "markdown",
   "metadata": {},
   "source": [
    "### Business Understanding 1\n",
    "#### 10pts\n",
    "Describe the purpose of the data set you selected (i.e., why was this data collected in the first place?). How will you measure the effectiveness of a good algorithm? Why does your chosen validation method make sense for this specific\n",
    "dataset and the stakeholders needs?\n"
   ]
  },
  {
   "cell_type": "markdown",
   "metadata": {},
   "source": [
    "https://archive.ics.uci.edu/ml/datasets/Motion+Capture+Hand+Postures#"
   ]
  },
  {
   "cell_type": "markdown",
   "metadata": {
    "collapsed": true
   },
   "source": [
    "A Vicon motion capture camera system was used to record 12 users performing 5 hand postures with markers attached to a left-handed glove. \n",
    "\n",
    "A rigid pattern of markers on the back of the glove was used to establish a local coordinate system for the hand, and 11 other markers were attached to the thumb and fingers of the glove. 3 markers were attached to the thumb with one above the thumbnail and the other two on the knuckles. 2 markers were attached to each finger with one above the fingernail and the other on the joint between the proximal and middle phalanx. \n",
    "\n",
    "The 11 markers not part of the rigid pattern were unlabeled; their positions were not explicitly tracked. Consequently, there is no a priori correspondence between the markers of two given records. In addition, due to the resolution of the capture volume and self-occlusion due to the orientation and configuration of the hand and fingers, many records have missing markers. Extraneous markers were also possible due to artifacts in the Vicon software's marker reconstruction/recording process and other objects in the capture volume. As a result, the number of visible markers in a record varied considerably. \n",
    "\n",
    "The data presented here is already partially preprocessed. First, all markers were transformed to the local coordinate system of the record containing them. Second, each transformed marker with a norm greater than 200 millimeters was pruned. Finally, any record that contained fewer than 3 markers was removed. The processed data has at most 12 markers per record and at least 3. For more information, see 'Attribute Information'. \n",
    "\n",
    "Due to the manner in which data was captured, it is likely that for a given record and user there exists a near duplicate record originating from the same user. We recommend therefore to evaluate classification algorithms on a leave-one-user-out basis wherein each user is iteratively left out from training and used as a test set. One then tests the generalization of the algorithm to new users. A 'User' attribute is provided to accomodate this strategy. \n",
    "\n",
    "This dataset may be used for a variety of tasks, the most obvious of which is posture recognition via classification. One may also attempt user identification. Alternatively, one may perform clustering (constrained or unconstrained) to discover marker distributions either as an attempt to predict marker identities or obtain statistical descriptions/visualizations of the postures. "
   ]
  },
  {
   "cell_type": "markdown",
   "metadata": {},
   "source": [
    "##### Attribute Information:\n",
    "\n",
    "Data is provided as a CSV file. A header provides the name of each attribute. An initial dummy record composed entirely of 0s should be ignored. A question mark '?' is used to indicate a missing value. A record corresponds to a single instant or frame as recorded by the camera system. \n",
    "\n",
    "'Class' - Integer. The class ID of the given record. Ranges from 1 to 5 with 1=Fist(with thumb out), 2=Stop(hand flat), 3=Point1(point with pointer finger), 4=Point2(point with pointer and middle fingers), 5=Grab(fingers curled as if to grab). \n",
    "'User' - Integer. The ID of the user that contributed the record. No meaning other than as an identifier. \n",
    "'Xi' - Real. The x-coordinate of the i-th unlabeled marker position. 'i' ranges from 0 to 11. \n",
    "'Yi' - Real. The y-coordinate of the i-th unlabeled marker position. 'i' ranges from 0 to 11. \n",
    "'Zi' - Real. The z-coordinate of the i-th unlabeled marker position. 'i' ranges from 0 to 11. \n",
    "\n",
    "Each record is a set. The i-th marker of a given record does not necessarily correspond to the i-th marker of a different record. One may randomly permute the visible (i.e. not missing) markers of a given record without changing the set that the record represents. For the sake of convenience, all visible markers of a given record are given a lower index than any missing marker. A class is not guaranteed to have even a single record with all markers visible. \n"
   ]
  },
  {
   "cell_type": "markdown",
   "metadata": {},
   "source": [
    "### Data Understanding 1\n",
    "#### 10pts\n",
    "Describe the meaning and type of data (scale, values, etc.) for each attribute in the data file. Verify data quality: Are there missing values? Duplicate data? Outliers? Are those mistakes? How do you deal with these problems?"
   ]
  },
  {
   "cell_type": "code",
   "execution_count": 1,
   "metadata": {},
   "outputs": [
    {
     "name": "stdout",
     "output_type": "stream",
     "text": [
      "<class 'pandas.core.frame.DataFrame'>\n",
      "RangeIndex: 78096 entries, 0 to 78095\n",
      "Data columns (total 38 columns):\n",
      "Class    78096 non-null int64\n",
      "User     78096 non-null int64\n",
      "X0       78096 non-null float64\n",
      "Y0       78096 non-null float64\n",
      "Z0       78096 non-null float64\n",
      "X1       78096 non-null float64\n",
      "Y1       78096 non-null float64\n",
      "Z1       78096 non-null float64\n",
      "X2       78096 non-null float64\n",
      "Y2       78096 non-null float64\n",
      "Z2       78096 non-null float64\n",
      "X3       78096 non-null object\n",
      "Y3       78096 non-null object\n",
      "Z3       78096 non-null object\n",
      "X4       78096 non-null object\n",
      "Y4       78096 non-null object\n",
      "Z4       78096 non-null object\n",
      "X5       78096 non-null object\n",
      "Y5       78096 non-null object\n",
      "Z5       78096 non-null object\n",
      "X6       78096 non-null object\n",
      "Y6       78096 non-null object\n",
      "Z6       78096 non-null object\n",
      "X7       78096 non-null object\n",
      "Y7       78096 non-null object\n",
      "Z7       78096 non-null object\n",
      "X8       78096 non-null object\n",
      "Y8       78096 non-null object\n",
      "Z8       78096 non-null object\n",
      "X9       78096 non-null object\n",
      "Y9       78096 non-null object\n",
      "Z9       78096 non-null object\n",
      "X10      78096 non-null object\n",
      "Y10      78096 non-null object\n",
      "Z10      78096 non-null object\n",
      "X11      78096 non-null object\n",
      "Y11      78096 non-null object\n",
      "Z11      78096 non-null object\n",
      "dtypes: float64(9), int64(2), object(27)\n",
      "memory usage: 22.6+ MB\n"
     ]
    }
   ],
   "source": [
    "# Import required modules\n",
    "import numpy as np\n",
    "import pandas as pd\n",
    "import math as math\n",
    "import matplotlib.pyplot as plt\n",
    "from matplotlib import style\n",
    "from pprint import pprint\n",
    "#from IPython.display import display\n",
    "\n",
    "pd.set_option(\"display.max_columns\",100)\n",
    "\n",
    "# Load the data into variable 'df'\n",
    "df = pd.read_csv('https://raw.githubusercontent.com/cdmorgan103/7331DataMiningNoShow/master/LAB3/Postures.csv')\n",
    "\n",
    "# Get an overview of the raw data\n",
    "df.info(null_counts=True)"
   ]
  },
  {
   "cell_type": "code",
   "execution_count": 2,
   "metadata": {},
   "outputs": [],
   "source": [
    "# we will remove class 0 \n",
    "df = df[df.Class !=0 ]\n",
    "\n",
    "#change ? to none to improve data format\n",
    "df=df.replace({'?': 'NaN'})\n",
    "\n",
    "#coerces into numeric\n",
    "df = df.apply(pd.to_numeric, errors='coerce')"
   ]
  },
  {
   "cell_type": "code",
   "execution_count": 3,
   "metadata": {
    "scrolled": true
   },
   "outputs": [
    {
     "data": {
      "text/html": [
       "<div>\n",
       "<style scoped>\n",
       "    .dataframe tbody tr th:only-of-type {\n",
       "        vertical-align: middle;\n",
       "    }\n",
       "\n",
       "    .dataframe tbody tr th {\n",
       "        vertical-align: top;\n",
       "    }\n",
       "\n",
       "    .dataframe thead th {\n",
       "        text-align: right;\n",
       "    }\n",
       "</style>\n",
       "<table border=\"1\" class=\"dataframe\">\n",
       "  <thead>\n",
       "    <tr style=\"text-align: right;\">\n",
       "      <th></th>\n",
       "      <th>Class</th>\n",
       "      <th>User</th>\n",
       "      <th>X0</th>\n",
       "      <th>Y0</th>\n",
       "      <th>Z0</th>\n",
       "      <th>X1</th>\n",
       "      <th>Y1</th>\n",
       "      <th>Z1</th>\n",
       "      <th>X2</th>\n",
       "      <th>Y2</th>\n",
       "      <th>Z2</th>\n",
       "      <th>X3</th>\n",
       "      <th>Y3</th>\n",
       "      <th>Z3</th>\n",
       "      <th>X4</th>\n",
       "      <th>Y4</th>\n",
       "      <th>Z4</th>\n",
       "      <th>X5</th>\n",
       "      <th>Y5</th>\n",
       "      <th>Z5</th>\n",
       "      <th>X6</th>\n",
       "      <th>Y6</th>\n",
       "      <th>Z6</th>\n",
       "      <th>X7</th>\n",
       "      <th>Y7</th>\n",
       "      <th>Z7</th>\n",
       "      <th>X8</th>\n",
       "      <th>Y8</th>\n",
       "      <th>Z8</th>\n",
       "      <th>X9</th>\n",
       "      <th>Y9</th>\n",
       "      <th>Z9</th>\n",
       "      <th>X10</th>\n",
       "      <th>Y10</th>\n",
       "      <th>Z10</th>\n",
       "      <th>X11</th>\n",
       "      <th>Y11</th>\n",
       "      <th>Z11</th>\n",
       "    </tr>\n",
       "  </thead>\n",
       "  <tbody>\n",
       "    <tr>\n",
       "      <th>1</th>\n",
       "      <td>1</td>\n",
       "      <td>0</td>\n",
       "      <td>54.263880</td>\n",
       "      <td>71.466776</td>\n",
       "      <td>-64.807709</td>\n",
       "      <td>76.895635</td>\n",
       "      <td>42.462500</td>\n",
       "      <td>-72.780545</td>\n",
       "      <td>36.621229</td>\n",
       "      <td>81.680557</td>\n",
       "      <td>-52.919272</td>\n",
       "      <td>85.232264</td>\n",
       "      <td>67.749220</td>\n",
       "      <td>-73.684130</td>\n",
       "      <td>59.188576</td>\n",
       "      <td>10.678936</td>\n",
       "      <td>-71.297781</td>\n",
       "      <td>NaN</td>\n",
       "      <td>NaN</td>\n",
       "      <td>NaN</td>\n",
       "      <td>NaN</td>\n",
       "      <td>NaN</td>\n",
       "      <td>NaN</td>\n",
       "      <td>NaN</td>\n",
       "      <td>NaN</td>\n",
       "      <td>NaN</td>\n",
       "      <td>NaN</td>\n",
       "      <td>NaN</td>\n",
       "      <td>NaN</td>\n",
       "      <td>NaN</td>\n",
       "      <td>NaN</td>\n",
       "      <td>NaN</td>\n",
       "      <td>NaN</td>\n",
       "      <td>NaN</td>\n",
       "      <td>NaN</td>\n",
       "      <td>NaN</td>\n",
       "      <td>NaN</td>\n",
       "      <td>NaN</td>\n",
       "    </tr>\n",
       "    <tr>\n",
       "      <th>2</th>\n",
       "      <td>1</td>\n",
       "      <td>0</td>\n",
       "      <td>56.527558</td>\n",
       "      <td>72.266609</td>\n",
       "      <td>-61.935252</td>\n",
       "      <td>39.135978</td>\n",
       "      <td>82.538530</td>\n",
       "      <td>-49.596509</td>\n",
       "      <td>79.223743</td>\n",
       "      <td>43.254091</td>\n",
       "      <td>-69.982489</td>\n",
       "      <td>87.450873</td>\n",
       "      <td>68.400808</td>\n",
       "      <td>-70.703991</td>\n",
       "      <td>61.587452</td>\n",
       "      <td>11.779919</td>\n",
       "      <td>-68.827418</td>\n",
       "      <td>NaN</td>\n",
       "      <td>NaN</td>\n",
       "      <td>NaN</td>\n",
       "      <td>NaN</td>\n",
       "      <td>NaN</td>\n",
       "      <td>NaN</td>\n",
       "      <td>NaN</td>\n",
       "      <td>NaN</td>\n",
       "      <td>NaN</td>\n",
       "      <td>NaN</td>\n",
       "      <td>NaN</td>\n",
       "      <td>NaN</td>\n",
       "      <td>NaN</td>\n",
       "      <td>NaN</td>\n",
       "      <td>NaN</td>\n",
       "      <td>NaN</td>\n",
       "      <td>NaN</td>\n",
       "      <td>NaN</td>\n",
       "      <td>NaN</td>\n",
       "      <td>NaN</td>\n",
       "      <td>NaN</td>\n",
       "    </tr>\n",
       "    <tr>\n",
       "      <th>3</th>\n",
       "      <td>1</td>\n",
       "      <td>0</td>\n",
       "      <td>55.849928</td>\n",
       "      <td>72.469064</td>\n",
       "      <td>-62.562788</td>\n",
       "      <td>37.988804</td>\n",
       "      <td>82.631347</td>\n",
       "      <td>-50.606259</td>\n",
       "      <td>78.451526</td>\n",
       "      <td>43.567403</td>\n",
       "      <td>-70.658489</td>\n",
       "      <td>86.835388</td>\n",
       "      <td>68.907925</td>\n",
       "      <td>-71.138344</td>\n",
       "      <td>61.686427</td>\n",
       "      <td>11.793440</td>\n",
       "      <td>-68.889316</td>\n",
       "      <td>NaN</td>\n",
       "      <td>NaN</td>\n",
       "      <td>NaN</td>\n",
       "      <td>NaN</td>\n",
       "      <td>NaN</td>\n",
       "      <td>NaN</td>\n",
       "      <td>NaN</td>\n",
       "      <td>NaN</td>\n",
       "      <td>NaN</td>\n",
       "      <td>NaN</td>\n",
       "      <td>NaN</td>\n",
       "      <td>NaN</td>\n",
       "      <td>NaN</td>\n",
       "      <td>NaN</td>\n",
       "      <td>NaN</td>\n",
       "      <td>NaN</td>\n",
       "      <td>NaN</td>\n",
       "      <td>NaN</td>\n",
       "      <td>NaN</td>\n",
       "      <td>NaN</td>\n",
       "      <td>NaN</td>\n",
       "    </tr>\n",
       "    <tr>\n",
       "      <th>4</th>\n",
       "      <td>1</td>\n",
       "      <td>0</td>\n",
       "      <td>55.329647</td>\n",
       "      <td>71.707275</td>\n",
       "      <td>-63.688956</td>\n",
       "      <td>36.561863</td>\n",
       "      <td>81.868749</td>\n",
       "      <td>-52.752784</td>\n",
       "      <td>86.320630</td>\n",
       "      <td>68.214645</td>\n",
       "      <td>-72.228461</td>\n",
       "      <td>61.596157</td>\n",
       "      <td>11.250648</td>\n",
       "      <td>-68.956425</td>\n",
       "      <td>77.387225</td>\n",
       "      <td>42.717833</td>\n",
       "      <td>-72.015146</td>\n",
       "      <td>NaN</td>\n",
       "      <td>NaN</td>\n",
       "      <td>NaN</td>\n",
       "      <td>NaN</td>\n",
       "      <td>NaN</td>\n",
       "      <td>NaN</td>\n",
       "      <td>NaN</td>\n",
       "      <td>NaN</td>\n",
       "      <td>NaN</td>\n",
       "      <td>NaN</td>\n",
       "      <td>NaN</td>\n",
       "      <td>NaN</td>\n",
       "      <td>NaN</td>\n",
       "      <td>NaN</td>\n",
       "      <td>NaN</td>\n",
       "      <td>NaN</td>\n",
       "      <td>NaN</td>\n",
       "      <td>NaN</td>\n",
       "      <td>NaN</td>\n",
       "      <td>NaN</td>\n",
       "      <td>NaN</td>\n",
       "    </tr>\n",
       "    <tr>\n",
       "      <th>5</th>\n",
       "      <td>1</td>\n",
       "      <td>0</td>\n",
       "      <td>55.142401</td>\n",
       "      <td>71.435607</td>\n",
       "      <td>-64.177303</td>\n",
       "      <td>36.175818</td>\n",
       "      <td>81.556874</td>\n",
       "      <td>-53.475747</td>\n",
       "      <td>76.986143</td>\n",
       "      <td>42.426849</td>\n",
       "      <td>-72.574743</td>\n",
       "      <td>86.368748</td>\n",
       "      <td>67.901260</td>\n",
       "      <td>-72.444650</td>\n",
       "      <td>61.275402</td>\n",
       "      <td>10.841109</td>\n",
       "      <td>-69.279906</td>\n",
       "      <td>NaN</td>\n",
       "      <td>NaN</td>\n",
       "      <td>NaN</td>\n",
       "      <td>NaN</td>\n",
       "      <td>NaN</td>\n",
       "      <td>NaN</td>\n",
       "      <td>NaN</td>\n",
       "      <td>NaN</td>\n",
       "      <td>NaN</td>\n",
       "      <td>NaN</td>\n",
       "      <td>NaN</td>\n",
       "      <td>NaN</td>\n",
       "      <td>NaN</td>\n",
       "      <td>NaN</td>\n",
       "      <td>NaN</td>\n",
       "      <td>NaN</td>\n",
       "      <td>NaN</td>\n",
       "      <td>NaN</td>\n",
       "      <td>NaN</td>\n",
       "      <td>NaN</td>\n",
       "      <td>NaN</td>\n",
       "    </tr>\n",
       "  </tbody>\n",
       "</table>\n",
       "</div>"
      ],
      "text/plain": [
       "   Class  User         X0         Y0         Z0         X1         Y1  \\\n",
       "1      1     0  54.263880  71.466776 -64.807709  76.895635  42.462500   \n",
       "2      1     0  56.527558  72.266609 -61.935252  39.135978  82.538530   \n",
       "3      1     0  55.849928  72.469064 -62.562788  37.988804  82.631347   \n",
       "4      1     0  55.329647  71.707275 -63.688956  36.561863  81.868749   \n",
       "5      1     0  55.142401  71.435607 -64.177303  36.175818  81.556874   \n",
       "\n",
       "          Z1         X2         Y2         Z2         X3         Y3  \\\n",
       "1 -72.780545  36.621229  81.680557 -52.919272  85.232264  67.749220   \n",
       "2 -49.596509  79.223743  43.254091 -69.982489  87.450873  68.400808   \n",
       "3 -50.606259  78.451526  43.567403 -70.658489  86.835388  68.907925   \n",
       "4 -52.752784  86.320630  68.214645 -72.228461  61.596157  11.250648   \n",
       "5 -53.475747  76.986143  42.426849 -72.574743  86.368748  67.901260   \n",
       "\n",
       "          Z3         X4         Y4         Z4  X5  Y5  Z5  X6  Y6  Z6  X7  Y7  \\\n",
       "1 -73.684130  59.188576  10.678936 -71.297781 NaN NaN NaN NaN NaN NaN NaN NaN   \n",
       "2 -70.703991  61.587452  11.779919 -68.827418 NaN NaN NaN NaN NaN NaN NaN NaN   \n",
       "3 -71.138344  61.686427  11.793440 -68.889316 NaN NaN NaN NaN NaN NaN NaN NaN   \n",
       "4 -68.956425  77.387225  42.717833 -72.015146 NaN NaN NaN NaN NaN NaN NaN NaN   \n",
       "5 -72.444650  61.275402  10.841109 -69.279906 NaN NaN NaN NaN NaN NaN NaN NaN   \n",
       "\n",
       "   Z7  X8  Y8  Z8  X9  Y9  Z9  X10  Y10  Z10  X11  Y11  Z11  \n",
       "1 NaN NaN NaN NaN NaN NaN NaN  NaN  NaN  NaN  NaN  NaN  NaN  \n",
       "2 NaN NaN NaN NaN NaN NaN NaN  NaN  NaN  NaN  NaN  NaN  NaN  \n",
       "3 NaN NaN NaN NaN NaN NaN NaN  NaN  NaN  NaN  NaN  NaN  NaN  \n",
       "4 NaN NaN NaN NaN NaN NaN NaN  NaN  NaN  NaN  NaN  NaN  NaN  \n",
       "5 NaN NaN NaN NaN NaN NaN NaN  NaN  NaN  NaN  NaN  NaN  NaN  "
      ]
     },
     "execution_count": 3,
     "metadata": {},
     "output_type": "execute_result"
    }
   ],
   "source": [
    "df.head()"
   ]
  },
  {
   "cell_type": "code",
   "execution_count": 4,
   "metadata": {
    "scrolled": false
   },
   "outputs": [
    {
     "name": "stdout",
     "output_type": "stream",
     "text": [
      "<class 'pandas.core.frame.DataFrame'>\n",
      "Int64Index: 78095 entries, 1 to 78095\n",
      "Data columns (total 38 columns):\n",
      "Class    78095 non-null int64\n",
      "User     78095 non-null int64\n",
      "X0       78095 non-null float64\n",
      "Y0       78095 non-null float64\n",
      "Z0       78095 non-null float64\n",
      "X1       78095 non-null float64\n",
      "Y1       78095 non-null float64\n",
      "Z1       78095 non-null float64\n",
      "X2       78095 non-null float64\n",
      "Y2       78095 non-null float64\n",
      "Z2       78095 non-null float64\n",
      "X3       77405 non-null float64\n",
      "Y3       77405 non-null float64\n",
      "Z3       77405 non-null float64\n",
      "X4       74975 non-null float64\n",
      "Y4       74975 non-null float64\n",
      "Z4       74975 non-null float64\n",
      "X5       65072 non-null float64\n",
      "Y5       65072 non-null float64\n",
      "Z5       65072 non-null float64\n",
      "X6       52247 non-null float64\n",
      "Y6       52247 non-null float64\n",
      "Z6       52247 non-null float64\n",
      "X7       38943 non-null float64\n",
      "Y7       38943 non-null float64\n",
      "Z7       38943 non-null float64\n",
      "X8       30563 non-null float64\n",
      "Y8       30563 non-null float64\n",
      "Z8       30563 non-null float64\n",
      "X9       23967 non-null float64\n",
      "Y9       23967 non-null float64\n",
      "Z9       23967 non-null float64\n",
      "X10      14752 non-null float64\n",
      "Y10      14752 non-null float64\n",
      "Z10      14752 non-null float64\n",
      "X11      31 non-null float64\n",
      "Y11      31 non-null float64\n",
      "Z11      31 non-null float64\n",
      "dtypes: float64(36), int64(2)\n",
      "memory usage: 23.2 MB\n"
     ]
    }
   ],
   "source": [
    "# Get an overview of the raw data\n",
    "df.info(null_counts=True)"
   ]
  },
  {
   "cell_type": "markdown",
   "metadata": {},
   "source": [
    "Only 31 data points appear for the 11th sensor, and are for one user. We will delete this as a feature as it does not provide any value."
   ]
  },
  {
   "cell_type": "code",
   "execution_count": 5,
   "metadata": {},
   "outputs": [],
   "source": [
    "del df['X11']\n",
    "del df['Y11']\n",
    "del df['Z11']"
   ]
  },
  {
   "cell_type": "code",
   "execution_count": 6,
   "metadata": {},
   "outputs": [],
   "source": [
    "df_orig = df.copy()"
   ]
  },
  {
   "cell_type": "markdown",
   "metadata": {},
   "source": [
    "### Data centering\n",
    "this section searches for minimum x,y,z coordinate values and zeroes them and adjusts each coordinate accordingly to reduce variation relative to starting hand position"
   ]
  },
  {
   "cell_type": "code",
   "execution_count": 7,
   "metadata": {},
   "outputs": [],
   "source": [
    "#creates new sub dataframes for x y and z coordinates\n",
    "dfx=df[['X0','X1','X2','X3','X4','X5','X6','X7','X8','X9','X10']].copy()\n",
    "dfy=df[['Y0','Y1','Y2','Y3','Y4','Y5','Y6','Y7','Y8','Y9','Y10']].copy()\n",
    "dfz=df[['Z0','Z1','Z2','Z3','Z4','Z5','Z6','Z7','Z8','Z9','Z10']].copy()"
   ]
  },
  {
   "cell_type": "code",
   "execution_count": 8,
   "metadata": {},
   "outputs": [],
   "source": [
    "#calculates min value\n",
    "dfx['xmin']=dfx.min(axis=1)\n",
    "dfy['ymin']=dfy.min(axis=1)\n",
    "dfz['zmin']=dfz.min(axis=1)"
   ]
  },
  {
   "cell_type": "code",
   "execution_count": 9,
   "metadata": {},
   "outputs": [],
   "source": [
    "###takes minimum and subtracts form all\n",
    "for a in range(11): \n",
    "    dfx['X%d' % a] = dfx['X%d' % a] - dfx['xmin']\n",
    "    \n",
    "for b in range(11): \n",
    "    dfy['Y%d' % b] = dfy['Y%d' % b] - dfy['ymin']\n",
    "    \n",
    "for c in range(11): \n",
    "    dfz['Z%d' % c] = dfz['Z%d' % c] - dfz['zmin']    "
   ]
  },
  {
   "cell_type": "code",
   "execution_count": 10,
   "metadata": {},
   "outputs": [],
   "source": [
    "#remove the calculated min values for merging\n",
    "del dfx['xmin']\n",
    "del dfy['ymin']\n",
    "del dfz['zmin']"
   ]
  },
  {
   "cell_type": "code",
   "execution_count": 11,
   "metadata": {},
   "outputs": [],
   "source": [
    "#create mini dataframe and then concatenate the transformed dataframes\n",
    "dfmini = df.iloc[:,0:2].copy()\n",
    "dfnew= pd.concat([dfmini,dfx, dfy,dfz], axis=1)"
   ]
  },
  {
   "cell_type": "code",
   "execution_count": 12,
   "metadata": {},
   "outputs": [],
   "source": [
    "#reorder the columns\n",
    "dfnew = dfnew[['Class','User', 'X0','Y0','Z0','X1','Y1','Z1','X2','Y2','Z2','X3','Y3','Z3','X4','Y4','Z4','X5','Y5','Z5',\n",
    "               'X6','Y6','Z6','X7','Y7','Z7','X8','Y8','Z8','X9','Y9','Z9','X10','Y10','Z10']]"
   ]
  },
  {
   "cell_type": "code",
   "execution_count": 13,
   "metadata": {},
   "outputs": [],
   "source": [
    "df=dfnew"
   ]
  },
  {
   "cell_type": "code",
   "execution_count": 14,
   "metadata": {
    "scrolled": true
   },
   "outputs": [
    {
     "data": {
      "text/html": [
       "<div>\n",
       "<style scoped>\n",
       "    .dataframe tbody tr th:only-of-type {\n",
       "        vertical-align: middle;\n",
       "    }\n",
       "\n",
       "    .dataframe tbody tr th {\n",
       "        vertical-align: top;\n",
       "    }\n",
       "\n",
       "    .dataframe thead th {\n",
       "        text-align: right;\n",
       "    }\n",
       "</style>\n",
       "<table border=\"1\" class=\"dataframe\">\n",
       "  <thead>\n",
       "    <tr style=\"text-align: right;\">\n",
       "      <th></th>\n",
       "      <th>Class</th>\n",
       "      <th>User</th>\n",
       "      <th>X0</th>\n",
       "      <th>Y0</th>\n",
       "      <th>Z0</th>\n",
       "      <th>X1</th>\n",
       "      <th>Y1</th>\n",
       "      <th>Z1</th>\n",
       "      <th>X2</th>\n",
       "      <th>Y2</th>\n",
       "      <th>Z2</th>\n",
       "      <th>X3</th>\n",
       "      <th>Y3</th>\n",
       "      <th>Z3</th>\n",
       "      <th>X4</th>\n",
       "      <th>Y4</th>\n",
       "      <th>Z4</th>\n",
       "      <th>X5</th>\n",
       "      <th>Y5</th>\n",
       "      <th>Z5</th>\n",
       "      <th>X6</th>\n",
       "      <th>Y6</th>\n",
       "      <th>Z6</th>\n",
       "      <th>X7</th>\n",
       "      <th>Y7</th>\n",
       "      <th>Z7</th>\n",
       "      <th>X8</th>\n",
       "      <th>Y8</th>\n",
       "      <th>Z8</th>\n",
       "      <th>X9</th>\n",
       "      <th>Y9</th>\n",
       "      <th>Z9</th>\n",
       "      <th>X10</th>\n",
       "      <th>Y10</th>\n",
       "      <th>Z10</th>\n",
       "    </tr>\n",
       "  </thead>\n",
       "  <tbody>\n",
       "    <tr>\n",
       "      <th>1</th>\n",
       "      <td>1</td>\n",
       "      <td>0</td>\n",
       "      <td>17.642651</td>\n",
       "      <td>60.787840</td>\n",
       "      <td>8.876421</td>\n",
       "      <td>40.274406</td>\n",
       "      <td>31.783563</td>\n",
       "      <td>0.903585</td>\n",
       "      <td>0.000000</td>\n",
       "      <td>71.001621</td>\n",
       "      <td>20.764858</td>\n",
       "      <td>48.611035</td>\n",
       "      <td>57.070283</td>\n",
       "      <td>0.000000</td>\n",
       "      <td>22.567347</td>\n",
       "      <td>0.000000</td>\n",
       "      <td>2.386349</td>\n",
       "      <td>NaN</td>\n",
       "      <td>NaN</td>\n",
       "      <td>NaN</td>\n",
       "      <td>NaN</td>\n",
       "      <td>NaN</td>\n",
       "      <td>NaN</td>\n",
       "      <td>NaN</td>\n",
       "      <td>NaN</td>\n",
       "      <td>NaN</td>\n",
       "      <td>NaN</td>\n",
       "      <td>NaN</td>\n",
       "      <td>NaN</td>\n",
       "      <td>NaN</td>\n",
       "      <td>NaN</td>\n",
       "      <td>NaN</td>\n",
       "      <td>NaN</td>\n",
       "      <td>NaN</td>\n",
       "      <td>NaN</td>\n",
       "    </tr>\n",
       "    <tr>\n",
       "      <th>2</th>\n",
       "      <td>1</td>\n",
       "      <td>0</td>\n",
       "      <td>17.391580</td>\n",
       "      <td>60.486690</td>\n",
       "      <td>8.768739</td>\n",
       "      <td>0.000000</td>\n",
       "      <td>70.758611</td>\n",
       "      <td>21.107482</td>\n",
       "      <td>40.087765</td>\n",
       "      <td>31.474172</td>\n",
       "      <td>0.721502</td>\n",
       "      <td>48.314895</td>\n",
       "      <td>56.620889</td>\n",
       "      <td>0.000000</td>\n",
       "      <td>22.451473</td>\n",
       "      <td>0.000000</td>\n",
       "      <td>1.876573</td>\n",
       "      <td>NaN</td>\n",
       "      <td>NaN</td>\n",
       "      <td>NaN</td>\n",
       "      <td>NaN</td>\n",
       "      <td>NaN</td>\n",
       "      <td>NaN</td>\n",
       "      <td>NaN</td>\n",
       "      <td>NaN</td>\n",
       "      <td>NaN</td>\n",
       "      <td>NaN</td>\n",
       "      <td>NaN</td>\n",
       "      <td>NaN</td>\n",
       "      <td>NaN</td>\n",
       "      <td>NaN</td>\n",
       "      <td>NaN</td>\n",
       "      <td>NaN</td>\n",
       "      <td>NaN</td>\n",
       "      <td>NaN</td>\n",
       "    </tr>\n",
       "    <tr>\n",
       "      <th>3</th>\n",
       "      <td>1</td>\n",
       "      <td>0</td>\n",
       "      <td>17.861124</td>\n",
       "      <td>60.675624</td>\n",
       "      <td>8.575556</td>\n",
       "      <td>0.000000</td>\n",
       "      <td>70.837907</td>\n",
       "      <td>20.532085</td>\n",
       "      <td>40.462722</td>\n",
       "      <td>31.773963</td>\n",
       "      <td>0.479855</td>\n",
       "      <td>48.846584</td>\n",
       "      <td>57.114485</td>\n",
       "      <td>0.000000</td>\n",
       "      <td>23.697623</td>\n",
       "      <td>0.000000</td>\n",
       "      <td>2.249028</td>\n",
       "      <td>NaN</td>\n",
       "      <td>NaN</td>\n",
       "      <td>NaN</td>\n",
       "      <td>NaN</td>\n",
       "      <td>NaN</td>\n",
       "      <td>NaN</td>\n",
       "      <td>NaN</td>\n",
       "      <td>NaN</td>\n",
       "      <td>NaN</td>\n",
       "      <td>NaN</td>\n",
       "      <td>NaN</td>\n",
       "      <td>NaN</td>\n",
       "      <td>NaN</td>\n",
       "      <td>NaN</td>\n",
       "      <td>NaN</td>\n",
       "      <td>NaN</td>\n",
       "      <td>NaN</td>\n",
       "      <td>NaN</td>\n",
       "    </tr>\n",
       "    <tr>\n",
       "      <th>4</th>\n",
       "      <td>1</td>\n",
       "      <td>0</td>\n",
       "      <td>18.767785</td>\n",
       "      <td>60.456627</td>\n",
       "      <td>8.539505</td>\n",
       "      <td>0.000000</td>\n",
       "      <td>70.618101</td>\n",
       "      <td>19.475677</td>\n",
       "      <td>49.758767</td>\n",
       "      <td>56.963997</td>\n",
       "      <td>0.000000</td>\n",
       "      <td>25.034295</td>\n",
       "      <td>0.000000</td>\n",
       "      <td>3.272036</td>\n",
       "      <td>40.825363</td>\n",
       "      <td>31.467185</td>\n",
       "      <td>0.213315</td>\n",
       "      <td>NaN</td>\n",
       "      <td>NaN</td>\n",
       "      <td>NaN</td>\n",
       "      <td>NaN</td>\n",
       "      <td>NaN</td>\n",
       "      <td>NaN</td>\n",
       "      <td>NaN</td>\n",
       "      <td>NaN</td>\n",
       "      <td>NaN</td>\n",
       "      <td>NaN</td>\n",
       "      <td>NaN</td>\n",
       "      <td>NaN</td>\n",
       "      <td>NaN</td>\n",
       "      <td>NaN</td>\n",
       "      <td>NaN</td>\n",
       "      <td>NaN</td>\n",
       "      <td>NaN</td>\n",
       "      <td>NaN</td>\n",
       "    </tr>\n",
       "    <tr>\n",
       "      <th>5</th>\n",
       "      <td>1</td>\n",
       "      <td>0</td>\n",
       "      <td>18.966583</td>\n",
       "      <td>60.594498</td>\n",
       "      <td>8.397440</td>\n",
       "      <td>0.000000</td>\n",
       "      <td>70.715764</td>\n",
       "      <td>19.098996</td>\n",
       "      <td>40.810326</td>\n",
       "      <td>31.585739</td>\n",
       "      <td>0.000000</td>\n",
       "      <td>50.192930</td>\n",
       "      <td>57.060151</td>\n",
       "      <td>0.130093</td>\n",
       "      <td>25.099584</td>\n",
       "      <td>0.000000</td>\n",
       "      <td>3.294837</td>\n",
       "      <td>NaN</td>\n",
       "      <td>NaN</td>\n",
       "      <td>NaN</td>\n",
       "      <td>NaN</td>\n",
       "      <td>NaN</td>\n",
       "      <td>NaN</td>\n",
       "      <td>NaN</td>\n",
       "      <td>NaN</td>\n",
       "      <td>NaN</td>\n",
       "      <td>NaN</td>\n",
       "      <td>NaN</td>\n",
       "      <td>NaN</td>\n",
       "      <td>NaN</td>\n",
       "      <td>NaN</td>\n",
       "      <td>NaN</td>\n",
       "      <td>NaN</td>\n",
       "      <td>NaN</td>\n",
       "      <td>NaN</td>\n",
       "    </tr>\n",
       "  </tbody>\n",
       "</table>\n",
       "</div>"
      ],
      "text/plain": [
       "   Class  User         X0         Y0        Z0         X1         Y1  \\\n",
       "1      1     0  17.642651  60.787840  8.876421  40.274406  31.783563   \n",
       "2      1     0  17.391580  60.486690  8.768739   0.000000  70.758611   \n",
       "3      1     0  17.861124  60.675624  8.575556   0.000000  70.837907   \n",
       "4      1     0  18.767785  60.456627  8.539505   0.000000  70.618101   \n",
       "5      1     0  18.966583  60.594498  8.397440   0.000000  70.715764   \n",
       "\n",
       "          Z1         X2         Y2         Z2         X3         Y3        Z3  \\\n",
       "1   0.903585   0.000000  71.001621  20.764858  48.611035  57.070283  0.000000   \n",
       "2  21.107482  40.087765  31.474172   0.721502  48.314895  56.620889  0.000000   \n",
       "3  20.532085  40.462722  31.773963   0.479855  48.846584  57.114485  0.000000   \n",
       "4  19.475677  49.758767  56.963997   0.000000  25.034295   0.000000  3.272036   \n",
       "5  19.098996  40.810326  31.585739   0.000000  50.192930  57.060151  0.130093   \n",
       "\n",
       "          X4         Y4        Z4  X5  Y5  Z5  X6  Y6  Z6  X7  Y7  Z7  X8  Y8  \\\n",
       "1  22.567347   0.000000  2.386349 NaN NaN NaN NaN NaN NaN NaN NaN NaN NaN NaN   \n",
       "2  22.451473   0.000000  1.876573 NaN NaN NaN NaN NaN NaN NaN NaN NaN NaN NaN   \n",
       "3  23.697623   0.000000  2.249028 NaN NaN NaN NaN NaN NaN NaN NaN NaN NaN NaN   \n",
       "4  40.825363  31.467185  0.213315 NaN NaN NaN NaN NaN NaN NaN NaN NaN NaN NaN   \n",
       "5  25.099584   0.000000  3.294837 NaN NaN NaN NaN NaN NaN NaN NaN NaN NaN NaN   \n",
       "\n",
       "   Z8  X9  Y9  Z9  X10  Y10  Z10  \n",
       "1 NaN NaN NaN NaN  NaN  NaN  NaN  \n",
       "2 NaN NaN NaN NaN  NaN  NaN  NaN  \n",
       "3 NaN NaN NaN NaN  NaN  NaN  NaN  \n",
       "4 NaN NaN NaN NaN  NaN  NaN  NaN  \n",
       "5 NaN NaN NaN NaN  NaN  NaN  NaN  "
      ]
     },
     "execution_count": 14,
     "metadata": {},
     "output_type": "execute_result"
    }
   ],
   "source": [
    "df.head()"
   ]
  },
  {
   "cell_type": "code",
   "execution_count": null,
   "metadata": {},
   "outputs": [],
   "source": []
  },
  {
   "cell_type": "markdown",
   "metadata": {},
   "source": [
    "#### Reformatting the Data for Sensor Clustering"
   ]
  },
  {
   "cell_type": "markdown",
   "metadata": {},
   "source": [
    "The raw data for this dataset is formatted with each capture being treated as a separate observation. This makes sense if you are classifying the gesture or user, but we are trying to cluster in order to identify which sensor on the glove corresponds to a specific set of coordinates. Therefore, we must stack the data in order to get a new dataset where each observation has only a single X, Y, and Z coordinate, and corresponds to the specific position of an individual sensor module in any given capture. \n",
    "\n",
    "The original dataset consists of 78,095 captures with coordinates on up to 11 sensors in any given capture, as well as metadata pertaining to the capture about the user and class the capture was representative of. We will retain this metadata, and also create a new variable that corresponds to the sensor number (0 through 10). However, each coordinate will now be labelled as the raw coordinate number on each cartesian axis (X, Y, Z) regardless of sensor number (as opposed to X0, Y10, Z5, etc. as was the case originally).\n",
    "\n",
    "At this point, we will now also drop missing datapoints; NaN values in this dataset represent sensors that were obscured or not recorded for some other reason during a capture, and since we are interested in clustering by sensor, it does not further the analysis to include sensor coordinates for which no data was recorded."
   ]
  },
  {
   "cell_type": "code",
   "execution_count": 15,
   "metadata": {},
   "outputs": [],
   "source": [
    "# Create a list of dataframes with X, Y, Z coordinates selected for each individual sensor (0-10)\n",
    "df_coords = [df.loc[:, ['Class', 'User', 'X%d' % i, 'Y%d' %i, 'Z%d' % i]] for i in range(11)]\n",
    "\n",
    "for i in range(len(df_coords)):\n",
    "    # NaN values are dropped at this time\n",
    "    df_coords[i] = df_coords[i].dropna()\n",
    "    \n",
    "    # Coordinate variable labels will now be standardized\n",
    "    df_coords[i].columns = ['Class', 'User', 'X', 'Y', 'Z']\n",
    "    \n",
    "    # Sensor number will now be added as a variable 'sensor' to each dataset\n",
    "    df_coords[i]['Sensor'] = i\n",
    "    \n",
    "# Combine datasets into new dataframe: df2\n",
    "df2 = pd.concat(df_coords, ignore_index=True)\n",
    "\n",
    "# Reorder columns with metadata columns first\n",
    "df2 = df2[['Class', 'User', 'Sensor', 'X', 'Y', 'Z']]"
   ]
  },
  {
   "cell_type": "markdown",
   "metadata": {},
   "source": [
    "With the newly formatted dataset, we now have 612,209 distinct cartesian coordinates with corresponding Sensor, Class, and User metadata."
   ]
  },
  {
   "cell_type": "code",
   "execution_count": 16,
   "metadata": {},
   "outputs": [
    {
     "name": "stdout",
     "output_type": "stream",
     "text": [
      "<class 'pandas.core.frame.DataFrame'>\n",
      "RangeIndex: 612209 entries, 0 to 612208\n",
      "Data columns (total 6 columns):\n",
      "Class     612209 non-null int64\n",
      "User      612209 non-null int64\n",
      "Sensor    612209 non-null int64\n",
      "X         612209 non-null float64\n",
      "Y         612209 non-null float64\n",
      "Z         612209 non-null float64\n",
      "dtypes: float64(3), int64(3)\n",
      "memory usage: 28.0 MB\n"
     ]
    }
   ],
   "source": [
    "df2.info()"
   ]
  },
  {
   "cell_type": "markdown",
   "metadata": {},
   "source": [
    "### Data Understanding 2\n",
    "#### 10pts\n",
    "Visualize the any important attributes appropriately. Important: Provide an interpretation for any charts or graphs."
   ]
  },
  {
   "cell_type": "markdown",
   "metadata": {},
   "source": [
    "##### Number of Datapoints per User by Class (Hand Gesture)"
   ]
  },
  {
   "cell_type": "code",
   "execution_count": 17,
   "metadata": {},
   "outputs": [
    {
     "name": "stdout",
     "output_type": "stream",
     "text": [
      "Class: [1, 2, 3, 4, 5]\n",
      "User: [0, 1, 2, 4, 5, 6, 7, 8, 9, 10, 11, 12, 13, 14]\n"
     ]
    },
    {
     "data": {
      "text/plain": [
       "Class  User\n",
       "1      0         8998\n",
       "       1         6369\n",
       "       2         5987\n",
       "       4          114\n",
       "       5         4604\n",
       "       6         5016\n",
       "       7          432\n",
       "       8         6450\n",
       "       9         4560\n",
       "       10       15045\n",
       "       11        9581\n",
       "       12        4183\n",
       "       13       11882\n",
       "       14        7394\n",
       "2      0        16425\n",
       "       1         8184\n",
       "       2         8876\n",
       "       4          597\n",
       "       5        10841\n",
       "       6        10582\n",
       "       7         1016\n",
       "       8        15242\n",
       "       9         9201\n",
       "       10       16291\n",
       "       11       14372\n",
       "       12       10322\n",
       "       13       16177\n",
       "       14       19672\n",
       "3      0         9782\n",
       "       1         5391\n",
       "                ...  \n",
       "       12        6240\n",
       "       13        7797\n",
       "       14       15857\n",
       "4      0        11786\n",
       "       1         4754\n",
       "       2         4738\n",
       "       4          965\n",
       "       5         8204\n",
       "       6         6168\n",
       "       7         1033\n",
       "       8         8603\n",
       "       9         7495\n",
       "       10       13461\n",
       "       11       14000\n",
       "       12        7491\n",
       "       13       12521\n",
       "       14        8374\n",
       "5      0        20274\n",
       "       1        10733\n",
       "       2        10806\n",
       "       5        11819\n",
       "       6        11702\n",
       "       8        12984\n",
       "       9         8305\n",
       "       10       16000\n",
       "       11       16734\n",
       "       12        8205\n",
       "       13       15177\n",
       "       14        9924\n",
       "total          612209\n",
       "Name: User, Length: 69, dtype: int64"
      ]
     },
     "execution_count": 17,
     "metadata": {},
     "output_type": "execute_result"
    }
   ],
   "source": [
    "import pandas as pd\n",
    "# Print descriptive info for the unique values for each predictor\n",
    "\n",
    "#1=Fist(with thumb out), \n",
    "#2=Stop(hand flat), \n",
    "#3=Point1(point with pointer finger), \n",
    "#4=Point2(point with pointer and middle fingers), \n",
    "#5=Grab(fingers curled as if to grab). \n",
    "\n",
    "print('Class:', list(df2.Class.unique()))\n",
    "print('User:', list(df2.User.unique()))\n",
    "#df_User = df.groupby(['User','Class'])['Class'].count() \n",
    "df_Class = df2.groupby(['Class', 'User'])['User'].count()\n",
    "\n",
    "df_Class['total'] = sum(df_Class) #df_User \n",
    "\n",
    "df_Class"
   ]
  },
  {
   "cell_type": "code",
   "execution_count": 18,
   "metadata": {},
   "outputs": [
    {
     "data": {
      "image/png": "[encoded data removed]",
      "text/plain": [
       "<Figure size 1280x400 with 1 Axes>"
      ]
     },
     "metadata": {
      "needs_background": "light"
     },
     "output_type": "display_data"
    }
   ],
   "source": [
    "del df_Class['total']\n",
    "#plot and format bar chart\n",
    "plt.figure(figsize=(16,5), dpi=80)\n",
    "_ = df_Class.plot(kind='bar')\n",
    "#plt.barh(df_neighborhood, width=0.4, height=0.4, align='center', alpha=0.4)"
   ]
  },
  {
   "cell_type": "markdown",
   "metadata": {},
   "source": [
    "### Percentage of datapoints for each User by Class (Hand Gesture)"
   ]
  },
  {
   "cell_type": "code",
   "execution_count": 19,
   "metadata": {},
   "outputs": [
    {
     "data": {
      "text/html": [
       "<div>\n",
       "<style scoped>\n",
       "    .dataframe tbody tr th:only-of-type {\n",
       "        vertical-align: middle;\n",
       "    }\n",
       "\n",
       "    .dataframe tbody tr th {\n",
       "        vertical-align: top;\n",
       "    }\n",
       "\n",
       "    .dataframe thead th {\n",
       "        text-align: right;\n",
       "    }\n",
       "</style>\n",
       "<table border=\"1\" class=\"dataframe\">\n",
       "  <thead>\n",
       "    <tr style=\"text-align: right;\">\n",
       "      <th></th>\n",
       "      <th></th>\n",
       "      <th>Percentage</th>\n",
       "    </tr>\n",
       "    <tr>\n",
       "      <th>Class</th>\n",
       "      <th>User</th>\n",
       "      <th></th>\n",
       "    </tr>\n",
       "  </thead>\n",
       "  <tbody>\n",
       "    <tr>\n",
       "      <th rowspan=\"14\" valign=\"top\">1</th>\n",
       "      <th>0</th>\n",
       "      <td>9.929923</td>\n",
       "    </tr>\n",
       "    <tr>\n",
       "      <th>1</th>\n",
       "      <td>7.028638</td>\n",
       "    </tr>\n",
       "    <tr>\n",
       "      <th>2</th>\n",
       "      <td>6.607074</td>\n",
       "    </tr>\n",
       "    <tr>\n",
       "      <th>4</th>\n",
       "      <td>0.125807</td>\n",
       "    </tr>\n",
       "    <tr>\n",
       "      <th>5</th>\n",
       "      <td>5.080837</td>\n",
       "    </tr>\n",
       "    <tr>\n",
       "      <th>6</th>\n",
       "      <td>5.535507</td>\n",
       "    </tr>\n",
       "    <tr>\n",
       "      <th>7</th>\n",
       "      <td>0.476742</td>\n",
       "    </tr>\n",
       "    <tr>\n",
       "      <th>8</th>\n",
       "      <td>7.118027</td>\n",
       "    </tr>\n",
       "    <tr>\n",
       "      <th>9</th>\n",
       "      <td>5.032279</td>\n",
       "    </tr>\n",
       "    <tr>\n",
       "      <th>10</th>\n",
       "      <td>16.603211</td>\n",
       "    </tr>\n",
       "    <tr>\n",
       "      <th>11</th>\n",
       "      <td>10.573305</td>\n",
       "    </tr>\n",
       "    <tr>\n",
       "      <th>12</th>\n",
       "      <td>4.616234</td>\n",
       "    </tr>\n",
       "    <tr>\n",
       "      <th>13</th>\n",
       "      <td>13.112619</td>\n",
       "    </tr>\n",
       "    <tr>\n",
       "      <th>14</th>\n",
       "      <td>8.159797</td>\n",
       "    </tr>\n",
       "    <tr>\n",
       "      <th rowspan=\"14\" valign=\"top\">2</th>\n",
       "      <th>0</th>\n",
       "      <td>10.408877</td>\n",
       "    </tr>\n",
       "    <tr>\n",
       "      <th>1</th>\n",
       "      <td>5.186378</td>\n",
       "    </tr>\n",
       "    <tr>\n",
       "      <th>2</th>\n",
       "      <td>5.624913</td>\n",
       "    </tr>\n",
       "    <tr>\n",
       "      <th>4</th>\n",
       "      <td>0.378332</td>\n",
       "    </tr>\n",
       "    <tr>\n",
       "      <th>5</th>\n",
       "      <td>6.870176</td>\n",
       "    </tr>\n",
       "    <tr>\n",
       "      <th>6</th>\n",
       "      <td>6.706042</td>\n",
       "    </tr>\n",
       "    <tr>\n",
       "      <th>7</th>\n",
       "      <td>0.643861</td>\n",
       "    </tr>\n",
       "    <tr>\n",
       "      <th>8</th>\n",
       "      <td>9.659185</td>\n",
       "    </tr>\n",
       "    <tr>\n",
       "      <th>9</th>\n",
       "      <td>5.830872</td>\n",
       "    </tr>\n",
       "    <tr>\n",
       "      <th>10</th>\n",
       "      <td>10.323958</td>\n",
       "    </tr>\n",
       "    <tr>\n",
       "      <th>11</th>\n",
       "      <td>9.107847</td>\n",
       "    </tr>\n",
       "    <tr>\n",
       "      <th>12</th>\n",
       "      <td>6.541274</td>\n",
       "    </tr>\n",
       "    <tr>\n",
       "      <th>13</th>\n",
       "      <td>10.251714</td>\n",
       "    </tr>\n",
       "    <tr>\n",
       "      <th>14</th>\n",
       "      <td>12.466571</td>\n",
       "    </tr>\n",
       "    <tr>\n",
       "      <th rowspan=\"7\" valign=\"top\">3</th>\n",
       "      <th>0</th>\n",
       "      <td>9.633642</td>\n",
       "    </tr>\n",
       "    <tr>\n",
       "      <th>1</th>\n",
       "      <td>5.309238</td>\n",
       "    </tr>\n",
       "    <tr>\n",
       "      <th>...</th>\n",
       "      <td>...</td>\n",
       "    </tr>\n",
       "    <tr>\n",
       "      <th>11</th>\n",
       "      <td>9.407130</td>\n",
       "    </tr>\n",
       "    <tr>\n",
       "      <th>12</th>\n",
       "      <td>6.145361</td>\n",
       "    </tr>\n",
       "    <tr>\n",
       "      <th>13</th>\n",
       "      <td>7.678747</td>\n",
       "    </tr>\n",
       "    <tr>\n",
       "      <th>14</th>\n",
       "      <td>15.616506</td>\n",
       "    </tr>\n",
       "    <tr>\n",
       "      <th rowspan=\"14\" valign=\"top\">4</th>\n",
       "      <th>0</th>\n",
       "      <td>10.754336</td>\n",
       "    </tr>\n",
       "    <tr>\n",
       "      <th>1</th>\n",
       "      <td>4.337868</td>\n",
       "    </tr>\n",
       "    <tr>\n",
       "      <th>2</th>\n",
       "      <td>4.323269</td>\n",
       "    </tr>\n",
       "    <tr>\n",
       "      <th>4</th>\n",
       "      <td>0.880531</td>\n",
       "    </tr>\n",
       "    <tr>\n",
       "      <th>5</th>\n",
       "      <td>7.485880</td>\n",
       "    </tr>\n",
       "    <tr>\n",
       "      <th>6</th>\n",
       "      <td>5.628097</td>\n",
       "    </tr>\n",
       "    <tr>\n",
       "      <th>7</th>\n",
       "      <td>0.942578</td>\n",
       "    </tr>\n",
       "    <tr>\n",
       "      <th>8</th>\n",
       "      <td>7.849954</td>\n",
       "    </tr>\n",
       "    <tr>\n",
       "      <th>9</th>\n",
       "      <td>6.838940</td>\n",
       "    </tr>\n",
       "    <tr>\n",
       "      <th>10</th>\n",
       "      <td>12.282719</td>\n",
       "    </tr>\n",
       "    <tr>\n",
       "      <th>11</th>\n",
       "      <td>12.774539</td>\n",
       "    </tr>\n",
       "    <tr>\n",
       "      <th>12</th>\n",
       "      <td>6.835291</td>\n",
       "    </tr>\n",
       "    <tr>\n",
       "      <th>13</th>\n",
       "      <td>11.425000</td>\n",
       "    </tr>\n",
       "    <tr>\n",
       "      <th>14</th>\n",
       "      <td>7.640999</td>\n",
       "    </tr>\n",
       "    <tr>\n",
       "      <th rowspan=\"12\" valign=\"top\">5</th>\n",
       "      <th>0</th>\n",
       "      <td>13.280232</td>\n",
       "    </tr>\n",
       "    <tr>\n",
       "      <th>1</th>\n",
       "      <td>7.030518</td>\n",
       "    </tr>\n",
       "    <tr>\n",
       "      <th>2</th>\n",
       "      <td>7.078336</td>\n",
       "    </tr>\n",
       "    <tr>\n",
       "      <th>5</th>\n",
       "      <td>7.741889</td>\n",
       "    </tr>\n",
       "    <tr>\n",
       "      <th>6</th>\n",
       "      <td>7.665250</td>\n",
       "    </tr>\n",
       "    <tr>\n",
       "      <th>8</th>\n",
       "      <td>8.505008</td>\n",
       "    </tr>\n",
       "    <tr>\n",
       "      <th>9</th>\n",
       "      <td>5.440087</td>\n",
       "    </tr>\n",
       "    <tr>\n",
       "      <th>10</th>\n",
       "      <td>10.480601</td>\n",
       "    </tr>\n",
       "    <tr>\n",
       "      <th>11</th>\n",
       "      <td>10.961399</td>\n",
       "    </tr>\n",
       "    <tr>\n",
       "      <th>12</th>\n",
       "      <td>5.374583</td>\n",
       "    </tr>\n",
       "    <tr>\n",
       "      <th>13</th>\n",
       "      <td>9.941505</td>\n",
       "    </tr>\n",
       "    <tr>\n",
       "      <th>14</th>\n",
       "      <td>6.500593</td>\n",
       "    </tr>\n",
       "  </tbody>\n",
       "</table>\n",
       "<p>68 rows × 1 columns</p>\n",
       "</div>"
      ],
      "text/plain": [
       "            Percentage\n",
       "Class User            \n",
       "1     0       9.929923\n",
       "      1       7.028638\n",
       "      2       6.607074\n",
       "      4       0.125807\n",
       "      5       5.080837\n",
       "      6       5.535507\n",
       "      7       0.476742\n",
       "      8       7.118027\n",
       "      9       5.032279\n",
       "      10     16.603211\n",
       "      11     10.573305\n",
       "      12      4.616234\n",
       "      13     13.112619\n",
       "      14      8.159797\n",
       "2     0      10.408877\n",
       "      1       5.186378\n",
       "      2       5.624913\n",
       "      4       0.378332\n",
       "      5       6.870176\n",
       "      6       6.706042\n",
       "      7       0.643861\n",
       "      8       9.659185\n",
       "      9       5.830872\n",
       "      10     10.323958\n",
       "      11      9.107847\n",
       "      12      6.541274\n",
       "      13     10.251714\n",
       "      14     12.466571\n",
       "3     0       9.633642\n",
       "      1       5.309238\n",
       "...                ...\n",
       "      11      9.407130\n",
       "      12      6.145361\n",
       "      13      7.678747\n",
       "      14     15.616506\n",
       "4     0      10.754336\n",
       "      1       4.337868\n",
       "      2       4.323269\n",
       "      4       0.880531\n",
       "      5       7.485880\n",
       "      6       5.628097\n",
       "      7       0.942578\n",
       "      8       7.849954\n",
       "      9       6.838940\n",
       "      10     12.282719\n",
       "      11     12.774539\n",
       "      12      6.835291\n",
       "      13     11.425000\n",
       "      14      7.640999\n",
       "5     0      13.280232\n",
       "      1       7.030518\n",
       "      2       7.078336\n",
       "      5       7.741889\n",
       "      6       7.665250\n",
       "      8       8.505008\n",
       "      9       5.440087\n",
       "      10     10.480601\n",
       "      11     10.961399\n",
       "      12      5.374583\n",
       "      13      9.941505\n",
       "      14      6.500593\n",
       "\n",
       "[68 rows x 1 columns]"
      ]
     },
     "execution_count": 19,
     "metadata": {},
     "output_type": "execute_result"
    }
   ],
   "source": [
    "byClass = df2.groupby(['Class'])['User'].count()\n",
    "User_byClass = df2.groupby(['Class','User'])['User'].count()\n",
    "\n",
    "output = User_byClass['Percentage'] = (User_byClass / byClass ) * 100\n",
    "\n",
    "df_output = output.to_frame(\"Percentage\")\n",
    "df_output"
   ]
  },
  {
   "cell_type": "markdown",
   "metadata": {},
   "source": [
    "### Interactive Plotting of User/Class Combinations"
   ]
  },
  {
   "cell_type": "code",
   "execution_count": 20,
   "metadata": {},
   "outputs": [
    {
     "data": {
      "text/html": [
       "<script type=\"text/javascript\">window.PlotlyConfig = {MathJaxConfig: 'local'};</script><script type=\"text/javascript\">if (window.MathJax) {MathJax.Hub.Config({SVG: {font: \"STIX-Web\"}});}</script><script>requirejs.config({paths: { 'plotly': ['https://cdn.plot.ly/plotly-latest.min']},});if(!window._Plotly) {require(['plotly'],function(plotly) {window._Plotly=plotly;});}</script>"
      ],
      "text/vnd.plotly.v1+html": [
       "<script type=\"text/javascript\">window.PlotlyConfig = {MathJaxConfig: 'local'};</script><script type=\"text/javascript\">if (window.MathJax) {MathJax.Hub.Config({SVG: {font: \"STIX-Web\"}});}</script><script>requirejs.config({paths: { 'plotly': ['https://cdn.plot.ly/plotly-latest.min']},});if(!window._Plotly) {require(['plotly'],function(plotly) {window._Plotly=plotly;});}</script>"
      ]
     },
     "metadata": {},
     "output_type": "display_data"
    }
   ],
   "source": [
    "import plotly\n",
    "import plotly.plotly as py\n",
    "import plotly.graph_objs as go\n",
    "from plotly.offline import init_notebook_mode\n",
    "import pandas as pd\n",
    "import numpy as np\n",
    "\n",
    "# Set up plotly API key\n",
    "plotly.tools.set_credentials_file(username='danageis', api_key='0NAcrzM8YksRAT3uyEZ7')\n",
    "\n",
    "# Enable offline plots (embed into ipynb)\n",
    "init_notebook_mode(connected=True)\n",
    "\n",
    "# Define list of possible users\n",
    "possible_users = set(df.User.unique())\n",
    "\n",
    "# Define dictionary of all possible user/class combinations (which ones took pictures of which)\n",
    "possible_classes = {usr: set(df.where(df.User == usr).Class.dropna().unique()) for usr in possible_users}\n",
    "\n",
    "# Define functions to create 3D-interactive plots of each user/position combo\n",
    "def parse_coords(cls=1, usr=1):\n",
    "    \"\"\" Helper function: return all coords for specified User and Class\n",
    "    \n",
    "    cls (int): Class (defaults to 1)\n",
    "    usr (int): User (defaults to 1)\n",
    "    \n",
    "    Ret (dict): {dimension (str): coordinates (pd.Series)}\n",
    "    \"\"\"\n",
    "    dims = ['X', 'Y', 'Z']\n",
    "    fill = lambda suffix: [suffix + str(i) for i in range(1,11)]\n",
    "    cols = {col: fill(col) for col in dims}\n",
    "    coords = {dim: df[cols[dim]].where(df.User == usr).where(df.Class == cls).stack() for dim in dims}\n",
    "    return coords\n",
    "\n",
    "def plot_3d(cls=1, usr=1, title=None, allpts=False, clusters=np.array([0])):\n",
    "    \"\"\" Return 3D interactive plot for given coordinates set (single user/sign combos)\n",
    "    \n",
    "    cls (int): Class (defaults to 1)\n",
    "    usr (int): User (defaults to 1)\n",
    "    title (str): Title of the plot (defaults to \"User {usr} Position {cls}\")\n",
    "    allpts (bool): Whether or not this is meant to cluster all points in the dataset (df2)\n",
    "        All 600k+ points is too many to plot interactively; this will sample 20,000 points randomly and graph them\n",
    "    clusters (np.array): Clusters to use for color-coding (only valid for allpts at this time)\n",
    "    \n",
    "    Ret (plotly.graph_objs.Scatter3d figure object)\n",
    "    \"\"\"\n",
    "    \n",
    "    # Make sure user/class designation is valid\n",
    "    if not usr in possible_users:\n",
    "        return \"ERROR: User %d does not have any data. Try again with a different user specified.\" % usr\n",
    "    elif not cls in possible_classes[usr]:\n",
    "        return \"ERROR: User %d does not have any data for Class %d. Try again with a different class specified.\" % (usr, cls)\n",
    "    \n",
    "    # Process points to draw\n",
    "    if allpts:\n",
    "        # Sample 20,000 random coords w/o replacement\n",
    "        coords = df2.copy()\n",
    "        if clusters.any():\n",
    "            coords['cluster'] = clusters\n",
    "        coords = coords.sample(n=20000, replace=False)\n",
    "    else:\n",
    "        coords = parse_coords(cls, usr)\n",
    "        \n",
    "    # Name plot if title not provided (default behavior)\n",
    "    if not title:\n",
    "        if allpts:\n",
    "            title = \"20,000 Random Points from Dataset\"\n",
    "            if clusters.any():\n",
    "                title += \" (Clustered)\"\n",
    "        else:\n",
    "            title = \"User %d Position %d\" % (usr, cls)\n",
    "\n",
    "    # Color-code clustered points, if provided\n",
    "    if allpts and clusters.any():\n",
    "        marker_params = dict(size=5,\n",
    "                             color=coords.cluster,\n",
    "                             colorscale='Portland'\n",
    "                             )\n",
    "    else:\n",
    "        marker_params = dict(size=5)\n",
    "            \n",
    "    data = [go.Scatter3d(x=coords['X'],\n",
    "                         y=coords['Y'],\n",
    "                         z=coords['Z'],\n",
    "                         mode='markers',\n",
    "                         marker=marker_params\n",
    "                         )\n",
    "            ]\n",
    "\n",
    "    layout = dict(width=800,\n",
    "                  height=700,\n",
    "                  autosize=True,\n",
    "                  title=title,\n",
    "                  scene=dict(xaxis=dict(gridcolor='rgb(255, 255, 255)',\n",
    "                                        zerolinecolor='rgb(255, 255, 255)',\n",
    "                                        showbackground=True,\n",
    "                                        backgroundcolor='rgb(230, 230,230)'\n",
    "                                        ),\n",
    "                             yaxis=dict(gridcolor='rgb(255, 255, 255)',\n",
    "                                        zerolinecolor='rgb(255, 255, 255)',\n",
    "                                        showbackground=True,\n",
    "                                        backgroundcolor='rgb(230, 230,230)'\n",
    "                                        ),\n",
    "                             zaxis=dict(gridcolor='rgb(255, 255, 255)',\n",
    "                                        zerolinecolor='rgb(255, 255, 255)',\n",
    "                                        showbackground=True,\n",
    "                                        backgroundcolor='rgb(230, 230,230)'\n",
    "                                        ),\n",
    "                             camera=dict(up=dict(x=0,\n",
    "                                                 y=0,\n",
    "                                                 z=1\n",
    "                                                 ),\n",
    "                                         eye=dict(x=-1.7428,\n",
    "                                                  y=1.0707,\n",
    "                                                  z=0.7100,\n",
    "                                                  )\n",
    "                                         ),\n",
    "                             aspectratio = dict(x=1,\n",
    "                                                y=1,\n",
    "                                                z=0.7\n",
    "                                                ),\n",
    "                             aspectmode = 'manual'\n",
    "                             ),\n",
    "                )\n",
    "\n",
    "    fig = dict(data=data, layout=layout)\n",
    "\n",
    "    return py.iplot(fig, filename=\"Hands-%s\" % title)"
   ]
  },
  {
   "cell_type": "code",
   "execution_count": 21,
   "metadata": {},
   "outputs": [],
   "source": [
    "from warnings import filterwarnings\n",
    "filterwarnings('ignore')"
   ]
  },
  {
   "cell_type": "code",
   "execution_count": 22,
   "metadata": {
    "scrolled": true
   },
   "outputs": [
    {
     "data": {
      "text/html": [
       "<iframe id=\"igraph\" scrolling=\"no\" style=\"border:none;\" seamless=\"seamless\" src=\"https://plot.ly/~danageis/5.embed\" height=\"700px\" width=\"800px\"></iframe>"
      ],
      "text/plain": [
       "<plotly.tools.PlotlyDisplay object>"
      ]
     },
     "execution_count": 22,
     "metadata": {},
     "output_type": "execute_result"
    }
   ],
   "source": [
    "plot_3d(cls=1, usr=1)"
   ]
  },
  {
   "cell_type": "markdown",
   "metadata": {},
   "source": [
    "### Modeling and Evaluation 1\n",
    "#### 10 pts\n",
    "Train and adjust parameters"
   ]
  },
  {
   "cell_type": "markdown",
   "metadata": {},
   "source": [
    "For this data, we will be attempting to cluster the data on the basis of the sensors used to collect the data. As described in the business understanding section, this dataset consists of snapshot measurements taken from a special glove fitted with sensors to track a person's hand movements and map them to 3-dimensional space. The dataset has recorded data for up to 11 sensors in each capture (some may have been obscured when measurement was performed), and associated 3D coordinates for each sensor. Captures were taken for 13 users who were performing one of five pre-defined gestures with their hand.\n",
    "\n",
    "Our goal is to cluster each data point based on which of the 11 possible sensors it corresponds to. Each record in the dataset has been formatted so that it represents a single coordinate location for an individual sensor. To accomplish this we will attempt clustering with 11 total clusters defined in our clustering algorithms, ideally corresponding with each of the sensors that is present on the glove. We will begin by performing cluster analysis of all points aggregated together:"
   ]
  },
  {
   "cell_type": "code",
   "execution_count": 23,
   "metadata": {},
   "outputs": [
    {
     "data": {
      "text/html": [
       "<iframe id=\"igraph\" scrolling=\"no\" style=\"border:none;\" seamless=\"seamless\" src=\"https://plot.ly/~danageis/31.embed\" height=\"700px\" width=\"800px\"></iframe>"
      ],
      "text/plain": [
       "<plotly.tools.PlotlyDisplay object>"
      ]
     },
     "execution_count": 23,
     "metadata": {},
     "output_type": "execute_result"
    }
   ],
   "source": [
    "plot_3d(allpts=True)"
   ]
  },
  {
   "cell_type": "code",
   "execution_count": 24,
   "metadata": {},
   "outputs": [
    {
     "data": {
      "text/html": [
       "<iframe id=\"igraph\" scrolling=\"no\" style=\"border:none;\" seamless=\"seamless\" src=\"https://plot.ly/~danageis/31.embed\" height=\"700px\" width=\"800px\"></iframe>"
      ],
      "text/plain": [
       "<plotly.tools.PlotlyDisplay object>"
      ]
     },
     "execution_count": 24,
     "metadata": {},
     "output_type": "execute_result"
    }
   ],
   "source": [
    "plot_3d(allpts=True)"
   ]
  },
  {
   "cell_type": "markdown",
   "metadata": {},
   "source": [
    "Shown above are 2 random samplings of 20,000 points each from the dataset. This was done to illustrate that when multiple random samples are plotted in 3-dimensional space, the distributions are different each time but there are similar patterns that can be observed consistently such as 2 large elliptoid clusters on the right side and some smaller clusters on the left side. This provides some anecdotal evidence that clustering may be successful using all available data aggregated from every user and every gesture class."
   ]
  },
  {
   "cell_type": "markdown",
   "metadata": {},
   "source": [
    "### GMM Clustering"
   ]
  },
  {
   "cell_type": "markdown",
   "metadata": {},
   "source": [
    "Visualizing the data set as we have in the two random samples above, it seems that while there are some obvious discrete clusters in 3-dimensional space these clusters are not necessarily uniform globular clusters. These type of clusters might be well defined using Gaussian mixture model clustering which would allow for normally distributed clusters of varying shapes and sizes. We will first attempt to fit a Gaussian mixture model to obtain clusters for the 11 sensors in the dataset."
   ]
  },
  {
   "cell_type": "code",
   "execution_count": 25,
   "metadata": {},
   "outputs": [],
   "source": [
    "from sklearn.mixture import GaussianMixture as GMM\n",
    "\n",
    "# Fit 11 clusters\n",
    "#  Set random state to '123456789' to make sure same result achieved each time\n",
    "gmm = GMM(n_components=11,\n",
    "          random_state=123456789\n",
    "          )\n",
    "gmm_X = df2[['X','Y','Z']]\n",
    "gmm.fit(gmm_X)\n",
    "gmm_clusters = gmm.predict(gmm_X)"
   ]
  },
  {
   "cell_type": "code",
   "execution_count": 26,
   "metadata": {},
   "outputs": [
    {
     "data": {
      "image/png": "[encoded data removed]",
      "text/plain": [
       "<Figure size 432x288 with 1 Axes>"
      ]
     },
     "metadata": {
      "needs_background": "light"
     },
     "output_type": "display_data"
    }
   ],
   "source": [
    "from mpl_toolkits import mplot3d\n",
    "%matplotlib inline\n",
    "import numpy as np\n",
    "import matplotlib.pyplot as plt\n",
    "ax = plt.axes(projection='3d')\n",
    "\n",
    "# Data for a three-dimensional line\n",
    "zline = np.linspace(0, 15, 1000)\n",
    "xline = np.sin(zline)\n",
    "yline = np.cos(zline)\n",
    "ax.plot3D(xline, yline, zline, 'gray')\n",
    "\n",
    "# Data for three-dimensional scattered points\n",
    "zdata = gmm_X['Z'].astype(float)\n",
    "xdata = gmm_X['X'].astype(float)\n",
    "ydata = gmm_X['Y'].astype(float)\n",
    "_ = ax.scatter3D(gmm_X['X'], gmm_X['Y'], gmm_X['Z'], c=gmm_clusters)"
   ]
  },
  {
   "cell_type": "code",
   "execution_count": 27,
   "metadata": {},
   "outputs": [
    {
     "data": {
      "text/html": [
       "<iframe id=\"igraph\" scrolling=\"no\" style=\"border:none;\" seamless=\"seamless\" src=\"https://plot.ly/~danageis/33.embed\" height=\"700px\" width=\"800px\"></iframe>"
      ],
      "text/plain": [
       "<plotly.tools.PlotlyDisplay object>"
      ]
     },
     "execution_count": 27,
     "metadata": {},
     "output_type": "execute_result"
    }
   ],
   "source": [
    "plot_3d(allpts=True, clusters=gmm_clusters)"
   ]
  },
  {
   "cell_type": "markdown",
   "metadata": {},
   "source": [
    "We plot the basic GMM clusters above, both as a static image consisting of all points (more than 600,000) and an interactive plot that is sampled as 20,000 random points from the dataset color-coded by cluster. From these visuals, we can see that there does appear to be decent clustering.\n",
    "\n",
    "From the data description, we know that there are 2 sensors on each finger and 3 sensors on the thumb. We also know that there are several positions in which multiple (sometimes more than half) of the sensors are obscured from view and not recorded. Therefore, this clustering makes sense from a logical perspective, but it could likely still be improved.\n",
    "\n",
    "Another interesting comparison is the distribution of clusters as defined by GMM. While we do not know from the raw data which sensors correspond to which point on the glove, we do know that in a majority of recorded instances there are sensors that were unable to be recorded. It would be interesting to note if this clustering algorithm created clusters of varying sizes, which might be indicative of an uneven distribution of which sensors were not recorded most or least often."
   ]
  },
  {
   "cell_type": "markdown",
   "metadata": {},
   "source": [
    "It is interesting to note from this distribution that there are significantly varying distributions between clusters. If these clusters do in fact coincide with sensors on the glove, this could provide evidence that certain sensors appear more often than others.\n",
    "\n",
    "This also makes logical sense, since it would be expected that some of the gestures being performed would have obscured at least part of the hand. The distribution shows that from GMM, there are 2 clusters defined that are very scarce in the total (both less than 5%) compared to the rest. This could be accounted for as the 2 sensors present on a finger that is often obscured, such as the pinky finger. Conversely, there are 2 clusters that stand out as about the same percentage as eachother (almost 14%) but both significantly higher than most of the other clusters. These cluster could represent sensors on fingers that are needed to perform most of the gestures recorded, so they might show up regardless of user or class."
   ]
  },
  {
   "cell_type": "code",
   "execution_count": 28,
   "metadata": {
    "scrolled": false
   },
   "outputs": [
    {
     "data": {
      "image/png": "[encoded data removed]",
      "text/plain": [
       "<Figure size 432x288 with 1 Axes>"
      ]
     },
     "metadata": {
      "needs_background": "light"
     },
     "output_type": "display_data"
    }
   ],
   "source": [
    "# Create a new dataframe with the clusters defined as a new variable\n",
    "df_gmm = gmm_X.copy()\n",
    "df_gmm['Clusters'] = gmm_clusters\n",
    "\n",
    "# Count the number of instances in each cluster and convert to a percentage of the total\n",
    "cluster_pcts = df_gmm.groupby('Clusters').count()['X'] / len(gmm_X) * 100\n",
    "\n",
    "# Plot the distribution\n",
    "ax = cluster_pcts.plot(kind='bar', title=\"Percentage of Each GMM-Defined Cluster\")\n",
    "_ = ax.set_ylabel(\"Percentage of Total Points (%)\")"
   ]
  },
  {
   "cell_type": "code",
   "execution_count": 29,
   "metadata": {},
   "outputs": [],
   "source": [
    "gmm_clusters_a = gmm.fit_predict(gmm_X)"
   ]
  },
  {
   "cell_type": "code",
   "execution_count": 37,
   "metadata": {},
   "outputs": [
    {
     "data": {
      "text/plain": [
       "0.08734868929953812"
      ]
     },
     "execution_count": 37,
     "metadata": {},
     "output_type": "execute_result"
    }
   ],
   "source": [
    "from sklearn.metrics import silhouette_score\n",
    "silhouette_score(gmm_X, gmm_clusters, sample_size=50000, random_state=123456789)"
   ]
  },
  {
   "cell_type": "code",
   "execution_count": 31,
   "metadata": {},
   "outputs": [],
   "source": [
    "# TEST OLD\n",
    "\n",
    "# Create a list of dataframes with X, Y, Z coordinates selected for each individual sensor (0-10)\n",
    "df_coords = [df_orig.loc[:, ['Class', 'User', 'X%d' % i, 'Y%d' %i, 'Z%d' % i]] for i in range(11)]\n",
    "\n",
    "for i in range(len(df_coords)):\n",
    "    # NaN values are dropped at this time\n",
    "    df_coords[i] = df_coords[i].dropna()\n",
    "    \n",
    "    # Coordinate variable labels will now be standardized\n",
    "    df_coords[i].columns = ['Class', 'User', 'X', 'Y', 'Z']\n",
    "    \n",
    "    # Sensor number will now be added as a variable 'sensor' to each dataset\n",
    "    df_coords[i]['Sensor'] = i\n",
    "    \n",
    "# Combine datasets into new dataframe: df2\n",
    "df2_old = pd.concat(df_coords, ignore_index=True)\n",
    "\n",
    "# Reorder columns with metadata columns first\n",
    "df2_old = df2_old[['Class', 'User', 'Sensor', 'X', 'Y', 'Z']]"
   ]
  },
  {
   "cell_type": "code",
   "execution_count": 32,
   "metadata": {},
   "outputs": [],
   "source": [
    "from sklearn.mixture import GaussianMixture as GMM\n",
    "\n",
    "# TEST OLD VERSION\n",
    "\n",
    "# Fit 11 clusters\n",
    "#  Set random state to '123456789' to make sure same result achieved each time\n",
    "gmm_old = GMM(n_components=11,\n",
    "          random_state=123456789\n",
    "          )\n",
    "gmm_old_X = df2_old[['X','Y','Z']]\n",
    "gmm_old.fit(gmm_old_X)\n",
    "gmm_old_clusters = gmm_old.predict(gmm_old_X)"
   ]
  },
  {
   "cell_type": "code",
   "execution_count": 38,
   "metadata": {},
   "outputs": [
    {
     "data": {
      "text/plain": [
       "0.2651490529926699"
      ]
     },
     "execution_count": 38,
     "metadata": {},
     "output_type": "execute_result"
    }
   ],
   "source": [
    "silhouette_score(gmm_old_X, gmm_old_clusters, sample_size=50000, random_state=123456789)"
   ]
  },
  {
   "cell_type": "markdown",
   "metadata": {},
   "source": [
    "# KMeans Clustering"
   ]
  },
  {
   "cell_type": "code",
   "execution_count": null,
   "metadata": {},
   "outputs": [],
   "source": [
    "from sklearn.cluster import KMeans\n",
    "from sklearn.model_selection import StratifiedKFold, cross_val_score, ShuffleSplit\n",
    "\n",
    "# Fit 11 clusters\n",
    "kms = KMeans(n_clusters=11, init='k-means++',random_state=1)\n",
    "kms_X = df2[['X','Y','Z']]\n",
    "kms.fit(kms_X)\n",
    "kms_clusters = kms.predict(kms_X)\n",
    "kms_clusters"
   ]
  },
  {
   "cell_type": "code",
   "execution_count": null,
   "metadata": {},
   "outputs": [],
   "source": [
    "from mpl_toolkits import mplot3d\n",
    "%matplotlib inline\n",
    "import numpy as np\n",
    "import matplotlib.pyplot as plt\n",
    "\n",
    "fig = plt.figure(dpi=300)\n",
    "ax = plt.axes(projection='3d')\n",
    "\n",
    "# Data for three-dimensional scattered points\n",
    "zdata = kms_X['Z'].astype(float)\n",
    "xdata = kms_X['X'].astype(float)\n",
    "ydata = kms_X['Y'].astype(float)\n",
    "ax.scatter3D(kms_X['X'], kms_X['Y'], kms_X['Z'], c=kms_clusters, s=1)\n",
    "ax.set_title('Gesters points for X, Y, Z')"
   ]
  },
  {
   "cell_type": "code",
   "execution_count": null,
   "metadata": {},
   "outputs": [],
   "source": [
    "plot_3d(allpts=True, clusters=kms_clusters)"
   ]
  },
  {
   "cell_type": "code",
   "execution_count": null,
   "metadata": {},
   "outputs": [],
   "source": [
    "# Create a new dataframe with the clusters defined as a new variable\n",
    "df_kms = kms_X.copy()\n",
    "df_kms['Clusters'] = kms_clusters\n",
    "\n",
    "# Count the number of instances in each cluster and convert to a percentage of the total\n",
    "cluster_pcts = df_kms.groupby('Clusters').count()['X'] / len(df_kms) * 100\n",
    "\n",
    "# Plot the distribution\n",
    "ax = cluster_pcts.plot(kind='bar', title=\"Percentage of Each GMM-Defined Cluster\")\n",
    "_ = ax.set_ylabel(\"Percentage of Total Points (%)\")"
   ]
  },
  {
   "cell_type": "markdown",
   "metadata": {},
   "source": [
    "### Modeling and Evaluation 2\n",
    "#### 10pts\n",
    "Evaluate and Compare"
   ]
  },
  {
   "cell_type": "markdown",
   "metadata": {},
   "source": [
    "##### https://scikit-learn.org/stable/auto_examples/cluster/plot_kmeans_silhouette_analysis.html#sphx-glr-auto-examples-cluster-plot-kmeans-silhouette-analysis-py\n",
    "\n",
    "Silhouette analysis can be used to study the separation distance between the resulting clusters. The silhouette plot displays a measure of how close each point in one cluster is to points in the neighboring clusters and thus provides a way to assess parameters like number of clusters visually. This measure has a range of [-1, 1].\n",
    "\n",
    "Silhouette coefficients (as these values are referred to as) near +1 indicate that the sample is far away from the neighboring clusters. A value of 0 indicates that the sample is on or very close to the decision boundary between two neighboring clusters and negative values indicate that those samples might have been assigned to the wrong cluster.\n",
    "\n",
    "In this example the silhouette analysis is used to choose an optimal value for n_clusters. The silhouette plot shows that the n_clusters value of 3, 5 and 6 are a bad pick for the given data due to the presence of clusters with below average silhouette scores and also due to wide fluctuations in the size of the silhouette plots. Silhouette analysis is more ambivalent in deciding between 2 and 4.\n",
    "\n",
    "Also from the thickness of the silhouette plot the cluster size can be visualized. The silhouette plot for cluster 0 when n_clusters is equal to 2, is bigger in size owing to the grouping of the 3 sub clusters into one big cluster. However when the n_clusters is equal to 4, all the plots are more or less of similar thickness and hence are of similar sizes as can be also verified from the labelled scatter plot on the right."
   ]
  },
  {
   "cell_type": "code",
   "execution_count": null,
   "metadata": {},
   "outputs": [],
   "source": [
    "from __future__ import print_function\n",
    "\n",
    "from sklearn.datasets import make_blobs\n",
    "from sklearn.cluster import KMeans\n",
    "from sklearn.metrics import silhouette_samples, silhouette_score\n",
    "\n",
    "import matplotlib.pyplot as plt\n",
    "import matplotlib.cm as cm\n",
    "import numpy as np\n",
    "\n",
    "print(__doc__)\n",
    "\n",
    "\n",
    "# Split into X Features & Y Training\n",
    "df2b = df2.copy()\n",
    "df2b = df2b[df2b.User > 12 ] #User 13 & 14\n",
    "df3 = df2b[['X','Y','Z']]\n",
    "X = df3.values[:,]\n",
    "df3s = df2b[['Sensor']]\n",
    "y = df3s.values[:,] \n",
    " \n",
    "\n",
    "range_n_clusters = [2,3,4]\n",
    "\n",
    "for n_clusters in range_n_clusters:\n",
    "    # Create a subplot with 1 row and 2 columns\n",
    "    fig, (ax1, ax2) = plt.subplots(1, 2)\n",
    "    fig.set_size_inches(18, 7)\n",
    "\n",
    "    # The 1st subplot is the silhouette plot\n",
    "    # The silhouette coefficient can range from -1, 1 but in this example all\n",
    "    # lie within [-0.1, 1]\n",
    "    ax1.set_xlim([-0.1, 1])\n",
    "    # The (n_clusters+1)*10 is for inserting blank space between silhouette\n",
    "    # plots of individual clusters, to demarcate them clearly.\n",
    "    ax1.set_ylim([0, len(X) + (n_clusters + 1) * 10])\n",
    "\n",
    "    # Initialize the clusterer with n_clusters value and a random generator\n",
    "    # seed of 10 for reproducibility.\n",
    "    clusterer = KMeans(n_clusters=11, init='k-means++',random_state=1)\n",
    "    cluster_labels = clusterer.fit_predict(X)\n",
    "\n",
    "    # The silhouette_score gives the average value for all the samples.\n",
    "    # This gives a perspective into the density and separation of the formed\n",
    "    # clusters\n",
    "    silhouette_avg = silhouette_score(X, cluster_labels)\n",
    "    print(\"For n_clusters =\", n_clusters,\n",
    "          \"The average silhouette_score is :\", silhouette_avg)\n",
    "\n",
    "    # Compute the silhouette scores for each sample\n",
    "    sample_silhouette_values = silhouette_samples(X, cluster_labels)\n",
    "\n",
    "    y_lower = 10\n",
    "    for i in range(n_clusters):\n",
    "        # Aggregate the silhouette scores for samples belonging to\n",
    "        # cluster i, and sort them\n",
    "        ith_cluster_silhouette_values = \\\n",
    "            sample_silhouette_values[cluster_labels == i]\n",
    "\n",
    "        ith_cluster_silhouette_values.sort()\n",
    "\n",
    "        size_cluster_i = ith_cluster_silhouette_values.shape[0]\n",
    "        y_upper = y_lower + size_cluster_i\n",
    "\n",
    "        color = cm.nipy_spectral(float(i) / n_clusters)\n",
    "        ax1.fill_betweenx(np.arange(y_lower, y_upper),\n",
    "                          0, ith_cluster_silhouette_values,\n",
    "                          facecolor=color, edgecolor=color, alpha=0.7)\n",
    "\n",
    "        # Label the silhouette plots with their cluster numbers at the middle\n",
    "        ax1.text(-0.05, y_lower + 0.5 * size_cluster_i, str(i))\n",
    "\n",
    "        # Compute the new y_lower for next plot\n",
    "        y_lower = y_upper + 10  # 10 for the 0 samples\n",
    "\n",
    "    ax1.set_title(\"The silhouette plot for the various clusters.\")\n",
    "    ax1.set_xlabel(\"The silhouette coefficient values\")\n",
    "    ax1.set_ylabel(\"Cluster label\")\n",
    "\n",
    "    # The vertical line for average silhouette score of all the values\n",
    "    ax1.axvline(x=silhouette_avg, color=\"red\", linestyle=\"--\")\n",
    "\n",
    "    ax1.set_yticks([])  # Clear the yaxis labels / ticks\n",
    "    ax1.set_xticks([-0.1, 0, 0.2, 0.4, 0.6, 0.8, 1])\n",
    "\n",
    "    # 2nd Plot showing the actual clusters formed\n",
    "    colors = cm.nipy_spectral(cluster_labels.astype(float) / n_clusters)\n",
    "    ax2.scatter(X[:, 0], X[:, 1], marker='.', s=30, lw=0, alpha=0.7,\n",
    "                c=colors, edgecolor='k')\n",
    "\n",
    "    # Labeling the clusters\n",
    "    centers = clusterer.cluster_centers_\n",
    "    # Draw white circles at cluster centers\n",
    "    ax2.scatter(centers[:, 0], centers[:, 1], marker='o',\n",
    "                c=\"white\", alpha=1, s=200, edgecolor='k')\n",
    "\n",
    "    for i, c in enumerate(centers):\n",
    "        ax2.scatter(c[0], c[1], marker='$%d$' % i, alpha=1,\n",
    "                    s=50, edgecolor='k')\n",
    "\n",
    "    ax2.set_title(\"The visualization of the clustered data.\")\n",
    "    ax2.set_xlabel(\"Feature space for the 1st feature\")\n",
    "    ax2.set_ylabel(\"Feature space for the 2nd feature\")\n",
    "\n",
    "    plt.suptitle((\"Silhouette analysis for KMeans clustering on sample data \"\n",
    "                  \"with n_clusters = %d\" % n_clusters),\n",
    "                 fontsize=14, fontweight='bold')\n",
    "\n",
    "plt.show()"
   ]
  },
  {
   "cell_type": "markdown",
   "metadata": {},
   "source": [
    "### Modeling and Evaluation 3\n",
    "#### 10 pts\n",
    "Visualize Results"
   ]
  },
  {
   "cell_type": "code",
   "execution_count": null,
   "metadata": {},
   "outputs": [],
   "source": []
  },
  {
   "cell_type": "code",
   "execution_count": null,
   "metadata": {},
   "outputs": [],
   "source": []
  },
  {
   "cell_type": "markdown",
   "metadata": {},
   "source": [
    "### Modeling and Evaluation 4\n",
    "#### 20 pts\n",
    "Summarize the Ramifications"
   ]
  },
  {
   "cell_type": "code",
   "execution_count": null,
   "metadata": {},
   "outputs": [],
   "source": []
  },
  {
   "cell_type": "code",
   "execution_count": null,
   "metadata": {},
   "outputs": [],
   "source": []
  },
  {
   "cell_type": "markdown",
   "metadata": {},
   "source": [
    "### Deployment \n",
    "#### 10 pts\n",
    "Be critical of your performance and tell the reader how you current model might be usable by other parties. Did you achieve your goals? If not, can you reign in the utility of your modeling? How useful is your model for interested parties (i.e., the companies or organizations that might want to use it)? How would your deploy your model for interested parties? What other data should be collected? How often would the model need to be updated, etc.?"
   ]
  },
  {
   "cell_type": "code",
   "execution_count": null,
   "metadata": {},
   "outputs": [],
   "source": []
  },
  {
   "cell_type": "code",
   "execution_count": null,
   "metadata": {},
   "outputs": [],
   "source": []
  },
  {
   "cell_type": "markdown",
   "metadata": {},
   "source": [
    "### Exceptional Work\n",
    "#### 10 pts\n",
    "You have free reign to provide additional analyses or combine analyses."
   ]
  },
  {
   "cell_type": "code",
   "execution_count": null,
   "metadata": {},
   "outputs": [],
   "source": [
    "from mpl_toolkits import mplot3d"
   ]
  },
  {
   "cell_type": "code",
   "execution_count": null,
   "metadata": {},
   "outputs": [],
   "source": [
    "%matplotlib inline\n",
    "import numpy as np\n",
    "import matplotlib.pyplot as plt"
   ]
  },
  {
   "cell_type": "code",
   "execution_count": null,
   "metadata": {},
   "outputs": [],
   "source": [
    "#1=Fist(with thumb out), \n",
    "#2=Stop(hand flat), \n",
    "#3=Point1(point with pointer finger), \n",
    "#4=Point2(point with pointer and middle fingers), \n",
    "#5=Grab(fingers curled as if to grab). \n",
    "\n",
    "#filter certain users for plotting below\n",
    "df_user6 = df[df.User == 6][df.Class == 2]\n",
    "df_user14 = df[df.User == 14][df.Class == 1]\n",
    "df_user5 = df[df.User == 5][df.Class == 4]\n",
    "df_user8 = df[df.User == 8][df.Class == 3]\n",
    "\n",
    "#One row in data table - represnts on set of data points\n",
    "df_row12000 = df[11999:12000][df.Class == 5]\n",
    "\n",
    "# feature categories\n",
    "X_features = ['X0','X1','X2','X3','X4','X5','X6','X7','X8','X9','X10']\n",
    "Y_features = ['Y0','Y1','Y2','Y3','Y4','Y5','Y6','Y7','Y8','Y9','Y10']\n",
    "Z_features = ['Z0','Z1','Z2','Z3','Z4','Z5','Z6','Z7','Z8','Z9','Z10']"
   ]
  },
  {
   "cell_type": "markdown",
   "metadata": {},
   "source": [
    "##### One record plotted in 3D show Class 5 (Grab Gestures)"
   ]
  },
  {
   "cell_type": "code",
   "execution_count": null,
   "metadata": {},
   "outputs": [],
   "source": [
    "#one set of markers\n",
    "ax = plt.axes(projection='3d')\n",
    "\n",
    "# Data for a three-dimensional line\n",
    "zline = np.linspace(0, 15, 1000)\n",
    "xline = np.sin(zline)\n",
    "yline = np.cos(zline)\n",
    "ax.plot3D(xline, yline, zline, 'gray')\n",
    "\n",
    "# Data for three-dimensional scattered points\n",
    "zdata = df_row12000[Z_features].astype(float)\n",
    "xdata = df_row12000[X_features].astype(float)\n",
    "ydata = df_row12000[Y_features].astype(float)\n",
    "ax.scatter3D(xdata, ydata, zdata);"
   ]
  },
  {
   "cell_type": "markdown",
   "metadata": {},
   "source": [
    "##### All User 6's records plotted in 3D with Posture 3 (Stop sign)"
   ]
  },
  {
   "cell_type": "code",
   "execution_count": null,
   "metadata": {},
   "outputs": [],
   "source": [
    "ax = plt.axes(projection='3d')\n",
    "\n",
    "# Data for a three-dimensional line\n",
    "zline = np.linspace(0, 15, 1000)\n",
    "xline = np.sin(zline)\n",
    "yline = np.cos(zline)\n",
    "ax.plot3D(xline, yline, zline, 'gray')\n",
    "\n",
    "# Data for three-dimensional scattered points\n",
    "zdata = df_user6[Z_features].astype(float)\n",
    "xdata = df_user6[X_features].astype(float)\n",
    "ydata = df_user6[Y_features].astype(float)\n",
    "ax.scatter3D(xdata, ydata, zdata);"
   ]
  },
  {
   "cell_type": "markdown",
   "metadata": {},
   "source": [
    "##### All User 14's records plotted in 3D with Class 1 (Fist Gesture)"
   ]
  },
  {
   "cell_type": "code",
   "execution_count": null,
   "metadata": {},
   "outputs": [],
   "source": [
    "ax = plt.axes(projection='3d')\n",
    "\n",
    "# Data for a three-dimensional line\n",
    "zline = np.linspace(0, 15, 1000)\n",
    "xline = np.sin(zline)\n",
    "yline = np.cos(zline)\n",
    "ax.plot3D(xline, yline, zline, 'gray')\n",
    "\n",
    "# Data for three-dimensional scattered points\n",
    "zdata = df_user14[Z_features].astype(float)\n",
    "xdata = df_user14[X_features].astype(float)\n",
    "ydata = df_user14[Y_features].astype(float)\n",
    "ax.scatter3D(xdata, ydata, zdata);"
   ]
  },
  {
   "cell_type": "markdown",
   "metadata": {},
   "source": [
    "##### All User 8's records plotted in 3D with Class 3 (point with pointer finger Gesture)"
   ]
  },
  {
   "cell_type": "code",
   "execution_count": null,
   "metadata": {},
   "outputs": [],
   "source": [
    "ax = plt.axes(projection='3d')\n",
    "\n",
    "# Data for a three-dimensional line\n",
    "zline = np.linspace(0, 15, 1000)\n",
    "xline = np.sin(zline)\n",
    "yline = np.cos(zline)\n",
    "ax.plot3D(xline, yline, zline, 'gray')\n",
    "\n",
    "# Data for three-dimensional scattered points\n",
    "zdata = df_user8[Z_features].astype(float)\n",
    "xdata = df_user8[X_features].astype(float)\n",
    "ydata = df_user8[Y_features].astype(float)\n",
    "ax.scatter3D(xdata, ydata, zdata);"
   ]
  },
  {
   "cell_type": "markdown",
   "metadata": {},
   "source": [
    "##### All User 5's records plotted in 3D with Class 5 (Grab Gesture)"
   ]
  },
  {
   "cell_type": "code",
   "execution_count": null,
   "metadata": {},
   "outputs": [],
   "source": [
    "ax = plt.axes(projection='3d')\n",
    "\n",
    "# Data for a three-dimensional line\n",
    "zline = np.linspace(0, 15, 1000)\n",
    "xline = np.sin(zline)\n",
    "yline = np.cos(zline)\n",
    "ax.plot3D(xline, yline, zline, 'gray')\n",
    "\n",
    "# Data for three-dimensional scattered points\n",
    "zdata = df_user5[Z_features].astype(float)\n",
    "xdata = df_user5[X_features].astype(float)\n",
    "ydata = df_user5[Y_features].astype(float)\n",
    "ax.scatter3D(xdata, ydata, zdata);"
   ]
  },
  {
   "cell_type": "markdown",
   "metadata": {},
   "source": [
    "##### All User 5's records plotted in 3D in a Wireframe show Class 2 (Stop Gesture)"
   ]
  },
  {
   "cell_type": "code",
   "execution_count": null,
   "metadata": {},
   "outputs": [],
   "source": [
    "fig = plt.figure()\n",
    "ax = plt.axes(projection='3d')\n",
    "ax.plot_wireframe(df_user6[X_features], df_user6[Y_features], df_user6[Z_features], color='black')\n",
    "ax.set_title('wireframe');\n"
   ]
  }
 ],
 "metadata": {
  "kernelspec": {
   "display_name": "Python 3",
   "language": "python",
   "name": "python3"
  },
  "language_info": {
   "codemirror_mode": {
    "name": "ipython",
    "version": 3
   },
   "file_extension": ".py",
   "mimetype": "text/x-python",
   "name": "python",
   "nbconvert_exporter": "python",
   "pygments_lexer": "ipython3",
   "version": "3.7.1"
  }
 },
 "nbformat": 4,
 "nbformat_minor": 2
}
