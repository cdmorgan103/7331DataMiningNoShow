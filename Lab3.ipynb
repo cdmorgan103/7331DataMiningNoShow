{
 "cells": [
  {
   "cell_type": "markdown",
   "metadata": {},
   "source": [
    "# Lab 3\n",
    "## Dataset: \n",
    "\n",
    "### Team members: Luay Dajani, Dana Geislinger, Chris Morgan, Caroll Rodriguez\n",
    "##### Github - https://github.com/cdmorgan103/7331DataMiningNoShow\n",
    "\n",
    "MSDS 7331, 12/02/2018"
   ]
  },
  {
   "cell_type": "markdown",
   "metadata": {},
   "source": [
    "### Business Understanding (10 points total)\n",
    "\n",
    "* [10 points] Describe the purpose of the data set you selected (i.e., why was this data\n",
    "collected in the first place?). How will you measure the effectiveness of a good algorithm? Why does your chosen validation method make sense for this specific\n",
    "dataset and the stakeholders needs?\n",
    "\n"
   ]
  },
  {
   "cell_type": "markdown",
   "metadata": {},
   "source": []
  },
  {
   "cell_type": "markdown",
   "metadata": {},
   "source": [
    "### Data Understanding (20 points total)\n",
    "\n",
    "* [10 points] Describe the meaning and type of data (scale, values, etc.) for each\n",
    "attribute in the data file. Verify data quality: Are there missing values? Duplicate data?\n",
    "Outliers? Are those mistakes? How do you deal with these problems?"
   ]
  },
  {
   "cell_type": "markdown",
   "metadata": {},
   "source": [
    "* [10 points] Visualize the any important attributes appropriately. Important: Provide an\n",
    "interpretation for any charts or graphs."
   ]
  },
  {
   "cell_type": "markdown",
   "metadata": {},
   "source": [
    "### Modeling and Evaluation (50 points total)\n",
    "\n",
    "Different tasks will require different evaluation methods. Be as thorough as possible when analyzing\n",
    "the data you have chosen and use visualizations of the results to explain the performance and\n",
    "expected outcomes whenever possible. Guide the reader through your analysis with plenty of\n",
    "discussion of the results. Each option is broken down by:\n",
    "\n",
    "* [10 Points] Train and adjust parameters\n",
    "* [10 Points] Evaluate and Compare\n",
    "* [10 Points] Visualize Results\n",
    "* [20 Points] Summarize the Ramifications"
   ]
  },
  {
   "cell_type": "markdown",
   "metadata": {},
   "source": [
    "#### Option A: Cluster Analysis\n",
    "\n",
    "* Train: Perform cluster analysis using several clustering methods (adjust parameters).\n",
    "* Eval: Use internal and/or external validation measures to describe and compare the\n",
    "clusterings and the clusters— how did you determine a suitable number of clusters for\n",
    "each method?\n",
    "* Visualize: Use tables/visualization to discuss the found results. Explain each\n",
    "visualization in detail.\n",
    "* Summarize: Describe your results. What findings are the most interesting and why?\n",
    "\n",
    "#### Option B: Association Rule Mining\n",
    "\n",
    "* Train: Create frequent itemsets and association rules (adjust parameters).\n",
    "* Eval: Use several measure for evaluating how interesting different rules are.\n",
    "* Visualize: Use tables/visualization to discuss the found results.\n",
    "* Summarize: Describe your results. What findings are the most compelling and why?\n",
    "\n",
    "#### Option C: Collaborative Filtering\n",
    "\n",
    "* Train: Create user-item matrices or item-item matrices using collaborative filtering\n",
    "(adjust parameters).\n",
    "* Eval: Determine performance of the recommendations using different performance\n",
    "measures (explain the ramifications of each measure).\n",
    "* Visualize: Use tables/visualization to discuss the found results. Explain each\n",
    "visualization in detail.\n",
    "* Summarize: Describe your results. What findings are the most compelling and why?"
   ]
  },
  {
   "cell_type": "markdown",
   "metadata": {},
   "source": [
    "#### Deployment (10 points total)\n",
    "\n",
    "* Be critical of your performance and tell the reader how you current model might be usable by\n",
    "other parties. Did you achieve your goals? If not, can you reign in the utility of your modeling?\n",
    "* How useful is your model for interested parties (i.e., the companies or organizations\n",
    "that might want to use it)?\n",
    "* How would your deploy your model for interested parties?\n",
    "* What other data should be collected?\n",
    "\n",
    "* How often would the model need to be updated, etc.?"
   ]
  },
  {
   "cell_type": "markdown",
   "metadata": {},
   "source": [
    "#### Exceptional Work (10 points total)\n",
    "\n",
    "* You have free reign to provide additional analyses or combine analyses."
   ]
  },
  {
   "cell_type": "code",
   "execution_count": null,
   "metadata": {},
   "outputs": [],
   "source": []
  }
 ],
 "metadata": {
  "kernelspec": {
   "display_name": "Python 3",
   "language": "python",
   "name": "python3"
  },
  "language_info": {
   "codemirror_mode": {
    "name": "ipython",
    "version": 3
   },
   "file_extension": ".py",
   "mimetype": "text/x-python",
   "name": "python",
   "nbconvert_exporter": "python",
   "pygments_lexer": "ipython3",
   "version": "3.6.6"
  }
 },
 "nbformat": 4,
 "nbformat_minor": 2
}
