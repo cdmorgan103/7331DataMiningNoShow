{
 "cells": [
  {
   "cell_type": "markdown",
   "metadata": {},
   "source": [
    "# Minilab\n",
    "## Medical Patient No Show\n",
    "\n",
    "### Team members: Luay Dajani, Dana Geislinger, Chris Morgan, Caroll Rodriguez\n",
    "##### Github - https://github.com/cdmorgan103/7331DataMiningNoShow\n",
    "\n",
    "MSDS 7331, 10/07/2018"
   ]
  },
  {
   "cell_type": "markdown",
   "metadata": {},
   "source": [
    "#### Load and Prepare Dataset\n",
    "<p>We are using the same dataset from Lab1 which includes the additional variables of age_range,  the split of date/time from Scheduled Day, Scheduled day of week, Appointment day of week and days in advance appointment was scheduled.  Additional modifications will be made for the requirements of the Minilab.</p>"
   ]
  },
  {
   "cell_type": "code",
   "execution_count": 1,
   "metadata": {},
   "outputs": [
    {
     "name": "stdout",
     "output_type": "stream",
     "text": [
      "<class 'pandas.core.frame.DataFrame'>\n",
      "RangeIndex: 110527 entries, 0 to 110526\n",
      "Data columns (total 19 columns):\n",
      "PatientId         110527 non-null int64\n",
      "AppointmentID     110527 non-null int64\n",
      "Gender            110527 non-null category\n",
      "ScheduledDay      110527 non-null datetime64[ns]\n",
      "ScheduledTime     110527 non-null object\n",
      "AppointmentDay    110527 non-null datetime64[ns]\n",
      "Age               110527 non-null int64\n",
      "Neighbourhood     110527 non-null category\n",
      "Scholarship       110527 non-null int64\n",
      "Hypertension      110527 non-null int64\n",
      "Diabetes          110527 non-null int64\n",
      "Alcoholism        110527 non-null int64\n",
      "Handicap          110527 non-null int64\n",
      "SMSReceived       110527 non-null int64\n",
      "NoShow            110527 non-null bool\n",
      "DaysInAdvance     110527 non-null int64\n",
      "ScheduledDOW      110527 non-null category\n",
      "AppointmentDOW    110527 non-null category\n",
      "age_range         110527 non-null category\n",
      "dtypes: bool(1), category(5), datetime64[ns](2), int64(10), object(1)\n",
      "memory usage: 11.2+ MB\n"
     ]
    }
   ],
   "source": [
    "# Import required modules\n",
    "import numpy as np\n",
    "from __future__ import print_function\n",
    "import pandas as pd\n",
    "import matplotlib.pyplot as plt\n",
    "from matplotlib import style\n",
    "from pprint import pprint\n",
    "from IPython.display import display\n",
    "import seaborn as sns; sns.set(font_scale=1.2)\n",
    "\n",
    "# Hide deprecation warnings\n",
    "import warnings\n",
    "warnings.filterwarnings('ignore', category=FutureWarning)\n",
    "warnings.filterwarnings('ignore', category=DeprecationWarning)\n",
    "\n",
    "import pandas as pd\n",
    "from sklearn import datasets, linear_model\n",
    "from sklearn.model_selection import train_test_split\n",
    "from matplotlib import pyplot as plt\n",
    "\n",
    "# Load the data into variable 'df' from pickled object\n",
    "from funcs import load_df\n",
    "df = load_df()\n",
    "\n",
    "# Get an overview of the raw data\n",
    "df.info(null_counts=True)"
   ]
  },
  {
   "cell_type": "markdown",
   "metadata": {},
   "source": [
    "#### Remove ID variables\n",
    "<p> Patient ID and Appointment ID are being removed because these add no value to our analysis.</p>"
   ]
  },
  {
   "cell_type": "code",
   "execution_count": 2,
   "metadata": {},
   "outputs": [
    {
     "name": "stdout",
     "output_type": "stream",
     "text": [
      "<class 'pandas.core.frame.DataFrame'>\n",
      "RangeIndex: 110527 entries, 0 to 110526\n",
      "Data columns (total 17 columns):\n",
      "Gender            110527 non-null category\n",
      "ScheduledDay      110527 non-null datetime64[ns]\n",
      "ScheduledTime     110527 non-null object\n",
      "AppointmentDay    110527 non-null datetime64[ns]\n",
      "Age               110527 non-null int64\n",
      "Neighbourhood     110527 non-null category\n",
      "Scholarship       110527 non-null int64\n",
      "Hypertension      110527 non-null int64\n",
      "Diabetes          110527 non-null int64\n",
      "Alcoholism        110527 non-null int64\n",
      "Handicap          110527 non-null int64\n",
      "SMSReceived       110527 non-null int64\n",
      "NoShow            110527 non-null bool\n",
      "DaysInAdvance     110527 non-null int64\n",
      "ScheduledDOW      110527 non-null category\n",
      "AppointmentDOW    110527 non-null category\n",
      "age_range         110527 non-null category\n",
      "dtypes: bool(1), category(5), datetime64[ns](2), int64(8), object(1)\n",
      "memory usage: 9.5+ MB\n"
     ]
    }
   ],
   "source": [
    "#Remove attributes not usefull\n",
    "del df['PatientId']\n",
    "del df['AppointmentID']\n",
    "\n",
    "df.info(null_counts=True)"
   ]
  },
  {
   "cell_type": "markdown",
   "metadata": {},
   "source": [
    "#### List Numeric Variables"
   ]
  },
  {
   "cell_type": "markdown",
   "metadata": {},
   "source": [
    "Our cleaned dataset primarily consists of binary or ordinal predictors with levels stored as whole integer values. The two numeric variables of interest to us are DaysInAdvance, which describes the number of days a patient scheduled their appointment before it occured, and Age, which describes the age of the patient in years. DaysInAdvance ranged from 0 (same-day appointments) to 179 (about 6 months before the appointment) with an average of 10.2 days. This variable is highly right-skewed, with most patients opting to schedule their appointments no more than a couple of weeks beforehand (3rd quartile of 15 days). Age ranges from 0 (taken to mean an appointment for an infant under a year of age) to 115 years. Mean age is 37.1, indicating that the majority of patients in our data set are young to middle-aged adults and children."
   ]
  },
  {
   "cell_type": "code",
   "execution_count": 3,
   "metadata": {},
   "outputs": [
    {
     "data": {
      "text/html": [
       "<div>\n",
       "<style scoped>\n",
       "    .dataframe tbody tr th:only-of-type {\n",
       "        vertical-align: middle;\n",
       "    }\n",
       "\n",
       "    .dataframe tbody tr th {\n",
       "        vertical-align: top;\n",
       "    }\n",
       "\n",
       "    .dataframe thead th {\n",
       "        text-align: right;\n",
       "    }\n",
       "</style>\n",
       "<table border=\"1\" class=\"dataframe\">\n",
       "  <thead>\n",
       "    <tr style=\"text-align: right;\">\n",
       "      <th></th>\n",
       "      <th>Age</th>\n",
       "      <th>Scholarship</th>\n",
       "      <th>Hypertension</th>\n",
       "      <th>Diabetes</th>\n",
       "      <th>Alcoholism</th>\n",
       "      <th>Handicap</th>\n",
       "      <th>SMSReceived</th>\n",
       "      <th>DaysInAdvance</th>\n",
       "    </tr>\n",
       "  </thead>\n",
       "  <tbody>\n",
       "    <tr>\n",
       "      <th>count</th>\n",
       "      <td>110527.000000</td>\n",
       "      <td>110527.000000</td>\n",
       "      <td>110527.000000</td>\n",
       "      <td>110527.000000</td>\n",
       "      <td>110527.000000</td>\n",
       "      <td>110527.000000</td>\n",
       "      <td>110527.000000</td>\n",
       "      <td>110527.000000</td>\n",
       "    </tr>\n",
       "    <tr>\n",
       "      <th>mean</th>\n",
       "      <td>37.089218</td>\n",
       "      <td>0.098266</td>\n",
       "      <td>0.197246</td>\n",
       "      <td>0.071865</td>\n",
       "      <td>0.030400</td>\n",
       "      <td>0.022248</td>\n",
       "      <td>0.321026</td>\n",
       "      <td>10.183792</td>\n",
       "    </tr>\n",
       "    <tr>\n",
       "      <th>std</th>\n",
       "      <td>23.109921</td>\n",
       "      <td>0.297675</td>\n",
       "      <td>0.397921</td>\n",
       "      <td>0.258265</td>\n",
       "      <td>0.171686</td>\n",
       "      <td>0.161543</td>\n",
       "      <td>0.466873</td>\n",
       "      <td>15.254924</td>\n",
       "    </tr>\n",
       "    <tr>\n",
       "      <th>min</th>\n",
       "      <td>0.000000</td>\n",
       "      <td>0.000000</td>\n",
       "      <td>0.000000</td>\n",
       "      <td>0.000000</td>\n",
       "      <td>0.000000</td>\n",
       "      <td>0.000000</td>\n",
       "      <td>0.000000</td>\n",
       "      <td>0.000000</td>\n",
       "    </tr>\n",
       "    <tr>\n",
       "      <th>25%</th>\n",
       "      <td>18.000000</td>\n",
       "      <td>0.000000</td>\n",
       "      <td>0.000000</td>\n",
       "      <td>0.000000</td>\n",
       "      <td>0.000000</td>\n",
       "      <td>0.000000</td>\n",
       "      <td>0.000000</td>\n",
       "      <td>0.000000</td>\n",
       "    </tr>\n",
       "    <tr>\n",
       "      <th>50%</th>\n",
       "      <td>37.000000</td>\n",
       "      <td>0.000000</td>\n",
       "      <td>0.000000</td>\n",
       "      <td>0.000000</td>\n",
       "      <td>0.000000</td>\n",
       "      <td>0.000000</td>\n",
       "      <td>0.000000</td>\n",
       "      <td>4.000000</td>\n",
       "    </tr>\n",
       "    <tr>\n",
       "      <th>75%</th>\n",
       "      <td>55.000000</td>\n",
       "      <td>0.000000</td>\n",
       "      <td>0.000000</td>\n",
       "      <td>0.000000</td>\n",
       "      <td>0.000000</td>\n",
       "      <td>0.000000</td>\n",
       "      <td>1.000000</td>\n",
       "      <td>15.000000</td>\n",
       "    </tr>\n",
       "    <tr>\n",
       "      <th>max</th>\n",
       "      <td>115.000000</td>\n",
       "      <td>1.000000</td>\n",
       "      <td>1.000000</td>\n",
       "      <td>1.000000</td>\n",
       "      <td>1.000000</td>\n",
       "      <td>4.000000</td>\n",
       "      <td>1.000000</td>\n",
       "      <td>179.000000</td>\n",
       "    </tr>\n",
       "  </tbody>\n",
       "</table>\n",
       "</div>"
      ],
      "text/plain": [
       "                 Age    Scholarship   Hypertension       Diabetes  \\\n",
       "count  110527.000000  110527.000000  110527.000000  110527.000000   \n",
       "mean       37.089218       0.098266       0.197246       0.071865   \n",
       "std        23.109921       0.297675       0.397921       0.258265   \n",
       "min         0.000000       0.000000       0.000000       0.000000   \n",
       "25%        18.000000       0.000000       0.000000       0.000000   \n",
       "50%        37.000000       0.000000       0.000000       0.000000   \n",
       "75%        55.000000       0.000000       0.000000       0.000000   \n",
       "max       115.000000       1.000000       1.000000       1.000000   \n",
       "\n",
       "          Alcoholism       Handicap    SMSReceived  DaysInAdvance  \n",
       "count  110527.000000  110527.000000  110527.000000  110527.000000  \n",
       "mean        0.030400       0.022248       0.321026      10.183792  \n",
       "std         0.171686       0.161543       0.466873      15.254924  \n",
       "min         0.000000       0.000000       0.000000       0.000000  \n",
       "25%         0.000000       0.000000       0.000000       0.000000  \n",
       "50%         0.000000       0.000000       0.000000       4.000000  \n",
       "75%         0.000000       0.000000       1.000000      15.000000  \n",
       "max         1.000000       4.000000       1.000000     179.000000  "
      ]
     },
     "execution_count": 3,
     "metadata": {},
     "output_type": "execute_result"
    }
   ],
   "source": [
    "df.describe()"
   ]
  },
  {
   "cell_type": "markdown",
   "metadata": {},
   "source": [
    "#### Simple scatter plot of Continuous Features vs NoShow\n",
    "<p>The plot below shows the age and the respective days in advance that an appointment was made. This plot shows a trend in the fewer days in advance you make an appointment, the more the higher the probability that there would be a noshow. </p> "
   ]
  },
  {
   "cell_type": "code",
   "execution_count": 4,
   "metadata": {
    "scrolled": true
   },
   "outputs": [
    {
     "data": {
      "image/png": "[encoded data removed]",
      "text/plain": [
       "<Figure size 439.895x360 with 1 Axes>"
      ]
     },
     "metadata": {
      "needs_background": "light"
     },
     "output_type": "display_data"
    }
   ],
   "source": [
    "#plot\n",
    "_ = sns.lmplot('Age','DaysInAdvance', data=df, hue='NoShow', palette='Set1', fit_reg=True, scatter_kws={\"s\": 70})"
   ]
  },
  {
   "cell_type": "code",
   "execution_count": 5,
   "metadata": {},
   "outputs": [
    {
     "data": {
      "text/html": [
       "<div>\n",
       "<style scoped>\n",
       "    .dataframe tbody tr th:only-of-type {\n",
       "        vertical-align: middle;\n",
       "    }\n",
       "\n",
       "    .dataframe tbody tr th {\n",
       "        vertical-align: top;\n",
       "    }\n",
       "\n",
       "    .dataframe thead th {\n",
       "        text-align: right;\n",
       "    }\n",
       "</style>\n",
       "<table border=\"1\" class=\"dataframe\">\n",
       "  <thead>\n",
       "    <tr style=\"text-align: right;\">\n",
       "      <th></th>\n",
       "      <th>count</th>\n",
       "      <th>mean</th>\n",
       "      <th>std</th>\n",
       "      <th>min</th>\n",
       "      <th>25%</th>\n",
       "      <th>50%</th>\n",
       "      <th>75%</th>\n",
       "      <th>max</th>\n",
       "    </tr>\n",
       "  </thead>\n",
       "  <tbody>\n",
       "    <tr>\n",
       "      <th>Age</th>\n",
       "      <td>110527.0</td>\n",
       "      <td>37.089218</td>\n",
       "      <td>23.109921</td>\n",
       "      <td>0.0</td>\n",
       "      <td>18.0</td>\n",
       "      <td>37.0</td>\n",
       "      <td>55.0</td>\n",
       "      <td>115.0</td>\n",
       "    </tr>\n",
       "    <tr>\n",
       "      <th>Scholarship</th>\n",
       "      <td>110527.0</td>\n",
       "      <td>0.098266</td>\n",
       "      <td>0.297675</td>\n",
       "      <td>0.0</td>\n",
       "      <td>0.0</td>\n",
       "      <td>0.0</td>\n",
       "      <td>0.0</td>\n",
       "      <td>1.0</td>\n",
       "    </tr>\n",
       "    <tr>\n",
       "      <th>Hypertension</th>\n",
       "      <td>110527.0</td>\n",
       "      <td>0.197246</td>\n",
       "      <td>0.397921</td>\n",
       "      <td>0.0</td>\n",
       "      <td>0.0</td>\n",
       "      <td>0.0</td>\n",
       "      <td>0.0</td>\n",
       "      <td>1.0</td>\n",
       "    </tr>\n",
       "    <tr>\n",
       "      <th>Diabetes</th>\n",
       "      <td>110527.0</td>\n",
       "      <td>0.071865</td>\n",
       "      <td>0.258265</td>\n",
       "      <td>0.0</td>\n",
       "      <td>0.0</td>\n",
       "      <td>0.0</td>\n",
       "      <td>0.0</td>\n",
       "      <td>1.0</td>\n",
       "    </tr>\n",
       "    <tr>\n",
       "      <th>Alcoholism</th>\n",
       "      <td>110527.0</td>\n",
       "      <td>0.030400</td>\n",
       "      <td>0.171686</td>\n",
       "      <td>0.0</td>\n",
       "      <td>0.0</td>\n",
       "      <td>0.0</td>\n",
       "      <td>0.0</td>\n",
       "      <td>1.0</td>\n",
       "    </tr>\n",
       "    <tr>\n",
       "      <th>Handicap</th>\n",
       "      <td>110527.0</td>\n",
       "      <td>0.022248</td>\n",
       "      <td>0.161543</td>\n",
       "      <td>0.0</td>\n",
       "      <td>0.0</td>\n",
       "      <td>0.0</td>\n",
       "      <td>0.0</td>\n",
       "      <td>4.0</td>\n",
       "    </tr>\n",
       "    <tr>\n",
       "      <th>SMSReceived</th>\n",
       "      <td>110527.0</td>\n",
       "      <td>0.321026</td>\n",
       "      <td>0.466873</td>\n",
       "      <td>0.0</td>\n",
       "      <td>0.0</td>\n",
       "      <td>0.0</td>\n",
       "      <td>1.0</td>\n",
       "      <td>1.0</td>\n",
       "    </tr>\n",
       "  </tbody>\n",
       "</table>\n",
       "</div>"
      ],
      "text/plain": [
       "                 count       mean        std  min   25%   50%   75%    max\n",
       "Age           110527.0  37.089218  23.109921  0.0  18.0  37.0  55.0  115.0\n",
       "Scholarship   110527.0   0.098266   0.297675  0.0   0.0   0.0   0.0    1.0\n",
       "Hypertension  110527.0   0.197246   0.397921  0.0   0.0   0.0   0.0    1.0\n",
       "Diabetes      110527.0   0.071865   0.258265  0.0   0.0   0.0   0.0    1.0\n",
       "Alcoholism    110527.0   0.030400   0.171686  0.0   0.0   0.0   0.0    1.0\n",
       "Handicap      110527.0   0.022248   0.161543  0.0   0.0   0.0   0.0    4.0\n",
       "SMSReceived   110527.0   0.321026   0.466873  0.0   0.0   0.0   1.0    1.0"
      ]
     },
     "execution_count": 5,
     "metadata": {},
     "output_type": "execute_result"
    }
   ],
   "source": [
    "# NOTE: calling describe when not all the data is categorical will cause the \n",
    "# categorical variables to be removed\n",
    "df[['Age', 'age_range','ScheduledDay','ScheduledTime','AppointmentDay',\n",
    "    'Gender','age_range','Neighbourhood','Scholarship',\n",
    "    'Hypertension','Diabetes','Alcoholism','Handicap',\n",
    "    'SMSReceived','ScheduledDOW','AppointmentDOW','NoShow']].describe().transpose()"
   ]
  },
  {
   "cell_type": "markdown",
   "metadata": {},
   "source": [
    "#### One Hot Encode Variables\n",
    "<p>We will create dummy variables for our categorical predictors in order to build a logistic regression model with scikit learn.</p>"
   ]
  },
  {
   "cell_type": "code",
   "execution_count": 6,
   "metadata": {},
   "outputs": [],
   "source": [
    "# perform one-hot encoding of the categorical data \n",
    "tmp_df = pd.get_dummies(df.Handicap,prefix='Handicap')\n",
    "df = pd.concat((df,tmp_df),axis=1) # add back into the dataframe\n",
    "\n",
    "tmp_df = pd.get_dummies(df.AppointmentDOW,prefix='AppointmentDOW')\n",
    "df = pd.concat((df,tmp_df),axis=1) # add back into the dataframe\n",
    "\n",
    "tmp_df = pd.get_dummies(df.ScheduledDOW,prefix='ScheduledDOW')\n",
    "df = pd.concat((df,tmp_df),axis=1) # add back into the dataframe\n",
    "\n",
    "tmp_df = pd.get_dummies(df.Neighbourhood,prefix='Neighbourhood')\n",
    "df = pd.concat((df,tmp_df),axis=1) # add back into the dataframe\n",
    "\n",
    "tmp_df = pd.get_dummies(df.age_range,prefix='age_range')\n",
    "df = pd.concat((df,tmp_df),axis=1) # add back into the dataframe"
   ]
  },
  {
   "cell_type": "markdown",
   "metadata": {},
   "source": [
    "Gender is currently stored as a categorical variables stored as 'M' (Male) or 'F' (Female). To format this variable in the same way as other predictors in our dataset, we will re-code this variable as 0 (Female) or 1 (Male)."
   ]
  },
  {
   "cell_type": "code",
   "execution_count": 7,
   "metadata": {
    "scrolled": true
   },
   "outputs": [
    {
     "data": {
      "text/plain": [
       "count    110527.000000\n",
       "mean          0.350023\n",
       "std           0.476979\n",
       "min           0.000000\n",
       "25%           0.000000\n",
       "50%           0.000000\n",
       "75%           1.000000\n",
       "max           1.000000\n",
       "Name: IsMale, dtype: float64"
      ]
     },
     "execution_count": 7,
     "metadata": {},
     "output_type": "execute_result"
    }
   ],
   "source": [
    "# replace the current Gender attribute with something slightly more intuitive and readable\n",
    "df['IsMale'] = df.Gender=='M' \n",
    "df.IsMale = df.IsMale.astype(np.int)\n",
    "\n",
    "df.IsMale.describe()"
   ]
  },
  {
   "cell_type": "markdown",
   "metadata": {},
   "source": [
    "#### Remove variables\n",
    "<p>Since we have new one-hot encoded variables for each categorical predictor, we will remove the old formatted predictors from our data.</p>"
   ]
  },
  {
   "cell_type": "code",
   "execution_count": 8,
   "metadata": {},
   "outputs": [],
   "source": [
    "# Now let's clean up the dataset\n",
    "if 'Gender' in df:\n",
    "    del df['Gender'] # if 'Sex' column still exists, delete it (as we created an ismale column)\n",
    "    \n",
    "if 'Handicap' in df:    \n",
    "    del df['Handicap'] # get rid of the original category as it is now one-hot encoded\n",
    "    \n",
    "if 'ScheduledDOW' in df:    \n",
    "    del df['ScheduledDOW'] # get rid of the original category as it is now one-hot encoded\n",
    "    \n",
    "if 'AppointmentDOW' in df:    \n",
    "    del df['AppointmentDOW'] # get rid of the original category as it is now one-hot encoded\n",
    "\n",
    "if 'Neighbourhood' in df:    \n",
    "    del df['Neighbourhood'] # get rid of the original category as it is now one-hot encoded\n",
    "\n",
    "if 'age_range' in df:\n",
    "    del df['age_range']\n",
    "\n",
    "if 'AppointmentID' in df:\n",
    "    del df['AppointmentID']\n",
    "    \n",
    "if 'ScheduledDay' in df:\n",
    "    del df['ScheduledDay']\n",
    "    \n",
    "if 'ScheduledTime' in df:\n",
    "    del df['ScheduledTime']\n",
    "\n",
    "if 'AppointmentDay' in df:\n",
    "    del df['AppointmentDay']"
   ]
  },
  {
   "cell_type": "code",
   "execution_count": 9,
   "metadata": {},
   "outputs": [
    {
     "data": {
      "text/html": [
       "<div>\n",
       "<style scoped>\n",
       "    .dataframe tbody tr th:only-of-type {\n",
       "        vertical-align: middle;\n",
       "    }\n",
       "\n",
       "    .dataframe tbody tr th {\n",
       "        vertical-align: top;\n",
       "    }\n",
       "\n",
       "    .dataframe thead th {\n",
       "        text-align: right;\n",
       "    }\n",
       "</style>\n",
       "<table border=\"1\" class=\"dataframe\">\n",
       "  <thead>\n",
       "    <tr style=\"text-align: right;\">\n",
       "      <th></th>\n",
       "      <th>Age</th>\n",
       "      <th>Scholarship</th>\n",
       "      <th>Hypertension</th>\n",
       "      <th>Diabetes</th>\n",
       "      <th>Alcoholism</th>\n",
       "      <th>SMSReceived</th>\n",
       "      <th>NoShow</th>\n",
       "      <th>DaysInAdvance</th>\n",
       "      <th>Handicap_0</th>\n",
       "      <th>Handicap_1</th>\n",
       "      <th>...</th>\n",
       "      <th>Neighbourhood_SÃO CRISTÓVÃO</th>\n",
       "      <th>Neighbourhood_SÃO JOSÉ</th>\n",
       "      <th>Neighbourhood_SÃO PEDRO</th>\n",
       "      <th>Neighbourhood_TABUAZEIRO</th>\n",
       "      <th>Neighbourhood_UNIVERSITÁRIO</th>\n",
       "      <th>Neighbourhood_VILA RUBIM</th>\n",
       "      <th>age_range_child</th>\n",
       "      <th>age_range_adult</th>\n",
       "      <th>age_range_senior</th>\n",
       "      <th>IsMale</th>\n",
       "    </tr>\n",
       "  </thead>\n",
       "  <tbody>\n",
       "    <tr>\n",
       "      <th>0</th>\n",
       "      <td>62</td>\n",
       "      <td>0</td>\n",
       "      <td>1</td>\n",
       "      <td>0</td>\n",
       "      <td>0</td>\n",
       "      <td>0</td>\n",
       "      <td>False</td>\n",
       "      <td>0</td>\n",
       "      <td>1</td>\n",
       "      <td>0</td>\n",
       "      <td>...</td>\n",
       "      <td>0</td>\n",
       "      <td>0</td>\n",
       "      <td>0</td>\n",
       "      <td>0</td>\n",
       "      <td>0</td>\n",
       "      <td>0</td>\n",
       "      <td>0</td>\n",
       "      <td>1</td>\n",
       "      <td>0</td>\n",
       "      <td>0</td>\n",
       "    </tr>\n",
       "    <tr>\n",
       "      <th>1</th>\n",
       "      <td>56</td>\n",
       "      <td>0</td>\n",
       "      <td>0</td>\n",
       "      <td>0</td>\n",
       "      <td>0</td>\n",
       "      <td>0</td>\n",
       "      <td>False</td>\n",
       "      <td>0</td>\n",
       "      <td>1</td>\n",
       "      <td>0</td>\n",
       "      <td>...</td>\n",
       "      <td>0</td>\n",
       "      <td>0</td>\n",
       "      <td>0</td>\n",
       "      <td>0</td>\n",
       "      <td>0</td>\n",
       "      <td>0</td>\n",
       "      <td>0</td>\n",
       "      <td>1</td>\n",
       "      <td>0</td>\n",
       "      <td>1</td>\n",
       "    </tr>\n",
       "    <tr>\n",
       "      <th>2</th>\n",
       "      <td>62</td>\n",
       "      <td>0</td>\n",
       "      <td>0</td>\n",
       "      <td>0</td>\n",
       "      <td>0</td>\n",
       "      <td>0</td>\n",
       "      <td>False</td>\n",
       "      <td>0</td>\n",
       "      <td>1</td>\n",
       "      <td>0</td>\n",
       "      <td>...</td>\n",
       "      <td>0</td>\n",
       "      <td>0</td>\n",
       "      <td>0</td>\n",
       "      <td>0</td>\n",
       "      <td>0</td>\n",
       "      <td>0</td>\n",
       "      <td>0</td>\n",
       "      <td>1</td>\n",
       "      <td>0</td>\n",
       "      <td>0</td>\n",
       "    </tr>\n",
       "    <tr>\n",
       "      <th>3</th>\n",
       "      <td>8</td>\n",
       "      <td>0</td>\n",
       "      <td>0</td>\n",
       "      <td>0</td>\n",
       "      <td>0</td>\n",
       "      <td>0</td>\n",
       "      <td>False</td>\n",
       "      <td>0</td>\n",
       "      <td>1</td>\n",
       "      <td>0</td>\n",
       "      <td>...</td>\n",
       "      <td>0</td>\n",
       "      <td>0</td>\n",
       "      <td>0</td>\n",
       "      <td>0</td>\n",
       "      <td>0</td>\n",
       "      <td>0</td>\n",
       "      <td>1</td>\n",
       "      <td>0</td>\n",
       "      <td>0</td>\n",
       "      <td>0</td>\n",
       "    </tr>\n",
       "    <tr>\n",
       "      <th>4</th>\n",
       "      <td>56</td>\n",
       "      <td>0</td>\n",
       "      <td>1</td>\n",
       "      <td>1</td>\n",
       "      <td>0</td>\n",
       "      <td>0</td>\n",
       "      <td>False</td>\n",
       "      <td>0</td>\n",
       "      <td>1</td>\n",
       "      <td>0</td>\n",
       "      <td>...</td>\n",
       "      <td>0</td>\n",
       "      <td>0</td>\n",
       "      <td>0</td>\n",
       "      <td>0</td>\n",
       "      <td>0</td>\n",
       "      <td>0</td>\n",
       "      <td>0</td>\n",
       "      <td>1</td>\n",
       "      <td>0</td>\n",
       "      <td>0</td>\n",
       "    </tr>\n",
       "  </tbody>\n",
       "</table>\n",
       "<p>5 rows × 112 columns</p>\n",
       "</div>"
      ],
      "text/plain": [
       "   Age  Scholarship  Hypertension  Diabetes  Alcoholism  SMSReceived  NoShow  \\\n",
       "0   62            0             1         0           0            0   False   \n",
       "1   56            0             0         0           0            0   False   \n",
       "2   62            0             0         0           0            0   False   \n",
       "3    8            0             0         0           0            0   False   \n",
       "4   56            0             1         1           0            0   False   \n",
       "\n",
       "   DaysInAdvance  Handicap_0  Handicap_1   ...    Neighbourhood_SÃO CRISTÓVÃO  \\\n",
       "0              0           1           0   ...                              0   \n",
       "1              0           1           0   ...                              0   \n",
       "2              0           1           0   ...                              0   \n",
       "3              0           1           0   ...                              0   \n",
       "4              0           1           0   ...                              0   \n",
       "\n",
       "   Neighbourhood_SÃO JOSÉ  Neighbourhood_SÃO PEDRO  Neighbourhood_TABUAZEIRO  \\\n",
       "0                       0                        0                         0   \n",
       "1                       0                        0                         0   \n",
       "2                       0                        0                         0   \n",
       "3                       0                        0                         0   \n",
       "4                       0                        0                         0   \n",
       "\n",
       "   Neighbourhood_UNIVERSITÁRIO  Neighbourhood_VILA RUBIM  age_range_child  \\\n",
       "0                            0                         0                0   \n",
       "1                            0                         0                0   \n",
       "2                            0                         0                0   \n",
       "3                            0                         0                1   \n",
       "4                            0                         0                0   \n",
       "\n",
       "   age_range_adult  age_range_senior  IsMale  \n",
       "0                1                 0       0  \n",
       "1                1                 0       1  \n",
       "2                1                 0       0  \n",
       "3                0                 0       0  \n",
       "4                1                 0       0  \n",
       "\n",
       "[5 rows x 112 columns]"
      ]
     },
     "execution_count": 9,
     "metadata": {},
     "output_type": "execute_result"
    }
   ],
   "source": [
    "df.head()"
   ]
  },
  {
   "cell_type": "markdown",
   "metadata": {},
   "source": [
    "## Create Models (50pts))"
   ]
  },
  {
   "cell_type": "code",
   "execution_count": 10,
   "metadata": {},
   "outputs": [],
   "source": [
    "# Import additional libraries\n",
    "from sklearn import preprocessing\n",
    "from sklearn.linear_model import LogisticRegression\n",
    "from sklearn.model_selection import train_test_split\n",
    "\n",
    " #Preset visualization preferences\n",
    "plt.rc(\"font\", size=14)\n",
    "sns.set(style=\"white\")\n",
    "sns.set(style=\"whitegrid\", color_codes=True)"
   ]
  },
  {
   "cell_type": "markdown",
   "metadata": {},
   "source": [
    "#### List of Predictors\n",
    "<p>Performing one-hot encoding has increased the number of predictor variables in our data set from 15 to 112, because we now have separate binary variables for each level of each of our categorical predictors. </p>"
   ]
  },
  {
   "cell_type": "code",
   "execution_count": 11,
   "metadata": {},
   "outputs": [
    {
     "name": "stdout",
     "output_type": "stream",
     "text": [
      "<class 'pandas.core.frame.DataFrame'>\n",
      "RangeIndex: 110527 entries, 0 to 110526\n",
      "Data columns (total 112 columns):\n",
      "Age                                          int64\n",
      "Scholarship                                  int64\n",
      "Hypertension                                 int64\n",
      "Diabetes                                     int64\n",
      "Alcoholism                                   int64\n",
      "SMSReceived                                  int64\n",
      "NoShow                                       bool\n",
      "DaysInAdvance                                int64\n",
      "Handicap_0                                   uint8\n",
      "Handicap_1                                   uint8\n",
      "Handicap_2                                   uint8\n",
      "Handicap_3                                   uint8\n",
      "Handicap_4                                   uint8\n",
      "AppointmentDOW_Monday                        uint8\n",
      "AppointmentDOW_Tuesday                       uint8\n",
      "AppointmentDOW_Wednesday                     uint8\n",
      "AppointmentDOW_Thursday                      uint8\n",
      "AppointmentDOW_Friday                        uint8\n",
      "AppointmentDOW_Saturday                      uint8\n",
      "AppointmentDOW_Sunday                        uint8\n",
      "ScheduledDOW_Monday                          uint8\n",
      "ScheduledDOW_Tuesday                         uint8\n",
      "ScheduledDOW_Wednesday                       uint8\n",
      "ScheduledDOW_Thursday                        uint8\n",
      "ScheduledDOW_Friday                          uint8\n",
      "ScheduledDOW_Saturday                        uint8\n",
      "ScheduledDOW_Sunday                          uint8\n",
      "Neighbourhood_AEROPORTO                      uint8\n",
      "Neighbourhood_ANDORINHAS                     uint8\n",
      "Neighbourhood_ANTÔNIO HONÓRIO                uint8\n",
      "Neighbourhood_ARIOVALDO FAVALESSA            uint8\n",
      "Neighbourhood_BARRO VERMELHO                 uint8\n",
      "Neighbourhood_BELA VISTA                     uint8\n",
      "Neighbourhood_BENTO FERREIRA                 uint8\n",
      "Neighbourhood_BOA VISTA                      uint8\n",
      "Neighbourhood_BONFIM                         uint8\n",
      "Neighbourhood_CARATOÍRA                      uint8\n",
      "Neighbourhood_CENTRO                         uint8\n",
      "Neighbourhood_COMDUSA                        uint8\n",
      "Neighbourhood_CONQUISTA                      uint8\n",
      "Neighbourhood_CONSOLAÇÃO                     uint8\n",
      "Neighbourhood_CRUZAMENTO                     uint8\n",
      "Neighbourhood_DA PENHA                       uint8\n",
      "Neighbourhood_DE LOURDES                     uint8\n",
      "Neighbourhood_DO CABRAL                      uint8\n",
      "Neighbourhood_DO MOSCOSO                     uint8\n",
      "Neighbourhood_DO QUADRO                      uint8\n",
      "Neighbourhood_ENSEADA DO SUÁ                 uint8\n",
      "Neighbourhood_ESTRELINHA                     uint8\n",
      "Neighbourhood_FONTE GRANDE                   uint8\n",
      "Neighbourhood_FORTE SÃO JOÃO                 uint8\n",
      "Neighbourhood_FRADINHOS                      uint8\n",
      "Neighbourhood_GOIABEIRAS                     uint8\n",
      "Neighbourhood_GRANDE VITÓRIA                 uint8\n",
      "Neighbourhood_GURIGICA                       uint8\n",
      "Neighbourhood_HORTO                          uint8\n",
      "Neighbourhood_ILHA DAS CAIEIRAS              uint8\n",
      "Neighbourhood_ILHA DE SANTA MARIA            uint8\n",
      "Neighbourhood_ILHA DO BOI                    uint8\n",
      "Neighbourhood_ILHA DO FRADE                  uint8\n",
      "Neighbourhood_ILHA DO PRÍNCIPE               uint8\n",
      "Neighbourhood_ILHAS OCEÂNICAS DE TRINDADE    uint8\n",
      "Neighbourhood_INHANGUETÁ                     uint8\n",
      "Neighbourhood_ITARARÉ                        uint8\n",
      "Neighbourhood_JABOUR                         uint8\n",
      "Neighbourhood_JARDIM CAMBURI                 uint8\n",
      "Neighbourhood_JARDIM DA PENHA                uint8\n",
      "Neighbourhood_JESUS DE NAZARETH              uint8\n",
      "Neighbourhood_JOANA D´ARC                    uint8\n",
      "Neighbourhood_JUCUTUQUARA                    uint8\n",
      "Neighbourhood_MARIA ORTIZ                    uint8\n",
      "Neighbourhood_MARUÍPE                        uint8\n",
      "Neighbourhood_MATA DA PRAIA                  uint8\n",
      "Neighbourhood_MONTE BELO                     uint8\n",
      "Neighbourhood_MORADA DE CAMBURI              uint8\n",
      "Neighbourhood_MÁRIO CYPRESTE                 uint8\n",
      "Neighbourhood_NAZARETH                       uint8\n",
      "Neighbourhood_NOVA PALESTINA                 uint8\n",
      "Neighbourhood_PARQUE INDUSTRIAL              uint8\n",
      "Neighbourhood_PARQUE MOSCOSO                 uint8\n",
      "Neighbourhood_PIEDADE                        uint8\n",
      "Neighbourhood_PONTAL DE CAMBURI              uint8\n",
      "Neighbourhood_PRAIA DO CANTO                 uint8\n",
      "Neighbourhood_PRAIA DO SUÁ                   uint8\n",
      "Neighbourhood_REDENÇÃO                       uint8\n",
      "Neighbourhood_REPÚBLICA                      uint8\n",
      "Neighbourhood_RESISTÊNCIA                    uint8\n",
      "Neighbourhood_ROMÃO                          uint8\n",
      "Neighbourhood_SANTA CECÍLIA                  uint8\n",
      "Neighbourhood_SANTA CLARA                    uint8\n",
      "Neighbourhood_SANTA HELENA                   uint8\n",
      "Neighbourhood_SANTA LUÍZA                    uint8\n",
      "Neighbourhood_SANTA LÚCIA                    uint8\n",
      "Neighbourhood_SANTA MARTHA                   uint8\n",
      "Neighbourhood_SANTA TEREZA                   uint8\n",
      "Neighbourhood_SANTO ANDRÉ                    uint8\n",
      "Neighbourhood_SANTO ANTÔNIO                  uint8\n",
      "Neighbourhood_SANTOS DUMONT                  uint8\n",
      "Neighbourhood_SANTOS REIS                    uint8\n",
      "Neighbourhood_SEGURANÇA DO LAR               uint8\n",
      "Neighbourhood_SOLON BORGES                   uint8\n",
      "Neighbourhood_SÃO BENEDITO                   uint8\n",
      "Neighbourhood_SÃO CRISTÓVÃO                  uint8\n",
      "Neighbourhood_SÃO JOSÉ                       uint8\n",
      "Neighbourhood_SÃO PEDRO                      uint8\n",
      "Neighbourhood_TABUAZEIRO                     uint8\n",
      "Neighbourhood_UNIVERSITÁRIO                  uint8\n",
      "Neighbourhood_VILA RUBIM                     uint8\n",
      "age_range_child                              uint8\n",
      "age_range_adult                              uint8\n",
      "age_range_senior                             uint8\n",
      "IsMale                                       int32\n",
      "dtypes: bool(1), int32(1), int64(7), uint8(103)\n",
      "memory usage: 17.3 MB\n"
     ]
    }
   ],
   "source": [
    "df.info(verbose=True)"
   ]
  },
  {
   "cell_type": "markdown",
   "metadata": {},
   "source": [
    "#### Binary Variable - No Show\n",
    "For our response variable *NoShow*, a value of *True* represents that a patient did not show up for their scheduled appointment. We will work to build a logistic regression model that will predict a no-show based on the above predictors.<br><br>\n",
    "As is evidenced below, no-show appointments represent approximately 20.2% of the total number of appointments for which we have data (110,527 appointments in total)."
   ]
  },
  {
   "cell_type": "code",
   "execution_count": 12,
   "metadata": {},
   "outputs": [
    {
     "data": {
      "text/plain": [
       "False    88208\n",
       "True     22319\n",
       "Name: NoShow, dtype: int64"
      ]
     },
     "execution_count": 12,
     "metadata": {},
     "output_type": "execute_result"
    }
   ],
   "source": [
    "df['NoShow'].value_counts()"
   ]
  },
  {
   "cell_type": "code",
   "execution_count": 13,
   "metadata": {},
   "outputs": [
    {
     "data": {
      "image/png": "[encoded data removed]",
      "text/plain": [
       "<Figure size 432x288 with 1 Axes>"
      ]
     },
     "metadata": {},
     "output_type": "display_data"
    },
    {
     "data": {
      "text/plain": [
       "<Figure size 432x288 with 0 Axes>"
      ]
     },
     "metadata": {},
     "output_type": "display_data"
    }
   ],
   "source": [
    "_ = sns.countplot(x='NoShow', data=df, palette='hls', label=True)\n",
    "plt.show()\n",
    "plt.savefig('./images/count_plot')"
   ]
  },
  {
   "cell_type": "code",
   "execution_count": 14,
   "metadata": {},
   "outputs": [
    {
     "name": "stdout",
     "output_type": "stream",
     "text": [
      "The percentage of no-shows is 20.19%\n",
      "The percentage of shows is 79.81%\n"
     ]
    }
   ],
   "source": [
    "count_NoShow = len(df[df['NoShow']==0])\n",
    "count_Show = len(df[df['NoShow']==1])\n",
    "pct_of_Show = count_NoShow/(count_NoShow+count_Show)\n",
    "pct_of_NoShow = count_Show/(count_NoShow+count_Show)\n",
    "print(\"The percentage of no-shows is {:.2f}%\".format(pct_of_NoShow*100))\n",
    "print(\"The percentage of shows is {:.2f}%\".format(pct_of_Show*100))"
   ]
  },
  {
   "cell_type": "markdown",
   "metadata": {},
   "source": [
    "#### Creating Numpy Matrices\n",
    "We create *numpy* matrices to store our reponse and predictor data from which we will build the model:\n",
    "- y is our Response Variable NoShow. \n",
    "- X is an array containing all the variables that are being used as predictors. NoShow is removed from this array, since it will be used for training the model."
   ]
  },
  {
   "cell_type": "code",
   "execution_count": 15,
   "metadata": {},
   "outputs": [
    {
     "name": "stdout",
     "output_type": "stream",
     "text": [
      "<class 'pandas.core.frame.DataFrame'>\n",
      "RangeIndex: 110527 entries, 0 to 110526\n",
      "Data columns (total 112 columns):\n",
      "Age                                          int64\n",
      "Scholarship                                  int64\n",
      "Hypertension                                 int64\n",
      "Diabetes                                     int64\n",
      "Alcoholism                                   int64\n",
      "SMSReceived                                  int64\n",
      "NoShow                                       bool\n",
      "DaysInAdvance                                int64\n",
      "Handicap_0                                   uint8\n",
      "Handicap_1                                   uint8\n",
      "Handicap_2                                   uint8\n",
      "Handicap_3                                   uint8\n",
      "Handicap_4                                   uint8\n",
      "AppointmentDOW_Monday                        uint8\n",
      "AppointmentDOW_Tuesday                       uint8\n",
      "AppointmentDOW_Wednesday                     uint8\n",
      "AppointmentDOW_Thursday                      uint8\n",
      "AppointmentDOW_Friday                        uint8\n",
      "AppointmentDOW_Saturday                      uint8\n",
      "AppointmentDOW_Sunday                        uint8\n",
      "ScheduledDOW_Monday                          uint8\n",
      "ScheduledDOW_Tuesday                         uint8\n",
      "ScheduledDOW_Wednesday                       uint8\n",
      "ScheduledDOW_Thursday                        uint8\n",
      "ScheduledDOW_Friday                          uint8\n",
      "ScheduledDOW_Saturday                        uint8\n",
      "ScheduledDOW_Sunday                          uint8\n",
      "Neighbourhood_AEROPORTO                      uint8\n",
      "Neighbourhood_ANDORINHAS                     uint8\n",
      "Neighbourhood_ANTÔNIO HONÓRIO                uint8\n",
      "Neighbourhood_ARIOVALDO FAVALESSA            uint8\n",
      "Neighbourhood_BARRO VERMELHO                 uint8\n",
      "Neighbourhood_BELA VISTA                     uint8\n",
      "Neighbourhood_BENTO FERREIRA                 uint8\n",
      "Neighbourhood_BOA VISTA                      uint8\n",
      "Neighbourhood_BONFIM                         uint8\n",
      "Neighbourhood_CARATOÍRA                      uint8\n",
      "Neighbourhood_CENTRO                         uint8\n",
      "Neighbourhood_COMDUSA                        uint8\n",
      "Neighbourhood_CONQUISTA                      uint8\n",
      "Neighbourhood_CONSOLAÇÃO                     uint8\n",
      "Neighbourhood_CRUZAMENTO                     uint8\n",
      "Neighbourhood_DA PENHA                       uint8\n",
      "Neighbourhood_DE LOURDES                     uint8\n",
      "Neighbourhood_DO CABRAL                      uint8\n",
      "Neighbourhood_DO MOSCOSO                     uint8\n",
      "Neighbourhood_DO QUADRO                      uint8\n",
      "Neighbourhood_ENSEADA DO SUÁ                 uint8\n",
      "Neighbourhood_ESTRELINHA                     uint8\n",
      "Neighbourhood_FONTE GRANDE                   uint8\n",
      "Neighbourhood_FORTE SÃO JOÃO                 uint8\n",
      "Neighbourhood_FRADINHOS                      uint8\n",
      "Neighbourhood_GOIABEIRAS                     uint8\n",
      "Neighbourhood_GRANDE VITÓRIA                 uint8\n",
      "Neighbourhood_GURIGICA                       uint8\n",
      "Neighbourhood_HORTO                          uint8\n",
      "Neighbourhood_ILHA DAS CAIEIRAS              uint8\n",
      "Neighbourhood_ILHA DE SANTA MARIA            uint8\n",
      "Neighbourhood_ILHA DO BOI                    uint8\n",
      "Neighbourhood_ILHA DO FRADE                  uint8\n",
      "Neighbourhood_ILHA DO PRÍNCIPE               uint8\n",
      "Neighbourhood_ILHAS OCEÂNICAS DE TRINDADE    uint8\n",
      "Neighbourhood_INHANGUETÁ                     uint8\n",
      "Neighbourhood_ITARARÉ                        uint8\n",
      "Neighbourhood_JABOUR                         uint8\n",
      "Neighbourhood_JARDIM CAMBURI                 uint8\n",
      "Neighbourhood_JARDIM DA PENHA                uint8\n",
      "Neighbourhood_JESUS DE NAZARETH              uint8\n",
      "Neighbourhood_JOANA D´ARC                    uint8\n",
      "Neighbourhood_JUCUTUQUARA                    uint8\n",
      "Neighbourhood_MARIA ORTIZ                    uint8\n",
      "Neighbourhood_MARUÍPE                        uint8\n",
      "Neighbourhood_MATA DA PRAIA                  uint8\n",
      "Neighbourhood_MONTE BELO                     uint8\n",
      "Neighbourhood_MORADA DE CAMBURI              uint8\n",
      "Neighbourhood_MÁRIO CYPRESTE                 uint8\n",
      "Neighbourhood_NAZARETH                       uint8\n",
      "Neighbourhood_NOVA PALESTINA                 uint8\n",
      "Neighbourhood_PARQUE INDUSTRIAL              uint8\n",
      "Neighbourhood_PARQUE MOSCOSO                 uint8\n",
      "Neighbourhood_PIEDADE                        uint8\n",
      "Neighbourhood_PONTAL DE CAMBURI              uint8\n",
      "Neighbourhood_PRAIA DO CANTO                 uint8\n",
      "Neighbourhood_PRAIA DO SUÁ                   uint8\n",
      "Neighbourhood_REDENÇÃO                       uint8\n",
      "Neighbourhood_REPÚBLICA                      uint8\n",
      "Neighbourhood_RESISTÊNCIA                    uint8\n",
      "Neighbourhood_ROMÃO                          uint8\n",
      "Neighbourhood_SANTA CECÍLIA                  uint8\n",
      "Neighbourhood_SANTA CLARA                    uint8\n",
      "Neighbourhood_SANTA HELENA                   uint8\n",
      "Neighbourhood_SANTA LUÍZA                    uint8\n",
      "Neighbourhood_SANTA LÚCIA                    uint8\n",
      "Neighbourhood_SANTA MARTHA                   uint8\n",
      "Neighbourhood_SANTA TEREZA                   uint8\n",
      "Neighbourhood_SANTO ANDRÉ                    uint8\n",
      "Neighbourhood_SANTO ANTÔNIO                  uint8\n",
      "Neighbourhood_SANTOS DUMONT                  uint8\n",
      "Neighbourhood_SANTOS REIS                    uint8\n",
      "Neighbourhood_SEGURANÇA DO LAR               uint8\n",
      "Neighbourhood_SOLON BORGES                   uint8\n",
      "Neighbourhood_SÃO BENEDITO                   uint8\n",
      "Neighbourhood_SÃO CRISTÓVÃO                  uint8\n",
      "Neighbourhood_SÃO JOSÉ                       uint8\n",
      "Neighbourhood_SÃO PEDRO                      uint8\n",
      "Neighbourhood_TABUAZEIRO                     uint8\n",
      "Neighbourhood_UNIVERSITÁRIO                  uint8\n",
      "Neighbourhood_VILA RUBIM                     uint8\n",
      "age_range_child                              uint8\n",
      "age_range_adult                              uint8\n",
      "age_range_senior                             uint8\n",
      "IsMale                                       int32\n",
      "dtypes: bool(1), int32(1), int64(7), uint8(103)\n",
      "memory usage: 17.3 MB\n"
     ]
    }
   ],
   "source": [
    "from sklearn.model_selection import ShuffleSplit\n",
    "\n",
    "# we want to predict the X and y data as follows:\n",
    "if 'NoShow' in df:\n",
    "    y = df['NoShow'].values # get the labels we want\n",
    "    df_x = df.copy()\n",
    "    del df_x['NoShow'] # get rid of the class label\n",
    "    X = df_x.values # use everything else to predict!\n",
    "    \n",
    "    df.info(verbose=True)"
   ]
  },
  {
   "cell_type": "markdown",
   "metadata": {},
   "source": [
    "#### Split Dataset (Train / Test)\n",
    "<p>We created a cross validation object (cv_object) with 3 folds cross validation in which 20% of the data will be for testing and 80% for training the model. ShuffleSplit randomly samples the traning and test portions, so we also set a seed value to ensure that the same random splits will be used each time we run the code.</p>"
   ]
  },
  {
   "cell_type": "code",
   "execution_count": 16,
   "metadata": {},
   "outputs": [
    {
     "name": "stdout",
     "output_type": "stream",
     "text": [
      "ShuffleSplit(n_splits=3, random_state=123456789, test_size=0.2,\n",
      "       train_size=0.8)\n"
     ]
    }
   ],
   "source": [
    "## X and y are now numpy matrices, by calling 'values' on the pandas data frames we\n",
    "#    have converted them into simple matrices to use with scikit learn\n",
    "# to use the cross validation object in scikit learn, we need to grab an instance\n",
    "#    of the object and set it up. This object will be able to split our data into \n",
    "#    training and testing splits\n",
    "num_cv_iterations = 3\n",
    "num_instances = len(y)\n",
    "cv_object = ShuffleSplit(n_splits=num_cv_iterations,\n",
    "                         test_size  = 0.2,\n",
    "                         train_size=0.8,\n",
    "                         random_state=123456789)\n",
    "                         \n",
    "print(cv_object)"
   ]
  },
  {
   "cell_type": "markdown",
   "metadata": {},
   "source": [
    "### Model 1 : Logistic Regression\n",
    "##### Assumptions Met:\n",
    "* Binary logistic regression requires the dependent variable to be binary.\n",
    "* For a binary regression, the factor level 1 of the dependent variable should represent the desired outcome.\n",
    "* Only the meaningful variables should be included.\n",
    "* The independent variables should be independent of each other. That is, the model should have little or no multicollinearity.\n",
    "* The independent variables are linearly related to the log odds.\n",
    "* Logistic regression requires quite large sample sizes.\n",
    "\n",
    "ref: https://towardsdatascience.com/building-a-logistic-regression-in-python-step-by-step-becd4d56c9c8\n",
    "\n",
    "##### Grid Search\n",
    "<p>A grid search will help determine the optimal parameters to pass to the logistic regression function. Finding the optimal parameters will help with model prediction.</p>\n",
    "<p>Some paremters are being selected as the only option due to the type of dataset. We will try using a solver with a default paremeter 'lbfgs' for binomial problems, although sag and saga are faster for larger datasets.</p>\n",
    "<p>The multi-class parameter is set to the default of 'ovr' because we have a binary problem."
   ]
  },
  {
   "cell_type": "code",
   "execution_count": 17,
   "metadata": {},
   "outputs": [],
   "source": [
    "from sklearn.model_selection import cross_validate\n",
    "\n",
    "def EvaluateClassifierEstimator(classifierEstimator, X, y, cv):\n",
    "   \n",
    "    #Perform cross validation \n",
    "    scores = cross_validate(classifierEstimator, X, y, scoring=['accuracy','precision','recall']\n",
    "                            , cv=cv_object, return_train_score=True)\n",
    "\n",
    "    Accavg = scores['test_accuracy'].mean()\n",
    "    Preavg = scores['test_precision'].mean()\n",
    "    Recavg = scores['test_recall'].mean()\n",
    "\n",
    "    print_str = \"The average accuracy for all cv folds is: \\t\\t\\t {Accavg:.5}\"\n",
    "    print_str2 = \"The average precision for all cv folds is: \\t\\t\\t {Preavg:.5}\"\n",
    "    print_str3 = \"The average recall for all cv folds is: \\t\\t\\t {Recavg:.5}\"\n",
    "\n",
    "    print(print_str.format(Accavg=Accavg))\n",
    "    print(print_str2.format(Preavg=Preavg))\n",
    "    print(print_str3.format(Recavg=Recavg))\n",
    "    print('*********************************************************')\n",
    "\n",
    "    print('Cross Validation Fold Mean Error Scores')\n",
    "    scoresResults = pd.DataFrame()\n",
    "    scoresResults['Accuracy'] = scores['test_accuracy']\n",
    "    scoresResults['Precision'] = scores['test_precision']\n",
    "    scoresResults['Recall'] = scores['test_recall']\n",
    "\n",
    "    return scoresResults\n",
    "\n",
    "def EvaluateClassifierEstimator2(classifierEstimator, X, y, cv_object):\n",
    "    \n",
    "    #Perform cross validation \n",
    "    from sklearn.model_selection import cross_val_predict\n",
    "    predictions = cross_val_predict(classifierEstimator, X, y, cv=cv_object)\n",
    "    \n",
    "    #model evaluation \n",
    "    from sklearn.metrics import classification_report, confusion_matrix, accuracy_score\n",
    "    \n",
    "    #pass true test set values and predictions to classification_report\n",
    "    classReport = classification_report(y,predictions)\n",
    "    confMat = confusion_matrix(y,predictions)\n",
    "    acc = accuracy_score(y,predictions)\n",
    "    \n",
    "    print(classReport)\n",
    "    print(confMat)\n",
    "    print(acc)"
   ]
  },
  {
   "cell_type": "markdown",
   "metadata": {},
   "source": [
    "Upon researching the possible parameters to LogisticRegression from sklearn, we decided that the most important parameters of interest were C (the inverse of regularization strength, which must be a postive floating point value) and max_iter (the maximum number of iterations for the lbfgs solver to use). The default values for these parameters are 1.0 and 100 respectively, and we have included a range of potential values for these parameters that might help improve our model accuracy."
   ]
  },
  {
   "cell_type": "code",
   "execution_count": null,
   "metadata": {
    "scrolled": false
   },
   "outputs": [
    {
     "name": "stdout",
     "output_type": "stream",
     "text": [
      "Fitting 3 folds for each of 21 candidates, totalling 63 fits\n"
     ]
    },
    {
     "name": "stderr",
     "output_type": "stream",
     "text": [
      "[Parallel(n_jobs=8)]: Done  34 tasks      | elapsed:  3.3min\n"
     ]
    }
   ],
   "source": [
    "from sklearn.linear_model import LogisticRegression\n",
    "regEstimator = LogisticRegression()\n",
    "\n",
    "\n",
    "parameters = { 'penalty':['l2']\n",
    "              ,'C': [0.001, 0.01, 0.1, .5, 1, 10,100]\n",
    "              ,'class_weight': [ 'none']\n",
    "              ,'random_state': [123456789]\n",
    "              ,'solver': ['lbfgs']\n",
    "              ,'max_iter':[100,500,1000]\n",
    "             }\n",
    "\n",
    "\n",
    "#Create a grid search object using the  \n",
    "from sklearn.model_selection import GridSearchCV\n",
    "regGridSearch = GridSearchCV(estimator=regEstimator\n",
    "                   , n_jobs=8 # jobs to run in parallel\n",
    "                   , verbose=1 # low verbosity\n",
    "                   , param_grid=parameters\n",
    "                   , cv=cv_object # KFolds = 3\n",
    "                   , scoring='accuracy')\n",
    "\n",
    "#Perform hyperparameter search to find the best combination of parameters for our data\n",
    "regGridSearch.fit(X, y)"
   ]
  },
  {
   "cell_type": "markdown",
   "metadata": {},
   "source": [
    "<p>By performing a grid search, the best parameters to pass into the Logistic Regression are identified for us. Below is the best estimator parameters for class weight and cost without scaling the data. The optimal values were estimated to be 0.01 for C (100 times smaller than the default 1.0 value) and 500 for max_iter (5 times greater than the default value of 100)."
   ]
  },
  {
   "cell_type": "code",
   "execution_count": null,
   "metadata": {
    "scrolled": false
   },
   "outputs": [],
   "source": [
    "#Diplay the top model parameters\n",
    "regGridSearch.best_estimator_"
   ]
  },
  {
   "cell_type": "markdown",
   "metadata": {},
   "source": [
    "With these optimal function parameters defined, we create a logistic regression model, train it will our randomly selected training dataset, and fit the model to test our accuracy in predicting the test portion of the dataset."
   ]
  },
  {
   "cell_type": "code",
   "execution_count": null,
   "metadata": {},
   "outputs": [],
   "source": [
    "# run logistic regression and vary some parameters\n",
    "from sklearn.linear_model import LogisticRegression\n",
    "from sklearn import metrics as mt\n",
    "\n",
    "\n",
    "# first we create a reusable logisitic regression objectpenalty\n",
    "#   here we can setup the object with different learning parameters and constants\n",
    "lr_clf = regGridSearch.best_estimator_ # get object\n",
    "\n",
    "    #NOTE: as you increase C, test diff values by grid search\n",
    "    #another par is balanced=TRUE/FALSE instead of class weight\n",
    "    \n",
    "# now we can use the cv_object that we setup before to iterate through the \n",
    "#    different training and testing sets. Each time we will reuse the logisitic regression \n",
    "#    object, but it gets trained on different data each time we use it.\n",
    "\n",
    "iter_num=0\n",
    "# the indices are the rows used for training and testing in each iteration\n",
    "\n",
    "# this does the exact same thing as the above block of code, but with shorter syntax\n",
    "\n",
    "for iter_num, (train_indices, test_indices) in enumerate(cv_object.split(X,y)):\n",
    "    lr_clf.fit(X[train_indices],y[train_indices])  # train object builds the model\n",
    "    y_hat = lr_clf.predict(X[test_indices]) # get test set precitions (yhat)\n",
    "\n",
    "    # print the accuracy and confusion matrix \n",
    "    print(\"====Iteration\",iter_num,\" ====\")\n",
    "    print(\"accuracy\", mt.accuracy_score(y[test_indices],y_hat)) \n",
    "    print(\"confusion matrix\\n\",mt.confusion_matrix(y[test_indices],y_hat))"
   ]
  },
  {
   "cell_type": "code",
   "execution_count": null,
   "metadata": {},
   "outputs": [],
   "source": [
    "# and here is an even shorter way of getting the accuracies for each training and test set\n",
    "from sklearn.model_selection import cross_val_score\n",
    "accuracies = cross_val_score(lr_clf, X, y=y, cv=cv_object) # this also can help with parallelism\n",
    "print(accuracies)"
   ]
  },
  {
   "cell_type": "markdown",
   "metadata": {},
   "source": [
    "With the parameters for the Logistic Regressiom optimized, we have created a model that gives us 78-79% accuracy."
   ]
  },
  {
   "cell_type": "code",
   "execution_count": null,
   "metadata": {},
   "outputs": [],
   "source": [
    "#Use the best parameters for our Linear Regression object\n",
    "classifierEst = regGridSearch.best_estimator_\n",
    "\n",
    "#Evaluate the regression estimator above using our pre-defined cross validation and scoring metrics. \n",
    "EvaluateClassifierEstimator(classifierEst, X, y, cv_object)"
   ]
  },
  {
   "cell_type": "markdown",
   "metadata": {},
   "source": [
    "We also created a color-coded confusion matrix to further investigate how our model performed in terms of false-positive and false-negative predictions. We see from this matrix that the majority of our errors come from the model being overly conservative and predicting False for NoShow when patients really did not show up for their appointments (4,475 True NoShow's predicted as False). With our model being conservative, it correctly classified almost all of the False NoShows in the test set, with only 138 of 22,106 appointments incorrectly predicted as NoShows when the patients did show up for their appointment. However, as mentioned before the predictions of True NoShows was very poor, with only 74 of 4,549 NoShow patients being correctly predicted as not showing up for their appointments. To summarize, our logistic regression model has fairly strong specificity (correctly predicted Falses) but poor sensitivty (did not correctly categorize most True appointments)."
   ]
  },
  {
   "cell_type": "code",
   "execution_count": null,
   "metadata": {},
   "outputs": [],
   "source": [
    "import numpy as np \n",
    "\n",
    "import seaborn as sns\n",
    "from sklearn import metrics\n",
    "# Use score method to get accuracy of model\n",
    "score = lr_clf.score(X[test_indices], y[test_indices])\n",
    "\n",
    "predictions = lr_clf.predict(X[test_indices])\n",
    "\n",
    "cm = metrics.confusion_matrix(y[test_indices], predictions)"
   ]
  },
  {
   "cell_type": "markdown",
   "metadata": {},
   "source": [
    "#### Plot - Model Accuracy - Unscaled Dataset"
   ]
  },
  {
   "cell_type": "code",
   "execution_count": null,
   "metadata": {},
   "outputs": [],
   "source": [
    "plt.figure(figsize=(9,9))\n",
    "sns.heatmap(cm, annot=True, fmt=\".3f\", linewidths=.5, square = True, cmap = 'Blues_r');\n",
    "plt.ylabel('Actual label');\n",
    "plt.xlabel('Predicted label');\n",
    "all_sample_title = 'Accuracy Score: {0}'.format(score)\n",
    "plt.title(all_sample_title, size = 15);\n",
    "plt.savefig('ConfMatrix1.png')\n",
    "#plt.show();"
   ]
  },
  {
   "cell_type": "markdown",
   "metadata": {},
   "source": [
    "#### Scaled Dataset\n",
    "<p>The previous model was built without scaling the values of predictors in our dataset. While we have relatively few predictors that vary by scale (only Age and DaysInAdvance), these variables being on different scales than the categorical variables could have influenced our model. To account for this, we will scale our predictors, rebuild our model, and check its accuracy in comparison to the previous un-scaled model. In order to get the same results each time the code is run, we make sure to supply the same seed value (random_state) that was used previously."
   ]
  },
  {
   "cell_type": "code",
   "execution_count": null,
   "metadata": {},
   "outputs": [],
   "source": [
    "#Scale dataset converting to standard normally distributed data \n",
    "# (e.g. Gaussian with 0 mean and unit variance).\n",
    "from sklearn.preprocessing import StandardScaler\n",
    "\n",
    "import warnings\n",
    "warnings.filterwarnings('ignore')\n",
    "warnings.filterwarnings('ignore', category=DeprecationWarning)\n",
    "\n",
    "#Fit to data for scaling\n",
    "scaler = StandardScaler()\n",
    "scaler.fit(X)\n",
    "\n",
    "#Transform training data to z-scores\n",
    "#This makes our model's coefficients take on the same scale for accurate feature importance analisys \n",
    "X_scaler = scaler.transform(X)"
   ]
  },
  {
   "cell_type": "code",
   "execution_count": null,
   "metadata": {},
   "outputs": [],
   "source": [
    "from sklearn.model_selection import cross_validate\n",
    "\n",
    "def EvaluateClassifierEstimator(classifierEstimator, X_scaler, y, cv_object):\n",
    "   \n",
    "    #Perform cross validation \n",
    "    scores = cross_validate(classifierEstimator, X_scaler, y, scoring=['accuracy','precision','recall']\n",
    "                            , cv=cv_object, return_train_score=True)\n",
    "\n",
    "    Accavg = scores['test_accuracy'].mean()\n",
    "    Preavg = scores['test_precision'].mean()\n",
    "    Recavg = scores['test_recall'].mean()\n",
    "\n",
    "    print_str = \"The average accuracy for all cv folds is: \\t\\t\\t {Accavg:.5}\"\n",
    "    print_str2 = \"The average precision for all cv folds is: \\t\\t\\t {Preavg:.5}\"\n",
    "    print_str3 = \"The average recall for all cv folds is: \\t\\t\\t {Recavg:.5}\"\n",
    "\n",
    "    print(print_str.format(Accavg=Accavg))\n",
    "    print(print_str2.format(Preavg=Preavg))\n",
    "    print(print_str3.format(Recavg=Recavg))\n",
    "    print('*********************************************************')\n",
    "\n",
    "    print('Cross Validation Fold Mean Error Scores')\n",
    "    scoresResults = pd.DataFrame()\n",
    "    scoresResults['Accuracy'] = scores['test_accuracy']\n",
    "    scoresResults['Precision'] = scores['test_precision']\n",
    "    scoresResults['Recall'] = scores['test_recall']\n",
    "\n",
    "    return scoresResults\n",
    "\n",
    "def EvaluateClassifierEstimator2(classifierEstimator, X_scaler, y, cv_object):\n",
    "    \n",
    "    #Perform cross validation \n",
    "    from sklearn.model_selection import cross_val_predict\n",
    "    predictions = cross_val_predict(classifierEstimator, X_scaler, y, cv=cv_object)\n",
    "    \n",
    "    #model evaluation \n",
    "    from sklearn.metrics import classification_report, confusion_matrix, accuracy_score\n",
    "    \n",
    "    #pass true test set values and predictions to classification_report\n",
    "    classReport = classification_report(y,predictions)\n",
    "    confMat = confusion_matrix(y,predictions)\n",
    "    acc = accuracy_score(y,predictions)\n",
    "    \n",
    "    print(classReport)\n",
    "    print(confMat)\n",
    "    print(acc)"
   ]
  },
  {
   "cell_type": "code",
   "execution_count": null,
   "metadata": {
    "scrolled": false
   },
   "outputs": [],
   "source": [
    "from sklearn.linear_model import LogisticRegression\n",
    "regEstimator = LogisticRegression()\n",
    "\n",
    "\n",
    "parameters = { 'penalty':['l2']\n",
    "              ,'C': [0.001, 0.01, 0.1, .5, 1, 10]\n",
    "              ,'class_weight': [ 'none']\n",
    "              ,'random_state': [123456789]\n",
    "              ,'solver': ['lbfgs']\n",
    "              ,'max_iter':[100,500]\n",
    "             }\n",
    "\n",
    "\n",
    "#Create a grid search object using the  \n",
    "from sklearn.model_selection import GridSearchCV\n",
    "regGridSearch = GridSearchCV(estimator=regEstimator\n",
    "                   , n_jobs=8 # jobs to run in parallel\n",
    "                   , verbose=1 # low verbosity\n",
    "                   , param_grid=parameters\n",
    "                   , cv=cv_object # KFolds = 5\n",
    "                   , scoring='accuracy')\n",
    "\n",
    "#Perform hyperparameter search to find the best combination of parameters for our data\n",
    "regGridSearch.fit(X_scaler, y)"
   ]
  },
  {
   "cell_type": "markdown",
   "metadata": {},
   "source": [
    "With our scaled dataset, the predictors recommended by grid search are slightly different. C is recommended to be 0.001 (10x less than the unscaled recommendation and 1,000x less than the default value) and max_iter is recommended to be 100 (5x less than what was previously recommended for the unscaled data but equal to the default variable value). These changes must be due to the fact that our data is now represented in a normal scale, and indicates the importance of scaling the data before performing model optimization techniques such as grid search."
   ]
  },
  {
   "cell_type": "code",
   "execution_count": null,
   "metadata": {
    "scrolled": false
   },
   "outputs": [],
   "source": [
    "#Diplay the top model parameters\n",
    "regGridSearch.best_estimator_"
   ]
  },
  {
   "cell_type": "code",
   "execution_count": null,
   "metadata": {},
   "outputs": [],
   "source": [
    "#Use the best parameters for our Linear Regression object\n",
    "classifierEst = regGridSearch.best_estimator_\n",
    "\n",
    "#Evaluate the regression estimator above using our pre-defined cross validation and scoring metrics. \n",
    "EvaluateClassifierEstimator(classifierEst, X_scaler, y, cv_object)"
   ]
  },
  {
   "cell_type": "code",
   "execution_count": null,
   "metadata": {},
   "outputs": [],
   "source": [
    "# here we can change some of the parameters interactively with class_weight: 0 = none or 1 = balanced\n",
    "from ipywidgets import widgets as wd\n",
    "def lr_explor2(classweight,cost):\n",
    "    classwt = None\n",
    "    if classweight == 1:\n",
    "        classwt = 'balanced'\n",
    "    lr_clf2 = LogisticRegression(penalty='l2', C=cost, class_weight=classwt) # get object\n",
    "    accuracies = cross_val_score(lr_clf2,X,y=y,cv=cv_object) # this also can help with parallelism\n",
    "    print(accuracies)\n",
    "\n",
    "_ = wd.interact(lr_explor2,classweight=(0,1),cost=(0.001,5.0,0.05),__manual=True)"
   ]
  },
  {
   "cell_type": "markdown",
   "metadata": {},
   "source": [
    "By scaling the predictors in our dataset, the overall accuracy average did not improve by a meaningful amount, although the average is very slightly higher with the scaled X values. This is likely because we only have 2 variables (Age, DaysInAdvance) in the dataset that would be effected by scaling, and those variables may not be the most important predictors in the model. Nevertheless, this excercise is important because it allows us to show that our model accuracy is not being significantly detrimentally affected by having our continous variables on a separate scale. "
   ]
  },
  {
   "cell_type": "markdown",
   "metadata": {},
   "source": [
    "# SVM analysis"
   ]
  },
  {
   "cell_type": "markdown",
   "metadata": {},
   "source": [
    "Next we will investigate usig SVM to predict Show/No-show patients. Because of our large sample size and complexity of data, schochastic gradient descent will be required."
   ]
  },
  {
   "cell_type": "markdown",
   "metadata": {},
   "source": [
    "## Start with SGD"
   ]
  },
  {
   "cell_type": "markdown",
   "metadata": {},
   "source": [
    "We will begin our analysis with a fairly standard model and utilize the same train/test data as the logistic regression"
   ]
  },
  {
   "cell_type": "code",
   "execution_count": null,
   "metadata": {},
   "outputs": [],
   "source": [
    "%%time\n",
    "# use some compact notation for creating a linear SVM classifier with stichastic descent\n",
    "from sklearn.linear_model import SGDClassifier\n",
    "\n",
    "regularize_const = 0.1\n",
    "iterations = 5\n",
    "svm_sgd = SGDClassifier(alpha=regularize_const,\n",
    "        fit_intercept=True, l1_ratio=0.0, learning_rate='optimal',\n",
    "        loss='hinge', n_iter=iterations, n_jobs=-1, penalty='l1',random_state=0)\n",
    "\n",
    "scl = StandardScaler()\n",
    "for train_indices, test_indices in cv_object.split(X,y):\n",
    "    svm_sgd.fit(scl.fit_transform(X[train_indices]),y[train_indices])\n",
    "    yhat = svm_sgd.predict(scl.transform(X[test_indices]))\n",
    "    \n",
    "    conf2 = mt.confusion_matrix(y[test_indices],yhat)\n",
    "    acc2 = mt.accuracy_score(y[test_indices],yhat)\n",
    "\n",
    "print('SGD Accuracy:', acc2)\n",
    "print(conf2)\n"
   ]
  },
  {
   "cell_type": "markdown",
   "metadata": {},
   "source": [
    "### SGD Hinge results analysis\n",
    "On first glance, this appears to be a very accurate model with a accuracy of approximately 0.8 using the default hinge loss method.\n",
    "\n",
    "In actuality, its predictive capabilities using the default method is practically worthless as the model is simplly predicting all individuals as \"show\" and is predicting 0 actuall no-shows. Because of this we will examing other model input parameters to find a more practically usable model\n",
    "\n",
    "Examinination of different options was performed and the most practical model is below."
   ]
  },
  {
   "cell_type": "code",
   "execution_count": null,
   "metadata": {},
   "outputs": [],
   "source": [
    "# use some compact notation for creating a linear SVM classifier with stichastic descent\n",
    "from sklearn.linear_model import SGDClassifier\n",
    "from sklearn.preprocessing import StandardScaler\n",
    "\n",
    "regularize_const = .5\n",
    "iterations = 5\n",
    "svm_sgd = SGDClassifier(alpha=regularize_const,\n",
    "        fit_intercept=True, l1_ratio=0.0, learning_rate='optimal',\n",
    "        loss='log', n_iter=iterations, n_jobs=-1, penalty='none',random_state=0)\n",
    "\n",
    "scl = StandardScaler()\n",
    "for train_indices, test_indices in cv_object.split(X,y):\n",
    "    svm_sgd.fit(scl.fit_transform(X[train_indices]),y[train_indices])\n",
    "    yhat = svm_sgd.predict(scl.transform(X[test_indices]))\n",
    "    \n",
    "    conf2 = mt.confusion_matrix(y[test_indices],yhat)\n",
    "    acc2 = mt.accuracy_score(y[test_indices],yhat)\n",
    "\n",
    "print('SGD Accuracy:', acc2)\n",
    "print(conf2)"
   ]
  },
  {
   "cell_type": "markdown",
   "metadata": {},
   "source": [
    "### Analysis\n",
    "After examining multiple model variabels, we can reasonably increase model no-show yield by switching to a log loss function, remove penalty with the 'penalty=none' option, and increase the alpha factor to 0.5. \n",
    "\n",
    "While this does significantly increase false positive results, and interestingly false positives have tended to stay around twice the total true negative predictictions when tweaking parameters, it does create more potential yield to create actual usable/actionable information for the clinic.\n",
    "\n",
    "The yield could potentially be increased further at the potential expense of some accuracy. This would allow us to optimize for target prediction levels that could then allow business leaders to potentially overbook or follow up further with patients before appointments to prevent a potential no-show. A data scientist ideally would work with the business leader to see what level of predicitons the clinic could practically handle and attempt to tune the model to those parameters. \n",
    "\n",
    "Removing a penalty factor is a concerning effort that should reasonably cause concerns, however, the reality of this effort appears to show SGD/SVM as not practically useful for predicting no-shows so it seems a reasonable compromise to reach a potential area to allow for further testing (i.e. continueing to collect data and validate model performance over a period of time to ensure the resutls given are not simply from overfitting).\n",
    "\n",
    "For the purpose of our analysis though, we will settle with these reasonable results."
   ]
  },
  {
   "cell_type": "markdown",
   "metadata": {},
   "source": [
    "## Model Advantages (10pts)\n",
    " - Compare acc/runtime\n",
    " - SGD(Linear)/SVM has 0 precision\n",
    " - Discussion"
   ]
  },
  {
   "cell_type": "markdown",
   "metadata": {},
   "source": [
    "## Interpret Feature Importance (30pts)\n",
    "<p>In this section, we examine each variable to see which ones are important and which are redundant. The first test is to determine as the individual weights of each variable:</p>"
   ]
  },
  {
   "cell_type": "code",
   "execution_count": null,
   "metadata": {},
   "outputs": [],
   "source": [
    "# interpret the weights\n",
    "\n",
    "# iterate over the coefficients\n",
    "weights = lr_clf.coef_.T # take transpose to make a column vector\n",
    "variable_names = df.columns\n",
    "for coef, name in zip(weights,variable_names):\n",
    "    print(name, 'has weight of', coef[0])"
   ]
  },
  {
   "cell_type": "markdown",
   "metadata": {},
   "source": [
    "<p>The problem here is that the weights compared are inaccurate as some of the continuous variables like age can be from 0 to over 100, while the binary categories can only be from 0 to 1. In this case, we create a scaled version of all of the predictors so that their ranges are all between 0 and 1 as shown below:</p>"
   ]
  },
  {
   "cell_type": "code",
   "execution_count": null,
   "metadata": {},
   "outputs": [],
   "source": [
    "from sklearn.preprocessing import StandardScaler\n",
    "\n",
    "# Define the X/Y_Train/Test variable to be used in the standard scaler below\n",
    "X_train = X[train_indices]\n",
    "y_train = y[train_indices]\n",
    "    \n",
    "X_test = X[test_indices]\n",
    "y_test = y[test_indices]\n",
    "\n",
    "# we want to normalize the features based upon the mean and standard deviation of each column. \n",
    "# However, we do not want to accidentally use the testing data to find out the mean and std (this would be snooping)\n",
    "# to Make things easier, let's start by just using whatever was last stored in the variables:\n",
    "##    X_train , y_train , X_test, y_test (they were set in a for loop above)\n",
    "\n",
    "warnings.filterwarnings('ignore')\n",
    "\n",
    "# scale attributes by the training set\n",
    "scl_obj = StandardScaler()\n",
    "scl_obj.fit(X_train) # find scalings for each column that make this zero mean and unit std\n",
    "# the line of code above only looks at training data to get mean and std and we can use it \n",
    "# to transform new feature data\n",
    "\n",
    "X_train_scaled = scl_obj.transform(X_train) # apply to training\n",
    "X_test_scaled = scl_obj.transform(X_test) # apply those means and std to the test set (without snooping at the test set values)\n",
    "\n",
    "# train the model just as before\n",
    "lr_clf = LogisticRegression(penalty='l2', C=0.05) # get object, the 'C' value is less (can you guess why??)\n",
    "lr_clf.fit(X_train_scaled,y_train)  # train object\n",
    "\n",
    "y_hat = lr_clf.predict(X_test_scaled) # get test set precitions\n",
    "\n",
    "acc = mt.accuracy_score(y_test,y_hat)\n",
    "conf = mt.confusion_matrix(y_test,y_hat)\n",
    "print('accuracy:', acc )\n",
    "print(conf )\n",
    "\n",
    "# sort these attributes and spit them out\n",
    "zip_vars = zip(lr_clf.coef_.T,df.columns) # combine attributes\n",
    "zip_vars = sorted(zip_vars)\n",
    "for coef, name in zip_vars:\n",
    "    print(name, 'has weight of', coef[0]) # now print them out"
   ]
  },
  {
   "cell_type": "markdown",
   "metadata": {},
   "source": [
    "As per the tall grid below, the importance of each variable, whether positive or negative, are compared against each other.  From analysis, the following conclusions may be drawn in order to reduce the dimentionality of the dataset:\n",
    "- Gender (IsMale) does not greatly affect the predictions, though it seems like males are very slightly more likely to NoShow than Females.\n",
    "- Age range does tend to factor in, but the child appointments have a strong negative effect while the adult and senior appointments have a relatively strong positive effect. The 2 latter age ranges have similar weights, which could be dropped to reduce redundancies.\n",
    "- The Neighbourhood dummy variables represents 81 different Neighborhoods and the weight of each neighborhood's contribution to the model varies significantly.\n",
    "- ScheduledDay does not significantly weight in the model and neither does the actual appointment date, though Friday seems to more positivley affect the model while the rest show a slight negatively effect, if any effect at all.\n",
    "- DaysInAdvanced seems to have a large weight and so does age and SMSReceived.\n",
    "- Hypertension seems to have a minimal negative effect. \n",
    "- The rest: Alcoholism, Diabetes, and Scholarship have impacts which are reletivley significant but may also be redundant."
   ]
  },
  {
   "cell_type": "code",
   "execution_count": null,
   "metadata": {},
   "outputs": [],
   "source": [
    "# now let's make a pandas Series with the names and values, and plot them\n",
    "from matplotlib import pyplot as plt\n",
    "%matplotlib inline\n",
    "plt.style.use('ggplot')\n",
    "plt.figure(figsize=(10, 30), dpi=80)\n",
    "\n",
    "weights = pd.Series(lr_clf.coef_[0],index=df.columns)\n",
    "weights.plot(kind='barh')\n",
    "plt.show()"
   ]
  },
  {
   "cell_type": "markdown",
   "metadata": {},
   "source": [
    "Based on the weights of the coefficients for the logistic regression model (shown above), the 3 most significantly weighted preditors are Age, DaysInAdvance and SMSReceived. These predictors all have coefficient values above 0.15 (or below -0.15 in the case of Age), meaning that they contribute the most heavily to the model. It is interesting to note that the 2 highest weighted variables are our 2 continuous predictors (Age and DaysInAdvance). Regardless, we are confident that these variables have the highest contribution to the model since the variables were scaled to match the other categorical predictor scales prior to the weighting of these coefficients."
   ]
  },
  {
   "cell_type": "code",
   "execution_count": null,
   "metadata": {},
   "outputs": [],
   "source": [
    "Xnew = df[['Age','DaysInAdvance','SMSReceived']].values\n",
    "\n",
    "weights = []\n",
    "# run the pipline corssvalidated\n",
    "for iter_num, (train_indices, test_indices) in enumerate(cv_object.split(Xnew,y)):\n",
    "    piped_object.fit(Xnew[train_indices],y[train_indices])  # train object\n",
    "    weights.append(piped_object.named_steps['logit_model'].coef_[0])\n",
    "    \n",
    "weights = np.array(weights)\n",
    "\n",
    "error_y=dict(\n",
    "            type='data',\n",
    "            array=np.std(weights,axis=0),\n",
    "            visible=True\n",
    "        )\n",
    "\n",
    "graph1 = {'x': ['Age','DaysInAdvance','SMSReceived'],\n",
    "          'y': np.mean(weights,axis=0),\n",
    "    'error_y':error_y,\n",
    "       'type': 'bar'}\n",
    "\n",
    "fig = dict()\n",
    "fig['data'] = [graph1]\n",
    "fig['layout'] = {'title': 'Logistic Regression Weights, with error bars'}\n",
    "\n",
    "plotly.offline.iplot(fig)"
   ]
  },
  {
   "cell_type": "markdown",
   "metadata": {},
   "source": [
    "## Interpret Support Vectors (10pts)"
   ]
  },
  {
   "cell_type": "markdown",
   "metadata": {},
   "source": [
    "Since we had to use stochastic gradient descent because of the size of our data, we will now attempt to subsample the data and create an svm model for support vector analysis."
   ]
  },
  {
   "cell_type": "code",
   "execution_count": null,
   "metadata": {},
   "outputs": [],
   "source": [
    "#create random sample of train test data to make analysis computationally feasible\n",
    "import random\n",
    "randtrain=random.sample(list(train_indices),12000)\n",
    "randtest=random.sample(list(test_indices),3000)\n",
    "X_train2=X[randtrain]\n",
    "y_train2=y[randtrain]\n",
    "X_test2=X[randtest]\n",
    "y_test2=y[randtest]"
   ]
  },
  {
   "cell_type": "code",
   "execution_count": null,
   "metadata": {},
   "outputs": [],
   "source": [
    "#scales the data\n",
    "from sklearn.preprocessing import StandardScaler\n",
    "#use same train indicies\n",
    "scl_obj = StandardScaler()\n",
    "\n",
    "scl_obj.fit(X_train2) # find scalings for each column that make this zero mean and unit std\n",
    "# the line of code above only looks at training data to get mean and std and we can use it \n",
    "# to transform new feature data\n",
    "\n",
    "X_train_scaled = scl_obj.transform(X_train2) # apply to training\n",
    "X_test_scaled = scl_obj.transform(X_test2) # apply those means and std to the test set (without snooping at the test set values)\n"
   ]
  },
  {
   "cell_type": "code",
   "execution_count": null,
   "metadata": {},
   "outputs": [],
   "source": [
    "# lets investigate SVMs on the data and play with the parameters and kernels\n",
    "from sklearn.svm import SVC\n",
    "\n",
    "# train the model just as before\n",
    "svm_clf = SVC(kernel='linear', probability=True, ) # get object\n",
    "svm_clf.fit(X_train_scaled, y_train2,)  # train object\n",
    "\n",
    "y_hat2 = svm_clf.predict(X_test_scaled) # get test set precitions\n",
    "\n",
    "acc = mt.accuracy_score(y_test2,y_hat2)\n",
    "conf = mt.confusion_matrix(y_test2,y_hat2)\n",
    "svmcoef=svm_clf.coef_\n",
    "print('accuracy:', acc )\n",
    "print(conf)\n",
    "\n",
    "# look at the support vectors\n",
    "print('SVM vectors')\n",
    "print(svm_clf.support_vectors_.shape)\n",
    "print(svm_clf.support_.shape)\n",
    "print(svm_clf.n_support_ )"
   ]
  },
  {
   "cell_type": "markdown",
   "metadata": {},
   "source": [
    "### Analysis of support vectors\n",
    "Here again we see how a linear svm does not practically appear to be an appropriate solution for this use case. \n",
    "\n",
    "While we maintain a good accuracy, we are not actually predicting any no shows, so this model has little practical significance and a different kernel would likely be required to reach reasonable results. This effectively tells us that we can not reasonably draw a dividing line with a linear svm given the overlap in our data in multidimensional space.\n",
    "\n",
    "Regardless, we will interpret the svm coefficients next as the assignment calls for using a linear methodology."
   ]
  },
  {
   "cell_type": "code",
   "execution_count": null,
   "metadata": {},
   "outputs": [],
   "source": [
    "#plots linear svm coefficients\n",
    "from matplotlib import pyplot as plt\n",
    "%matplotlib inline\n",
    "plt.style.use('ggplot')\n",
    "plt.figure(figsize=(10, 28), dpi=80)\n",
    "\n",
    "weights = pd.Series(svmcoef[0],index=df.columns)\n",
    "weights.plot(kind='barh')\n",
    "plt.show()"
   ]
  },
  {
   "cell_type": "markdown",
   "metadata": {},
   "source": [
    "### SVM coefficient analysis\n",
    "Examining our coefficients shows that some variables are stronger than others for influencing positive/negative (noshow/show) result, but overall there are no huge standout variables for this svm.\n",
    "\n",
    "We do see appointments for DOW Fri having a strong negative coefficient, and Age having a stronger positive coefficient, but relatively speaking they are not dramatically larger than other coefficients."
   ]
  },
  {
   "cell_type": "code",
   "execution_count": null,
   "metadata": {
    "scrolled": false
   },
   "outputs": [],
   "source": [
    "# Now let's do some different analysis with the SVM and look at the instances that were chosen as support vectors\n",
    "\n",
    "# now lets look at the support for the vectors and see if we they are indicative of anything\n",
    "# grabe the rows that were selected as support vectors (these are usually instances that are hard to classify)\n",
    "\n",
    "# make a dataframe of the training data\n",
    "df_tested_on = df.iloc[train_indices] # saved from above, the indices chosen for training\n",
    "# now get the support vectors from the trained model\n",
    "df_support = df_tested_on.iloc[svm_clf.support_,:]\n",
    "dfg=df\n",
    "df_support['NoShow'] = y[svm_clf.support_] # add back in noshow\n",
    "dfg['NoShow'] = y # also add it back in for the original data\n",
    "df_support.info()"
   ]
  },
  {
   "cell_type": "code",
   "execution_count": null,
   "metadata": {},
   "outputs": [],
   "source": [
    "# now lets see the statistics of these attributes\n",
    "from pandas.tools.plotting import boxplot\n",
    "\n",
    "# group the original data and the support vectors\n",
    "df_grouped_support = dfg.groupby(['NoShow'])\n",
    "df_grouped = dfg.groupby(['NoShow'])\n",
    "\n",
    "# plot KDE of Different variables\n",
    "vars_to_plot = ['Age','AppointmentDOW_Friday','age_range_senior',\n",
    "                'Neighbourhood_CONQUISTA','Handicap_2']\n",
    "\n",
    "for v in vars_to_plot:\n",
    "    plt.figure(figsize=(10,4))\n",
    "    # plot support vector stats\n",
    "    plt.subplot(1,2,1)\n",
    "    ax = df_grouped_support[v].plot.kde() \n",
    "    plt.legend(['True','False'])\n",
    "    plt.title(v+' (Instances chosen as Support Vectors)')\n",
    "    \n",
    "    # plot original distributions\n",
    "    plt.subplot(1,2,2)\n",
    "    ax = df_grouped[v].plot.kde() \n",
    "    plt.legend(['True','False'])\n",
    "    plt.title(v+' (Original)')"
   ]
  },
  {
   "cell_type": "markdown",
   "metadata": {},
   "source": [
    "### SVM vs original analysis\n",
    "\n",
    "Examining our coefficients shows that some variables are stronger than others for infulencing positive/negative (show/noshow) result, but overall there are no huge standout variabels for this svm.\n",
    "\n",
    "we do see appointments for DOW Fri being strong negative coefficient, and Age being a stronger positive coefficient, but relatively speaking they are not dramatically larger than other coefficients.\n",
    "\n",
    "The lack of strong coefficient does seem to line up well with what our svm model shows compared to the actual data. In the charts above, its clear that while seperation exists, it is very small relative to the whole which reinforces that this is naturally a challenging result to predict."
   ]
  },
  {
   "cell_type": "code",
   "execution_count": null,
   "metadata": {},
   "outputs": [],
   "source": [
    "# rbf analysis\n",
    "from sklearn.svm import SVC\n",
    "\n",
    "# train the model just as before\n",
    "svm_clf = SVC(kernel='rbf', probability=True, ) # get object\n",
    "svm_clf.fit(X_train2, y_train2,)  # train object\n",
    "\n",
    "y_hat2 = svm_clf.predict(X_test2) # get test set precitions\n",
    "\n",
    "acc = mt.accuracy_score(y_test2,y_hat2)\n",
    "conf = mt.confusion_matrix(y_test2,y_hat2)\n",
    "print('accuracy:', acc )\n",
    "print(conf)"
   ]
  },
  {
   "cell_type": "markdown",
   "metadata": {},
   "source": [
    "### Additional rbf analysis\n",
    "While rbf analysis was not required for the effort, it does appear more effective for the use case in that it can return actual no-show appointments, and while the accuracy is technically lower, it provides a level of potential usefullness to the user and would likely be a better choice in a real world scenario if one wanted to attempt corrective action and prevent potential no-shows with extra follow up calls before appointment."
   ]
  },
  {
   "cell_type": "markdown",
   "metadata": {},
   "source": [
    "### Not needed but used in developing analysis .... apendix???"
   ]
  },
  {
   "cell_type": "markdown",
   "metadata": {},
   "source": [
    "http://scikit-learn.org/stable/modules/generated/sklearn.linear_model.SGDClassifier.html \n",
    "notes on this that i'm working on...\n",
    "\n",
    "loss parameters\n",
    "‘hinge’, ‘log’, ‘modified_huber’, ‘squared_hinge’, ‘perceptron’\n",
    "penalty options\n",
    "str, ‘none’, ‘l2’, ‘l1’, or ‘elasticnet’\n",
    "\n",
    "l1 and hinge result in a 0 false prediction, which may have legitimate value from an operational standpoint...."
   ]
  },
  {
   "cell_type": "code",
   "execution_count": null,
   "metadata": {
    "scrolled": false
   },
   "outputs": [],
   "source": [
    "# use some compact notation for creating a linear SVM classifier with stichastic descent\n",
    "from sklearn.linear_model import SGDClassifier\n",
    "from sklearn.preprocessing import StandardScaler\n",
    "\n",
    "regularize_const = 0.1\n",
    "iterations = 5\n",
    "svm_sgd = SGDClassifier(alpha=regularize_const,\n",
    "        fit_intercept=True, l1_ratio=0.0, learning_rate='optimal',\n",
    "        loss='modified_huber', n_iter=iterations, n_jobs=-1, penalty='l2')\n",
    "\n",
    "scl = StandardScaler()\n",
    "for train_indices, test_indices in cv.split(X,y):\n",
    "    svm_sgd.fit(scl.fit_transform(X[train_indices]),y[train_indices])\n",
    "    yhat = svm_sgd.predict(scl.transform(X[test_indices]))\n",
    "    \n",
    "    conf2 = mt.confusion_matrix(y[test_indices],yhat)\n",
    "    acc2 = mt.accuracy_score(y[test_indices],yhat)\n",
    "\n",
    "print('SVM Accuracy:', acc2)\n",
    "print(conf2)"
   ]
  },
  {
   "cell_type": "code",
   "execution_count": null,
   "metadata": {},
   "outputs": [],
   "source": [
    "# use some compact notation for creating a linear SVM classifier with stichastic descent\n",
    "from sklearn.linear_model import SGDClassifier\n",
    "from sklearn.preprocessing import StandardScaler\n",
    "\n",
    "regularize_const = 0.1\n",
    "iterations = 5\n",
    "svm_sgd = SGDClassifier(alpha=regularize_const,\n",
    "        fit_intercept=True, l1_ratio=0.0, learning_rate='optimal',\n",
    "        loss='modified_huber', n_iter=iterations, n_jobs=-1, penalty='l1')\n",
    "\n",
    "scl = StandardScaler()\n",
    "for train_indices, test_indices in cv.split(X,y):\n",
    "    svm_sgd.fit(scl.fit_transform(X[train_indices]),y[train_indices])\n",
    "    yhat = svm_sgd.predict(scl.transform(X[test_indices]))\n",
    "    \n",
    "    conf2 = mt.confusion_matrix(y[test_indices],yhat)\n",
    "    acc2 = mt.accuracy_score(y[test_indices],yhat)\n",
    "\n",
    "print('SVM Accuracy:', acc2)\n",
    "print(conf2)"
   ]
  },
  {
   "cell_type": "code",
   "execution_count": null,
   "metadata": {},
   "outputs": [],
   "source": [
    "# use some compact notation for creating a linear SVM classifier with stichastic descent\n",
    "from sklearn.linear_model import SGDClassifier\n",
    "from sklearn.preprocessing import StandardScaler\n",
    "\n",
    "regularize_const = 0.1\n",
    "iterations = 5\n",
    "svm_sgd = SGDClassifier(alpha=regularize_const,\n",
    "        fit_intercept=True, l1_ratio=0.0, learning_rate='optimal',\n",
    "        loss='modified_huber', n_iter=iterations, n_jobs=-1, penalty='none')\n",
    "\n",
    "scl = StandardScaler()\n",
    "for train_indices, test_indices in cv.split(X,y):\n",
    "    svm_sgd.fit(scl.fit_transform(X[train_indices]),y[train_indices])\n",
    "    yhat = svm_sgd.predict(scl.transform(X[test_indices]))\n",
    "    \n",
    "    conf2 = mt.confusion_matrix(y[test_indices],yhat)\n",
    "    acc2 = mt.accuracy_score(y[test_indices],yhat)\n",
    "\n",
    "print('SVM Accuracy:', acc2)\n",
    "print(conf2)"
   ]
  },
  {
   "cell_type": "code",
   "execution_count": null,
   "metadata": {},
   "outputs": [],
   "source": [
    "# use some compact notation for creating a linear SVM classifier with stichastic descent\n",
    "from sklearn.linear_model import SGDClassifier\n",
    "from sklearn.preprocessing import StandardScaler\n",
    "\n",
    "regularize_const = .5\n",
    "iterations = 5\n",
    "svm_sgd = SGDClassifier(alpha=regularize_const,\n",
    "        fit_intercept=True, l1_ratio=0.0, learning_rate='optimal',\n",
    "        loss='modified_huber', n_iter=iterations, n_jobs=-1, penalty='none',random_state=0)\n",
    "\n",
    "scl = StandardScaler()\n",
    "for train_indices, test_indices in cv.split(X,y):\n",
    "    svm_sgd.fit(scl.fit_transform(X[train_indices]),y[train_indices])\n",
    "    yhat = svm_sgd.predict(scl.transform(X[test_indices]))\n",
    "    \n",
    "    conf2 = mt.confusion_matrix(y[test_indices],yhat)\n",
    "    acc2 = mt.accuracy_score(y[test_indices],yhat)\n",
    "\n",
    "print('SGD Accuracy:', acc2)\n",
    "print(conf2)"
   ]
  },
  {
   "cell_type": "code",
   "execution_count": null,
   "metadata": {
    "scrolled": true
   },
   "outputs": [],
   "source": [
    "from sklearn.linear_model import SGDClassifier\n",
    " \n",
    " \n",
    "#parameters = {'alpha':[0.0001, 0.01, 0.1, .25, .5,.75,1]\n",
    "            #  , 'penalty':['l2', 'l1','none','elasticnet']\n",
    "             # ,'l1_ratio': [0.0, 0.15, 0.5, 1]\n",
    "             # ,'fit_intercept': ['True', 'False']\n",
    "             # ,'random_state': [0]\n",
    "             # ,'loss': ['hinge','log','modified_huber']\n",
    "            #  ,'iterations':[5]\n",
    "             #}\n",
    "regEstimator = SGDClassifier()\n",
    " \n",
    "parameters = {'alpha':[0.0001, 0.01, 0.1, .25, .5,.75,1]\n",
    "              #, 'penalty':['none']\n",
    "             # ,'l1_ratio': [0.01]\n",
    "              #,'fit_intercept': ['True']\n",
    "              #,'random_state': [0]\n",
    "             # ,'loss': ['log']\n",
    "            # , 'learning_rate':['optimal']\n",
    "             }\n",
    " \n",
    " \n",
    "#Create a grid search object using the \n",
    "from sklearn.model_selection import GridSearchCV\n",
    "regGridSearch = GridSearchCV(estimator=regEstimator\n",
    "                   , n_jobs=8 # jobs to run in parallel\n",
    "                   , verbose=1 # low verbosity\n",
    "                   , param_grid=parameters\n",
    "                   , cv=cv_object # KFolds = 5\n",
    "                   , scoring='accuracy')\n",
    " \n",
    "#Perform hyperparameter search to find the best combination of parameters for our data\n",
    "regGridSearch.fit(X, y)"
   ]
  },
  {
   "cell_type": "code",
   "execution_count": null,
   "metadata": {},
   "outputs": [],
   "source": [
    "#Use the best parameters for our Linear Regression object\n",
    "classifierEst = regGridSearch.best_estimator_\n",
    "\n",
    "#Evaluate the regression estimator above using our pre-defined cross validation and scoring metrics. \n",
    "EvaluateClassifierEstimator(classifierEst, X, y, cv_object)"
   ]
  }
 ],
 "metadata": {
  "kernelspec": {
   "display_name": "Python 3",
   "language": "python",
   "name": "python3"
  },
  "language_info": {
   "codemirror_mode": {
    "name": "ipython",
    "version": 3
   },
   "file_extension": ".py",
   "mimetype": "text/x-python",
   "name": "python",
   "nbconvert_exporter": "python",
   "pygments_lexer": "ipython3",
   "version": "3.7.0"
  }
 },
 "nbformat": 4,
 "nbformat_minor": 2
}
