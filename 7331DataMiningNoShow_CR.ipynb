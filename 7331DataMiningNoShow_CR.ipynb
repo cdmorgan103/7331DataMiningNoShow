{
 "cells": [
  {
   "cell_type": "markdown",
   "metadata": {},
   "source": [
    "# Assignment 1\n",
    "## Medical Patient No Show\n",
    "\n",
    "### Team members: Luay Dajani, Dana Geislinger, Chris Morgan, Caroll Rodriguez\n",
    "##### Github - https://github.com/cdmorgan103/7331DataMiningNoShow"
   ]
  },
  {
   "cell_type": "markdown",
   "metadata": {},
   "source": [
    "## Business Understanding\n",
    "We utilized the Kaggle No Show appointment data that contains the show/no-show status for several clinics across Brazil that are a part of a central healthcare system. it has 110,527 records and 14 attributes. This data was collected in 2016 and shows the show/no-show behavior of the patients across the different medical facilities (that are identified as the Neighborhood location).  \n",
    "\n",
    "No Show in the medical world can be large cost for clinics and health systems. With more healthcare institutions margins shrinking and an effort to modernize the delivery of healthcare, prioritize nonproductive time has become a more common focus.  As the institution's capacity becomes more constrained and scheduling time frames grow into the weeks, no show is often cited as becoming an increasing issue and many medical systems have gone to extreme lengths to reduce these costly occurrences. \n",
    "\n",
    "This has led many institutions to various actions such as appointment confirmation via SMS, consumer engagement via email/web, strict planned overbooking rates, and even predictive modeling (my healthcare employer has done this).\n",
    "\n",
    "In the case of predictive modeling, we have to not only think of how much yield are model can reasonably contribute, but we also have to consider the impact of a predicted No-show. Are we going to overbook for predicted no-show patients? If we predict No-show to often and have \"Show patients\", there is the potential for serious ramifications in the form of clinical overload. Therefore, it is critical to ensure that we consider how the model will be utilized and consider being as conservative as possible for no-show prediction.\n",
    "\n",
    "As data scientists, it will be critical for us to not only explain model performance, but coach business leaders on how the model will work and be impacted by changes. This means establishing an effective communication channel between business leaders and the Data science team so impacts of any operational changes (i.e. changing scheduling practices, adding pre-appointment verification calls, etc.). Further, this may mean helping coach business leaders on how they can use the model and where to put resources to improve business performance (i.e. following up with high probability no-show appointments before their appointment).\n",
    "\n",
    "\n"
   ]
  },
  {
   "cell_type": "markdown",
   "metadata": {},
   "source": [
    "## Data Meaning Type"
   ]
  },
  {
   "cell_type": "markdown",
   "metadata": {},
   "source": [
    "### Data Meaning\n",
    "This dataset contains 110,527 appointment records for clinics located across Brazil. The dataset includes 11 meaningful predictors relating to each appointment and to the patient that scheduled that appointment. Unique numeric identifiers are provided for each patient as well as each appointment. The response variable of interest for this data set, *No-show*, is a boolean variable denoting whether or not a patient made it to their scheduled appointment.\n",
    "\n",
    "Of the 11 predictor variables (the 2 unique identifiers are excluded), there are 2 timepoint, 1 integer, 1 categorical, and 7 boolean variables. Data are provided that generally describe a patient's health problems as well as their age, gender, and scholastic background. In addition to patient information, we are given data pertaining to the location and time of the appointment as well as whether or not the patient was notified about their appointment with an automated SMS reminder.\n",
    "\n",
    "The following table describes all the variables provided in greater detail. Perhaps the most intriguing variable is *Scholarship*, which is related to the Bolsa Família social program instituted in Brazil. According to the dataset curator, \"the best explanation about this variable that indicates if the person receives a scholarship or not\" (source: https://www.kaggle.com/joniarroba/noshowappointments/discussion/45899). Based on this description, we assume that this variable defines whether or not a patient is currently receiving financial aid as part of this social program. Participants in Bolsa Família must have an income of less than $170/month, must attend regular medical checkups for mothers and children in the household, and children must regularly attend school (source: https://www.wilsoncenter.org/article/programa-bolsa-familia).\n",
    "\n",
    "| Variable Name  | Data Type | Variable Type         | Description                                                             |\n",
    "| -------------- | --------- | --------------------- | ----------------------------------------------------------------------- |\n",
    "| PatientID      | Interval  | Identifier            | Unique ID number for each patient.                                      |\n",
    "| AppointmentID  | Interval  | Identifier            | Unique ID number for each appointment.                                  |\n",
    "| Gender         | Nominal   | Binary Predictor      | Sex of the patient (Male/Female).                                       |\n",
    "| ScheduledDay   | Interval  | Date/Time Predictor   | **Date** and **Time** when the patient called to schedule their appointment. Should always be before *AppointmentDay*.                                                                         |\n",
    "| AppointmentDay | Interval  | Date Predictor        | Scheduled appointment **Date**. Appointment **Times** are not provided. |\n",
    "| Age            | Ratio     | Integer Predictor     | Age of the patient in years.                                            |\n",
    "| Neighbourhood  | Nominal   | Categorical Predictor | The neighborhood in which the appointment facility is located.          |\n",
    "| Scholarship    | Ordinal   | Boolean Predictor     | Whether or not the patient receives Bolsa Família financial aid. To receive this benefit, a patient's income must be under the poverty threshold, all children in the household must be vaccinated and regularly attending school, and mothers and children must receive routine medical care.                                    |\n",
    "| Hipertension   | Ordinal   | Boolean Predictor     | Whether or not a patient is classified as hypertensive (has high blood pressure).                                                                                                                     |\n",
    "| Diabetes       | Ordinal   | Boolean Predictor     | Whether or not a patient is diagnosed as a diabetic.                    |\n",
    "| Alcoholism     | Ordinal   | Boolean Predictor     | Whether or not a patient is classified as an alcoholic.                 |\n",
    "| Handcap        | Ordinal   | Boolean Predictor     | Whether or not a patient is diagnosed as being handicapped.             |\n",
    "| SMS_received   | Nominal   | Boolean Predictor     | Whether or not a patient received an SMS (text message) reminder for   their appointment.                                                                                                             |\n",
    "| No-show        | Nominal   | Boolean Response      | Whether or not a patient showed up for their appointment. True means they **did not** show up, False means they **did** show up.                                                                         |\n",
    "\n",
    "#### Created Variables\n",
    "| Variable Name  | Data Type | Variable Type         | Description                                                             |\n",
    "| -------------- | --------- | --------------------- | ----------------------------------------------------------------------- |\n",
    "| DaysInAdvance  | Ratio     | Integer Predictor     | Value for how many days in advance the appointment was scheduled.       |\n",
    "| ScheduledDOW   | Nominal   | Categorical Predictor | Day of the week for the day the patient scheduled the appointment.      |\n",
    "| AppointmentDOW | Nominal   | Categorical Predictor | Day of the week for patient appointment.                                |\n",
    "| ScheduledTime  | Interval  | Time Predictor        | **Time** of day when an appointment was scheduled.                      |\n",
    "\n",
    "Dataset from: https://www.kaggle.com/joniarroba/noshowappointments"
   ]
  },
  {
   "cell_type": "markdown",
   "metadata": {},
   "source": [
    "### Verify Data Quality"
   ]
  },
  {
   "cell_type": "markdown",
   "metadata": {},
   "source": [
    "To verify the data quality, we will first import the raw data as a Pandas DataFrame object. Next, we will determine whether or not the data requires cleaning or modifications before deeper analysis.  This process will include changing variable types and names to more practically useful formats. Finally, we will perform basic exploratory data analysis to elucidate any potentical patterns or trends within the data."
   ]
  },
  {
   "cell_type": "code",
   "execution_count": 1,
   "metadata": {},
   "outputs": [
    {
     "name": "stdout",
     "output_type": "stream",
     "text": [
      "<class 'pandas.core.frame.DataFrame'>\n",
      "RangeIndex: 110527 entries, 0 to 110526\n",
      "Data columns (total 14 columns):\n",
      "PatientId         110527 non-null float64\n",
      "AppointmentID     110527 non-null int64\n",
      "Gender            110527 non-null object\n",
      "ScheduledDay      110527 non-null object\n",
      "AppointmentDay    110527 non-null object\n",
      "Age               110527 non-null int64\n",
      "Neighbourhood     110527 non-null object\n",
      "Scholarship       110527 non-null int64\n",
      "Hipertension      110527 non-null int64\n",
      "Diabetes          110527 non-null int64\n",
      "Alcoholism        110527 non-null int64\n",
      "Handcap           110527 non-null int64\n",
      "SMS_received      110527 non-null int64\n",
      "No-show           110527 non-null object\n",
      "dtypes: float64(1), int64(8), object(5)\n",
      "memory usage: 11.8+ MB\n"
     ]
    }
   ],
   "source": [
    "# Import required modules\n",
    "import numpy as np\n",
    "import pandas as pd\n",
    "import matplotlib.pyplot as plt\n",
    "from matplotlib import style\n",
    "from pprint import pprint\n",
    "from IPython.display import display\n",
    "\n",
    "# Load the data into variable 'df'\n",
    "df = pd.read_csv('data/KaggleV2-May-2016.csv')\n",
    "\n",
    "# Get an overview of the raw data\n",
    "df.info(null_counts=True)"
   ]
  },
  {
   "cell_type": "markdown",
   "metadata": {},
   "source": [
    "With the raw data imported, we see already that there are no null (missing) values for any of the 110,527 observations in the data set. However, most of the categorical or binary variables are incorrectly stored as generic numpy objects or 64-bit integers. Furthermore, the date-time columns are stored as generic numpy objects. These columns should be converted to the correct data types. Finally, *ScheduledDay* includes time of day, but *AppointmentDay* does not, so we will separate the Scheduled time of day into a new variable; this way, it will be easy to compare the scheduled/actual **days**, while still retaining the time of day at which the appointment scheduling occured."
   ]
  },
  {
   "cell_type": "code",
   "execution_count": 2,
   "metadata": {},
   "outputs": [
    {
     "data": {
      "text/html": [
       "<div>\n",
       "<style scoped>\n",
       "    .dataframe tbody tr th:only-of-type {\n",
       "        vertical-align: middle;\n",
       "    }\n",
       "\n",
       "    .dataframe tbody tr th {\n",
       "        vertical-align: top;\n",
       "    }\n",
       "\n",
       "    .dataframe thead th {\n",
       "        text-align: right;\n",
       "    }\n",
       "</style>\n",
       "<table border=\"1\" class=\"dataframe\">\n",
       "  <thead>\n",
       "    <tr style=\"text-align: right;\">\n",
       "      <th></th>\n",
       "      <th>PatientId</th>\n",
       "      <th>AppointmentID</th>\n",
       "      <th>Gender</th>\n",
       "      <th>ScheduledDay</th>\n",
       "      <th>ScheduledTime</th>\n",
       "      <th>AppointmentDay</th>\n",
       "      <th>Age</th>\n",
       "      <th>Neighbourhood</th>\n",
       "      <th>Scholarship</th>\n",
       "      <th>Hipertension</th>\n",
       "      <th>Diabetes</th>\n",
       "      <th>Alcoholism</th>\n",
       "      <th>Handcap</th>\n",
       "      <th>SMS_received</th>\n",
       "      <th>No-show</th>\n",
       "    </tr>\n",
       "  </thead>\n",
       "  <tbody>\n",
       "    <tr>\n",
       "      <th>0</th>\n",
       "      <td>2.987250e+13</td>\n",
       "      <td>5642903</td>\n",
       "      <td>F</td>\n",
       "      <td>2016-04-29</td>\n",
       "      <td>18:38:08</td>\n",
       "      <td>2016-04-29</td>\n",
       "      <td>62</td>\n",
       "      <td>JARDIM DA PENHA</td>\n",
       "      <td>0</td>\n",
       "      <td>1</td>\n",
       "      <td>0</td>\n",
       "      <td>0</td>\n",
       "      <td>0</td>\n",
       "      <td>0</td>\n",
       "      <td>No</td>\n",
       "    </tr>\n",
       "    <tr>\n",
       "      <th>1</th>\n",
       "      <td>5.589978e+14</td>\n",
       "      <td>5642503</td>\n",
       "      <td>M</td>\n",
       "      <td>2016-04-29</td>\n",
       "      <td>16:08:27</td>\n",
       "      <td>2016-04-29</td>\n",
       "      <td>56</td>\n",
       "      <td>JARDIM DA PENHA</td>\n",
       "      <td>0</td>\n",
       "      <td>0</td>\n",
       "      <td>0</td>\n",
       "      <td>0</td>\n",
       "      <td>0</td>\n",
       "      <td>0</td>\n",
       "      <td>No</td>\n",
       "    </tr>\n",
       "    <tr>\n",
       "      <th>2</th>\n",
       "      <td>4.262962e+12</td>\n",
       "      <td>5642549</td>\n",
       "      <td>F</td>\n",
       "      <td>2016-04-29</td>\n",
       "      <td>16:19:04</td>\n",
       "      <td>2016-04-29</td>\n",
       "      <td>62</td>\n",
       "      <td>MATA DA PRAIA</td>\n",
       "      <td>0</td>\n",
       "      <td>0</td>\n",
       "      <td>0</td>\n",
       "      <td>0</td>\n",
       "      <td>0</td>\n",
       "      <td>0</td>\n",
       "      <td>No</td>\n",
       "    </tr>\n",
       "    <tr>\n",
       "      <th>3</th>\n",
       "      <td>8.679512e+11</td>\n",
       "      <td>5642828</td>\n",
       "      <td>F</td>\n",
       "      <td>2016-04-29</td>\n",
       "      <td>17:29:31</td>\n",
       "      <td>2016-04-29</td>\n",
       "      <td>8</td>\n",
       "      <td>PONTAL DE CAMBURI</td>\n",
       "      <td>0</td>\n",
       "      <td>0</td>\n",
       "      <td>0</td>\n",
       "      <td>0</td>\n",
       "      <td>0</td>\n",
       "      <td>0</td>\n",
       "      <td>No</td>\n",
       "    </tr>\n",
       "    <tr>\n",
       "      <th>4</th>\n",
       "      <td>8.841186e+12</td>\n",
       "      <td>5642494</td>\n",
       "      <td>F</td>\n",
       "      <td>2016-04-29</td>\n",
       "      <td>16:07:23</td>\n",
       "      <td>2016-04-29</td>\n",
       "      <td>56</td>\n",
       "      <td>JARDIM DA PENHA</td>\n",
       "      <td>0</td>\n",
       "      <td>1</td>\n",
       "      <td>1</td>\n",
       "      <td>0</td>\n",
       "      <td>0</td>\n",
       "      <td>0</td>\n",
       "      <td>No</td>\n",
       "    </tr>\n",
       "  </tbody>\n",
       "</table>\n",
       "</div>"
      ],
      "text/plain": [
       "      PatientId  AppointmentID Gender ScheduledDay ScheduledTime  \\\n",
       "0  2.987250e+13        5642903      F   2016-04-29      18:38:08   \n",
       "1  5.589978e+14        5642503      M   2016-04-29      16:08:27   \n",
       "2  4.262962e+12        5642549      F   2016-04-29      16:19:04   \n",
       "3  8.679512e+11        5642828      F   2016-04-29      17:29:31   \n",
       "4  8.841186e+12        5642494      F   2016-04-29      16:07:23   \n",
       "\n",
       "  AppointmentDay  Age      Neighbourhood Scholarship Hipertension Diabetes  \\\n",
       "0     2016-04-29   62    JARDIM DA PENHA           0            1        0   \n",
       "1     2016-04-29   56    JARDIM DA PENHA           0            0        0   \n",
       "2     2016-04-29   62      MATA DA PRAIA           0            0        0   \n",
       "3     2016-04-29    8  PONTAL DE CAMBURI           0            0        0   \n",
       "4     2016-04-29   56    JARDIM DA PENHA           0            1        1   \n",
       "\n",
       "  Alcoholism Handcap SMS_received No-show  \n",
       "0          0       0            0      No  \n",
       "1          0       0            0      No  \n",
       "2          0       0            0      No  \n",
       "3          0       0            0      No  \n",
       "4          0       0            0      No  "
      ]
     },
     "execution_count": 2,
     "metadata": {},
     "output_type": "execute_result"
    }
   ],
   "source": [
    "# Convert categorical variables to the correct datatype\n",
    "categ_features = ['Gender', 'Neighbourhood', 'Scholarship', 'Hipertension', 'Diabetes',\n",
    "                  'Alcoholism', 'Handcap', 'SMS_received', 'No-show'\n",
    "                  ]\n",
    "df[categ_features] = df[categ_features].astype('category')\n",
    "\n",
    "# Pull-out the scheduled time of day as a new variable (ScheduledTime) and re-insert into df\n",
    "df.ScheduledDay, ScheduledTime = df.ScheduledDay.str.split('T', 1).str\n",
    "df.insert(loc=4, column='ScheduledTime', value=ScheduledTime)\n",
    "\n",
    "# Convert date-time variables to the correct type using the C-style fmt codes\n",
    "df.ScheduledDay = pd.to_datetime(df.ScheduledDay, format=\"%Y-%m-%d\")\n",
    "df.ScheduledTime = pd.to_datetime(df.ScheduledTime, format=\"%H:%M:%SZ\").dt.time\n",
    "df.AppointmentDay = pd.to_datetime(df.AppointmentDay, format=\"%Y-%m-%dT%H:%M:%SZ\")\n",
    "\n",
    "# Reprint df info to check\n",
    "df.head()"
   ]
  },
  {
   "cell_type": "markdown",
   "metadata": {},
   "source": [
    "The *PatientId* column was cast as a floating point variable, because there are some rows that erroneously contain data after the decimal point. We will convert these rows to integers and check if the ID numbers are unique for each row. It should be noted that it would not be incorrect to have multiple identical patient ID's, as these would describe multiple appointments made for the same patient. However, appointment ID should be unique for each observation. We will check these values before and after the conversion of *PatientId* to make sure that each patient is correctly identified after the conversion."
   ]
  },
  {
   "cell_type": "code",
   "execution_count": 3,
   "metadata": {},
   "outputs": [
    {
     "name": "stdout",
     "output_type": "stream",
     "text": [
      "Unique Appointment IDs: 110527\n",
      "Total Appointments:     110527\n",
      "\n",
      "Unique Patient IDs Before Conversion: 62299\n",
      "Unique Patient IDs After Conversion:  62299\n"
     ]
    }
   ],
   "source": [
    "# Print the number of unique appointment IDs\n",
    "print(\"Unique Appointment IDs: %d\" %  len(df.AppointmentID.unique()))\n",
    "print(\"Total Appointments:     %d\\n\" % len(df.AppointmentID))\n",
    "\n",
    "# Print the number of unique patient IDs\n",
    "print(\"Unique Patient IDs Before Conversion: %d\" % len(df.PatientId.unique()))\n",
    "\n",
    "# Cast PatientId as int\n",
    "df.PatientId = df.PatientId.astype(np.int64)\n",
    "\n",
    "# Double check the counts\n",
    "print(\"Unique Patient IDs After Conversion:  %d\" % len(df.PatientId.unique()))"
   ]
  },
  {
   "cell_type": "markdown",
   "metadata": {},
   "source": [
    "This tells us that each appointment is indeed uniquely identified, but that all appointments in the dataset were made by the same group of 62,299 patients."
   ]
  },
  {
   "cell_type": "markdown",
   "metadata": {},
   "source": [
    "#### Cleaning the data\n",
    "This data set is relatively clean in its raw state, with no missing values in any columns. However, there are some inconsistencies and errors that must be corrected before further analysis can be performed:\n",
    "\n",
    "Since this dataset originated in a non-english speaking country, there are some columns with names that are misspelled. There are also some columns that are named inconsistently from the rest of the data. These names will be changed before further analysis is performed."
   ]
  },
  {
   "cell_type": "code",
   "execution_count": 4,
   "metadata": {},
   "outputs": [
    {
     "name": "stdout",
     "output_type": "stream",
     "text": [
      "['PatientId',\n",
      " 'AppointmentID',\n",
      " 'Gender',\n",
      " 'ScheduledDay',\n",
      " 'ScheduledTime',\n",
      " 'AppointmentDay',\n",
      " 'Age',\n",
      " 'Neighbourhood',\n",
      " 'Scholarship',\n",
      " 'Hypertension',\n",
      " 'Diabetes',\n",
      " 'Alcoholism',\n",
      " 'Handicap',\n",
      " 'SMSReceived',\n",
      " 'NoShow']\n"
     ]
    }
   ],
   "source": [
    "# Rename incorrect column names.\n",
    "df = df.rename(columns={'Hipertension': 'Hypertension', 'Handcap': 'Handicap', 'SMS_received': 'SMSReceived', 'No-show': 'NoShow'})\n",
    "pprint(list(df.columns))"
   ]
  },
  {
   "cell_type": "markdown",
   "metadata": {},
   "source": [
    "There are sub-zero values for age and two unique patients with an age of 115. This could be documented oddly for perhaps a pregnant mother's child (hence a negative age value since the child isn't born). Since there is no way of knowing if ts only one data point, these values will be simply imputed with the median value for the dataset. It is unlikely the 2 patients who are actually 115, but it is feasible to reach this age, and most likely, these patients true age are within the vicinity of the age documented but are slightly off due to poor birth documentation. In this case the values of 115 and other suspicously high age values will remain the same at this point.  "
   ]
  },
  {
   "cell_type": "code",
   "execution_count": 5,
   "metadata": {},
   "outputs": [
    {
     "data": {
      "text/html": [
       "<div>\n",
       "<style scoped>\n",
       "    .dataframe tbody tr th:only-of-type {\n",
       "        vertical-align: middle;\n",
       "    }\n",
       "\n",
       "    .dataframe tbody tr th {\n",
       "        vertical-align: top;\n",
       "    }\n",
       "\n",
       "    .dataframe thead th {\n",
       "        text-align: right;\n",
       "    }\n",
       "</style>\n",
       "<table border=\"1\" class=\"dataframe\">\n",
       "  <thead>\n",
       "    <tr style=\"text-align: right;\">\n",
       "      <th></th>\n",
       "      <th>PatientId</th>\n",
       "      <th>AppointmentID</th>\n",
       "      <th>Gender</th>\n",
       "      <th>ScheduledDay</th>\n",
       "      <th>ScheduledTime</th>\n",
       "      <th>AppointmentDay</th>\n",
       "      <th>Age</th>\n",
       "      <th>Neighbourhood</th>\n",
       "      <th>Scholarship</th>\n",
       "      <th>Hypertension</th>\n",
       "      <th>Diabetes</th>\n",
       "      <th>Alcoholism</th>\n",
       "      <th>Handicap</th>\n",
       "      <th>SMSReceived</th>\n",
       "      <th>NoShow</th>\n",
       "    </tr>\n",
       "  </thead>\n",
       "  <tbody>\n",
       "    <tr>\n",
       "      <th>63912</th>\n",
       "      <td>31963211613981</td>\n",
       "      <td>5700278</td>\n",
       "      <td>F</td>\n",
       "      <td>2016-05-16</td>\n",
       "      <td>09:17:44</td>\n",
       "      <td>2016-05-19</td>\n",
       "      <td>115</td>\n",
       "      <td>ANDORINHAS</td>\n",
       "      <td>0</td>\n",
       "      <td>0</td>\n",
       "      <td>0</td>\n",
       "      <td>0</td>\n",
       "      <td>1</td>\n",
       "      <td>0</td>\n",
       "      <td>Yes</td>\n",
       "    </tr>\n",
       "    <tr>\n",
       "      <th>63915</th>\n",
       "      <td>31963211613981</td>\n",
       "      <td>5700279</td>\n",
       "      <td>F</td>\n",
       "      <td>2016-05-16</td>\n",
       "      <td>09:17:44</td>\n",
       "      <td>2016-05-19</td>\n",
       "      <td>115</td>\n",
       "      <td>ANDORINHAS</td>\n",
       "      <td>0</td>\n",
       "      <td>0</td>\n",
       "      <td>0</td>\n",
       "      <td>0</td>\n",
       "      <td>1</td>\n",
       "      <td>0</td>\n",
       "      <td>Yes</td>\n",
       "    </tr>\n",
       "    <tr>\n",
       "      <th>68127</th>\n",
       "      <td>31963211613981</td>\n",
       "      <td>5562812</td>\n",
       "      <td>F</td>\n",
       "      <td>2016-04-08</td>\n",
       "      <td>14:29:17</td>\n",
       "      <td>2016-05-16</td>\n",
       "      <td>115</td>\n",
       "      <td>ANDORINHAS</td>\n",
       "      <td>0</td>\n",
       "      <td>0</td>\n",
       "      <td>0</td>\n",
       "      <td>0</td>\n",
       "      <td>1</td>\n",
       "      <td>0</td>\n",
       "      <td>Yes</td>\n",
       "    </tr>\n",
       "    <tr>\n",
       "      <th>76284</th>\n",
       "      <td>31963211613981</td>\n",
       "      <td>5744037</td>\n",
       "      <td>F</td>\n",
       "      <td>2016-05-30</td>\n",
       "      <td>09:44:51</td>\n",
       "      <td>2016-05-30</td>\n",
       "      <td>115</td>\n",
       "      <td>ANDORINHAS</td>\n",
       "      <td>0</td>\n",
       "      <td>0</td>\n",
       "      <td>0</td>\n",
       "      <td>0</td>\n",
       "      <td>1</td>\n",
       "      <td>0</td>\n",
       "      <td>No</td>\n",
       "    </tr>\n",
       "    <tr>\n",
       "      <th>97666</th>\n",
       "      <td>748234579244724</td>\n",
       "      <td>5717451</td>\n",
       "      <td>F</td>\n",
       "      <td>2016-05-19</td>\n",
       "      <td>07:57:56</td>\n",
       "      <td>2016-06-03</td>\n",
       "      <td>115</td>\n",
       "      <td>SÃO JOSÉ</td>\n",
       "      <td>0</td>\n",
       "      <td>1</td>\n",
       "      <td>0</td>\n",
       "      <td>0</td>\n",
       "      <td>0</td>\n",
       "      <td>1</td>\n",
       "      <td>No</td>\n",
       "    </tr>\n",
       "    <tr>\n",
       "      <th>99832</th>\n",
       "      <td>465943158731293</td>\n",
       "      <td>5775010</td>\n",
       "      <td>F</td>\n",
       "      <td>2016-06-06</td>\n",
       "      <td>08:58:13</td>\n",
       "      <td>2016-06-06</td>\n",
       "      <td>-1</td>\n",
       "      <td>ROMÃO</td>\n",
       "      <td>0</td>\n",
       "      <td>0</td>\n",
       "      <td>0</td>\n",
       "      <td>0</td>\n",
       "      <td>0</td>\n",
       "      <td>0</td>\n",
       "      <td>No</td>\n",
       "    </tr>\n",
       "  </tbody>\n",
       "</table>\n",
       "</div>"
      ],
      "text/plain": [
       "             PatientId  AppointmentID Gender ScheduledDay ScheduledTime  \\\n",
       "63912   31963211613981        5700278      F   2016-05-16      09:17:44   \n",
       "63915   31963211613981        5700279      F   2016-05-16      09:17:44   \n",
       "68127   31963211613981        5562812      F   2016-04-08      14:29:17   \n",
       "76284   31963211613981        5744037      F   2016-05-30      09:44:51   \n",
       "97666  748234579244724        5717451      F   2016-05-19      07:57:56   \n",
       "99832  465943158731293        5775010      F   2016-06-06      08:58:13   \n",
       "\n",
       "      AppointmentDay  Age Neighbourhood Scholarship Hypertension Diabetes  \\\n",
       "63912     2016-05-19  115    ANDORINHAS           0            0        0   \n",
       "63915     2016-05-19  115    ANDORINHAS           0            0        0   \n",
       "68127     2016-05-16  115    ANDORINHAS           0            0        0   \n",
       "76284     2016-05-30  115    ANDORINHAS           0            0        0   \n",
       "97666     2016-06-03  115      SÃO JOSÉ           0            1        0   \n",
       "99832     2016-06-06   -1         ROMÃO           0            0        0   \n",
       "\n",
       "      Alcoholism Handicap SMSReceived NoShow  \n",
       "63912          0        1           0    Yes  \n",
       "63915          0        1           0    Yes  \n",
       "68127          0        1           0    Yes  \n",
       "76284          0        1           0     No  \n",
       "97666          0        0           1     No  \n",
       "99832          0        0           0     No  "
      ]
     },
     "metadata": {},
     "output_type": "display_data"
    }
   ],
   "source": [
    "# Print observations where age is minimum or maximum\n",
    "display(df.loc[(df.Age == -1) | (df.Age == 115)])\n",
    "\n",
    "# Impute the values of sub zero age observations\n",
    "df.Age=df.Age.replace(-1, int(df.Age.median()))"
   ]
  },
  {
   "cell_type": "markdown",
   "metadata": {},
   "source": [
    "#### Defining New Variables\n",
    "Next, we determine how many days in advance the appointment was scheduled and create it as a new feature. This will ensure values are reasonable and that there are no negative datapoints. Examination shows we do have some datapoints that need to be corrected."
   ]
  },
  {
   "cell_type": "code",
   "execution_count": 6,
   "metadata": {
    "scrolled": true
   },
   "outputs": [
    {
     "data": {
      "text/html": [
       "<div>\n",
       "<style scoped>\n",
       "    .dataframe tbody tr th:only-of-type {\n",
       "        vertical-align: middle;\n",
       "    }\n",
       "\n",
       "    .dataframe tbody tr th {\n",
       "        vertical-align: top;\n",
       "    }\n",
       "\n",
       "    .dataframe thead th {\n",
       "        text-align: right;\n",
       "    }\n",
       "</style>\n",
       "<table border=\"1\" class=\"dataframe\">\n",
       "  <thead>\n",
       "    <tr style=\"text-align: right;\">\n",
       "      <th></th>\n",
       "      <th>PatientId</th>\n",
       "      <th>AppointmentID</th>\n",
       "      <th>Gender</th>\n",
       "      <th>ScheduledDay</th>\n",
       "      <th>ScheduledTime</th>\n",
       "      <th>AppointmentDay</th>\n",
       "      <th>Age</th>\n",
       "      <th>Neighbourhood</th>\n",
       "      <th>Scholarship</th>\n",
       "      <th>Hypertension</th>\n",
       "      <th>Diabetes</th>\n",
       "      <th>Alcoholism</th>\n",
       "      <th>Handicap</th>\n",
       "      <th>SMSReceived</th>\n",
       "      <th>NoShow</th>\n",
       "      <th>DaysInAdvance</th>\n",
       "    </tr>\n",
       "  </thead>\n",
       "  <tbody>\n",
       "    <tr>\n",
       "      <th>27033</th>\n",
       "      <td>7839272661752</td>\n",
       "      <td>5679978</td>\n",
       "      <td>M</td>\n",
       "      <td>2016-05-10</td>\n",
       "      <td>10:51:53</td>\n",
       "      <td>2016-05-09</td>\n",
       "      <td>38</td>\n",
       "      <td>RESISTÊNCIA</td>\n",
       "      <td>0</td>\n",
       "      <td>0</td>\n",
       "      <td>0</td>\n",
       "      <td>0</td>\n",
       "      <td>1</td>\n",
       "      <td>0</td>\n",
       "      <td>Yes</td>\n",
       "      <td>-1</td>\n",
       "    </tr>\n",
       "    <tr>\n",
       "      <th>55226</th>\n",
       "      <td>7896293967868</td>\n",
       "      <td>5715660</td>\n",
       "      <td>F</td>\n",
       "      <td>2016-05-18</td>\n",
       "      <td>14:50:41</td>\n",
       "      <td>2016-05-17</td>\n",
       "      <td>19</td>\n",
       "      <td>SANTO ANTÔNIO</td>\n",
       "      <td>0</td>\n",
       "      <td>0</td>\n",
       "      <td>0</td>\n",
       "      <td>0</td>\n",
       "      <td>1</td>\n",
       "      <td>0</td>\n",
       "      <td>Yes</td>\n",
       "      <td>-1</td>\n",
       "    </tr>\n",
       "    <tr>\n",
       "      <th>64175</th>\n",
       "      <td>24252258389979</td>\n",
       "      <td>5664962</td>\n",
       "      <td>F</td>\n",
       "      <td>2016-05-05</td>\n",
       "      <td>13:43:58</td>\n",
       "      <td>2016-05-04</td>\n",
       "      <td>22</td>\n",
       "      <td>CONSOLAÇÃO</td>\n",
       "      <td>0</td>\n",
       "      <td>0</td>\n",
       "      <td>0</td>\n",
       "      <td>0</td>\n",
       "      <td>0</td>\n",
       "      <td>0</td>\n",
       "      <td>Yes</td>\n",
       "      <td>-1</td>\n",
       "    </tr>\n",
       "    <tr>\n",
       "      <th>71533</th>\n",
       "      <td>998231581612122</td>\n",
       "      <td>5686628</td>\n",
       "      <td>F</td>\n",
       "      <td>2016-05-11</td>\n",
       "      <td>13:49:20</td>\n",
       "      <td>2016-05-05</td>\n",
       "      <td>81</td>\n",
       "      <td>SANTO ANTÔNIO</td>\n",
       "      <td>0</td>\n",
       "      <td>0</td>\n",
       "      <td>0</td>\n",
       "      <td>0</td>\n",
       "      <td>0</td>\n",
       "      <td>0</td>\n",
       "      <td>Yes</td>\n",
       "      <td>-6</td>\n",
       "    </tr>\n",
       "    <tr>\n",
       "      <th>72362</th>\n",
       "      <td>3787481966821</td>\n",
       "      <td>5655637</td>\n",
       "      <td>M</td>\n",
       "      <td>2016-05-04</td>\n",
       "      <td>06:50:57</td>\n",
       "      <td>2016-05-03</td>\n",
       "      <td>7</td>\n",
       "      <td>TABUAZEIRO</td>\n",
       "      <td>0</td>\n",
       "      <td>0</td>\n",
       "      <td>0</td>\n",
       "      <td>0</td>\n",
       "      <td>0</td>\n",
       "      <td>0</td>\n",
       "      <td>Yes</td>\n",
       "      <td>-1</td>\n",
       "    </tr>\n",
       "  </tbody>\n",
       "</table>\n",
       "</div>"
      ],
      "text/plain": [
       "             PatientId  AppointmentID Gender ScheduledDay ScheduledTime  \\\n",
       "27033    7839272661752        5679978      M   2016-05-10      10:51:53   \n",
       "55226    7896293967868        5715660      F   2016-05-18      14:50:41   \n",
       "64175   24252258389979        5664962      F   2016-05-05      13:43:58   \n",
       "71533  998231581612122        5686628      F   2016-05-11      13:49:20   \n",
       "72362    3787481966821        5655637      M   2016-05-04      06:50:57   \n",
       "\n",
       "      AppointmentDay  Age  Neighbourhood Scholarship Hypertension Diabetes  \\\n",
       "27033     2016-05-09   38    RESISTÊNCIA           0            0        0   \n",
       "55226     2016-05-17   19  SANTO ANTÔNIO           0            0        0   \n",
       "64175     2016-05-04   22     CONSOLAÇÃO           0            0        0   \n",
       "71533     2016-05-05   81  SANTO ANTÔNIO           0            0        0   \n",
       "72362     2016-05-03    7     TABUAZEIRO           0            0        0   \n",
       "\n",
       "      Alcoholism Handicap SMSReceived NoShow  DaysInAdvance  \n",
       "27033          0        1           0    Yes             -1  \n",
       "55226          0        1           0    Yes             -1  \n",
       "64175          0        0           0    Yes             -1  \n",
       "71533          0        0           0    Yes             -6  \n",
       "72362          0        0           0    Yes             -1  "
      ]
     },
     "execution_count": 6,
     "metadata": {},
     "output_type": "execute_result"
    }
   ],
   "source": [
    "# Create a column showing days in advance\n",
    "df['DaysInAdvance']=(df['AppointmentDay']-df['ScheduledDay']).dt.days\n",
    "\n",
    "# List appointments with negative days in advance (logically impossible)\n",
    "df.loc[df.DaysInAdvance<0]"
   ]
  },
  {
   "cell_type": "markdown",
   "metadata": {},
   "source": [
    "Since scheduling an appointment on a later day than the appointment is scheduled for is impossible, we will impute the *ScheduledDay* for all appointments with *DaysInAdvance* < 0 as the same day as the appointment. This seems to be a logical imputation since many of the existing appointments in the data set were scheduled the dame day as the appointment, and appointments with scheduled days in the future are likely data entry errors."
   ]
  },
  {
   "cell_type": "code",
   "execution_count": 7,
   "metadata": {},
   "outputs": [
    {
     "data": {
      "text/html": [
       "<div>\n",
       "<style scoped>\n",
       "    .dataframe tbody tr th:only-of-type {\n",
       "        vertical-align: middle;\n",
       "    }\n",
       "\n",
       "    .dataframe tbody tr th {\n",
       "        vertical-align: top;\n",
       "    }\n",
       "\n",
       "    .dataframe thead th {\n",
       "        text-align: right;\n",
       "    }\n",
       "</style>\n",
       "<table border=\"1\" class=\"dataframe\">\n",
       "  <thead>\n",
       "    <tr style=\"text-align: right;\">\n",
       "      <th></th>\n",
       "      <th>PatientId</th>\n",
       "      <th>AppointmentID</th>\n",
       "      <th>Gender</th>\n",
       "      <th>ScheduledDay</th>\n",
       "      <th>ScheduledTime</th>\n",
       "      <th>AppointmentDay</th>\n",
       "      <th>Age</th>\n",
       "      <th>Neighbourhood</th>\n",
       "      <th>Scholarship</th>\n",
       "      <th>Hypertension</th>\n",
       "      <th>Diabetes</th>\n",
       "      <th>Alcoholism</th>\n",
       "      <th>Handicap</th>\n",
       "      <th>SMSReceived</th>\n",
       "      <th>NoShow</th>\n",
       "      <th>DaysInAdvance</th>\n",
       "    </tr>\n",
       "  </thead>\n",
       "  <tbody>\n",
       "  </tbody>\n",
       "</table>\n",
       "</div>"
      ],
      "text/plain": [
       "Empty DataFrame\n",
       "Columns: [PatientId, AppointmentID, Gender, ScheduledDay, ScheduledTime, AppointmentDay, Age, Neighbourhood, Scholarship, Hypertension, Diabetes, Alcoholism, Handicap, SMSReceived, NoShow, DaysInAdvance]\n",
       "Index: []"
      ]
     },
     "execution_count": 7,
     "metadata": {},
     "output_type": "execute_result"
    }
   ],
   "source": [
    "# Run through the data to ensure no appointments that are scheduled after the appointment(which would be impossible).\n",
    "# If true, scheduled day with the appointment day is assumed as the a same day as the appointment, then recalculate advance field\n",
    "df['ScheduledDay'] = np.where(df['ScheduledDay']>df['AppointmentDay'], df['AppointmentDay'], df['ScheduledDay'])\n",
    "df['DaysInAdvance']=(df['AppointmentDay']-df['ScheduledDay']).dt.days\n",
    "\n",
    "#Examine again, we have corrected the bad scheduled appointment data (table is now empty)\n",
    "df.loc[df.DaysInAdvance<0]"
   ]
  },
  {
   "cell_type": "markdown",
   "metadata": {},
   "source": [
    "The final variable we will add to the data set is the day of the week of an appointment and the day of the week on which an appointment was scheduled. The day of the week could provide important insights into trends in the data that might go unnoticed as raw dates."
   ]
  },
  {
   "cell_type": "code",
   "execution_count": 8,
   "metadata": {},
   "outputs": [
    {
     "name": "stdout",
     "output_type": "stream",
     "text": [
      "<class 'pandas.core.frame.DataFrame'>\n",
      "RangeIndex: 110527 entries, 0 to 110526\n",
      "Data columns (total 18 columns):\n",
      "PatientId         110527 non-null int64\n",
      "AppointmentID     110527 non-null int64\n",
      "Gender            110527 non-null category\n",
      "ScheduledDay      110527 non-null datetime64[ns]\n",
      "ScheduledTime     110527 non-null object\n",
      "AppointmentDay    110527 non-null datetime64[ns]\n",
      "Age               110527 non-null int64\n",
      "Neighbourhood     110527 non-null category\n",
      "Scholarship       110527 non-null category\n",
      "Hypertension      110527 non-null category\n",
      "Diabetes          110527 non-null category\n",
      "Alcoholism        110527 non-null category\n",
      "Handicap          110527 non-null category\n",
      "SMSReceived       110527 non-null category\n",
      "NoShow            110527 non-null category\n",
      "DaysInAdvance     110527 non-null int64\n",
      "ScheduledDOW      110527 non-null object\n",
      "AppointmentDOW    110527 non-null object\n",
      "dtypes: category(9), datetime64[ns](2), int64(4), object(3)\n",
      "memory usage: 8.5+ MB\n"
     ]
    },
    {
     "data": {
      "text/html": [
       "<div>\n",
       "<style scoped>\n",
       "    .dataframe tbody tr th:only-of-type {\n",
       "        vertical-align: middle;\n",
       "    }\n",
       "\n",
       "    .dataframe tbody tr th {\n",
       "        vertical-align: top;\n",
       "    }\n",
       "\n",
       "    .dataframe thead th {\n",
       "        text-align: right;\n",
       "    }\n",
       "</style>\n",
       "<table border=\"1\" class=\"dataframe\">\n",
       "  <thead>\n",
       "    <tr style=\"text-align: right;\">\n",
       "      <th></th>\n",
       "      <th>PatientId</th>\n",
       "      <th>AppointmentID</th>\n",
       "      <th>Age</th>\n",
       "      <th>DaysInAdvance</th>\n",
       "    </tr>\n",
       "  </thead>\n",
       "  <tbody>\n",
       "    <tr>\n",
       "      <th>count</th>\n",
       "      <td>1.105270e+05</td>\n",
       "      <td>1.105270e+05</td>\n",
       "      <td>110527.000000</td>\n",
       "      <td>110527.000000</td>\n",
       "    </tr>\n",
       "    <tr>\n",
       "      <th>mean</th>\n",
       "      <td>1.474963e+14</td>\n",
       "      <td>5.675305e+06</td>\n",
       "      <td>37.089218</td>\n",
       "      <td>10.183792</td>\n",
       "    </tr>\n",
       "    <tr>\n",
       "      <th>std</th>\n",
       "      <td>2.560949e+14</td>\n",
       "      <td>7.129575e+04</td>\n",
       "      <td>23.109921</td>\n",
       "      <td>15.254924</td>\n",
       "    </tr>\n",
       "    <tr>\n",
       "      <th>min</th>\n",
       "      <td>3.921700e+04</td>\n",
       "      <td>5.030230e+06</td>\n",
       "      <td>0.000000</td>\n",
       "      <td>0.000000</td>\n",
       "    </tr>\n",
       "    <tr>\n",
       "      <th>25%</th>\n",
       "      <td>4.172614e+12</td>\n",
       "      <td>5.640286e+06</td>\n",
       "      <td>18.000000</td>\n",
       "      <td>0.000000</td>\n",
       "    </tr>\n",
       "    <tr>\n",
       "      <th>50%</th>\n",
       "      <td>3.173184e+13</td>\n",
       "      <td>5.680573e+06</td>\n",
       "      <td>37.000000</td>\n",
       "      <td>4.000000</td>\n",
       "    </tr>\n",
       "    <tr>\n",
       "      <th>75%</th>\n",
       "      <td>9.439172e+13</td>\n",
       "      <td>5.725524e+06</td>\n",
       "      <td>55.000000</td>\n",
       "      <td>15.000000</td>\n",
       "    </tr>\n",
       "    <tr>\n",
       "      <th>max</th>\n",
       "      <td>9.999816e+14</td>\n",
       "      <td>5.790484e+06</td>\n",
       "      <td>115.000000</td>\n",
       "      <td>179.000000</td>\n",
       "    </tr>\n",
       "  </tbody>\n",
       "</table>\n",
       "</div>"
      ],
      "text/plain": [
       "          PatientId  AppointmentID            Age  DaysInAdvance\n",
       "count  1.105270e+05   1.105270e+05  110527.000000  110527.000000\n",
       "mean   1.474963e+14   5.675305e+06      37.089218      10.183792\n",
       "std    2.560949e+14   7.129575e+04      23.109921      15.254924\n",
       "min    3.921700e+04   5.030230e+06       0.000000       0.000000\n",
       "25%    4.172614e+12   5.640286e+06      18.000000       0.000000\n",
       "50%    3.173184e+13   5.680573e+06      37.000000       4.000000\n",
       "75%    9.439172e+13   5.725524e+06      55.000000      15.000000\n",
       "max    9.999816e+14   5.790484e+06     115.000000     179.000000"
      ]
     },
     "execution_count": 8,
     "metadata": {},
     "output_type": "execute_result"
    }
   ],
   "source": [
    "# Create a day of week variable for both the scheduled day and the appointment day which will allows to examining\n",
    "#  any potential trends related to the day of the week and appointment no-show\n",
    "df['ScheduledDOW'] = df['ScheduledDay'].dt.weekday_name\n",
    "df['AppointmentDOW'] = df['AppointmentDay'].dt.weekday_name\n",
    "\n",
    "#Check the variables\n",
    "df.info()\n",
    "df.describe()"
   ]
  },
  {
   "cell_type": "markdown",
   "metadata": {},
   "source": [
    "With the data cleaned, we print out the unique values for each variable to identify patterns and to better understand our data. This also allows us to verify that the contents of the data are as we understand them."
   ]
  },
  {
   "cell_type": "code",
   "execution_count": 9,
   "metadata": {},
   "outputs": [
    {
     "name": "stdout",
     "output_type": "stream",
     "text": [
      "Gender: ['F', 'M']\n",
      "Scheduled Dates: 2015-11-10 to 2016-06-08\n",
      "Appointment Dates: 2016-04-29 to 2016-06-08\n",
      "Age Range: 0 to 115 Years Old\n",
      "Number of Distinct Neighbourhoods: 81\n",
      "Scholarship: [0, 1]\n",
      "Hypertension: [1, 0]\n",
      "Diabetes: [0, 1]\n",
      "Alchoholism: [0, 1]\n",
      "Handicap: [0, 1, 2, 3, 4]\n",
      "SMSReceived: [0, 1]\n",
      "NoShow: ['No', 'Yes']\n",
      "Range of Scheduled Days in Advance: 0 to 179 Days\n",
      "ScheduledDOW: ['Friday', 'Monday', 'Saturday', 'Thursday', 'Tuesday', 'Wednesday']\n",
      "AppointmentDOW: ['Friday', 'Monday', 'Saturday', 'Thursday', 'Tuesday', 'Wednesday']\n"
     ]
    }
   ],
   "source": [
    "# Print descriptive info for the unique values for each predictor\n",
    "print('Gender:', list(df.Gender.unique()))\n",
    "print('Scheduled Dates: %s to %s' % (min(df.ScheduledDay).date(), max(df.ScheduledDay).date()))\n",
    "print('Appointment Dates: %s to %s' % (min(df.AppointmentDay).date(), max(df.AppointmentDay).date()))\n",
    "print('Age Range: %d to %d Years Old' % (min(df.Age), max(df.Age)))\n",
    "print('Number of Distinct Neighbourhoods:', len(df.Neighbourhood.unique()))\n",
    "print('Scholarship:', list(df.Scholarship.unique()))\n",
    "print('Hypertension:', list(df.Hypertension.unique()))\n",
    "print('Diabetes:', list(df.Diabetes.unique()))\n",
    "print('Alchoholism:', list(df.Alcoholism.unique()))\n",
    "print('Handicap:', list(df.Handicap.unique()))\n",
    "print('SMSReceived:', list(df.SMSReceived.unique()))\n",
    "print('NoShow:', list(df.NoShow.unique()))\n",
    "print('Range of Scheduled Days in Advance: %d to %d Days' % (min(df.DaysInAdvance), max(df.DaysInAdvance)))\n",
    "print('ScheduledDOW:', sorted(df.ScheduledDOW.unique()))\n",
    "print('AppointmentDOW:', sorted(df.AppointmentDOW.unique()))"
   ]
  },
  {
   "cell_type": "markdown",
   "metadata": {},
   "source": [
    "Viewing the ranges/categories for each variable helps illuminates the data and conveys some interesting trends.\n",
    "\n",
    "First, the date ranges show that appointments were scheduled as early as November 2015, but this dataset does not include any actual appointments prior to the end of April 2016. The latest appointment takes place on June 8th, 2016 and this is also the final date on which an appointment was scheduled.\n",
    "\n",
    "I is interesting to note the large age range of patients in the data set, and important to note that the patients in this data set could have visited clinics in any one of 81 possible Brazilian neighborhoods.\n",
    "\n",
    "It is also interesting to note that patients schedule appointments over a wide range, from the same to almost a half a year in advance. Finally, it is very interesting to notice that there were both no appointments scheduled or visits taken on Sundays throughout the entire dataset. This seems to indicate that medical clinics in Brazil are closed Sunday, both for scheduling appointments and seeing patients."
   ]
  },
  {
   "cell_type": "code",
   "execution_count": 10,
   "metadata": {},
   "outputs": [
    {
     "data": {
      "text/plain": [
       "Handicap\n",
       "0    108286\n",
       "1      2042\n",
       "2       183\n",
       "3        13\n",
       "4         3\n",
       "Name: Handicap, dtype: int64"
      ]
     },
     "metadata": {},
     "output_type": "display_data"
    },
    {
     "name": "stdout",
     "output_type": "stream",
     "text": [
      "199 appointments have Handicap > 1\n"
     ]
    }
   ],
   "source": [
    "# Count the number of rows in which handicap takes on each value\n",
    "display(df.groupby(df.Handicap).Handicap.count())\n",
    "\n",
    "# Count the number of Handicap > 1 appointments\n",
    "print('%d appointments have Handicap > 1' % len(df.loc[(df.Handicap == 2) | (df.Handicap == 3) | (df.Handicap == 4)]))"
   ]
  },
  {
   "cell_type": "markdown",
   "metadata": {},
   "source": [
    "Looking at the variable ranges in this way shows us one final issue with the data that wasn't noticed previously; the *Handicap* variable is meant to be a boolean feature denoting whether a patient is disabled (1) or not (0). However, there are values of 2, 3, 4, and 5 entered in for this data as in 199 rows as well.\n",
    "\n",
    "We believe that it is likely that clinics erroneously input a handicap value on an ordinal scale from 0-4 instead of as a boolean 0/1 value. Since these observations comprise only a small portion (199 / 110,527) of the data, it makes sense to impute them. If we assume that each patient listed with *Handicap* > 1 has some degree of handicap, it makes sense to impute these values as 1."
   ]
  },
  {
   "cell_type": "code",
   "execution_count": 11,
   "metadata": {},
   "outputs": [
    {
     "data": {
      "text/plain": [
       "Handicap\n",
       "0    108286\n",
       "1      2241\n",
       "Name: Handicap, dtype: int64"
      ]
     },
     "metadata": {},
     "output_type": "display_data"
    }
   ],
   "source": [
    "# Replace Handicap 2, 3, 4 with 1\n",
    "df.Handicap = pd.cut(df.Handicap, bins=[-1,0.9,5], labels=[0,1])\n",
    "display(df.groupby(df.Handicap).Handicap.count())"
   ]
  },
  {
   "cell_type": "markdown",
   "metadata": {},
   "source": [
    "Now that the raw data has been cleaned and variables have been investigated, we will save the updated data set to a new csv file."
   ]
  },
  {
   "cell_type": "code",
   "execution_count": 12,
   "metadata": {},
   "outputs": [],
   "source": [
    "#df = pd.read_csv(\"data/updated.csv\")"
   ]
  },
  {
   "cell_type": "code",
   "execution_count": 13,
   "metadata": {},
   "outputs": [
    {
     "name": "stdout",
     "output_type": "stream",
     "text": [
      "<class 'pandas.core.frame.DataFrame'>\n",
      "RangeIndex: 110527 entries, 0 to 110526\n",
      "Data columns (total 18 columns):\n",
      "PatientId         110527 non-null int64\n",
      "AppointmentID     110527 non-null int64\n",
      "Gender            110527 non-null category\n",
      "ScheduledDay      110527 non-null datetime64[ns]\n",
      "ScheduledTime     110527 non-null object\n",
      "AppointmentDay    110527 non-null datetime64[ns]\n",
      "Age               110527 non-null int64\n",
      "Neighbourhood     110527 non-null category\n",
      "Scholarship       110527 non-null category\n",
      "Hypertension      110527 non-null category\n",
      "Diabetes          110527 non-null category\n",
      "Alcoholism        110527 non-null category\n",
      "Handicap          110527 non-null category\n",
      "SMSReceived       110527 non-null category\n",
      "NoShow            110527 non-null category\n",
      "DaysInAdvance     110527 non-null int64\n",
      "ScheduledDOW      110527 non-null object\n",
      "AppointmentDOW    110527 non-null object\n",
      "dtypes: category(9), datetime64[ns](2), int64(4), object(3)\n",
      "memory usage: 8.5+ MB\n"
     ]
    }
   ],
   "source": [
    "df.info()"
   ]
  },
  {
   "cell_type": "markdown",
   "metadata": {},
   "source": [
    "### Explore Joint Attributes\n",
    "Visualize relationships between attributes: Look at the attributes via scatter plots, correlation, cross-tabulation, group-wise averages, etc. as appropriate. Explain any interesting relationships.\n"
   ]
  },
  {
   "cell_type": "code",
   "execution_count": 14,
   "metadata": {},
   "outputs": [],
   "source": [
    "#library to load\n",
    "%matplotlib inline\n",
    "import matplotlib.pyplot as plt\n",
    "from matplotlib import style\n",
    "style.use('fivethirtyeight')\n",
    "from pylab import rcParams\n",
    "import seaborn as sns\n",
    "import pandas as pd\n",
    "import scipy"
   ]
  },
  {
   "cell_type": "markdown",
   "metadata": {},
   "source": [
    " "
   ]
  },
  {
   "cell_type": "code",
   "execution_count": 15,
   "metadata": {},
   "outputs": [],
   "source": [
    "#new variables\n",
    "df['age_range'] = pd.cut(df.Age,[0,16,65,1e6],3,labels=['child','adult','senior']) \n",
    "distinct_pID = df['PatientId'].nunique()\n",
    "cat_var = df[['Gender','age_range','Neighbourhood','Scholarship','Hypertension','Diabetes','Alcoholism','Handicap','SMSReceived','ScheduledDOW','AppointmentDOW','NoShow']]\n",
    "con_var = df[['ScheduledDay','ScheduledTime','AppointmentDay']]\n",
    "df = df.replace({'NoShow': {'Yes': True, 'No': False}})"
   ]
  },
  {
   "cell_type": "markdown",
   "metadata": {},
   "source": [
    "## Age Range and Gender\n",
    "For this dataset there is a heavier concentration of Females with appointments in the adult range of 16-65 than mailes.\n",
    "Interesting to see that the amount of children with appointments is simular. This could be due to mothers making appointments for children as in the Braziliam culture it is common for mothers to take care of children care. It seems that Adult and Senior males have half as many appointments in the system than females.\n",
    "Since the number of apppointments is double comapared to the number of Patients, this signifies multiple appointments made for unique patients.\n",
    "Seniors have a tendency to have the highest day in advance that appointment is scheduled.\n",
    "#### Patients and Appointments"
   ]
  },
  {
   "cell_type": "code",
   "execution_count": 16,
   "metadata": {},
   "outputs": [
    {
     "name": "stdout",
     "output_type": "stream",
     "text": [
      "Percenage of Total appointments\n"
     ]
    },
    {
     "data": {
      "text/html": [
       "<div>\n",
       "<style scoped>\n",
       "    .dataframe tbody tr th:only-of-type {\n",
       "        vertical-align: middle;\n",
       "    }\n",
       "\n",
       "    .dataframe tbody tr th {\n",
       "        vertical-align: top;\n",
       "    }\n",
       "\n",
       "    .dataframe thead th {\n",
       "        text-align: right;\n",
       "    }\n",
       "</style>\n",
       "<table border=\"1\" class=\"dataframe\">\n",
       "  <thead>\n",
       "    <tr style=\"text-align: right;\">\n",
       "      <th></th>\n",
       "      <th></th>\n",
       "      <th>PatientId</th>\n",
       "      <th>AppointmentID</th>\n",
       "      <th>DaysInAdvance</th>\n",
       "    </tr>\n",
       "    <tr>\n",
       "      <th>Gender</th>\n",
       "      <th>age_range</th>\n",
       "      <th></th>\n",
       "      <th></th>\n",
       "      <th></th>\n",
       "    </tr>\n",
       "  </thead>\n",
       "  <tbody>\n",
       "    <tr>\n",
       "      <th rowspan=\"3\" valign=\"top\">F</th>\n",
       "      <th>child</th>\n",
       "      <td>6811</td>\n",
       "      <td>11155</td>\n",
       "      <td>9.694756</td>\n",
       "    </tr>\n",
       "    <tr>\n",
       "      <th>adult</th>\n",
       "      <td>27153</td>\n",
       "      <td>50037</td>\n",
       "      <td>10.534105</td>\n",
       "    </tr>\n",
       "    <tr>\n",
       "      <th>senior</th>\n",
       "      <td>5138</td>\n",
       "      <td>8927</td>\n",
       "      <td>11.348941</td>\n",
       "    </tr>\n",
       "    <tr>\n",
       "      <th rowspan=\"3\" valign=\"top\">M</th>\n",
       "      <th>child</th>\n",
       "      <td>6593</td>\n",
       "      <td>11176</td>\n",
       "      <td>9.315855</td>\n",
       "    </tr>\n",
       "    <tr>\n",
       "      <th>adult</th>\n",
       "      <td>12020</td>\n",
       "      <td>21319</td>\n",
       "      <td>9.308692</td>\n",
       "    </tr>\n",
       "    <tr>\n",
       "      <th>senior</th>\n",
       "      <td>2585</td>\n",
       "      <td>4374</td>\n",
       "      <td>11.110882</td>\n",
       "    </tr>\n",
       "  </tbody>\n",
       "</table>\n",
       "</div>"
      ],
      "text/plain": [
       "                  PatientId  AppointmentID  DaysInAdvance\n",
       "Gender age_range                                         \n",
       "F      child           6811          11155       9.694756\n",
       "       adult          27153          50037      10.534105\n",
       "       senior          5138           8927      11.348941\n",
       "M      child           6593          11176       9.315855\n",
       "       adult          12020          21319       9.308692\n",
       "       senior          2585           4374      11.110882"
      ]
     },
     "execution_count": 16,
     "metadata": {},
     "output_type": "execute_result"
    }
   ],
   "source": [
    "agerange_by_gender = df.groupby(['Gender','age_range']).agg({'PatientId':'nunique','AppointmentID':'nunique','DaysInAdvance':'mean'})\n",
    "print(\"Percenage of Total appointments\")\n",
    "agerange_by_gender"
   ]
  },
  {
   "cell_type": "markdown",
   "metadata": {},
   "source": [
    "### Days of the Week\n",
    "There is a higher number of unique patients with appointments on Tuesday and Wednesday.\n",
    "Saturday has a very small amount of appointments. Could be due to error in dataset or there are less doctors with available Saturday appointments available.\n",
    "No appointments made on Sundays most likely because these offices do not work on Sundays.\n",
    "Not much difference in the mean days in advance patients make appointments except for a low average for Saturdays.\n",
    "\n",
    "#### Patients and Appointments"
   ]
  },
  {
   "cell_type": "code",
   "execution_count": 17,
   "metadata": {},
   "outputs": [],
   "source": [
    "#create an index to order Days of the Week\n",
    "df['AppointmentDOW'] = pd.Categorical(df['AppointmentDOW'], categories=['Monday','Tuesday','Wednesday','Thursday','Friday','Saturday', 'Sunday'], ordered=True)"
   ]
  },
  {
   "cell_type": "code",
   "execution_count": 18,
   "metadata": {},
   "outputs": [
    {
     "name": "stdout",
     "output_type": "stream",
     "text": [
      "Unique Patients and Total Appointments with Days In Advance\n"
     ]
    },
    {
     "data": {
      "text/html": [
       "<div>\n",
       "<style scoped>\n",
       "    .dataframe tbody tr th:only-of-type {\n",
       "        vertical-align: middle;\n",
       "    }\n",
       "\n",
       "    .dataframe tbody tr th {\n",
       "        vertical-align: top;\n",
       "    }\n",
       "\n",
       "    .dataframe thead th {\n",
       "        text-align: right;\n",
       "    }\n",
       "</style>\n",
       "<table border=\"1\" class=\"dataframe\">\n",
       "  <thead>\n",
       "    <tr style=\"text-align: right;\">\n",
       "      <th></th>\n",
       "      <th>PatientId</th>\n",
       "      <th>AppointmentID</th>\n",
       "      <th>DaysInAdvance</th>\n",
       "    </tr>\n",
       "    <tr>\n",
       "      <th>AppointmentDOW</th>\n",
       "      <th></th>\n",
       "      <th></th>\n",
       "      <th></th>\n",
       "    </tr>\n",
       "  </thead>\n",
       "  <tbody>\n",
       "    <tr>\n",
       "      <th>Monday</th>\n",
       "      <td>18011</td>\n",
       "      <td>22715</td>\n",
       "      <td>10.838741</td>\n",
       "    </tr>\n",
       "    <tr>\n",
       "      <th>Tuesday</th>\n",
       "      <td>20175</td>\n",
       "      <td>25640</td>\n",
       "      <td>10.020671</td>\n",
       "    </tr>\n",
       "    <tr>\n",
       "      <th>Wednesday</th>\n",
       "      <td>20083</td>\n",
       "      <td>25867</td>\n",
       "      <td>9.965787</td>\n",
       "    </tr>\n",
       "    <tr>\n",
       "      <th>Thursday</th>\n",
       "      <td>14295</td>\n",
       "      <td>17247</td>\n",
       "      <td>9.619586</td>\n",
       "    </tr>\n",
       "    <tr>\n",
       "      <th>Friday</th>\n",
       "      <td>15168</td>\n",
       "      <td>19019</td>\n",
       "      <td>10.441821</td>\n",
       "    </tr>\n",
       "    <tr>\n",
       "      <th>Saturday</th>\n",
       "      <td>38</td>\n",
       "      <td>39</td>\n",
       "      <td>4.230769</td>\n",
       "    </tr>\n",
       "    <tr>\n",
       "      <th>Sunday</th>\n",
       "      <td>0</td>\n",
       "      <td>0</td>\n",
       "      <td>NaN</td>\n",
       "    </tr>\n",
       "  </tbody>\n",
       "</table>\n",
       "</div>"
      ],
      "text/plain": [
       "                PatientId  AppointmentID  DaysInAdvance\n",
       "AppointmentDOW                                         \n",
       "Monday              18011          22715      10.838741\n",
       "Tuesday             20175          25640      10.020671\n",
       "Wednesday           20083          25867       9.965787\n",
       "Thursday            14295          17247       9.619586\n",
       "Friday              15168          19019      10.441821\n",
       "Saturday               38             39       4.230769\n",
       "Sunday                  0              0            NaN"
      ]
     },
     "execution_count": 18,
     "metadata": {},
     "output_type": "execute_result"
    }
   ],
   "source": [
    "appt_by_DOW = df.groupby(['AppointmentDOW']).agg({'PatientId':'nunique','AppointmentID':'nunique','DaysInAdvance':'mean'})\n",
    "print(\"Unique Patients and Total Appointments with Days In Advance\")\n",
    "appt_by_DOW.sort_index()"
   ]
  },
  {
   "cell_type": "code",
   "execution_count": null,
   "metadata": {},
   "outputs": [],
   "source": []
  },
  {
   "cell_type": "code",
   "execution_count": 19,
   "metadata": {},
   "outputs": [
    {
     "data": {
      "text/plain": [
       "Text(0,0.5,'Total No Show Appointments')"
      ]
     },
     "execution_count": 19,
     "metadata": {},
     "output_type": "execute_result"
    },
    {
     "data": {
      "image/png": "[encoded data removed]",
      "text/plain": [
       "<Figure size 432x288 with 1 Axes>"
      ]
     },
     "metadata": {},
     "output_type": "display_data"
    }
   ],
   "source": [
    "plot_by_DOW = appt_by_DOW.plot(title='Day of the Week Appointments')\n",
    "plot_by_DOW.set_xlabel('Day of the Week')\n",
    "plot_by_DOW.set_ylabel('Total No Show Appointments')"
   ]
  },
  {
   "cell_type": "markdown",
   "metadata": {},
   "source": [
    "### Patient Attributes\n",
    "Since there are more adults in this dataset, its not surprising to know that Patient attributes would be higher in this regards\n",
    "#### Patients and Appointments"
   ]
  },
  {
   "cell_type": "code",
   "execution_count": 20,
   "metadata": {},
   "outputs": [],
   "source": [
    "#agerange_by_gender_PA = df.groupby(['Gender','age_range','Scholarship','Hypertension','Diabetes','Alcoholism','Handicap']).agg({'PatientId':'nunique','AppointmentID':'nunique'})\n",
    "#print(\"Percenage of Total appointments\")\n",
    "#agerange_by_gender_PA"
   ]
  },
  {
   "cell_type": "code",
   "execution_count": 21,
   "metadata": {},
   "outputs": [
    {
     "name": "stdout",
     "output_type": "stream",
     "text": [
      "<class 'pandas.core.frame.DataFrame'>\n",
      "RangeIndex: 110527 entries, 0 to 110526\n",
      "Data columns (total 19 columns):\n",
      "PatientId         110527 non-null int64\n",
      "AppointmentID     110527 non-null int64\n",
      "Gender            110527 non-null category\n",
      "ScheduledDay      110527 non-null datetime64[ns]\n",
      "ScheduledTime     110527 non-null object\n",
      "AppointmentDay    110527 non-null datetime64[ns]\n",
      "Age               110527 non-null int64\n",
      "Neighbourhood     110527 non-null category\n",
      "Scholarship       110527 non-null category\n",
      "Hypertension      110527 non-null category\n",
      "Diabetes          110527 non-null category\n",
      "Alcoholism        110527 non-null category\n",
      "Handicap          110527 non-null category\n",
      "SMSReceived       110527 non-null category\n",
      "NoShow            110527 non-null bool\n",
      "DaysInAdvance     110527 non-null int64\n",
      "ScheduledDOW      110527 non-null object\n",
      "AppointmentDOW    110527 non-null category\n",
      "age_range         106988 non-null category\n",
      "dtypes: bool(1), category(10), datetime64[ns](2), int64(4), object(2)\n",
      "memory usage: 7.9+ MB\n"
     ]
    }
   ],
   "source": [
    "df.info()"
   ]
  },
  {
   "cell_type": "code",
   "execution_count": 23,
   "metadata": {},
   "outputs": [],
   "source": [
    "#change datatype of categorical variables for summary tables below\n",
    "categ_features = ['Scholarship', 'Hypertension', 'Diabetes',\n",
    "                  'Alcoholism', 'Handicap', 'SMSReceived']\n",
    "df[categ_features] = df[categ_features].astype('int64')"
   ]
  },
  {
   "cell_type": "code",
   "execution_count": 48,
   "metadata": {},
   "outputs": [
    {
     "name": "stdout",
     "output_type": "stream",
     "text": [
      "Unique Patients with Scholarships\n"
     ]
    },
    {
     "data": {
      "text/plain": [
       "(age_range  Gender\n",
       " child      F          6811\n",
       "            M          6593\n",
       " adult      F         27153\n",
       "            M         12020\n",
       " senior     F          5138\n",
       "            M          2585\n",
       " Name: PatientId, dtype: int64, <bound method Series.sum of 0         0\n",
       " 1         0\n",
       " 2         0\n",
       " 3         0\n",
       " 4         0\n",
       " 5         0\n",
       " 6         0\n",
       " 7         0\n",
       " 8         0\n",
       " 9         0\n",
       " 10        0\n",
       " 11        0\n",
       " 12        1\n",
       " 13        0\n",
       " 14        0\n",
       " 15        0\n",
       " 16        0\n",
       " 17        1\n",
       " 18        1\n",
       " 19        0\n",
       " 20        0\n",
       " 21        0\n",
       " 22        0\n",
       " 23        0\n",
       " 24        0\n",
       " 25        0\n",
       " 26        0\n",
       " 27        0\n",
       " 28        0\n",
       " 29        0\n",
       "          ..\n",
       " 110497    0\n",
       " 110498    0\n",
       " 110499    0\n",
       " 110500    0\n",
       " 110501    0\n",
       " 110502    0\n",
       " 110503    0\n",
       " 110504    0\n",
       " 110505    0\n",
       " 110506    0\n",
       " 110507    0\n",
       " 110508    0\n",
       " 110509    0\n",
       " 110510    0\n",
       " 110511    0\n",
       " 110512    0\n",
       " 110513    0\n",
       " 110514    0\n",
       " 110515    0\n",
       " 110516    0\n",
       " 110517    0\n",
       " 110518    0\n",
       " 110519    0\n",
       " 110520    0\n",
       " 110521    0\n",
       " 110522    0\n",
       " 110523    0\n",
       " 110524    0\n",
       " 110525    0\n",
       " 110526    0\n",
       " Name: Scholarship, Length: 110527, dtype: int64>)"
      ]
     },
     "execution_count": 48,
     "metadata": {},
     "output_type": "execute_result"
    }
   ],
   "source": [
    "print(\"Unique Patients with Scholarships\")\n",
    "agerange_by_gender_SS = df.groupby(['age_range','Gender']).PatientId.nunique(),df.Scholarship.sum\n",
    "agerange_by_gender_SS"
   ]
  },
  {
   "cell_type": "code",
   "execution_count": 39,
   "metadata": {},
   "outputs": [
    {
     "ename": "AttributeError",
     "evalue": "'SeriesGroupBy' object has no attribute 'freq'",
     "output_type": "error",
     "traceback": [
      "\u001b[1;31m---------------------------------------------------------------------------\u001b[0m",
      "\u001b[1;31mAttributeError\u001b[0m                            Traceback (most recent call last)",
      "\u001b[1;32m<ipython-input-39-8adfb2de6bd5>\u001b[0m in \u001b[0;36m<module>\u001b[1;34m()\u001b[0m\n\u001b[1;32m----> 1\u001b[1;33m \u001b[0magerange_by_gender_HT\u001b[0m \u001b[1;33m=\u001b[0m \u001b[0mdf\u001b[0m\u001b[1;33m.\u001b[0m\u001b[0mgroupby\u001b[0m\u001b[1;33m(\u001b[0m\u001b[1;33m[\u001b[0m\u001b[1;34m'age_range'\u001b[0m\u001b[1;33m,\u001b[0m\u001b[1;34m'Gender'\u001b[0m\u001b[1;33m]\u001b[0m\u001b[1;33m)\u001b[0m\u001b[1;33m.\u001b[0m\u001b[0magg\u001b[0m\u001b[1;33m(\u001b[0m\u001b[1;33m{\u001b[0m\u001b[1;34m'PatientId'\u001b[0m\u001b[1;33m:\u001b[0m\u001b[1;34m'nunique'\u001b[0m\u001b[1;33m,\u001b[0m\u001b[1;34m'Hypertension'\u001b[0m\u001b[1;33m:\u001b[0m\u001b[1;34m'freq'\u001b[0m\u001b[1;33m}\u001b[0m\u001b[1;33m)\u001b[0m\u001b[1;33m\u001b[0m\u001b[0m\n\u001b[0m\u001b[0;32m      2\u001b[0m \u001b[0mprint\u001b[0m\u001b[1;33m(\u001b[0m\u001b[1;34m\"Unique Patients with Hypertension\"\u001b[0m\u001b[1;33m)\u001b[0m\u001b[1;33m\u001b[0m\u001b[0m\n\u001b[0;32m      3\u001b[0m \u001b[0magerange_by_gender_HT\u001b[0m\u001b[1;33m\u001b[0m\u001b[0m\n",
      "\u001b[1;32m~\\AppData\\Local\\conda\\conda\\envs\\MSDS7331\\lib\\site-packages\\pandas\\core\\groupby\\groupby.py\u001b[0m in \u001b[0;36maggregate\u001b[1;34m(self, arg, *args, **kwargs)\u001b[0m\n\u001b[0;32m   4654\u001b[0m         axis=''))\n\u001b[0;32m   4655\u001b[0m     \u001b[1;32mdef\u001b[0m \u001b[0maggregate\u001b[0m\u001b[1;33m(\u001b[0m\u001b[0mself\u001b[0m\u001b[1;33m,\u001b[0m \u001b[0marg\u001b[0m\u001b[1;33m,\u001b[0m \u001b[1;33m*\u001b[0m\u001b[0margs\u001b[0m\u001b[1;33m,\u001b[0m \u001b[1;33m**\u001b[0m\u001b[0mkwargs\u001b[0m\u001b[1;33m)\u001b[0m\u001b[1;33m:\u001b[0m\u001b[1;33m\u001b[0m\u001b[0m\n\u001b[1;32m-> 4656\u001b[1;33m         \u001b[1;32mreturn\u001b[0m \u001b[0msuper\u001b[0m\u001b[1;33m(\u001b[0m\u001b[0mDataFrameGroupBy\u001b[0m\u001b[1;33m,\u001b[0m \u001b[0mself\u001b[0m\u001b[1;33m)\u001b[0m\u001b[1;33m.\u001b[0m\u001b[0maggregate\u001b[0m\u001b[1;33m(\u001b[0m\u001b[0marg\u001b[0m\u001b[1;33m,\u001b[0m \u001b[1;33m*\u001b[0m\u001b[0margs\u001b[0m\u001b[1;33m,\u001b[0m \u001b[1;33m**\u001b[0m\u001b[0mkwargs\u001b[0m\u001b[1;33m)\u001b[0m\u001b[1;33m\u001b[0m\u001b[0m\n\u001b[0m\u001b[0;32m   4657\u001b[0m \u001b[1;33m\u001b[0m\u001b[0m\n\u001b[0;32m   4658\u001b[0m     \u001b[0magg\u001b[0m \u001b[1;33m=\u001b[0m \u001b[0maggregate\u001b[0m\u001b[1;33m\u001b[0m\u001b[0m\n",
      "\u001b[1;32m~\\AppData\\Local\\conda\\conda\\envs\\MSDS7331\\lib\\site-packages\\pandas\\core\\groupby\\groupby.py\u001b[0m in \u001b[0;36maggregate\u001b[1;34m(self, arg, *args, **kwargs)\u001b[0m\n\u001b[0;32m   4085\u001b[0m \u001b[1;33m\u001b[0m\u001b[0m\n\u001b[0;32m   4086\u001b[0m         \u001b[0m_level\u001b[0m \u001b[1;33m=\u001b[0m \u001b[0mkwargs\u001b[0m\u001b[1;33m.\u001b[0m\u001b[0mpop\u001b[0m\u001b[1;33m(\u001b[0m\u001b[1;34m'_level'\u001b[0m\u001b[1;33m,\u001b[0m \u001b[1;32mNone\u001b[0m\u001b[1;33m)\u001b[0m\u001b[1;33m\u001b[0m\u001b[0m\n\u001b[1;32m-> 4087\u001b[1;33m         \u001b[0mresult\u001b[0m\u001b[1;33m,\u001b[0m \u001b[0mhow\u001b[0m \u001b[1;33m=\u001b[0m \u001b[0mself\u001b[0m\u001b[1;33m.\u001b[0m\u001b[0m_aggregate\u001b[0m\u001b[1;33m(\u001b[0m\u001b[0marg\u001b[0m\u001b[1;33m,\u001b[0m \u001b[0m_level\u001b[0m\u001b[1;33m=\u001b[0m\u001b[0m_level\u001b[0m\u001b[1;33m,\u001b[0m \u001b[1;33m*\u001b[0m\u001b[0margs\u001b[0m\u001b[1;33m,\u001b[0m \u001b[1;33m**\u001b[0m\u001b[0mkwargs\u001b[0m\u001b[1;33m)\u001b[0m\u001b[1;33m\u001b[0m\u001b[0m\n\u001b[0m\u001b[0;32m   4088\u001b[0m         \u001b[1;32mif\u001b[0m \u001b[0mhow\u001b[0m \u001b[1;32mis\u001b[0m \u001b[1;32mNone\u001b[0m\u001b[1;33m:\u001b[0m\u001b[1;33m\u001b[0m\u001b[0m\n\u001b[0;32m   4089\u001b[0m             \u001b[1;32mreturn\u001b[0m \u001b[0mresult\u001b[0m\u001b[1;33m\u001b[0m\u001b[0m\n",
      "\u001b[1;32m~\\AppData\\Local\\conda\\conda\\envs\\MSDS7331\\lib\\site-packages\\pandas\\core\\base.py\u001b[0m in \u001b[0;36m_aggregate\u001b[1;34m(self, arg, *args, **kwargs)\u001b[0m\n\u001b[0;32m    488\u001b[0m \u001b[1;33m\u001b[0m\u001b[0m\n\u001b[0;32m    489\u001b[0m                 \u001b[1;32mtry\u001b[0m\u001b[1;33m:\u001b[0m\u001b[1;33m\u001b[0m\u001b[0m\n\u001b[1;32m--> 490\u001b[1;33m                     \u001b[0mresult\u001b[0m \u001b[1;33m=\u001b[0m \u001b[0m_agg\u001b[0m\u001b[1;33m(\u001b[0m\u001b[0marg\u001b[0m\u001b[1;33m,\u001b[0m \u001b[0m_agg_1dim\u001b[0m\u001b[1;33m)\u001b[0m\u001b[1;33m\u001b[0m\u001b[0m\n\u001b[0m\u001b[0;32m    491\u001b[0m                 \u001b[1;32mexcept\u001b[0m \u001b[0mSpecificationError\u001b[0m\u001b[1;33m:\u001b[0m\u001b[1;33m\u001b[0m\u001b[0m\n\u001b[0;32m    492\u001b[0m \u001b[1;33m\u001b[0m\u001b[0m\n",
      "\u001b[1;32m~\\AppData\\Local\\conda\\conda\\envs\\MSDS7331\\lib\\site-packages\\pandas\\core\\base.py\u001b[0m in \u001b[0;36m_agg\u001b[1;34m(arg, func)\u001b[0m\n\u001b[0;32m    439\u001b[0m                 \u001b[0mresult\u001b[0m \u001b[1;33m=\u001b[0m \u001b[0mcompat\u001b[0m\u001b[1;33m.\u001b[0m\u001b[0mOrderedDict\u001b[0m\u001b[1;33m(\u001b[0m\u001b[1;33m)\u001b[0m\u001b[1;33m\u001b[0m\u001b[0m\n\u001b[0;32m    440\u001b[0m                 \u001b[1;32mfor\u001b[0m \u001b[0mfname\u001b[0m\u001b[1;33m,\u001b[0m \u001b[0magg_how\u001b[0m \u001b[1;32min\u001b[0m \u001b[0mcompat\u001b[0m\u001b[1;33m.\u001b[0m\u001b[0miteritems\u001b[0m\u001b[1;33m(\u001b[0m\u001b[0marg\u001b[0m\u001b[1;33m)\u001b[0m\u001b[1;33m:\u001b[0m\u001b[1;33m\u001b[0m\u001b[0m\n\u001b[1;32m--> 441\u001b[1;33m                     \u001b[0mresult\u001b[0m\u001b[1;33m[\u001b[0m\u001b[0mfname\u001b[0m\u001b[1;33m]\u001b[0m \u001b[1;33m=\u001b[0m \u001b[0mfunc\u001b[0m\u001b[1;33m(\u001b[0m\u001b[0mfname\u001b[0m\u001b[1;33m,\u001b[0m \u001b[0magg_how\u001b[0m\u001b[1;33m)\u001b[0m\u001b[1;33m\u001b[0m\u001b[0m\n\u001b[0m\u001b[0;32m    442\u001b[0m                 \u001b[1;32mreturn\u001b[0m \u001b[0mresult\u001b[0m\u001b[1;33m\u001b[0m\u001b[0m\n\u001b[0;32m    443\u001b[0m \u001b[1;33m\u001b[0m\u001b[0m\n",
      "\u001b[1;32m~\\AppData\\Local\\conda\\conda\\envs\\MSDS7331\\lib\\site-packages\\pandas\\core\\base.py\u001b[0m in \u001b[0;36m_agg_1dim\u001b[1;34m(name, how, subset)\u001b[0m\n\u001b[0;32m    422\u001b[0m                     raise SpecificationError(\"nested dictionary is ambiguous \"\n\u001b[0;32m    423\u001b[0m                                              \"in aggregation\")\n\u001b[1;32m--> 424\u001b[1;33m                 \u001b[1;32mreturn\u001b[0m \u001b[0mcolg\u001b[0m\u001b[1;33m.\u001b[0m\u001b[0maggregate\u001b[0m\u001b[1;33m(\u001b[0m\u001b[0mhow\u001b[0m\u001b[1;33m,\u001b[0m \u001b[0m_level\u001b[0m\u001b[1;33m=\u001b[0m\u001b[1;33m(\u001b[0m\u001b[0m_level\u001b[0m \u001b[1;32mor\u001b[0m \u001b[1;36m0\u001b[0m\u001b[1;33m)\u001b[0m \u001b[1;33m+\u001b[0m \u001b[1;36m1\u001b[0m\u001b[1;33m)\u001b[0m\u001b[1;33m\u001b[0m\u001b[0m\n\u001b[0m\u001b[0;32m    425\u001b[0m \u001b[1;33m\u001b[0m\u001b[0m\n\u001b[0;32m    426\u001b[0m             \u001b[1;32mdef\u001b[0m \u001b[0m_agg_2dim\u001b[0m\u001b[1;33m(\u001b[0m\u001b[0mname\u001b[0m\u001b[1;33m,\u001b[0m \u001b[0mhow\u001b[0m\u001b[1;33m)\u001b[0m\u001b[1;33m:\u001b[0m\u001b[1;33m\u001b[0m\u001b[0m\n",
      "\u001b[1;32m~\\AppData\\Local\\conda\\conda\\envs\\MSDS7331\\lib\\site-packages\\pandas\\core\\groupby\\groupby.py\u001b[0m in \u001b[0;36maggregate\u001b[1;34m(self, func_or_funcs, *args, **kwargs)\u001b[0m\n\u001b[0;32m   3477\u001b[0m         \u001b[0m_level\u001b[0m \u001b[1;33m=\u001b[0m \u001b[0mkwargs\u001b[0m\u001b[1;33m.\u001b[0m\u001b[0mpop\u001b[0m\u001b[1;33m(\u001b[0m\u001b[1;34m'_level'\u001b[0m\u001b[1;33m,\u001b[0m \u001b[1;32mNone\u001b[0m\u001b[1;33m)\u001b[0m\u001b[1;33m\u001b[0m\u001b[0m\n\u001b[0;32m   3478\u001b[0m         \u001b[1;32mif\u001b[0m \u001b[0misinstance\u001b[0m\u001b[1;33m(\u001b[0m\u001b[0mfunc_or_funcs\u001b[0m\u001b[1;33m,\u001b[0m \u001b[0mcompat\u001b[0m\u001b[1;33m.\u001b[0m\u001b[0mstring_types\u001b[0m\u001b[1;33m)\u001b[0m\u001b[1;33m:\u001b[0m\u001b[1;33m\u001b[0m\u001b[0m\n\u001b[1;32m-> 3479\u001b[1;33m             \u001b[1;32mreturn\u001b[0m \u001b[0mgetattr\u001b[0m\u001b[1;33m(\u001b[0m\u001b[0mself\u001b[0m\u001b[1;33m,\u001b[0m \u001b[0mfunc_or_funcs\u001b[0m\u001b[1;33m)\u001b[0m\u001b[1;33m(\u001b[0m\u001b[1;33m*\u001b[0m\u001b[0margs\u001b[0m\u001b[1;33m,\u001b[0m \u001b[1;33m**\u001b[0m\u001b[0mkwargs\u001b[0m\u001b[1;33m)\u001b[0m\u001b[1;33m\u001b[0m\u001b[0m\n\u001b[0m\u001b[0;32m   3480\u001b[0m \u001b[1;33m\u001b[0m\u001b[0m\n\u001b[0;32m   3481\u001b[0m         \u001b[1;32mif\u001b[0m \u001b[0misinstance\u001b[0m\u001b[1;33m(\u001b[0m\u001b[0mfunc_or_funcs\u001b[0m\u001b[1;33m,\u001b[0m \u001b[0mcollections\u001b[0m\u001b[1;33m.\u001b[0m\u001b[0mIterable\u001b[0m\u001b[1;33m)\u001b[0m\u001b[1;33m:\u001b[0m\u001b[1;33m\u001b[0m\u001b[0m\n",
      "\u001b[1;32m~\\AppData\\Local\\conda\\conda\\envs\\MSDS7331\\lib\\site-packages\\pandas\\core\\groupby\\groupby.py\u001b[0m in \u001b[0;36m__getattr__\u001b[1;34m(self, attr)\u001b[0m\n\u001b[0;32m    763\u001b[0m \u001b[1;33m\u001b[0m\u001b[0m\n\u001b[0;32m    764\u001b[0m         raise AttributeError(\"%r object has no attribute %r\" %\n\u001b[1;32m--> 765\u001b[1;33m                              (type(self).__name__, attr))\n\u001b[0m\u001b[0;32m    766\u001b[0m \u001b[1;33m\u001b[0m\u001b[0m\n\u001b[0;32m    767\u001b[0m     @Substitution(klass='GroupBy',\n",
      "\u001b[1;31mAttributeError\u001b[0m: 'SeriesGroupBy' object has no attribute 'freq'"
     ]
    }
   ],
   "source": [
    "agerange_by_gender_HT = df.groupby(['age_range','Gender']).agg({'PatientId':'nunique','Hypertension':'freq'})\n",
    "print(\"Unique Patients with Hypertension\")\n",
    "agerange_by_gender_HT"
   ]
  },
  {
   "cell_type": "code",
   "execution_count": 38,
   "metadata": {},
   "outputs": [
    {
     "ename": "TypeError",
     "evalue": "apply() missing 1 required positional argument: 'func'",
     "output_type": "error",
     "traceback": [
      "\u001b[1;31m---------------------------------------------------------------------------\u001b[0m",
      "\u001b[1;31mTypeError\u001b[0m                                 Traceback (most recent call last)",
      "\u001b[1;32m<ipython-input-38-956cd1620c62>\u001b[0m in \u001b[0;36m<module>\u001b[1;34m()\u001b[0m\n\u001b[1;32m----> 1\u001b[1;33m \u001b[0magerange_by_gender_DB\u001b[0m \u001b[1;33m=\u001b[0m \u001b[0mdf\u001b[0m\u001b[1;33m.\u001b[0m\u001b[0mgroupby\u001b[0m\u001b[1;33m(\u001b[0m\u001b[1;33m[\u001b[0m\u001b[1;34m'age_range'\u001b[0m\u001b[1;33m,\u001b[0m\u001b[1;34m'Gender'\u001b[0m\u001b[1;33m]\u001b[0m\u001b[1;33m)\u001b[0m\u001b[1;33m.\u001b[0m\u001b[0magg\u001b[0m\u001b[1;33m(\u001b[0m\u001b[1;33m{\u001b[0m\u001b[1;34m'PatientId'\u001b[0m\u001b[1;33m:\u001b[0m\u001b[1;34m'nunique'\u001b[0m\u001b[1;33m,\u001b[0m\u001b[1;34m'Diabetes'\u001b[0m\u001b[1;33m:\u001b[0m\u001b[1;33m[\u001b[0m\u001b[1;34m'apply'\u001b[0m\u001b[1;33m]\u001b[0m\u001b[1;33m}\u001b[0m\u001b[1;33m)\u001b[0m\u001b[1;33m\u001b[0m\u001b[0m\n\u001b[0m\u001b[0;32m      2\u001b[0m \u001b[0mprint\u001b[0m\u001b[1;33m(\u001b[0m\u001b[1;34m\"Unique Patients with Diabetes\"\u001b[0m\u001b[1;33m)\u001b[0m\u001b[1;33m\u001b[0m\u001b[0m\n\u001b[0;32m      3\u001b[0m \u001b[0magerange_by_gender_DB\u001b[0m\u001b[1;33m\u001b[0m\u001b[0m\n",
      "\u001b[1;32m~\\AppData\\Local\\conda\\conda\\envs\\MSDS7331\\lib\\site-packages\\pandas\\core\\groupby\\groupby.py\u001b[0m in \u001b[0;36maggregate\u001b[1;34m(self, arg, *args, **kwargs)\u001b[0m\n\u001b[0;32m   4654\u001b[0m         axis=''))\n\u001b[0;32m   4655\u001b[0m     \u001b[1;32mdef\u001b[0m \u001b[0maggregate\u001b[0m\u001b[1;33m(\u001b[0m\u001b[0mself\u001b[0m\u001b[1;33m,\u001b[0m \u001b[0marg\u001b[0m\u001b[1;33m,\u001b[0m \u001b[1;33m*\u001b[0m\u001b[0margs\u001b[0m\u001b[1;33m,\u001b[0m \u001b[1;33m**\u001b[0m\u001b[0mkwargs\u001b[0m\u001b[1;33m)\u001b[0m\u001b[1;33m:\u001b[0m\u001b[1;33m\u001b[0m\u001b[0m\n\u001b[1;32m-> 4656\u001b[1;33m         \u001b[1;32mreturn\u001b[0m \u001b[0msuper\u001b[0m\u001b[1;33m(\u001b[0m\u001b[0mDataFrameGroupBy\u001b[0m\u001b[1;33m,\u001b[0m \u001b[0mself\u001b[0m\u001b[1;33m)\u001b[0m\u001b[1;33m.\u001b[0m\u001b[0maggregate\u001b[0m\u001b[1;33m(\u001b[0m\u001b[0marg\u001b[0m\u001b[1;33m,\u001b[0m \u001b[1;33m*\u001b[0m\u001b[0margs\u001b[0m\u001b[1;33m,\u001b[0m \u001b[1;33m**\u001b[0m\u001b[0mkwargs\u001b[0m\u001b[1;33m)\u001b[0m\u001b[1;33m\u001b[0m\u001b[0m\n\u001b[0m\u001b[0;32m   4657\u001b[0m \u001b[1;33m\u001b[0m\u001b[0m\n\u001b[0;32m   4658\u001b[0m     \u001b[0magg\u001b[0m \u001b[1;33m=\u001b[0m \u001b[0maggregate\u001b[0m\u001b[1;33m\u001b[0m\u001b[0m\n",
      "\u001b[1;32m~\\AppData\\Local\\conda\\conda\\envs\\MSDS7331\\lib\\site-packages\\pandas\\core\\groupby\\groupby.py\u001b[0m in \u001b[0;36maggregate\u001b[1;34m(self, arg, *args, **kwargs)\u001b[0m\n\u001b[0;32m   4085\u001b[0m \u001b[1;33m\u001b[0m\u001b[0m\n\u001b[0;32m   4086\u001b[0m         \u001b[0m_level\u001b[0m \u001b[1;33m=\u001b[0m \u001b[0mkwargs\u001b[0m\u001b[1;33m.\u001b[0m\u001b[0mpop\u001b[0m\u001b[1;33m(\u001b[0m\u001b[1;34m'_level'\u001b[0m\u001b[1;33m,\u001b[0m \u001b[1;32mNone\u001b[0m\u001b[1;33m)\u001b[0m\u001b[1;33m\u001b[0m\u001b[0m\n\u001b[1;32m-> 4087\u001b[1;33m         \u001b[0mresult\u001b[0m\u001b[1;33m,\u001b[0m \u001b[0mhow\u001b[0m \u001b[1;33m=\u001b[0m \u001b[0mself\u001b[0m\u001b[1;33m.\u001b[0m\u001b[0m_aggregate\u001b[0m\u001b[1;33m(\u001b[0m\u001b[0marg\u001b[0m\u001b[1;33m,\u001b[0m \u001b[0m_level\u001b[0m\u001b[1;33m=\u001b[0m\u001b[0m_level\u001b[0m\u001b[1;33m,\u001b[0m \u001b[1;33m*\u001b[0m\u001b[0margs\u001b[0m\u001b[1;33m,\u001b[0m \u001b[1;33m**\u001b[0m\u001b[0mkwargs\u001b[0m\u001b[1;33m)\u001b[0m\u001b[1;33m\u001b[0m\u001b[0m\n\u001b[0m\u001b[0;32m   4088\u001b[0m         \u001b[1;32mif\u001b[0m \u001b[0mhow\u001b[0m \u001b[1;32mis\u001b[0m \u001b[1;32mNone\u001b[0m\u001b[1;33m:\u001b[0m\u001b[1;33m\u001b[0m\u001b[0m\n\u001b[0;32m   4089\u001b[0m             \u001b[1;32mreturn\u001b[0m \u001b[0mresult\u001b[0m\u001b[1;33m\u001b[0m\u001b[0m\n",
      "\u001b[1;32m~\\AppData\\Local\\conda\\conda\\envs\\MSDS7331\\lib\\site-packages\\pandas\\core\\base.py\u001b[0m in \u001b[0;36m_aggregate\u001b[1;34m(self, arg, *args, **kwargs)\u001b[0m\n\u001b[0;32m    488\u001b[0m \u001b[1;33m\u001b[0m\u001b[0m\n\u001b[0;32m    489\u001b[0m                 \u001b[1;32mtry\u001b[0m\u001b[1;33m:\u001b[0m\u001b[1;33m\u001b[0m\u001b[0m\n\u001b[1;32m--> 490\u001b[1;33m                     \u001b[0mresult\u001b[0m \u001b[1;33m=\u001b[0m \u001b[0m_agg\u001b[0m\u001b[1;33m(\u001b[0m\u001b[0marg\u001b[0m\u001b[1;33m,\u001b[0m \u001b[0m_agg_1dim\u001b[0m\u001b[1;33m)\u001b[0m\u001b[1;33m\u001b[0m\u001b[0m\n\u001b[0m\u001b[0;32m    491\u001b[0m                 \u001b[1;32mexcept\u001b[0m \u001b[0mSpecificationError\u001b[0m\u001b[1;33m:\u001b[0m\u001b[1;33m\u001b[0m\u001b[0m\n\u001b[0;32m    492\u001b[0m \u001b[1;33m\u001b[0m\u001b[0m\n",
      "\u001b[1;32m~\\AppData\\Local\\conda\\conda\\envs\\MSDS7331\\lib\\site-packages\\pandas\\core\\base.py\u001b[0m in \u001b[0;36m_agg\u001b[1;34m(arg, func)\u001b[0m\n\u001b[0;32m    439\u001b[0m                 \u001b[0mresult\u001b[0m \u001b[1;33m=\u001b[0m \u001b[0mcompat\u001b[0m\u001b[1;33m.\u001b[0m\u001b[0mOrderedDict\u001b[0m\u001b[1;33m(\u001b[0m\u001b[1;33m)\u001b[0m\u001b[1;33m\u001b[0m\u001b[0m\n\u001b[0;32m    440\u001b[0m                 \u001b[1;32mfor\u001b[0m \u001b[0mfname\u001b[0m\u001b[1;33m,\u001b[0m \u001b[0magg_how\u001b[0m \u001b[1;32min\u001b[0m \u001b[0mcompat\u001b[0m\u001b[1;33m.\u001b[0m\u001b[0miteritems\u001b[0m\u001b[1;33m(\u001b[0m\u001b[0marg\u001b[0m\u001b[1;33m)\u001b[0m\u001b[1;33m:\u001b[0m\u001b[1;33m\u001b[0m\u001b[0m\n\u001b[1;32m--> 441\u001b[1;33m                     \u001b[0mresult\u001b[0m\u001b[1;33m[\u001b[0m\u001b[0mfname\u001b[0m\u001b[1;33m]\u001b[0m \u001b[1;33m=\u001b[0m \u001b[0mfunc\u001b[0m\u001b[1;33m(\u001b[0m\u001b[0mfname\u001b[0m\u001b[1;33m,\u001b[0m \u001b[0magg_how\u001b[0m\u001b[1;33m)\u001b[0m\u001b[1;33m\u001b[0m\u001b[0m\n\u001b[0m\u001b[0;32m    442\u001b[0m                 \u001b[1;32mreturn\u001b[0m \u001b[0mresult\u001b[0m\u001b[1;33m\u001b[0m\u001b[0m\n\u001b[0;32m    443\u001b[0m \u001b[1;33m\u001b[0m\u001b[0m\n",
      "\u001b[1;32m~\\AppData\\Local\\conda\\conda\\envs\\MSDS7331\\lib\\site-packages\\pandas\\core\\base.py\u001b[0m in \u001b[0;36m_agg_1dim\u001b[1;34m(name, how, subset)\u001b[0m\n\u001b[0;32m    422\u001b[0m                     raise SpecificationError(\"nested dictionary is ambiguous \"\n\u001b[0;32m    423\u001b[0m                                              \"in aggregation\")\n\u001b[1;32m--> 424\u001b[1;33m                 \u001b[1;32mreturn\u001b[0m \u001b[0mcolg\u001b[0m\u001b[1;33m.\u001b[0m\u001b[0maggregate\u001b[0m\u001b[1;33m(\u001b[0m\u001b[0mhow\u001b[0m\u001b[1;33m,\u001b[0m \u001b[0m_level\u001b[0m\u001b[1;33m=\u001b[0m\u001b[1;33m(\u001b[0m\u001b[0m_level\u001b[0m \u001b[1;32mor\u001b[0m \u001b[1;36m0\u001b[0m\u001b[1;33m)\u001b[0m \u001b[1;33m+\u001b[0m \u001b[1;36m1\u001b[0m\u001b[1;33m)\u001b[0m\u001b[1;33m\u001b[0m\u001b[0m\n\u001b[0m\u001b[0;32m    425\u001b[0m \u001b[1;33m\u001b[0m\u001b[0m\n\u001b[0;32m    426\u001b[0m             \u001b[1;32mdef\u001b[0m \u001b[0m_agg_2dim\u001b[0m\u001b[1;33m(\u001b[0m\u001b[0mname\u001b[0m\u001b[1;33m,\u001b[0m \u001b[0mhow\u001b[0m\u001b[1;33m)\u001b[0m\u001b[1;33m:\u001b[0m\u001b[1;33m\u001b[0m\u001b[0m\n",
      "\u001b[1;32m~\\AppData\\Local\\conda\\conda\\envs\\MSDS7331\\lib\\site-packages\\pandas\\core\\groupby\\groupby.py\u001b[0m in \u001b[0;36maggregate\u001b[1;34m(self, func_or_funcs, *args, **kwargs)\u001b[0m\n\u001b[0;32m   3483\u001b[0m             \u001b[1;31m# but not the class list / tuple itself.\u001b[0m\u001b[1;33m\u001b[0m\u001b[1;33m\u001b[0m\u001b[0m\n\u001b[0;32m   3484\u001b[0m             ret = self._aggregate_multiple_funcs(func_or_funcs,\n\u001b[1;32m-> 3485\u001b[1;33m                                                  (_level or 0) + 1)\n\u001b[0m\u001b[0;32m   3486\u001b[0m         \u001b[1;32melse\u001b[0m\u001b[1;33m:\u001b[0m\u001b[1;33m\u001b[0m\u001b[0m\n\u001b[0;32m   3487\u001b[0m             \u001b[0mcyfunc\u001b[0m \u001b[1;33m=\u001b[0m \u001b[0mself\u001b[0m\u001b[1;33m.\u001b[0m\u001b[0m_is_cython_func\u001b[0m\u001b[1;33m(\u001b[0m\u001b[0mfunc_or_funcs\u001b[0m\u001b[1;33m)\u001b[0m\u001b[1;33m\u001b[0m\u001b[0m\n",
      "\u001b[1;32m~\\AppData\\Local\\conda\\conda\\envs\\MSDS7331\\lib\\site-packages\\pandas\\core\\groupby\\groupby.py\u001b[0m in \u001b[0;36m_aggregate_multiple_funcs\u001b[1;34m(self, arg, _level)\u001b[0m\n\u001b[0;32m   3556\u001b[0m                 \u001b[0mobj\u001b[0m\u001b[1;33m.\u001b[0m\u001b[0m_reset_cache\u001b[0m\u001b[1;33m(\u001b[0m\u001b[1;33m)\u001b[0m\u001b[1;33m\u001b[0m\u001b[0m\n\u001b[0;32m   3557\u001b[0m                 \u001b[0mobj\u001b[0m\u001b[1;33m.\u001b[0m\u001b[0m_selection\u001b[0m \u001b[1;33m=\u001b[0m \u001b[0mname\u001b[0m\u001b[1;33m\u001b[0m\u001b[0m\n\u001b[1;32m-> 3558\u001b[1;33m             \u001b[0mresults\u001b[0m\u001b[1;33m[\u001b[0m\u001b[0mname\u001b[0m\u001b[1;33m]\u001b[0m \u001b[1;33m=\u001b[0m \u001b[0mobj\u001b[0m\u001b[1;33m.\u001b[0m\u001b[0maggregate\u001b[0m\u001b[1;33m(\u001b[0m\u001b[0mfunc\u001b[0m\u001b[1;33m)\u001b[0m\u001b[1;33m\u001b[0m\u001b[0m\n\u001b[0m\u001b[0;32m   3559\u001b[0m \u001b[1;33m\u001b[0m\u001b[0m\n\u001b[0;32m   3560\u001b[0m         \u001b[1;32mif\u001b[0m \u001b[0many\u001b[0m\u001b[1;33m(\u001b[0m\u001b[0misinstance\u001b[0m\u001b[1;33m(\u001b[0m\u001b[0mx\u001b[0m\u001b[1;33m,\u001b[0m \u001b[0mDataFrame\u001b[0m\u001b[1;33m)\u001b[0m \u001b[1;32mfor\u001b[0m \u001b[0mx\u001b[0m \u001b[1;32min\u001b[0m \u001b[0mcompat\u001b[0m\u001b[1;33m.\u001b[0m\u001b[0mitervalues\u001b[0m\u001b[1;33m(\u001b[0m\u001b[0mresults\u001b[0m\u001b[1;33m)\u001b[0m\u001b[1;33m)\u001b[0m\u001b[1;33m:\u001b[0m\u001b[1;33m\u001b[0m\u001b[0m\n",
      "\u001b[1;32m~\\AppData\\Local\\conda\\conda\\envs\\MSDS7331\\lib\\site-packages\\pandas\\core\\groupby\\groupby.py\u001b[0m in \u001b[0;36maggregate\u001b[1;34m(self, func_or_funcs, *args, **kwargs)\u001b[0m\n\u001b[0;32m   3477\u001b[0m         \u001b[0m_level\u001b[0m \u001b[1;33m=\u001b[0m \u001b[0mkwargs\u001b[0m\u001b[1;33m.\u001b[0m\u001b[0mpop\u001b[0m\u001b[1;33m(\u001b[0m\u001b[1;34m'_level'\u001b[0m\u001b[1;33m,\u001b[0m \u001b[1;32mNone\u001b[0m\u001b[1;33m)\u001b[0m\u001b[1;33m\u001b[0m\u001b[0m\n\u001b[0;32m   3478\u001b[0m         \u001b[1;32mif\u001b[0m \u001b[0misinstance\u001b[0m\u001b[1;33m(\u001b[0m\u001b[0mfunc_or_funcs\u001b[0m\u001b[1;33m,\u001b[0m \u001b[0mcompat\u001b[0m\u001b[1;33m.\u001b[0m\u001b[0mstring_types\u001b[0m\u001b[1;33m)\u001b[0m\u001b[1;33m:\u001b[0m\u001b[1;33m\u001b[0m\u001b[0m\n\u001b[1;32m-> 3479\u001b[1;33m             \u001b[1;32mreturn\u001b[0m \u001b[0mgetattr\u001b[0m\u001b[1;33m(\u001b[0m\u001b[0mself\u001b[0m\u001b[1;33m,\u001b[0m \u001b[0mfunc_or_funcs\u001b[0m\u001b[1;33m)\u001b[0m\u001b[1;33m(\u001b[0m\u001b[1;33m*\u001b[0m\u001b[0margs\u001b[0m\u001b[1;33m,\u001b[0m \u001b[1;33m**\u001b[0m\u001b[0mkwargs\u001b[0m\u001b[1;33m)\u001b[0m\u001b[1;33m\u001b[0m\u001b[0m\n\u001b[0m\u001b[0;32m   3480\u001b[0m \u001b[1;33m\u001b[0m\u001b[0m\n\u001b[0;32m   3481\u001b[0m         \u001b[1;32mif\u001b[0m \u001b[0misinstance\u001b[0m\u001b[1;33m(\u001b[0m\u001b[0mfunc_or_funcs\u001b[0m\u001b[1;33m,\u001b[0m \u001b[0mcollections\u001b[0m\u001b[1;33m.\u001b[0m\u001b[0mIterable\u001b[0m\u001b[1;33m)\u001b[0m\u001b[1;33m:\u001b[0m\u001b[1;33m\u001b[0m\u001b[0m\n",
      "\u001b[1;31mTypeError\u001b[0m: apply() missing 1 required positional argument: 'func'"
     ]
    }
   ],
   "source": [
    "agerange_by_gender_DB = df.groupby(['age_range','Gender']).agg({'PatientId':'nunique','Diabetes':['apply']})\n",
    "print(\"Unique Patients with Diabetes\")\n",
    "agerange_by_gender_DB"
   ]
  },
  {
   "cell_type": "code",
   "execution_count": 33,
   "metadata": {},
   "outputs": [
    {
     "name": "stdout",
     "output_type": "stream",
     "text": [
      "Unique Patients with Alcholism\n"
     ]
    },
    {
     "data": {
      "text/html": [
       "<div>\n",
       "<style scoped>\n",
       "    .dataframe tbody tr th:only-of-type {\n",
       "        vertical-align: middle;\n",
       "    }\n",
       "\n",
       "    .dataframe tbody tr th {\n",
       "        vertical-align: top;\n",
       "    }\n",
       "\n",
       "    .dataframe thead th {\n",
       "        text-align: right;\n",
       "    }\n",
       "</style>\n",
       "<table border=\"1\" class=\"dataframe\">\n",
       "  <thead>\n",
       "    <tr style=\"text-align: right;\">\n",
       "      <th></th>\n",
       "      <th></th>\n",
       "      <th>PatientId</th>\n",
       "      <th>Alcoholism</th>\n",
       "    </tr>\n",
       "    <tr>\n",
       "      <th>age_range</th>\n",
       "      <th>Gender</th>\n",
       "      <th></th>\n",
       "      <th></th>\n",
       "    </tr>\n",
       "  </thead>\n",
       "  <tbody>\n",
       "    <tr>\n",
       "      <th rowspan=\"2\" valign=\"top\">child</th>\n",
       "      <th>F</th>\n",
       "      <td>6811</td>\n",
       "      <td>6</td>\n",
       "    </tr>\n",
       "    <tr>\n",
       "      <th>M</th>\n",
       "      <td>6593</td>\n",
       "      <td>15</td>\n",
       "    </tr>\n",
       "    <tr>\n",
       "      <th rowspan=\"2\" valign=\"top\">adult</th>\n",
       "      <th>F</th>\n",
       "      <td>27153</td>\n",
       "      <td>1160</td>\n",
       "    </tr>\n",
       "    <tr>\n",
       "      <th>M</th>\n",
       "      <td>12020</td>\n",
       "      <td>1870</td>\n",
       "    </tr>\n",
       "    <tr>\n",
       "      <th rowspan=\"2\" valign=\"top\">senior</th>\n",
       "      <th>F</th>\n",
       "      <td>5138</td>\n",
       "      <td>57</td>\n",
       "    </tr>\n",
       "    <tr>\n",
       "      <th>M</th>\n",
       "      <td>2585</td>\n",
       "      <td>252</td>\n",
       "    </tr>\n",
       "  </tbody>\n",
       "</table>\n",
       "</div>"
      ],
      "text/plain": [
       "                  PatientId  Alcoholism\n",
       "age_range Gender                       \n",
       "child     F            6811           6\n",
       "          M            6593          15\n",
       "adult     F           27153        1160\n",
       "          M           12020        1870\n",
       "senior    F            5138          57\n",
       "          M            2585         252"
      ]
     },
     "execution_count": 33,
     "metadata": {},
     "output_type": "execute_result"
    }
   ],
   "source": [
    "agerange_by_gender_AC = df.groupby(['age_range','Gender']).agg({'PatientId':'nunique','Alcoholism':'sum'})\n",
    "print(\"Unique Patients with Alcholism\")\n",
    "agerange_by_gender_AC"
   ]
  },
  {
   "cell_type": "code",
   "execution_count": null,
   "metadata": {},
   "outputs": [],
   "source": [
    "daily_noshows = df.groupby(['ScheduledDay','ScheduledDOW','NoShow']).size()\n",
    "print(daily_noshows)"
   ]
  },
  {
   "cell_type": "markdown",
   "metadata": {},
   "source": [
    "There is reason to believe that some data is missing to the earlier dates in the datasets. The number of appointments which paitients missed (No Show) increases as we get into the later months. \n",
    "Also, there is a possibility that there were specific events happening in the cities that prompted more patients to no show for their appointments. Our idea is soccer tournments may had something to do with it."
   ]
  },
  {
   "cell_type": "code",
   "execution_count": null,
   "metadata": {},
   "outputs": [],
   "source": [
    "plot_by_daily_noshows = daily_noshows.plot(title='Daily Counts of Appointments')\n",
    "\n",
    "plot_by_daily_noshows.set_xlabel('Daily')\n",
    "plot_by_daily_noshows.set_ylabel('Total No Show by Appointment Date')"
   ]
  },
  {
   "cell_type": "markdown",
   "metadata": {},
   "source": [
    "It seems that there is a relationshiip between age of men around 60-65 and suffering of alcoholism. This might be a factor with no-show appointments for men."
   ]
  },
  {
   "cell_type": "code",
   "execution_count": null,
   "metadata": {},
   "outputs": [],
   "source": [
    "import seaborn as sns\n",
    "import matplotlib.pyplot as plt\n",
    "sns.set(style=\"dark\")\n",
    "\n",
    "f, ax = plt.subplots(figsize=(8, 8))\n",
    "\n",
    "# Show each distribution with both violins and points\n",
    "sns.violinplot(x=\"Age\",y=\"Alcoholism\",data=df, inner=\"box\", palette=\"Set1\", cut=2, linewidth=3)\n",
    "\n",
    "sns.despine(left=True)\n",
    "\n",
    "f.suptitle('Age by Alcoholism', fontsize=18, fontweight='bold')\n",
    "ax.set_xlabel(\"Age\",size = 16,alpha=0.7)\n",
    "ax.set_ylabel(\"Alcoholism\",size = 16,alpha=0.7)"
   ]
  },
  {
   "cell_type": "markdown",
   "metadata": {},
   "source": [
    "Handicap when compared to Age does not show significance either way."
   ]
  },
  {
   "cell_type": "code",
   "execution_count": null,
   "metadata": {},
   "outputs": [],
   "source": [
    "f, ax = plt.subplots(figsize=(8, 8))\n",
    "\n",
    "# Show each distribution with both violins and points\n",
    "sns.violinplot(x=\"Age\",y=\"Handicap\",data=df, inner=\"box\", palette=\"Set1\", cut=2, linewidth=3)\n",
    "\n",
    "sns.despine(left=True)\n",
    "\n",
    "f.suptitle('Age by Handicap', fontsize=18, fontweight='bold')\n",
    "ax.set_xlabel(\"Age\",size = 16,alpha=0.7)\n",
    "ax.set_ylabel(\"Handicap\",size = 16,alpha=0.7)"
   ]
  },
  {
   "cell_type": "markdown",
   "metadata": {},
   "source": [
    "### Explore Attributes and Class\n",
    "To find correlation between linearly related continuous numeric variables.\n",
    "\n",
    "add this here with visual\n",
    "From the 20.2% of total No Show appointments, Tuesday showed the greater percentage of No Shows based on total number of appointment followed by Wednesday then Mondays. There is a relationship between the Day of the week and when No Show happen."
   ]
  },
  {
   "cell_type": "code",
   "execution_count": null,
   "metadata": {},
   "outputs": [],
   "source": [
    "a=df['NoShow']\n",
    "count_noshows = sum(a)\n",
    "print(\"Number of NoShows\")\n",
    "count_noshows"
   ]
  },
  {
   "cell_type": "code",
   "execution_count": null,
   "metadata": {},
   "outputs": [],
   "source": [
    "count_appt = df['AppointmentID'].count()\n",
    "print(\"Number of Appointments\") \n",
    "count_appt"
   ]
  },
  {
   "cell_type": "markdown",
   "metadata": {},
   "source": [
    "Based on the total appointments, 20.2% of those appointments ended in No Show."
   ]
  },
  {
   "cell_type": "code",
   "execution_count": null,
   "metadata": {},
   "outputs": [],
   "source": [
    "print(\"Percentage of NoShow Appointments\")\n",
    "(count_noshows / count_appt)*100"
   ]
  },
  {
   "cell_type": "code",
   "execution_count": null,
   "metadata": {},
   "outputs": [],
   "source": [
    "pd.crosstab(df.age_range,df.NoShow, margins=True)"
   ]
  },
  {
   "cell_type": "code",
   "execution_count": null,
   "metadata": {},
   "outputs": [],
   "source": [
    "pd.crosstab(df.age_range,df.NoShow, normalize='index')*100"
   ]
  },
  {
   "cell_type": "markdown",
   "metadata": {},
   "source": [
    "The average age for each age group that did not show up for their appointment."
   ]
  },
  {
   "cell_type": "code",
   "execution_count": null,
   "metadata": {},
   "outputs": [],
   "source": [
    "pd.crosstab([df.age_range],[df.NoShow],values=df.Age, aggfunc=np.average)"
   ]
  },
  {
   "cell_type": "code",
   "execution_count": null,
   "metadata": {},
   "outputs": [],
   "source": [
    "#Frequency of missing an appointment based on Appointment Day of Week\n",
    "pd.crosstab(df.NoShow,df.AppointmentDOW, margins=True,values=df.AppointmentID, aggfunc=len)"
   ]
  },
  {
   "cell_type": "code",
   "execution_count": null,
   "metadata": {},
   "outputs": [],
   "source": [
    "#Frequency of missing an appointment based on the day of the week the appointment was made\n",
    "\n",
    "pd.crosstab(df.NoShow,df.ScheduledDOW, margins=True,values=df.AppointmentID, aggfunc=len)"
   ]
  },
  {
   "cell_type": "markdown",
   "metadata": {},
   "source": [
    "Violin Plots for Joint Attributes\n",
    "The median represented by the white dot tell us that the age distribution between gender are closely \n",
    "aligned but not equal. "
   ]
  },
  {
   "cell_type": "code",
   "execution_count": null,
   "metadata": {},
   "outputs": [],
   "source": [
    "import seaborn as sns\n",
    "import matplotlib.pyplot as plt\n",
    "sns.set(style=\"dark\")\n",
    "\n",
    "f, ax = plt.subplots(figsize=(8, 8))\n",
    "\n",
    "# Show each distribution with both violins and points\n",
    "sns.violinplot(x=\"Gender\",y=\"NoShow\",data=df, inner=\"box\", palette=\"Set1\", cut=2, linewidth=3)\n",
    "\n",
    "sns.despine(left=True)\n",
    "\n",
    "f.suptitle('NoShow by Gender', fontsize=18, fontweight='bold')\n",
    "ax.set_xlabel(\"Gender\",size = 16,alpha=0.7)\n",
    "ax.set_ylabel(\"NoShow\",size = 16,alpha=0.7)"
   ]
  },
  {
   "cell_type": "markdown",
   "metadata": {},
   "source": [
    "Shows more Diabetics kept their appointments versus those without Diabeties. Or is this saying more Diabetics have the probability of showing up for their appointments."
   ]
  },
  {
   "cell_type": "code",
   "execution_count": null,
   "metadata": {},
   "outputs": [],
   "source": [
    "import seaborn as sns\n",
    "import matplotlib.pyplot as plt\n",
    "sns.set(style=\"dark\")\n",
    "\n",
    "f, ax = plt.subplots(figsize=(8, 8))\n",
    "\n",
    "# Show each distribution with both violins and points\n",
    "sns.violinplot(x=\"Diabetes\",y=\"NoShow\",data=df, inner=\"box\", palette=\"Set1\", cut=2, linewidth=3)\n",
    "\n",
    "sns.despine(left=True)\n",
    "\n",
    "f.suptitle('NoShow by Diabetes', fontsize=18, fontweight='bold')\n",
    "ax.set_xlabel(\"Diabetes\",size = 16,alpha=0.7)\n",
    "ax.set_ylabel(\"NoShow\",size = 16,alpha=0.7)"
   ]
  },
  {
   "cell_type": "markdown",
   "metadata": {},
   "source": []
  },
  {
   "cell_type": "markdown",
   "metadata": {},
   "source": [
    "Female and Males have the same chance to miss their appointments."
   ]
  },
  {
   "cell_type": "code",
   "execution_count": null,
   "metadata": {},
   "outputs": [],
   "source": [
    "f, ax = plt.subplots(figsize=(8, 8))\n",
    "\n",
    "# Show each distribution with both violins and points\n",
    "sns.violinplot(x=\"Gender\",y=\"NoShow\",data=df, inner=\"box\", palette=\"Set1\", cut=2, linewidth=3)\n",
    "\n",
    "sns.despine(left=True)\n",
    "\n",
    "f.suptitle('Gender by NoShows', fontsize=18, fontweight='bold')\n",
    "ax.set_xlabel(\"Gender\",size = 16,alpha=0.7)\n",
    "ax.set_ylabel(\"NoShow\",size = 16,alpha=0.7)"
   ]
  },
  {
   "cell_type": "markdown",
   "metadata": {},
   "source": [
    "Frequency Counts\n",
    "\n",
    "There were more females that no showed their appointment than males.\n",
    "NOTE: I WAS NOT ABLE TO FIGURE OUT HOW TO COUNT UNIQUIE PATIENTS."
   ]
  },
  {
   "cell_type": "code",
   "execution_count": null,
   "metadata": {},
   "outputs": [],
   "source": [
    "var = df.groupby('Gender').NoShow.sum() #grouped NoShows at Gender level\n",
    "fig = plt.figure()\n",
    "ax1 = fig.add_subplot(1,1,1)\n",
    "ax1.set_xlabel('Gender')\n",
    "ax1.set_ylabel('Number of No Shows')\n",
    "ax1.set_title(\"Gender vs Sum of No Shows\")\n",
    "var.plot(kind='bar')"
   ]
  },
  {
   "cell_type": "markdown",
   "metadata": {},
   "source": [
    "There is a low count of NoShow for Patients with at least 1 Handicap."
   ]
  },
  {
   "cell_type": "code",
   "execution_count": null,
   "metadata": {},
   "outputs": [],
   "source": [
    "var = df.groupby('Handicap').NoShow.count() #grouped NoShows at Gender level\n",
    "fig = plt.figure()\n",
    "ax1 = fig.add_subplot(1,1,1)\n",
    "ax1.set_xlabel('Handicap')\n",
    "ax1.set_ylabel('Number of No Shows')\n",
    "ax1.set_title(\"Handicap vs No Shows\")\n",
    "var.plot(kind='bar')"
   ]
  },
  {
   "cell_type": "markdown",
   "metadata": {},
   "source": [
    "Those with hypertension showed a lower total number of noshows than those without hypertension."
   ]
  },
  {
   "cell_type": "code",
   "execution_count": null,
   "metadata": {},
   "outputs": [],
   "source": [
    "var = df.groupby('Hypertension').NoShow.count() #grouped NoShows at Gender level\n",
    "fig = plt.figure()\n",
    "ax1 = fig.add_subplot(1,1,1)\n",
    "ax1.set_xlabel('Hypertension')\n",
    "ax1.set_ylabel('Number of No Shows')\n",
    "ax1.set_title(\"Hypertension vs No Shows\")\n",
    "var.plot(kind='bar')"
   ]
  },
  {
   "cell_type": "markdown",
   "metadata": {},
   "source": [
    "The number of no shows based on a reminder text sent to patients show a little than half of the no shows coming from those that had text messaging enabled. "
   ]
  },
  {
   "cell_type": "code",
   "execution_count": null,
   "metadata": {},
   "outputs": [],
   "source": [
    "var = df.groupby('SMSReceived').NoShow.count() #grouped NoShows at Gender level\n",
    "fig = plt.figure()\n",
    "ax1 = fig.add_subplot(1,1,1)\n",
    "ax1.set_xlabel('SMSReceived')\n",
    "ax1.set_ylabel('Number of No Shows')\n",
    "ax1.set_title(\"SMSReceived vs No Shows\")\n",
    "var.plot(kind='bar',label=True)"
   ]
  },
  {
   "cell_type": "markdown",
   "metadata": {},
   "source": [
    "Not sure what this scatter plot is saying"
   ]
  },
  {
   "cell_type": "code",
   "execution_count": null,
   "metadata": {},
   "outputs": [],
   "source": [
    "sns.set(style=\"ticks\")\n",
    "sns.pairplot(cat_var, hue=\"NoShow\")"
   ]
  },
  {
   "cell_type": "code",
   "execution_count": null,
   "metadata": {},
   "outputs": [],
   "source": [
    "sns.factorplot(x='AppointmentDOW', y='NoShow', hue='NoShow',col='PatientId',strip='bar',data=df[df.NoShow])"
   ]
  },
  {
   "cell_type": "code",
   "execution_count": null,
   "metadata": {},
   "outputs": [],
   "source": [
    "sns.factorplot(x='NoShow', y='AppointmentDOW', strip='box', data=df[df.PatientId.uniquie()])"
   ]
  },
  {
   "cell_type": "markdown",
   "metadata": {},
   "source": [
    "Heatmap show weak relationships between the numberical variables in the dataset. There is a strong relationship between Appt ID and Days In Advance which makes sense since Appt ID is a sequencial number that goes up as the number of days in advance goes down. ???"
   ]
  },
  {
   "cell_type": "code",
   "execution_count": null,
   "metadata": {},
   "outputs": [],
   "source": [
    "cmap = sns.diverging_palette(220, 10, as_cmap=True) # one of the many color mappings\n",
    "\n",
    "# plot the correlation matrix using seaborn\n",
    "sns.set(style=\"darkgrid\") # one of the many styles to plot using\n",
    "\n",
    "f, ax = plt.subplots(figsize=(9, 9))\n",
    "\n",
    "sns.heatmap(df.corr(), cmap=cmap, annot=True)\n",
    "\n",
    "f.tight_layout()"
   ]
  },
  {
   "cell_type": "code",
   "execution_count": null,
   "metadata": {},
   "outputs": [],
   "source": [
    "sns.set(style=\"white\")\n",
    "\n",
    "# create a plot grid\n",
    "g = sns.PairGrid(df[['NoShow','Age','Gender','SMSReceived','AppointmentDOW','ScheduledDOW','DaysInAdvance',]], diag_sharey=False)\n",
    "g.map_lower(sns.kdeplot, cmap=\"Blues_d\") # use joint kde on the lower triangle\n",
    "g.map_upper(plt.scatter) # scatter on the upper\n",
    "g.map_diag(sns.kdeplot, lw=3) # kde histogram on the diagonal"
   ]
  },
  {
   "cell_type": "code",
   "execution_count": null,
   "metadata": {},
   "outputs": [],
   "source": []
  }
 ],
 "metadata": {
  "kernelspec": {
   "display_name": "Python 3",
   "language": "python",
   "name": "python3"
  },
  "language_info": {
   "codemirror_mode": {
    "name": "ipython",
    "version": 3
   },
   "file_extension": ".py",
   "mimetype": "text/x-python",
   "name": "python",
   "nbconvert_exporter": "python",
   "pygments_lexer": "ipython3",
   "version": "3.6.6"
  }
 },
 "nbformat": 4,
 "nbformat_minor": 2
}
