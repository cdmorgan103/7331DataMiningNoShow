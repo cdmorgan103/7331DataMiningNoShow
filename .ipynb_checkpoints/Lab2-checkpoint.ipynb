{
 "cells": [
  {
   "cell_type": "markdown",
   "metadata": {},
   "source": [
    "# Lab 2\n",
    "## Medical Patient No Show\n",
    "\n",
    "### Team members: Luay Dajani, Dana Geislinger, Chris Morgan, Caroll Rodriguez\n",
    "##### Github - https://github.com/cdmorgan103/7331DataMiningNoShow\n",
    "\n",
    "MSDS 7331, 10/28/2018"
   ]
  },
  {
   "cell_type": "code",
   "execution_count": 1,
   "metadata": {},
   "outputs": [],
   "source": [
    "import numpy as np\n",
    "from __future__ import print_function\n",
    "import pandas as pd\n",
    "import matplotlib.pyplot as plt\n",
    "from matplotlib import style\n",
    "from pprint import pprint\n",
    "from IPython.display import display\n",
    "import seaborn as sns; sns.set(font_scale=1.2)\n",
    "from sklearn import datasets, linear_model\n",
    "from sklearn.model_selection import train_test_split\n",
    "from sklearn.model_selection import ShuffleSplit\n",
    "from sklearn.model_selection import StratifiedShuffleSplit \n",
    "import datetime \n",
    "from sklearn.model_selection import TimeSeriesSplit\n",
    "\n",
    "\n",
    "# Hide deprecation warnings\n",
    "import warnings\n",
    "warnings.filterwarnings('ignore', category=FutureWarning)\n",
    "warnings.filterwarnings('ignore', category=DeprecationWarning)\n",
    "\n",
    "# Load the data into variable 'df' from pickled object\n",
    "from funcs import load_df\n",
    "df = load_df()"
   ]
  },
  {
   "cell_type": "markdown",
   "metadata": {},
   "source": [
    "## Data Preparation Part 1\n",
    "#### [10 points] Define and prepare your class variables. Use proper variable representations (int, float, one-hot, etc.). Use pre-processing methods (as needed) for dimensionality reduction, scaling, etc. Remove variables that are not needed/useful for the analysis.\n",
    "\n",
    "**Meetings Notes:** Chris, Luay, Caroll - Add Dimensionality reduction and scaling from Mini Lab.\n",
    "Variable to remove - AppointmentID & PatientID\n",
    "Luay to add dimensionality reduction"
   ]
  },
  {
   "cell_type": "code",
   "execution_count": 2,
   "metadata": {},
   "outputs": [
    {
     "name": "stdout",
     "output_type": "stream",
     "text": [
      "<class 'pandas.core.frame.DataFrame'>\n",
      "RangeIndex: 110527 entries, 0 to 110526\n",
      "Columns: 115 entries, ScheduledDay to IsMale\n",
      "dtypes: bool(1), datetime64[ns](2), int32(1), int64(7), object(1), uint8(103)\n",
      "memory usage: 19.8+ MB\n"
     ]
    }
   ],
   "source": [
    "#Remove attributes not usefull\n",
    "del df['PatientId']\n",
    "del df['AppointmentID']\n",
    "\n",
    "# perform one-hot encoding of the categorical data \n",
    "tmp_df = pd.get_dummies(df.Handicap,prefix='Handicap')\n",
    "df = pd.concat((df,tmp_df),axis=1) # add back into the dataframe\n",
    "\n",
    "tmp_df = pd.get_dummies(df.AppointmentDOW,prefix='AppointmentDOW')\n",
    "df = pd.concat((df,tmp_df),axis=1) # add back into the dataframe\n",
    "\n",
    "tmp_df = pd.get_dummies(df.ScheduledDOW,prefix='ScheduledDOW')\n",
    "df = pd.concat((df,tmp_df),axis=1) # add back into the dataframe\n",
    "\n",
    "tmp_df = pd.get_dummies(df.Neighbourhood,prefix='Neighbourhood')\n",
    "df = pd.concat((df,tmp_df),axis=1) # add back into the dataframe\n",
    "\n",
    "tmp_df = pd.get_dummies(df.age_range,prefix='age_range')\n",
    "df = pd.concat((df,tmp_df),axis=1) # add back into the dataframe\n",
    "\n",
    "# replace the current Gender attribute with something slightly more intuitive and readable\n",
    "df['IsMale'] = df.Gender=='M' \n",
    "df.IsMale = df.IsMale.astype(np.int)\n",
    "\n",
    "# Now let's clean up the dataset\n",
    "if 'Gender' in df:\n",
    "    del df['Gender'] # if 'Sex' column still exists, delete it (as we created an ismale column)\n",
    "    \n",
    "if 'Handicap' in df:    \n",
    "    del df['Handicap'] # get rid of the original category as it is now one-hot encoded\n",
    "    \n",
    "if 'ScheduledDOW' in df:    \n",
    "    del df['ScheduledDOW'] # get rid of the original category as it is now one-hot encoded\n",
    "    \n",
    "if 'AppointmentDOW' in df:    \n",
    "    del df['AppointmentDOW'] # get rid of the original category as it is now one-hot encoded\n",
    "\n",
    "if 'Neighbourhood' in df:    \n",
    "    del df['Neighbourhood'] # get rid of the original category as it is now one-hot encoded\n",
    "\n",
    "if 'age_range' in df:\n",
    "    del df['age_range']\n",
    "\n",
    "if 'AppointmentID' in df:\n",
    "    del df['AppointmentID']\n",
    "    \n",
    "#if 'ScheduledDay' in df:\n",
    "   #del df['ScheduledDay']\n",
    "    \n",
    "#if 'ScheduledTime' in df:\n",
    "    #del df['ScheduledTime']\n",
    "\n",
    "#if 'AppointmentDay' in df:\n",
    " #   del df['AppointmentDay']\n",
    "\n",
    "# Get an overview of the raw data\n",
    "df.info(null_counts=True)"
   ]
  },
  {
   "cell_type": "code",
   "execution_count": 3,
   "metadata": {},
   "outputs": [
    {
     "name": "stdout",
     "output_type": "stream",
     "text": [
      "ScheduledDay                      datetime64[ns]\n",
      "ScheduledTime                             object\n",
      "AppointmentDay                    datetime64[ns]\n",
      "Age                                        int64\n",
      "Scholarship                                int64\n",
      "Hypertension                               int64\n",
      "Diabetes                                   int64\n",
      "Alcoholism                                 int64\n",
      "SMSReceived                                int64\n",
      "NoShow                                      bool\n",
      "DaysInAdvance                              int64\n",
      "Handicap_0                                 uint8\n",
      "Handicap_1                                 uint8\n",
      "Handicap_2                                 uint8\n",
      "Handicap_3                                 uint8\n",
      "Handicap_4                                 uint8\n",
      "AppointmentDOW_Monday                      uint8\n",
      "AppointmentDOW_Tuesday                     uint8\n",
      "AppointmentDOW_Wednesday                   uint8\n",
      "AppointmentDOW_Thursday                    uint8\n",
      "AppointmentDOW_Friday                      uint8\n",
      "AppointmentDOW_Saturday                    uint8\n",
      "AppointmentDOW_Sunday                      uint8\n",
      "ScheduledDOW_Monday                        uint8\n",
      "ScheduledDOW_Tuesday                       uint8\n",
      "ScheduledDOW_Wednesday                     uint8\n",
      "ScheduledDOW_Thursday                      uint8\n",
      "ScheduledDOW_Friday                        uint8\n",
      "ScheduledDOW_Saturday                      uint8\n",
      "ScheduledDOW_Sunday                        uint8\n",
      "                                       ...      \n",
      "Neighbourhood_PRAIA DO CANTO               uint8\n",
      "Neighbourhood_PRAIA DO SUÁ                 uint8\n",
      "Neighbourhood_REDENÇÃO                     uint8\n",
      "Neighbourhood_REPÚBLICA                    uint8\n",
      "Neighbourhood_RESISTÊNCIA                  uint8\n",
      "Neighbourhood_ROMÃO                        uint8\n",
      "Neighbourhood_SANTA CECÍLIA                uint8\n",
      "Neighbourhood_SANTA CLARA                  uint8\n",
      "Neighbourhood_SANTA HELENA                 uint8\n",
      "Neighbourhood_SANTA LUÍZA                  uint8\n",
      "Neighbourhood_SANTA LÚCIA                  uint8\n",
      "Neighbourhood_SANTA MARTHA                 uint8\n",
      "Neighbourhood_SANTA TEREZA                 uint8\n",
      "Neighbourhood_SANTO ANDRÉ                  uint8\n",
      "Neighbourhood_SANTO ANTÔNIO                uint8\n",
      "Neighbourhood_SANTOS DUMONT                uint8\n",
      "Neighbourhood_SANTOS REIS                  uint8\n",
      "Neighbourhood_SEGURANÇA DO LAR             uint8\n",
      "Neighbourhood_SOLON BORGES                 uint8\n",
      "Neighbourhood_SÃO BENEDITO                 uint8\n",
      "Neighbourhood_SÃO CRISTÓVÃO                uint8\n",
      "Neighbourhood_SÃO JOSÉ                     uint8\n",
      "Neighbourhood_SÃO PEDRO                    uint8\n",
      "Neighbourhood_TABUAZEIRO                   uint8\n",
      "Neighbourhood_UNIVERSITÁRIO                uint8\n",
      "Neighbourhood_VILA RUBIM                   uint8\n",
      "age_range_child                            uint8\n",
      "age_range_adult                            uint8\n",
      "age_range_senior                           uint8\n",
      "IsMale                                     int32\n",
      "Length: 115, dtype: object\n"
     ]
    }
   ],
   "source": [
    "print(df.dtypes)"
   ]
  },
  {
   "cell_type": "code",
   "execution_count": 4,
   "metadata": {},
   "outputs": [
    {
     "data": {
      "text/html": [
       "<div>\n",
       "<style scoped>\n",
       "    .dataframe tbody tr th:only-of-type {\n",
       "        vertical-align: middle;\n",
       "    }\n",
       "\n",
       "    .dataframe tbody tr th {\n",
       "        vertical-align: top;\n",
       "    }\n",
       "\n",
       "    .dataframe thead th {\n",
       "        text-align: right;\n",
       "    }\n",
       "</style>\n",
       "<table border=\"1\" class=\"dataframe\">\n",
       "  <thead>\n",
       "    <tr style=\"text-align: right;\">\n",
       "      <th></th>\n",
       "      <th>Age</th>\n",
       "      <th>Scholarship</th>\n",
       "      <th>Hypertension</th>\n",
       "      <th>Diabetes</th>\n",
       "      <th>Alcoholism</th>\n",
       "      <th>SMSReceived</th>\n",
       "      <th>DaysInAdvance</th>\n",
       "      <th>Handicap_0</th>\n",
       "      <th>Handicap_1</th>\n",
       "      <th>Handicap_2</th>\n",
       "      <th>...</th>\n",
       "      <th>Neighbourhood_SÃO CRISTÓVÃO</th>\n",
       "      <th>Neighbourhood_SÃO JOSÉ</th>\n",
       "      <th>Neighbourhood_SÃO PEDRO</th>\n",
       "      <th>Neighbourhood_TABUAZEIRO</th>\n",
       "      <th>Neighbourhood_UNIVERSITÁRIO</th>\n",
       "      <th>Neighbourhood_VILA RUBIM</th>\n",
       "      <th>age_range_child</th>\n",
       "      <th>age_range_adult</th>\n",
       "      <th>age_range_senior</th>\n",
       "      <th>IsMale</th>\n",
       "    </tr>\n",
       "  </thead>\n",
       "  <tbody>\n",
       "    <tr>\n",
       "      <th>count</th>\n",
       "      <td>110527.000000</td>\n",
       "      <td>110527.000000</td>\n",
       "      <td>110527.000000</td>\n",
       "      <td>110527.000000</td>\n",
       "      <td>110527.000000</td>\n",
       "      <td>110527.000000</td>\n",
       "      <td>110527.000000</td>\n",
       "      <td>110527.000000</td>\n",
       "      <td>110527.000000</td>\n",
       "      <td>110527.000000</td>\n",
       "      <td>...</td>\n",
       "      <td>110527.000000</td>\n",
       "      <td>110527.000000</td>\n",
       "      <td>110527.000000</td>\n",
       "      <td>110527.000000</td>\n",
       "      <td>110527.000000</td>\n",
       "      <td>110527.000000</td>\n",
       "      <td>110527.000000</td>\n",
       "      <td>110527.000000</td>\n",
       "      <td>110527.000000</td>\n",
       "      <td>110527.000000</td>\n",
       "    </tr>\n",
       "    <tr>\n",
       "      <th>mean</th>\n",
       "      <td>37.089218</td>\n",
       "      <td>0.098266</td>\n",
       "      <td>0.197246</td>\n",
       "      <td>0.071865</td>\n",
       "      <td>0.030400</td>\n",
       "      <td>0.321026</td>\n",
       "      <td>10.183792</td>\n",
       "      <td>0.979724</td>\n",
       "      <td>0.018475</td>\n",
       "      <td>0.001656</td>\n",
       "      <td>...</td>\n",
       "      <td>0.016611</td>\n",
       "      <td>0.017887</td>\n",
       "      <td>0.022148</td>\n",
       "      <td>0.028337</td>\n",
       "      <td>0.001375</td>\n",
       "      <td>0.007699</td>\n",
       "      <td>0.234060</td>\n",
       "      <td>0.645598</td>\n",
       "      <td>0.120342</td>\n",
       "      <td>0.350023</td>\n",
       "    </tr>\n",
       "    <tr>\n",
       "      <th>std</th>\n",
       "      <td>23.109921</td>\n",
       "      <td>0.297675</td>\n",
       "      <td>0.397921</td>\n",
       "      <td>0.258265</td>\n",
       "      <td>0.171686</td>\n",
       "      <td>0.466873</td>\n",
       "      <td>15.254924</td>\n",
       "      <td>0.140942</td>\n",
       "      <td>0.134662</td>\n",
       "      <td>0.040657</td>\n",
       "      <td>...</td>\n",
       "      <td>0.127811</td>\n",
       "      <td>0.132541</td>\n",
       "      <td>0.147167</td>\n",
       "      <td>0.165934</td>\n",
       "      <td>0.037059</td>\n",
       "      <td>0.087409</td>\n",
       "      <td>0.423412</td>\n",
       "      <td>0.478334</td>\n",
       "      <td>0.325362</td>\n",
       "      <td>0.476979</td>\n",
       "    </tr>\n",
       "    <tr>\n",
       "      <th>min</th>\n",
       "      <td>0.000000</td>\n",
       "      <td>0.000000</td>\n",
       "      <td>0.000000</td>\n",
       "      <td>0.000000</td>\n",
       "      <td>0.000000</td>\n",
       "      <td>0.000000</td>\n",
       "      <td>0.000000</td>\n",
       "      <td>0.000000</td>\n",
       "      <td>0.000000</td>\n",
       "      <td>0.000000</td>\n",
       "      <td>...</td>\n",
       "      <td>0.000000</td>\n",
       "      <td>0.000000</td>\n",
       "      <td>0.000000</td>\n",
       "      <td>0.000000</td>\n",
       "      <td>0.000000</td>\n",
       "      <td>0.000000</td>\n",
       "      <td>0.000000</td>\n",
       "      <td>0.000000</td>\n",
       "      <td>0.000000</td>\n",
       "      <td>0.000000</td>\n",
       "    </tr>\n",
       "    <tr>\n",
       "      <th>25%</th>\n",
       "      <td>18.000000</td>\n",
       "      <td>0.000000</td>\n",
       "      <td>0.000000</td>\n",
       "      <td>0.000000</td>\n",
       "      <td>0.000000</td>\n",
       "      <td>0.000000</td>\n",
       "      <td>0.000000</td>\n",
       "      <td>1.000000</td>\n",
       "      <td>0.000000</td>\n",
       "      <td>0.000000</td>\n",
       "      <td>...</td>\n",
       "      <td>0.000000</td>\n",
       "      <td>0.000000</td>\n",
       "      <td>0.000000</td>\n",
       "      <td>0.000000</td>\n",
       "      <td>0.000000</td>\n",
       "      <td>0.000000</td>\n",
       "      <td>0.000000</td>\n",
       "      <td>0.000000</td>\n",
       "      <td>0.000000</td>\n",
       "      <td>0.000000</td>\n",
       "    </tr>\n",
       "    <tr>\n",
       "      <th>50%</th>\n",
       "      <td>37.000000</td>\n",
       "      <td>0.000000</td>\n",
       "      <td>0.000000</td>\n",
       "      <td>0.000000</td>\n",
       "      <td>0.000000</td>\n",
       "      <td>0.000000</td>\n",
       "      <td>4.000000</td>\n",
       "      <td>1.000000</td>\n",
       "      <td>0.000000</td>\n",
       "      <td>0.000000</td>\n",
       "      <td>...</td>\n",
       "      <td>0.000000</td>\n",
       "      <td>0.000000</td>\n",
       "      <td>0.000000</td>\n",
       "      <td>0.000000</td>\n",
       "      <td>0.000000</td>\n",
       "      <td>0.000000</td>\n",
       "      <td>0.000000</td>\n",
       "      <td>1.000000</td>\n",
       "      <td>0.000000</td>\n",
       "      <td>0.000000</td>\n",
       "    </tr>\n",
       "    <tr>\n",
       "      <th>75%</th>\n",
       "      <td>55.000000</td>\n",
       "      <td>0.000000</td>\n",
       "      <td>0.000000</td>\n",
       "      <td>0.000000</td>\n",
       "      <td>0.000000</td>\n",
       "      <td>1.000000</td>\n",
       "      <td>15.000000</td>\n",
       "      <td>1.000000</td>\n",
       "      <td>0.000000</td>\n",
       "      <td>0.000000</td>\n",
       "      <td>...</td>\n",
       "      <td>0.000000</td>\n",
       "      <td>0.000000</td>\n",
       "      <td>0.000000</td>\n",
       "      <td>0.000000</td>\n",
       "      <td>0.000000</td>\n",
       "      <td>0.000000</td>\n",
       "      <td>0.000000</td>\n",
       "      <td>1.000000</td>\n",
       "      <td>0.000000</td>\n",
       "      <td>1.000000</td>\n",
       "    </tr>\n",
       "    <tr>\n",
       "      <th>max</th>\n",
       "      <td>115.000000</td>\n",
       "      <td>1.000000</td>\n",
       "      <td>1.000000</td>\n",
       "      <td>1.000000</td>\n",
       "      <td>1.000000</td>\n",
       "      <td>1.000000</td>\n",
       "      <td>179.000000</td>\n",
       "      <td>1.000000</td>\n",
       "      <td>1.000000</td>\n",
       "      <td>1.000000</td>\n",
       "      <td>...</td>\n",
       "      <td>1.000000</td>\n",
       "      <td>1.000000</td>\n",
       "      <td>1.000000</td>\n",
       "      <td>1.000000</td>\n",
       "      <td>1.000000</td>\n",
       "      <td>1.000000</td>\n",
       "      <td>1.000000</td>\n",
       "      <td>1.000000</td>\n",
       "      <td>1.000000</td>\n",
       "      <td>1.000000</td>\n",
       "    </tr>\n",
       "  </tbody>\n",
       "</table>\n",
       "<p>8 rows × 111 columns</p>\n",
       "</div>"
      ],
      "text/plain": [
       "                 Age    Scholarship   Hypertension       Diabetes  \\\n",
       "count  110527.000000  110527.000000  110527.000000  110527.000000   \n",
       "mean       37.089218       0.098266       0.197246       0.071865   \n",
       "std        23.109921       0.297675       0.397921       0.258265   \n",
       "min         0.000000       0.000000       0.000000       0.000000   \n",
       "25%        18.000000       0.000000       0.000000       0.000000   \n",
       "50%        37.000000       0.000000       0.000000       0.000000   \n",
       "75%        55.000000       0.000000       0.000000       0.000000   \n",
       "max       115.000000       1.000000       1.000000       1.000000   \n",
       "\n",
       "          Alcoholism    SMSReceived  DaysInAdvance     Handicap_0  \\\n",
       "count  110527.000000  110527.000000  110527.000000  110527.000000   \n",
       "mean        0.030400       0.321026      10.183792       0.979724   \n",
       "std         0.171686       0.466873      15.254924       0.140942   \n",
       "min         0.000000       0.000000       0.000000       0.000000   \n",
       "25%         0.000000       0.000000       0.000000       1.000000   \n",
       "50%         0.000000       0.000000       4.000000       1.000000   \n",
       "75%         0.000000       1.000000      15.000000       1.000000   \n",
       "max         1.000000       1.000000     179.000000       1.000000   \n",
       "\n",
       "          Handicap_1     Handicap_2      ...        \\\n",
       "count  110527.000000  110527.000000      ...         \n",
       "mean        0.018475       0.001656      ...         \n",
       "std         0.134662       0.040657      ...         \n",
       "min         0.000000       0.000000      ...         \n",
       "25%         0.000000       0.000000      ...         \n",
       "50%         0.000000       0.000000      ...         \n",
       "75%         0.000000       0.000000      ...         \n",
       "max         1.000000       1.000000      ...         \n",
       "\n",
       "       Neighbourhood_SÃO CRISTÓVÃO  Neighbourhood_SÃO JOSÉ  \\\n",
       "count                110527.000000           110527.000000   \n",
       "mean                      0.016611                0.017887   \n",
       "std                       0.127811                0.132541   \n",
       "min                       0.000000                0.000000   \n",
       "25%                       0.000000                0.000000   \n",
       "50%                       0.000000                0.000000   \n",
       "75%                       0.000000                0.000000   \n",
       "max                       1.000000                1.000000   \n",
       "\n",
       "       Neighbourhood_SÃO PEDRO  Neighbourhood_TABUAZEIRO  \\\n",
       "count            110527.000000             110527.000000   \n",
       "mean                  0.022148                  0.028337   \n",
       "std                   0.147167                  0.165934   \n",
       "min                   0.000000                  0.000000   \n",
       "25%                   0.000000                  0.000000   \n",
       "50%                   0.000000                  0.000000   \n",
       "75%                   0.000000                  0.000000   \n",
       "max                   1.000000                  1.000000   \n",
       "\n",
       "       Neighbourhood_UNIVERSITÁRIO  Neighbourhood_VILA RUBIM  age_range_child  \\\n",
       "count                110527.000000             110527.000000    110527.000000   \n",
       "mean                      0.001375                  0.007699         0.234060   \n",
       "std                       0.037059                  0.087409         0.423412   \n",
       "min                       0.000000                  0.000000         0.000000   \n",
       "25%                       0.000000                  0.000000         0.000000   \n",
       "50%                       0.000000                  0.000000         0.000000   \n",
       "75%                       0.000000                  0.000000         0.000000   \n",
       "max                       1.000000                  1.000000         1.000000   \n",
       "\n",
       "       age_range_adult  age_range_senior         IsMale  \n",
       "count    110527.000000     110527.000000  110527.000000  \n",
       "mean          0.645598          0.120342       0.350023  \n",
       "std           0.478334          0.325362       0.476979  \n",
       "min           0.000000          0.000000       0.000000  \n",
       "25%           0.000000          0.000000       0.000000  \n",
       "50%           1.000000          0.000000       0.000000  \n",
       "75%           1.000000          0.000000       1.000000  \n",
       "max           1.000000          1.000000       1.000000  \n",
       "\n",
       "[8 rows x 111 columns]"
      ]
     },
     "execution_count": 4,
     "metadata": {},
     "output_type": "execute_result"
    }
   ],
   "source": [
    "df.describe()"
   ]
  },
  {
   "cell_type": "code",
   "execution_count": 5,
   "metadata": {},
   "outputs": [],
   "source": [
    "#simple export of final dataset\n",
    "df.to_csv(\"./data/df.csv\", sep=',')"
   ]
  },
  {
   "cell_type": "markdown",
   "metadata": {},
   "source": [
    "## Data Preparation Part 2\n",
    "#### [5 points] Describe the ﬁnal dataset that is used for classiﬁcation/regression (include a description of any newly formed variables you created).\n",
    "\n",
    "**Meeting Notes:** Luay wants add a field that ranks the patient's no show history. If they showed up twice and didn't show up 1 would be 33%. Create a temp dataset to group Patient and determine the # of no shows then merge the dataset and build the ranking. \n",
    "\n",
    "https://towardsdatascience.com/accuracy-precision-recall-or-f1-331fb37c5cb9"
   ]
  },
  {
   "cell_type": "markdown",
   "metadata": {},
   "source": [
    "## Modeling and Evaluation 1\n",
    "\n",
    "#### [10 points] Choose and explain your evaluation metrics that you will use (i.e., accuracy, precision, recall, F-measure, or any metric we have discussed). Why are the measure(s) appropriate for analyzing the results of your modeling? Give a detailed explanation backing up any assertions.\n",
    "\n",
    "**Meeting Notes:** Was in Lab1. Chris wants to add a better explaination of accuracy."
   ]
  },
  {
   "cell_type": "markdown",
   "metadata": {},
   "source": [
    "## Modeling and Evaluation 2\t\n",
    "\n",
    "#### [10 points]\tChoose the method you will use for dividing your data into training and testing splits (i.e., are you using Stratified 10-fold cross validation? Why?). Explain why your chosen method is appropriate or use more than one method as appropriate. For example, if you are using time series data then you should be using continuous training and testing sets across time.\n",
    "\n",
    "**Meeting Notes:** Caroll to find code for splitting time series data."
   ]
  },
  {
   "cell_type": "markdown",
   "metadata": {},
   "source": [
    "##### Partioning Data\n",
    "We want to forecast future NoShows based on Appointment dates. We take the data we have and build a fixed training period in the past up to the last month. The last month of data will be used as testing dataset. Before we deploy the model we will rerun the models utilizing the entire dataset to predict the future outcomes.\n",
    "This approach fits our dataset since we there is correlation between the appoointme date and whether or not they no-show."
   ]
  },
  {
   "cell_type": "code",
   "execution_count": 6,
   "metadata": {
    "scrolled": true
   },
   "outputs": [],
   "source": [
    "#Testing set --- hold 1 month of data out as test set based on AppointmentDay\n",
    "df_test = df.copy()\n",
    "X_test = df_test[(df_test['AppointmentDay'] >= datetime.date(2016,5,25))]\n",
    "\n",
    "y_test = X_test['NoShow'].values # get the labels we want.\n",
    "\n",
    "if 'NoShow' in X_test:\n",
    "    del X_test['NoShow'] # get rid of the class label\n",
    "\n",
    "#Training set -- all records less than appointment date 5/1/2016\n",
    "df_train = df.copy()\n",
    "X_train = df_train[(df_train['AppointmentDay'] < datetime.date(2016,5,25))]\n",
    "  \n",
    "y_train = X_train['NoShow'].values # get the labels we want.\n",
    "del X_train['NoShow'] # get rid of the class label\n",
    "\n",
    "if 'NoShow' in X_train:\n",
    "    del X_train['NoShow'] # get rid of the class label\n",
    "\n",
    "df_tmp = df.copy()\n",
    "X = df_tmp\n",
    "y = df_tmp['NoShow']\n",
    "if 'NoShow' in X:\n",
    "    del X['NoShow'] # get rid of the class label"
   ]
  },
  {
   "cell_type": "code",
   "execution_count": 8,
   "metadata": {},
   "outputs": [
    {
     "name": "stdout",
     "output_type": "stream",
     "text": [
      "Number of Prediciting Features:  (110527, 114)\n",
      "Number of Response:  (110527,)\n",
      "Appointment Date Range (Trainig Set):  2016-04-29 00:00:00 2016-05-24 00:00:00\n",
      "Number of Training Records:  (71374, 114)\n",
      "Number of Test Records:  (39153, 114)\n",
      "Appointment Date Range (Test Set):  2016-05-25 00:00:00 2016-06-08 00:00:00\n"
     ]
    }
   ],
   "source": [
    "print ('Number of Prediciting Features: ', X.shape)\n",
    "print ('Number of Response: ', y.shape)\n",
    "print ('Appointment Date Range (Trainig Set): ', min(X_train['AppointmentDay']) ,  max(X_train['AppointmentDay']))\n",
    "print ('Number of Training Records: ', X_train.shape)\n",
    "print ('Number of Test Records: ', X_test.shape)\n",
    "print ('Appointment Date Range (Test Set): ', min(X_test['AppointmentDay']) ,  max(X_test['AppointmentDay']))"
   ]
  },
  {
   "cell_type": "code",
   "execution_count": 9,
   "metadata": {},
   "outputs": [
    {
     "data": {
      "text/plain": [
       "AppointmentDay\n",
       "2016-04-29    3235\n",
       "2016-05-02    4376\n",
       "2016-05-03    4256\n",
       "2016-05-04    4168\n",
       "2016-05-05    4273\n",
       "2016-05-06    3879\n",
       "2016-05-09    4520\n",
       "2016-05-10    4308\n",
       "2016-05-11    4474\n",
       "2016-05-12    4394\n",
       "2016-05-13    3987\n",
       "2016-05-14      39\n",
       "2016-05-16    4613\n",
       "2016-05-17    4372\n",
       "2016-05-18    4373\n",
       "2016-05-19    4270\n",
       "2016-05-20    3828\n",
       "2016-05-24    4009\n",
       "dtype: int64"
      ]
     },
     "execution_count": 9,
     "metadata": {},
     "output_type": "execute_result"
    }
   ],
   "source": [
    "X_train.groupby(['AppointmentDay']).size()"
   ]
  },
  {
   "cell_type": "code",
   "execution_count": 10,
   "metadata": {},
   "outputs": [
    {
     "data": {
      "text/plain": [
       "AppointmentDay\n",
       "2016-05-25    3909\n",
       "2016-05-30    4514\n",
       "2016-05-31    4279\n",
       "2016-06-01    4464\n",
       "2016-06-02    4310\n",
       "2016-06-03    4090\n",
       "2016-06-06    4692\n",
       "2016-06-07    4416\n",
       "2016-06-08    4479\n",
       "dtype: int64"
      ]
     },
     "execution_count": 10,
     "metadata": {},
     "output_type": "execute_result"
    }
   ],
   "source": [
    "X_test.groupby(['AppointmentDay']).size()"
   ]
  },
  {
   "cell_type": "markdown",
   "metadata": {},
   "source": [
    "**Showing below that our time series is pretty well stationary over time except for Saturday which show consistantly lower no show appointments**"
   ]
  },
  {
   "cell_type": "code",
   "execution_count": 11,
   "metadata": {},
   "outputs": [
    {
     "data": {
      "text/plain": [
       "AppointmentDay\n",
       "2016-04-29     633.0\n",
       "2016-05-02     861.0\n",
       "2016-05-03     831.0\n",
       "2016-05-04     973.0\n",
       "2016-05-05     807.0\n",
       "2016-05-06     795.0\n",
       "2016-05-09    1019.0\n",
       "2016-05-10     992.0\n",
       "2016-05-11     885.0\n",
       "2016-05-12     837.0\n",
       "2016-05-13     905.0\n",
       "2016-05-14       9.0\n",
       "2016-05-16    1049.0\n",
       "2016-05-17     935.0\n",
       "2016-05-18     890.0\n",
       "2016-05-19     892.0\n",
       "2016-05-20     899.0\n",
       "2016-05-24     811.0\n",
       "2016-05-25     759.0\n",
       "2016-05-30     888.0\n",
       "2016-05-31     767.0\n",
       "2016-06-01     812.0\n",
       "2016-06-02     802.0\n",
       "2016-06-03     805.0\n",
       "2016-06-06     873.0\n",
       "2016-06-07     816.0\n",
       "2016-06-08     774.0\n",
       "Name: NoShow, dtype: float64"
      ]
     },
     "execution_count": 11,
     "metadata": {},
     "output_type": "execute_result"
    }
   ],
   "source": [
    "df['NoShow'] = df['NoShow']\n",
    "df['NoShow_num'] = np.where(df['NoShow']==True, 1, 0)\n",
    "\n",
    "#Set dataframe with index as Appointment Day\n",
    "ts = df[['AppointmentDay', 'NoShow'] ]\n",
    "ts = df.set_index('AppointmentDay')\n",
    "ts.groupby(['AppointmentDay'])['NoShow'].sum()"
   ]
  },
  {
   "cell_type": "markdown",
   "metadata": {},
   "source": [
    "**Plot below shows the # of NoShow appointmets over time.**"
   ]
  },
  {
   "cell_type": "code",
   "execution_count": 12,
   "metadata": {},
   "outputs": [
    {
     "data": {
      "text/plain": [
       "[<matplotlib.lines.Line2D at 0x1b021828358>]"
      ]
     },
     "execution_count": 12,
     "metadata": {},
     "output_type": "execute_result"
    },
    {
     "data": {
      "image/png": "[encoded data removed]",
      "text/plain": [
       "<Figure size 432x288 with 1 Axes>"
      ]
     },
     "metadata": {},
     "output_type": "display_data"
    }
   ],
   "source": [
    "plt.plot(ts.groupby(['AppointmentDay'])['NoShow'].sum(), color=\"purple\")"
   ]
  },
  {
   "cell_type": "markdown",
   "metadata": {},
   "source": [
    "## Modeling and Evaluation 3\n",
    "\n",
    "#### [20 points] Create three different classification/regression models for each task (e.g., random forest, KNN, and SVM for task one and the same or different algorithms for task two). Two modeling techniques must be new (but the third could be SVM or logistic regression). Adjust parameters as appropriate to increase generalization performance using your chosen metric. You must investigate different parameters of the algorithms!\n",
    "\n",
    "**Meeting Notes**: 1. Random Forest 2. SVM (radial) maybe and 3. Logistic\n",
    "Chris to ask Dr Drew about clarification of which models we can use. SVM as radial. Check Naive Bayes is an option"
   ]
  },
  {
   "cell_type": "markdown",
   "metadata": {},
   "source": [
    "## Modeling and Evaluation 4\n",
    "\n",
    "#### [10 points] Analyze the results using your chosen method of evaluation. Use visualizations of the results to bolster the analysis. Explain any visuals and analyze why they are interesting to someone that might use this model.\n",
    "\n",
    "**Meeting Notes**  Precision, recall, F-measure, ROC, AUC"
   ]
  },
  {
   "cell_type": "markdown",
   "metadata": {},
   "source": [
    "## Modeling and Evaluation 5\n",
    "\n",
    "#### [10 points] Discuss the advantages of each model for each classification task, if any. If there are not advantages, explain why. Is any model better than another? Is the difference significant with 95% confidence? Use proper statistical comparison methods. You must use statistical comparison techniques—be sure they are appropriate for your chosen method of validation as discussed in unit 7 of the course"
   ]
  },
  {
   "cell_type": "markdown",
   "metadata": {},
   "source": [
    "## Modeling and Evaluation 6\n",
    "\n",
    "#### [10 points] Which attributes from your analysis are most important? Use proper methods discussed in class to evaluate the importance of different attributes. Discuss the results and hypothesize about why certain attributes are more important than others for a given classification task."
   ]
  },
  {
   "cell_type": "markdown",
   "metadata": {},
   "source": [
    "## Deployment (5 points total) \n",
    "\n",
    "#### How useful is your model for interested parties (i.e., the companies or organizations that might want to use it for prediction)? How would you measure the model's value if it was used by these parties? How would your deploy your model for interested parties? What other data should be collected? How often would the model need to be updated, etc.? "
   ]
  },
  {
   "cell_type": "markdown",
   "metadata": {},
   "source": [
    "## Exceptional Work (10 points total) \n",
    "\n",
    "#### You have free reign to provide additional analyses. One idea: grid search parameters in a parallelized fashion and visualize the performances across attributes. Which parameters are most significant for making a good model for each classification algorithm?\n",
    "\n",
    "**Meeting Notes** - We did this in MiniLab 1 with chart \n",
    "Possible to add Naives Bayes classification (Luay)"
   ]
  },
  {
   "cell_type": "code",
   "execution_count": null,
   "metadata": {},
   "outputs": [],
   "source": []
  },
  {
   "cell_type": "code",
   "execution_count": null,
   "metadata": {},
   "outputs": [],
   "source": []
  }
 ],
 "metadata": {
  "kernelspec": {
   "display_name": "Python 3",
   "language": "python",
   "name": "python3"
  },
  "language_info": {
   "codemirror_mode": {
    "name": "ipython",
    "version": 3
   },
   "file_extension": ".py",
   "mimetype": "text/x-python",
   "name": "python",
   "nbconvert_exporter": "python",
   "pygments_lexer": "ipython3",
   "version": "3.6.6"
  }
 },
 "nbformat": 4,
 "nbformat_minor": 2
}
